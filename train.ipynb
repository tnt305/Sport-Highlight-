{
 "cells": [
  {
   "cell_type": "code",
   "execution_count": 1,
   "metadata": {},
   "outputs": [],
   "source": [
    "LANGUAGE_CODE = {\n",
    "    'ace': 'ace_Latn',\n",
    "    'ar': 'arz_Arab',\n",
    "    'af': 'afr_Latn',\n",
    "    'ak': 'aka_Latn',\n",
    "    'am': 'amh_Ethi',\n",
    "    'as': 'asm_Beng',\n",
    "    'ast': 'ast_Latn',\n",
    "    'awa': 'awa_Deva',\n",
    "    'ay': 'ayr_Latn',\n",
    "    'az': 'azj_Latn',\n",
    "    'ba': 'bak_Cyrl',\n",
    "    'bm': 'bam_Latn',\n",
    "    'ban': 'ban_Latn',\n",
    "    'be': 'bel_Cyrl',\n",
    "    'bem': 'bem_Latn',\n",
    "    'bn': 'ben_Beng',\n",
    "    'bho': 'bho_Deva',\n",
    "    'bjn': 'bjn_Latn',\n",
    "    'bo': 'bod_Tibt',\n",
    "    'bs': 'bos_Latn',\n",
    "    'bug': 'bug_Latn',\n",
    "    'bg': 'bul_Cyrl',\n",
    "    'ca': 'cat_Latn',\n",
    "    'ceb': 'ceb_Latn',\n",
    "    'cs': 'ces_Latn',\n",
    "    'cjk': 'cjk_Latn',\n",
    "    'ckb': 'ckb_Arab',\n",
    "    'crh': 'crh_Latn',\n",
    "    'cy': 'cym_Latn',\n",
    "    'da': 'dan_Latn',\n",
    "    'de': 'deu_Latn',\n",
    "    'dik': 'dik_Latn',\n",
    "    'dyu': 'dyu_Latn',\n",
    "    'dz': 'dzo_Tibt',\n",
    "    'el': 'ell_Grek',\n",
    "    'en': 'eng_Latn',\n",
    "    'eo': 'epo_Latn',\n",
    "    'et': 'est_Latn',\n",
    "    'eu': 'eus_Latn',\n",
    "    'ewe': 'ewe_Latn',\n",
    "    'fo': 'fao_Latn',\n",
    "    'fa': 'pes_Arab',\n",
    "    'fij': 'fij_Latn',\n",
    "    'fi': 'fin_Latn',\n",
    "    'fon': 'fon_Latn',\n",
    "    'fr': 'fra_Latn',\n",
    "    'fur': 'fur_Latn',\n",
    "    'fuv': 'fuv_Latn',\n",
    "    'gd': 'gla_Latn',\n",
    "    'ga': 'gle_Latn',\n",
    "    'gl': 'glg_Latn',\n",
    "    'gn': 'grn_Latn',\n",
    "    'gu': 'guj_Gujr',\n",
    "    'ht': 'hat_Latn',\n",
    "    'ha': 'hau_Latn',\n",
    "    'he': 'heb_Hebr',\n",
    "    'hi': 'hin_Deva',\n",
    "    'hne': 'hne_Deva',\n",
    "    'hr': 'hrv_Latn',\n",
    "    'hu': 'hun_Latn',\n",
    "    'hy': 'hye_Armn',\n",
    "    'ig': 'ibo_Latn',\n",
    "    'ilo': 'ilo_Latn',\n",
    "    'id': 'ind_Latn',\n",
    "    'is': 'isl_Latn',\n",
    "    'it': 'ita_Latn',\n",
    "    'jv': 'jav_Latn',\n",
    "    'ja': 'jpn_Jpan',\n",
    "    'kab': 'kab_Latn',\n",
    "    'kac': 'kac_Latn',\n",
    "    'kam': 'kam_Latn',\n",
    "    'kn': 'kan_Knda',\n",
    "    'ks': 'kas_Deva',\n",
    "    'ka': 'kat_Geor',\n",
    "    'knc': 'knc_Latn',\n",
    "    'kk': 'kaz_Cyrl',\n",
    "    'kbp': 'kbp_Latn',\n",
    "    'kea': 'kea_Latn',\n",
    "    'km': 'khm_Khmr',\n",
    "    'ki': 'kik_Latn',\n",
    "    'rw': 'kin_Latn',\n",
    "    'ky': 'kir_Cyrl',\n",
    "    'kmb': 'kmb_Latn',\n",
    "    'kon': 'kon_Latn',\n",
    "    'ko': 'kor_Hang',\n",
    "    'kmr': 'kmr_Latn',\n",
    "    'lo': 'lao_Laoo',\n",
    "    'lv': 'lvs_Latn',\n",
    "    'lij': 'lij_Latn',\n",
    "    'li': 'lim_Latn',\n",
    "    'ln': 'lin_Latn',\n",
    "    'lt': 'lit_Latn',\n",
    "    'lmo': 'lmo_Latn',\n",
    "    'ltg': 'ltg_Latn',\n",
    "    'lb': 'ltz_Latn',\n",
    "    'lua': 'lua_Latn',\n",
    "    'lg': 'lug_Latn',\n",
    "    'luo': 'luo_Latn',\n",
    "    'lus': 'lus_Latn',\n",
    "    'mag': 'mag_Deva',\n",
    "    'mai': 'mai_Deva',\n",
    "    'ml': 'mal_Mlym',\n",
    "    'mr': 'mar_Deva',\n",
    "    'min': 'min_Latn',\n",
    "    'mk': 'mkd_Cyrl',\n",
    "    'plt': 'plt_Latn',\n",
    "    'mt': 'mlt_Latn',\n",
    "    'mni': 'mni_Beng',\n",
    "    'khk': 'khk_Cyrl',\n",
    "    'mos': 'mos_Latn',\n",
    "    'mi': 'mri_Latn',\n",
    "    'ms': 'zsm_Latn',\n",
    "    'my': 'mya_Mymr',\n",
    "    'nl': 'nld_Latn',\n",
    "    'nn': 'nno_Latn',\n",
    "    'nb': 'nob_Latn',\n",
    "    'np': 'npi_Deva',\n",
    "    'nso': 'nso_Latn',\n",
    "    'nus': 'nus_Latn',\n",
    "    'ny': 'nya_Latn',\n",
    "    'oc': 'oci_Latn',\n",
    "    'gaz': 'gaz_Latn',\n",
    "    'or': 'ory_Orya',\n",
    "    'pag': 'pag_Latn',\n",
    "    'pa': 'pan_Guru',\n",
    "    'pap': 'pap_Latn',\n",
    "    'pl': 'pol_Latn',\n",
    "    'pt': 'por_Latn',\n",
    "    'prs': 'prs_Arab',\n",
    "    'pbt': 'pbt_Arab',\n",
    "    'quy': 'quy_Latn',\n",
    "    'ro': 'ron_Latn',\n",
    "    'rn': 'run_Latn',\n",
    "    'ru': 'rus_Cyrl',\n",
    "    'sag': 'sag_Latn',\n",
    "    'sa': 'san_Deva',\n",
    "    'sat': 'sat_Beng',\n",
    "    'scn': 'scn_Latn',\n",
    "    'shn': 'shn_Mymr',\n",
    "    'si': 'sin_Sinh',\n",
    "    'sk': 'slk_Latn',\n",
    "    'sl': 'slv_Latn',\n",
    "    'sm': 'smo_Latn',\n",
    "    'sn': 'sna_Latn',\n",
    "    'sd': 'snd_Arab',\n",
    "    'so': 'som_Latn',\n",
    "    'st': 'sot_Latn',\n",
    "    'es': 'spa_Latn',\n",
    "    'sq': 'als_Latn',\n",
    "    'sc': 'srd_Latn',\n",
    "    'sr': 'srp_Cyrl',\n",
    "    'ss': 'ssw_Latn',\n",
    "    'su': 'sun_Latn',\n",
    "    'sv': 'swe_Latn',\n",
    "    'sw': 'swh_Latn',\n",
    "    'szl': 'szl_Latn',\n",
    "    'ta': 'tam_Taml',\n",
    "    'tt': 'tat_Cyrl',\n",
    "    'te': 'tel_Telu',\n",
    "    'tg': 'tgk_Cyrl',\n",
    "    'tl': 'tgl_Latn',\n",
    "    'th': 'tha_Thai',\n",
    "    'ti': 'tir_Ethi',\n",
    "    'taq': 'taq_Tfng',\n",
    "    'tpi': 'tpi_Latn',\n",
    "    'tsn': 'tsn_Latn',\n",
    "    'tso': 'tso_Latn',\n",
    "    'tk': 'tuk_Latn',\n",
    "    'tum': 'tum_Latn',\n",
    "    'tr': 'tur_Latn',\n",
    "    'tw': 'twi_Latn',\n",
    "    'tzm': 'tzm_Tfng',\n",
    "    'ug': 'uig_Arab',\n",
    "    'uk': 'ukr_Cyrl',\n",
    "    'umb': 'umb_Latn',\n",
    "    'ur': 'urd_Arab',\n",
    "    'uz': 'uzn_Latn',\n",
    "    'vec': 'vec_Latn',\n",
    "    'vi': 'vie_Latn',\n",
    "    'war': 'war_Latn',\n",
    "    'wo': 'wol_Latn',\n",
    "    'xh': 'xho_Latn',\n",
    "    'yid': 'ydd_Hebr',\n",
    "    'yo': 'yor_Latn',\n",
    "    'yue': 'yue_Hant',\n",
    "    'zh': 'zho_Hant',\n",
    "    'zu': 'zul_Latn'}"
   ]
  },
  {
   "cell_type": "code",
   "execution_count": 5,
   "metadata": {},
   "outputs": [
    {
     "name": "stderr",
     "output_type": "stream",
     "text": [
      "d:\\projects\\v2v\\v5\\.conda\\lib\\site-packages\\tqdm\\auto.py:21: TqdmWarning: IProgress not found. Please update jupyter and ipywidgets. See https://ipywidgets.readthedocs.io/en/stable/user_install.html\n",
      "  from .autonotebook import tqdm as notebook_tqdm\n"
     ]
    }
   ],
   "source": [
    "from multiprocessing import Pool, cpu_count\n",
    "import os\n",
    "import json\n",
    "from tqdm import tqdm\n",
    "import torch\n",
    "import torch\n",
    "from typing import Optional, List\n",
    "from faster_whisper import WhisperModel\n",
    "from transformers import AutoTokenizer, AutoModelForSeq2SeqLM, pipeline\n",
    "from deep_translator import GoogleTranslator"
   ]
  },
  {
   "cell_type": "code",
   "execution_count": 2,
   "metadata": {},
   "outputs": [
    {
     "name": "stderr",
     "output_type": "stream",
     "text": [
      "d:\\projects\\v2v\\v5\\.conda\\lib\\site-packages\\tqdm\\auto.py:21: TqdmWarning: IProgress not found. Please update jupyter and ipywidgets. See https://ipywidgets.readthedocs.io/en/stable/user_install.html\n",
      "  from .autonotebook import tqdm as notebook_tqdm\n"
     ]
    }
   ],
   "source": [
    "### NBBL Instead\n",
    "\n",
    "from multiprocessing import Pool, cpu_count\n",
    "import os\n",
    "import json\n",
    "from tqdm import tqdm\n",
    "import torch\n",
    "import torch\n",
    "from typing import Optional, List\n",
    "from faster_whisper import WhisperModel\n",
    "from transformers import AutoTokenizer, AutoModelForSeq2SeqLM, pipeline\n",
    "from deep_translator import GoogleTranslator\n",
    "from concurrent.futures import ThreadPoolExecutor\n",
    "\n",
    "\n",
    "def process_file_with_run(args):\n",
    "    \"\"\"\n",
    "    Hàm độc lập để xử lý một file âm thanh sử dụng phương thức run()\n",
    "    \"\"\"\n",
    "    audio_path, config = args\n",
    "    \n",
    "    # Tạo một instance Audio2Text mới với file đầu ra tạm thời\n",
    "    processor = Audio2Text(\n",
    "        stt_model_name=config['stt_model_name'],\n",
    "        translate_model_name=config['translate_model_name'],\n",
    "        max_text_gen=config['max_text_gen'],\n",
    "        idx=config['idx'],\n",
    "        device=config['device'],\n",
    "        cpu_threads=config['cpu_threads'],\n",
    "        compute_type=config['compute_type'],\n",
    "        src_lang=config['src_lang'],\n",
    "        target_lang=config['target_lang'],\n",
    "        json_output_dir=config['temp_output_dir']\n",
    "    )\n",
    "    \n",
    "    try:\n",
    "        # Xử lý file và lưu vào file tạm\n",
    "        result = processor.run(audio_path)\n",
    "        return {\n",
    "            'success': True,\n",
    "            'result': result,\n",
    "            'audio_path': audio_path\n",
    "        }\n",
    "    except Exception as e:\n",
    "        return {\n",
    "            'success': False,\n",
    "            'error': str(e),\n",
    "            'audio_path': audio_path\n",
    "        }\n",
    "class Audio2Text:\n",
    "    def __init__(self, \n",
    "                 stt_model_name: str = 'turbo',\n",
    "                 translate_model_name: str = \"Emilio407/nllb-200-3.3B-8bit\", #\"facebook/nllb-200-3.3B\",\n",
    "                 max_text_gen: int = 768,\n",
    "                 idx: int = 0,\n",
    "                 device: Optional[str] = None,\n",
    "                 cpu_threads: int = 4,\n",
    "                 compute_type: str = 'int8_float16',\n",
    "                 src_lang: str = None,\n",
    "                 target_lang: str = 'eng_Latn',\n",
    "                 json_output_dir: str = 'translated_audio2text.jsonl'):\n",
    "        super(Audio2Text, self).__init__()\n",
    "        self.stt_model_name = stt_model_name\n",
    "        self.translate_model_name = translate_model_name\n",
    "        self.max_text_gen = max_text_gen\n",
    "        \n",
    "        self.idx = idx\n",
    "        \n",
    "        if device is None:\n",
    "            os.environ['CUDA_VISIBLE_DEVICES'] = str(self.idx)\n",
    "            self.device = f'cuda' if torch.cuda.is_available() else 'cpu'\n",
    "            \n",
    "        self.cpu_threads = cpu_threads\n",
    "        self.compute_type = compute_type\n",
    "        self.json_output_dir = json_output_dir\n",
    "        \n",
    "        # Khởi tạo mô hình faster-whisper\n",
    "        if self.stt_model_name is not None:\n",
    "            self.stt_model = WhisperModel(model_size_or_path = self.stt_model_name, \n",
    "                             device=self.device,\n",
    "                             device_index= self.idx, \n",
    "                             cpu_threads=self.cpu_threads,\n",
    "                             compute_type=self.compute_type,\n",
    "                             )\n",
    "        else:\n",
    "            raise Exception(\"Model For Speech To text not found. Please add a valid model name.\")\n",
    "        \n",
    "        # khởi tạo mô hình dịch\n",
    "        if self.translate_model_name is not None:\n",
    "            self.translate_model = AutoModelForSeq2SeqLM.from_pretrained(self.translate_model_name)\n",
    "            self.translate_tokenizer = AutoTokenizer.from_pretrained(self.translate_model_name)\n",
    "        else:\n",
    "            raise Exception(\"Model for Translation not found. Please add a valid model name.\")\n",
    "        \n",
    "        self.src_lang = src_lang \n",
    "        self.target_lang = target_lang\n",
    "        self.translator = None\n",
    "        \n",
    "        # Chỉ khởi tạo translator nếu src_lang đã được xác định\n",
    "        if self.src_lang is not None:\n",
    "            self.translator = self.create_translator(self.src_lang, self.target_lang)\n",
    "    \n",
    "    def create_translator(self, src_lang, tgt_lang):\n",
    "        \"\"\"\n",
    "        Tạo hoặc cập nhật translator với ngôn ngữ nguồn và đích chỉ định\n",
    "        \"\"\"\n",
    "        try:\n",
    "            # Kiểm tra xem mô hình có phải là quantized hay không\n",
    "            is_quantized = \"8bit\" in self.translate_model_name or \"4bit\" in self.translate_model_name\n",
    "            \n",
    "            if is_quantized:\n",
    "                # Đối với mô hình đã lượng tử hóa, không chỉ định device\n",
    "                translator = pipeline('translation', \n",
    "                                    model=self.translate_model, \n",
    "                                    tokenizer=self.translate_tokenizer, \n",
    "                                    src_lang=src_lang, \n",
    "                                    tgt_lang=tgt_lang, \n",
    "                                    max_length=self.max_text_gen,\n",
    "                                    use_fast=True)\n",
    "            else:\n",
    "                # Đối với mô hình thông thường, có thể chỉ định device\n",
    "                translator = pipeline('translation', \n",
    "                                    model=self.translate_model, \n",
    "                                    tokenizer=self.translate_tokenizer, \n",
    "                                    src_lang=src_lang, \n",
    "                                    tgt_lang=tgt_lang, \n",
    "                                    device=self.idx,\n",
    "                                    max_length=self.max_text_gen,\n",
    "                                    use_fast=True)\n",
    "            return translator\n",
    "        except Exception as e:\n",
    "            print(f\"Lỗi khi tạo translator: {str(e)}\")\n",
    "            # Thử lại không có device parameter\n",
    "            return pipeline('translation', \n",
    "                        model=self.translate_model, \n",
    "                        tokenizer=self.translate_tokenizer, \n",
    "                        src_lang=src_lang, \n",
    "                        tgt_lang=tgt_lang, \n",
    "                        max_length=self.max_text_gen,\n",
    "                        use_fast=True)\n",
    "\n",
    "    \n",
    "    \n",
    "    @staticmethod\n",
    "    def remove_sentence_with_phrase(text, phrase):\n",
    "        sentences = text.split('.')\n",
    "        filtered_sentences = [sentence.strip() for sentence in sentences if phrase.lower() not in sentence.lower()]\n",
    "        filtered_sentences =  '. '.join(filtered_sentences) + ('' if len(filtered_sentences) > 0 else '')\n",
    "        return filtered_sentences.strip()\n",
    "    \n",
    "    @staticmethod\n",
    "    def postprocess_translation(text: str):\n",
    "        text = text.replace(\"  \", \" \")\n",
    "        text = text.replace(\"No.\", \"the number\")\n",
    "        text = Audio2Text.remove_sentence_with_phrase(text, \"Please subcribe\")\n",
    "        text = text.replace(\"  \", \" \")\n",
    "        text = text.replace(\". . .\", \".\")\n",
    "        text = text.replace (\"...\", \".\")\n",
    "        return text\n",
    "        \n",
    "    def transcribe(self, audio_path):\n",
    "        segments, info = self.stt_model.transcribe(audio_path, multilingual= True,\n",
    "                                                beam_size= 3,\n",
    "                                                no_speech_threshold = 1.0, \n",
    "                                                repetition_penalty = 1.5,\n",
    "                                                hotwords =\"pressure, penalty, strike, shot, pass, foul, goal, offside, corner, save, clearance, counter\",\n",
    "                                                vad_filter = True,\n",
    "                                                vad_parameters=dict(min_silence_duration_ms=1000))\n",
    "        text = \" \".join([segment.text for segment in segments])\n",
    "        text = text.replace(\"  \", \" \")\n",
    "        return text, info.language, info.language_probability\n",
    "    \n",
    "    def __google_translate(self, text):\n",
    "        translator = GoogleTranslator(source=\"auto\", target=\"en\")\n",
    "        text = translator.translate(text)\n",
    "        text = Audio2Text.postprocess_translation(text)\n",
    "        return text.replace(\"  \", \" \")\n",
    "    \n",
    "    def save_to_jsonl(self, result_dict):\n",
    "        \"\"\"\n",
    "        Save translation result to JSONL file (JSON Lines)\n",
    "        Each result is written as a separate line in the file\n",
    "        \"\"\"\n",
    "        # Append new result as a new line\n",
    "        with open(self.json_output_dir, 'a', encoding='utf-8') as f:\n",
    "            # If the file is new/empty, no need for a newline at the beginning\n",
    "            if os.path.getsize(self.json_output_dir) > 0:\n",
    "                f.write('\\n')\n",
    "            f.write(json.dumps(result_dict, ensure_ascii=False))\n",
    "    \n",
    "    def translation(self, audio_path: str):\n",
    "        \"\"\"\n",
    "        - Đầu tiên sử dụng transcribe của fasterwhisper để nhận dạng\n",
    "        - Kiểm tra ngôn ngữ đầu ra, để dịch sang tiếng anh nếu cần\n",
    "        - Ưu tiên sử dụng mô hình NLLB, chỉ khi gặp lỗi mới dùng Google Translate\n",
    "        \"\"\"\n",
    "        # Định nghĩa bảng mã ngôn ngữ\n",
    "        \n",
    "        try:\n",
    "            # Thực hiện nhận dạng giọng nói\n",
    "            text, lang, lang_prob = self.transcribe(audio_path)\n",
    "            origin_text = text\n",
    "            translation_type = \"no_translation\"\n",
    "            translated_text = text\n",
    "\n",
    "            # Chỉ dịch nếu không phải tiếng Anh hoặc độ tin cậy thấp\n",
    "            if lang != 'en' or lang_prob <= 0.8:\n",
    "                # Xác định ngôn ngữ nguồn\n",
    "                if self.src_lang is None:\n",
    "                    # Tự động xác định ngôn ngữ nguồn từ kết quả nhận dạng\n",
    "                    detected_src_lang = LANGUAGE_CODE.get(lang)\n",
    "                    \n",
    "                    # Nếu không tìm thấy mã ngôn ngữ trong từ điển, dùng Google Translate\n",
    "                    if detected_src_lang is None:\n",
    "                        print(f\"Không tìm thấy mã NLLB cho ngôn ngữ {lang}, chuyển sang Google Translate\")\n",
    "                        try:\n",
    "                            translated_text = self.__google_translate(text)\n",
    "                            translation_type = \"deep\"\n",
    "                        except Exception as e:\n",
    "                            print(f\"Lỗi khi dịch bằng Google Translate: {str(e)}\")\n",
    "                            return {\n",
    "                                \"audio_path\": audio_path,\n",
    "                                \"translation_type\": \"failed\",\n",
    "                                \"origin\": origin_text,\n",
    "                                \"translation\": origin_text,\n",
    "                                \"error\": str(e)\n",
    "                            }\n",
    "                    else:\n",
    "                        # Sử dụng mô hình NLLB với ngôn ngữ đã xác định\n",
    "                        try:\n",
    "                            # Tạo hoặc cập nhật translator nếu cần\n",
    "                            if self.translator is None or self.src_lang != detected_src_lang:\n",
    "                                self.translator = self.create_translator(detected_src_lang, self.target_lang)\n",
    "                            \n",
    "                            # Dịch văn bản\n",
    "                            result = self.translator(text)\n",
    "                            translated_text = result[0]['translation_text']\n",
    "                            translation_type = \"nllb\"\n",
    "                            \n",
    "                            # Kiểm tra kết quả dịch\n",
    "                            if not translated_text or translated_text.strip() == \"\":\n",
    "                                print(\"Kết quả dịch NLLB trống, chuyển sang Google Translate\")\n",
    "                                translated_text = self.__google_translate(text)\n",
    "                                translation_type = \"deep\"\n",
    "                        except Exception as e:\n",
    "                            print(f\"Lỗi khi dịch bằng NLLB: {str(e)}, chuyển sang Google Translate\")\n",
    "                            translated_text = self.__google_translate(text)\n",
    "                            translation_type = \"deep\"\n",
    "                else:\n",
    "                    # Sử dụng ngôn ngữ nguồn được chỉ định trước\n",
    "                    try:\n",
    "                        # Đảm bảo translator đã được khởi tạo\n",
    "                        if self.translator is None:\n",
    "                            self.translator = self.create_translator(self.src_lang, self.target_lang)\n",
    "                        \n",
    "                        # Dịch văn bản\n",
    "                        result = self.translator(text)\n",
    "                        translated_text = result[0]['translation_text']\n",
    "                        translation_type = \"nllb\"\n",
    "                        \n",
    "                        # Kiểm tra kết quả dịch\n",
    "                        if not translated_text or translated_text.strip() == \"\":\n",
    "                            print(\"Kết quả dịch NLLB trống, chuyển sang Google Translate\")\n",
    "                            translated_text = self.__google_translate(text)\n",
    "                            translation_type = \"deep\"\n",
    "                    except Exception as e:\n",
    "                        print(f\"Lỗi khi dịch bằng NLLB: {str(e)}, chuyển sang Google Translate\")\n",
    "                        try:\n",
    "                            translated_text = self.__google_translate(text)\n",
    "                            translation_type = \"deep\"\n",
    "                        except Exception as google_err:\n",
    "                            print(f\"Lỗi khi dịch bằng Google Translate: {str(google_err)}\")\n",
    "                            return {\n",
    "                                \"audio_path\": audio_path,\n",
    "                                \"translation_type\": \"failed\",\n",
    "                                \"origin\": origin_text,\n",
    "                                \"translation\": origin_text,\n",
    "                                \"error\": f\"NLLB: {str(e)}, Google: {str(google_err)}\"\n",
    "                            }\n",
    "                \n",
    "                # Xử lý hậu kỳ cho văn bản đã dịch\n",
    "                if translated_text != origin_text:\n",
    "                    translated_text = self.postprocess_translation(translated_text)\n",
    "            \n",
    "            # Trả về kết quả\n",
    "            return {\n",
    "                \"audio_path\": audio_path,\n",
    "                \"translation_type\": translation_type, \n",
    "                \"origin\": origin_text,\n",
    "                \"translation\": translated_text\n",
    "            }\n",
    "        \n",
    "        except Exception as e:\n",
    "            # Bắt các lỗi không mong muốn trong quá trình xử lý\n",
    "            print(f\"Lỗi trong quá trình xử lý: {str(e)}\")\n",
    "            return {\n",
    "                \"audio_path\": audio_path,\n",
    "                \"translation_type\": \"error\",\n",
    "                \"origin\": \"\",\n",
    "                \"translation\": \"\",\n",
    "                \"error\": str(e)\n",
    "            }\n",
    "    def run(self, audio_path: str,):\n",
    "        \"\"\"\n",
    "        Complete process: transcribe, translate, and save results to JSON in one step\n",
    "        \n",
    "        Args:\n",
    "            src_lang: Source language code (optional)\n",
    "            target_lang: Target language code, defaults to 'eng_Latn'\n",
    "            \n",
    "        Returns:\n",
    "            Dictionary containing translation results\n",
    "        \"\"\"\n",
    "        # Get translation results\n",
    "        result = self.translation(audio_path = audio_path)\n",
    "        \n",
    "        # Save results to JSON\n",
    "        self.save_to_jsonl(result)\n",
    "        \n",
    "        return result\n",
    "    "
   ]
  },
  {
   "cell_type": "code",
   "execution_count": 2,
   "metadata": {},
   "outputs": [
    {
     "name": "stderr",
     "output_type": "stream",
     "text": [
      "d:\\projects\\v2v\\v5\\.conda\\lib\\site-packages\\tqdm\\auto.py:21: TqdmWarning: IProgress not found. Please update jupyter and ipywidgets. See https://ipywidgets.readthedocs.io/en/stable/user_install.html\n",
      "  from .autonotebook import tqdm as notebook_tqdm\n"
     ]
    }
   ],
   "source": [
    "### Deep Tralation instead\n",
    "\n",
    "### NBBL Instead\n",
    "\n",
    "from multiprocessing import Pool, cpu_count\n",
    "import os\n",
    "import json\n",
    "from tqdm import tqdm\n",
    "import torch\n",
    "import torch\n",
    "from typing import Optional, List\n",
    "from faster_whisper import WhisperModel\n",
    "from transformers import AutoTokenizer, AutoModelForSeq2SeqLM, pipeline\n",
    "from deep_translator import GoogleTranslator\n",
    "from concurrent.futures import ThreadPoolExecutor\n",
    "\n",
    "\n",
    "def process_file_with_run(args):\n",
    "    \"\"\"\n",
    "    Hàm độc lập để xử lý một file âm thanh sử dụng phương thức run()\n",
    "    \"\"\"\n",
    "    audio_path, config = args\n",
    "    \n",
    "    # Tạo một instance Audio2Text mới với file đầu ra tạm thời\n",
    "    processor = Audio2Text(\n",
    "        stt_model_name=config['stt_model_name'],\n",
    "        translate_model_name=config['translate_model_name'],\n",
    "        max_text_gen=config['max_text_gen'],\n",
    "        idx=config['idx'],\n",
    "        device=config['device'],\n",
    "        cpu_threads=config['cpu_threads'],\n",
    "        compute_type=config['compute_type'],\n",
    "        src_lang=config['src_lang'],\n",
    "        target_lang=config['target_lang'],\n",
    "        json_output_dir=config['temp_output_dir']\n",
    "    )\n",
    "    \n",
    "    try:\n",
    "        # Xử lý file và lưu vào file tạm\n",
    "        result = processor.run(audio_path)\n",
    "        return {\n",
    "            'success': True,\n",
    "            'result': result,\n",
    "            'audio_path': audio_path\n",
    "        }\n",
    "    except Exception as e:\n",
    "        return {\n",
    "            'success': False,\n",
    "            'error': str(e),\n",
    "            'audio_path': audio_path\n",
    "        }\n",
    "class Audio2Text:\n",
    "    def __init__(self, \n",
    "                 stt_model_name: str = 'distil-large-v3',\n",
    "                 translate_model_name: str = \"Emilio407/nllb-200-3.3B-8bit\", #\"facebook/nllb-200-3.3B\",\n",
    "                 max_text_gen: int = 1024,\n",
    "                 idx: int = 0,\n",
    "                 device: Optional[str] = None,\n",
    "                 cpu_threads: int = 8, \n",
    "                 compute_type: str = 'float16',\n",
    "                 src_lang: str = None,\n",
    "                 target_lang: str = 'eng_Latn',\n",
    "                 json_output_dir: str = 'translated_audio2text.jsonl'):\n",
    "        super(Audio2Text, self).__init__()\n",
    "        self.stt_model_name = stt_model_name\n",
    "        self.translate_model_name = translate_model_name\n",
    "        self.max_text_gen = max_text_gen\n",
    "        \n",
    "        self.idx = idx\n",
    "        \n",
    "        if device is None:\n",
    "            os.environ['CUDA_VISIBLE_DEVICES'] = str(self.idx)\n",
    "            self.device = f'cuda' if torch.cuda.is_available() else 'cpu'\n",
    "            \n",
    "        self.cpu_threads = cpu_threads\n",
    "        self.compute_type = compute_type\n",
    "        self.json_output_dir = json_output_dir\n",
    "        \n",
    "        # Khởi tạo mô hình faster-whisper\n",
    "        if self.stt_model_name is not None:\n",
    "            self.stt_model = WhisperModel(model_size_or_path = self.stt_model_name, \n",
    "                             device=self.device,\n",
    "                             device_index= self.idx, \n",
    "                             cpu_threads=self.cpu_threads,\n",
    "                             compute_type=self.compute_type,\n",
    "                             )\n",
    "        else:\n",
    "            raise Exception(\"Model For Speech To text not found. Please add a valid model name.\")\n",
    "        \n",
    "        # khởi tạo mô hình dịch\n",
    "        if self.translate_model_name is not None:\n",
    "            self.translate_model = AutoModelForSeq2SeqLM.from_pretrained(self.translate_model_name)\n",
    "            self.translate_tokenizer = AutoTokenizer.from_pretrained(self.translate_model_name)\n",
    "        else:\n",
    "            raise Exception(\"Model for Translation not found. Please add a valid model name.\")\n",
    "        \n",
    "        self.src_lang = src_lang \n",
    "        self.target_lang = target_lang\n",
    "        self.translator = None\n",
    "        \n",
    "        # Chỉ khởi tạo translator nếu src_lang đã được xác định\n",
    "        if self.src_lang is not None:\n",
    "            self.translator = self.create_translator(self.src_lang, self.target_lang)\n",
    "    \n",
    "    def create_translator(self, src_lang, tgt_lang):\n",
    "        \"\"\"\n",
    "        Tạo hoặc cập nhật translator với ngôn ngữ nguồn và đích chỉ định\n",
    "        \"\"\"\n",
    "        try:\n",
    "            # Kiểm tra xem mô hình có phải là quantized hay không\n",
    "            is_quantized = \"8bit\" in self.translate_model_name or \"4bit\" in self.translate_model_name\n",
    "            \n",
    "            if is_quantized:\n",
    "                # Đối với mô hình đã lượng tử hóa, không chỉ định device\n",
    "                translator = pipeline('translation', \n",
    "                                    model=self.translate_model, \n",
    "                                    tokenizer=self.translate_tokenizer, \n",
    "                                    src_lang=src_lang, \n",
    "                                    tgt_lang=tgt_lang, \n",
    "                                    max_length=self.max_text_gen,\n",
    "                                    use_fast=True)\n",
    "            else:\n",
    "                # Đối với mô hình thông thường, có thể chỉ định device\n",
    "                translator = pipeline('translation', \n",
    "                                    model=self.translate_model, \n",
    "                                    tokenizer=self.translate_tokenizer, \n",
    "                                    src_lang=src_lang, \n",
    "                                    tgt_lang=tgt_lang, \n",
    "                                    device=self.idx,\n",
    "                                    max_length=self.max_text_gen,\n",
    "                                    use_fast=True)\n",
    "            return translator\n",
    "        except Exception as e:\n",
    "            print(f\"Lỗi khi tạo translator: {str(e)}\")\n",
    "            # Thử lại không có device parameter\n",
    "            return pipeline('translation', \n",
    "                        model=self.translate_model, \n",
    "                        tokenizer=self.translate_tokenizer, \n",
    "                        src_lang=src_lang, \n",
    "                        tgt_lang=tgt_lang, \n",
    "                        max_length=self.max_text_gen,\n",
    "                        use_fast=True)\n",
    "\n",
    "    \n",
    "    \n",
    "    @staticmethod\n",
    "    def remove_sentence_with_phrase(text, phrase):\n",
    "        sentences = text.split('.')\n",
    "        filtered_sentences = [sentence.strip() for sentence in sentences if phrase.lower() not in sentence.lower()]\n",
    "        filtered_sentences =  '. '.join(filtered_sentences) + ('' if len(filtered_sentences) > 0 else '')\n",
    "        return filtered_sentences.strip()\n",
    "    \n",
    "    @staticmethod\n",
    "    def postprocess_translation(text: str):\n",
    "        text = text.replace(\"  \", \" \")\n",
    "        text = text.replace(\"No.\", \"the number\")\n",
    "        text = Audio2Text.remove_sentence_with_phrase(text, \"Please subcribe\")\n",
    "        text = text.replace(\"  \", \" \")\n",
    "        text = text.replace(\". . .\", \".\")\n",
    "        text = text.replace (\"...\", \".\")\n",
    "        return text\n",
    "        \n",
    "    def transcribe(self, audio_path):\n",
    "        segments, info = self.stt_model.transcribe(audio_path, multilingual= True,\n",
    "                                                beam_size= 3,\n",
    "                                                no_speech_threshold = 1.0, \n",
    "                                                repetition_penalty = 1.5,\n",
    "                                                hotwords =\"pressure, penalty, strike, shot, pass, foul, goal, offside, corner, save, clearance, counter\",\n",
    "                                                vad_filter = True,\n",
    "                                                vad_parameters=dict(min_silence_duration_ms=1000))\n",
    "        text = \" \".join([segment.text for segment in segments])\n",
    "        text = text.replace(\"  \", \" \")\n",
    "        return text, info.language, info.language_probability\n",
    "    \n",
    "    def __google_translate(self, text):\n",
    "        translator = GoogleTranslator(source=\"auto\", target=\"en\")\n",
    "        text = translator.translate(text)\n",
    "        text = Audio2Text.postprocess_translation(text)\n",
    "        return text.replace(\"  \", \" \")\n",
    "    \n",
    "    def save_to_jsonl(self, result_dict):\n",
    "        \"\"\"\n",
    "        Save translation result to JSONL file (JSON Lines)\n",
    "        Each result is written as a separate line in the file\n",
    "        \"\"\"\n",
    "        # Append new result as a new line\n",
    "        with open(self.json_output_dir, 'a', encoding='utf-8') as f:\n",
    "            # If the file is new/empty, no need for a newline at the beginning\n",
    "            if os.path.getsize(self.json_output_dir) > 0:\n",
    "                f.write('\\n')\n",
    "            f.write(json.dumps(result_dict, ensure_ascii=False))\n",
    "    \n",
    "    def translation(self, audio_path: str):\n",
    "        \"\"\"\n",
    "        - Đầu tiên sử dụng transcribe của fasterwhisper để nhận dạng\n",
    "        - Kiểm tra ngôn ngữ đầu ra, để dịch sang tiếng anh nếu cần\n",
    "        - Ưu tiên sử dụng Google Translate, chỉ khi gặp lỗi mới dùng NLLB\n",
    "        \"\"\"\n",
    "        try:\n",
    "            # Thực hiện nhận dạng giọng nói\n",
    "            text, lang, lang_prob = self.transcribe(audio_path)\n",
    "            if text is None or text == \"\":\n",
    "                text = \" There is no event happening during the match. \"\n",
    "            origin_text = text\n",
    "            translation_type = \"no_translation\"\n",
    "            translated_text = text\n",
    "\n",
    "            # Chỉ dịch nếu không phải tiếng Anh hoặc độ tin cậy thấp\n",
    "            if lang != 'en' or lang_prob <= 0.8:\n",
    "                # Ưu tiên sử dụng Google Translate trước\n",
    "                try:\n",
    "                    translated_text = self.__google_translate(text)\n",
    "                    translation_type = \"deep\"\n",
    "                except Exception as e:\n",
    "                    print(f\"Lỗi khi dịch bằng Google Translate: {str(e)}, chuyển sang NLLB\")\n",
    "                    \n",
    "                    # Xác định ngôn ngữ nguồn cho NLLB\n",
    "                    src_lang_for_nllb = self.src_lang\n",
    "                    if src_lang_for_nllb is None:\n",
    "                        # Tự động xác định ngôn ngữ nguồn từ kết quả nhận dạng\n",
    "                        src_lang_for_nllb = LANGUAGE_CODE.get(lang)\n",
    "                    \n",
    "                    # Nếu không tìm thấy mã ngôn ngữ trong từ điển, không thể dùng NLLB\n",
    "                    if src_lang_for_nllb is None:\n",
    "                        print(f\"Không tìm thấy mã NLLB cho ngôn ngữ {lang}, không thể dịch\")\n",
    "                        return {\n",
    "                            \"audio_path\": audio_path,\n",
    "                            \"translation_type\": \"failed\",\n",
    "                            \"origin\": origin_text,\n",
    "                            \"translation\": origin_text,\n",
    "                            \"error\": f\"Google Translate lỗi: {str(e)}, không tìm thấy mã NLLB cho ngôn ngữ {lang}\"\n",
    "                        }\n",
    "                    \n",
    "                    # Thử dùng NLLB\n",
    "                    try:\n",
    "                        # Tạo hoặc cập nhật translator nếu cần\n",
    "                        if self.translator is None or self.src_lang != src_lang_for_nllb:\n",
    "                            self.translator = self.create_translator(src_lang_for_nllb, self.target_lang)\n",
    "                        \n",
    "                        # Dịch văn bản\n",
    "                        result = self.translator(text)\n",
    "                        translated_text = result[0]['translation_text']\n",
    "                        translation_type = \"nllb\"\n",
    "                        \n",
    "                        # Kiểm tra kết quả dịch\n",
    "                        if not translated_text or translated_text.strip() == \"\":\n",
    "                            print(\"Kết quả dịch NLLB trống\")\n",
    "                            return {\n",
    "                                \"audio_path\": audio_path,\n",
    "                                \"translation_type\": \"failed\",\n",
    "                                \"origin\": origin_text,\n",
    "                                \"translation\": origin_text,\n",
    "                                \"error\": f\"Google Translate lỗi: {str(e)}, NLLB trả về kết quả trống\"\n",
    "                            }\n",
    "                    except Exception as nllb_err:\n",
    "                        print(f\"Lỗi khi dịch bằng NLLB: {str(nllb_err)}\")\n",
    "                        return {\n",
    "                            \"audio_path\": audio_path,\n",
    "                            \"translation_type\": \"failed\",\n",
    "                            \"origin\": origin_text,\n",
    "                            \"translation\": origin_text,\n",
    "                            \"error\": f\"Google Translate lỗi: {str(e)}, NLLB lỗi: {str(nllb_err)}\"\n",
    "                        }\n",
    "                \n",
    "                # Xử lý hậu kỳ cho văn bản đã dịch\n",
    "                if translated_text != origin_text:\n",
    "                    translated_text = self.postprocess_translation(translated_text)\n",
    "            \n",
    "            # Trả về kết quả\n",
    "            return {\n",
    "                \"audio_path\": audio_path,\n",
    "                \"translation_type\": translation_type, \n",
    "                \"origin\": origin_text,\n",
    "                \"translation\": translated_text, \n",
    "                \"error\": \"none\"\n",
    "            }\n",
    "        \n",
    "        except Exception as e:\n",
    "            return {\n",
    "                \"audio_path\": audio_path,\n",
    "                \"translation_type\": \"error\",\n",
    "                \"origin\": \"\",\n",
    "                \"translation\": \"\",\n",
    "                \"error\": str(e)\n",
    "            }\n",
    "    def run(self, audio_path: str,):\n",
    "        \"\"\"\n",
    "        Complete process: transcribe, translate, and save results to JSON in one step\n",
    "        \n",
    "        Args:\n",
    "            src_lang: Source language code (optional)\n",
    "            target_lang: Target language code, defaults to 'eng_Latn'\n",
    "            \n",
    "        Returns:\n",
    "            Dictionary containing translation results\n",
    "        \"\"\"\n",
    "        # Get translation results\n",
    "        result = self.translation(audio_path = audio_path)\n",
    "        \n",
    "        # Save results to JSON\n",
    "        self.save_to_jsonl(result)\n",
    "        \n",
    "        return result\n"
   ]
  },
  {
   "cell_type": "code",
   "execution_count": 3,
   "metadata": {},
   "outputs": [
    {
     "name": "stderr",
     "output_type": "stream",
     "text": [
      "`low_cpu_mem_usage` was None, now default to True since model is quantized.\n"
     ]
    }
   ],
   "source": [
    "from tqdm import tqdm\n",
    "processor = Audio2Text(cpu_threads = 16)"
   ]
  },
  {
   "cell_type": "code",
   "execution_count": 1,
   "metadata": {},
   "outputs": [],
   "source": [
    "import json \n",
    "with open(\"./data/audio_list.json\", mode = \"r\") as f:\n",
    "    audio_list = json.load(f)"
   ]
  },
  {
   "cell_type": "code",
   "execution_count": 4,
   "metadata": {},
   "outputs": [
    {
     "data": {
      "text/plain": [
       "16638"
      ]
     },
     "execution_count": 4,
     "metadata": {},
     "output_type": "execute_result"
    }
   ],
   "source": [
    "len(audio_list[10801:])"
   ]
  },
  {
   "cell_type": "code",
   "execution_count": 5,
   "metadata": {},
   "outputs": [
    {
     "name": "stderr",
     "output_type": "stream",
     "text": [
      "  1%|          | 230/27439 [10:15<33:15:41,  4.40s/it]Failed to find two consecutive MPEG audio frames.\n",
      " 39%|███▉      | 10801/27439 [8:45:06<13:28:52,  2.92s/it]\n"
     ]
    },
    {
     "ename": "KeyboardInterrupt",
     "evalue": "",
     "output_type": "error",
     "traceback": [
      "\u001b[1;31m---------------------------------------------------------------------------\u001b[0m",
      "\u001b[1;31mKeyboardInterrupt\u001b[0m                         Traceback (most recent call last)",
      "Cell \u001b[1;32mIn[5], line 10\u001b[0m\n\u001b[0;32m      8\u001b[0m \u001b[38;5;28;01mfor\u001b[39;00m audio \u001b[38;5;129;01min\u001b[39;00m tqdm(audio_list):\n\u001b[0;32m      9\u001b[0m     \u001b[38;5;28;01mtry\u001b[39;00m:\n\u001b[1;32m---> 10\u001b[0m         result \u001b[38;5;241m=\u001b[39m \u001b[43mprocessor\u001b[49m\u001b[38;5;241;43m.\u001b[39;49m\u001b[43mrun\u001b[49m\u001b[43m(\u001b[49m\u001b[43maudio\u001b[49m\u001b[43m)\u001b[49m\n\u001b[0;32m     11\u001b[0m     \u001b[38;5;28;01mexcept\u001b[39;00m \u001b[38;5;167;01mException\u001b[39;00m:\n\u001b[0;32m     12\u001b[0m         \u001b[38;5;66;03m# Ghi audio lỗi vào file ngay lập tức\u001b[39;00m\n\u001b[0;32m     13\u001b[0m         \u001b[38;5;28;01mwith\u001b[39;00m \u001b[38;5;28mopen\u001b[39m(error_log_path, \u001b[38;5;124m'\u001b[39m\u001b[38;5;124mr+\u001b[39m\u001b[38;5;124m'\u001b[39m) \u001b[38;5;28;01mas\u001b[39;00m f:\n",
      "Cell \u001b[1;32mIn[2], line 298\u001b[0m, in \u001b[0;36mAudio2Text.run\u001b[1;34m(self, audio_path)\u001b[0m\n\u001b[0;32m    287\u001b[0m \u001b[38;5;250m\u001b[39m\u001b[38;5;124;03m\"\"\"\u001b[39;00m\n\u001b[0;32m    288\u001b[0m \u001b[38;5;124;03mComplete process: transcribe, translate, and save results to JSON in one step\u001b[39;00m\n\u001b[0;32m    289\u001b[0m \u001b[38;5;124;03m\u001b[39;00m\n\u001b[1;32m   (...)\u001b[0m\n\u001b[0;32m    295\u001b[0m \u001b[38;5;124;03m    Dictionary containing translation results\u001b[39;00m\n\u001b[0;32m    296\u001b[0m \u001b[38;5;124;03m\"\"\"\u001b[39;00m\n\u001b[0;32m    297\u001b[0m \u001b[38;5;66;03m# Get translation results\u001b[39;00m\n\u001b[1;32m--> 298\u001b[0m result \u001b[38;5;241m=\u001b[39m \u001b[38;5;28;43mself\u001b[39;49m\u001b[38;5;241;43m.\u001b[39;49m\u001b[43mtranslation\u001b[49m\u001b[43m(\u001b[49m\u001b[43maudio_path\u001b[49m\u001b[43m \u001b[49m\u001b[38;5;241;43m=\u001b[39;49m\u001b[43m \u001b[49m\u001b[43maudio_path\u001b[49m\u001b[43m)\u001b[49m\n\u001b[0;32m    300\u001b[0m \u001b[38;5;66;03m# Save results to JSON\u001b[39;00m\n\u001b[0;32m    301\u001b[0m \u001b[38;5;28mself\u001b[39m\u001b[38;5;241m.\u001b[39msave_to_jsonl(result)\n",
      "Cell \u001b[1;32mIn[2], line 201\u001b[0m, in \u001b[0;36mAudio2Text.translation\u001b[1;34m(self, audio_path)\u001b[0m\n\u001b[0;32m    194\u001b[0m \u001b[38;5;250m\u001b[39m\u001b[38;5;124;03m\"\"\"\u001b[39;00m\n\u001b[0;32m    195\u001b[0m \u001b[38;5;124;03m- Đầu tiên sử dụng transcribe của fasterwhisper để nhận dạng\u001b[39;00m\n\u001b[0;32m    196\u001b[0m \u001b[38;5;124;03m- Kiểm tra ngôn ngữ đầu ra, để dịch sang tiếng anh nếu cần\u001b[39;00m\n\u001b[0;32m    197\u001b[0m \u001b[38;5;124;03m- Ưu tiên sử dụng Google Translate, chỉ khi gặp lỗi mới dùng NLLB\u001b[39;00m\n\u001b[0;32m    198\u001b[0m \u001b[38;5;124;03m\"\"\"\u001b[39;00m\n\u001b[0;32m    199\u001b[0m \u001b[38;5;28;01mtry\u001b[39;00m:\n\u001b[0;32m    200\u001b[0m     \u001b[38;5;66;03m# Thực hiện nhận dạng giọng nói\u001b[39;00m\n\u001b[1;32m--> 201\u001b[0m     text, lang, lang_prob \u001b[38;5;241m=\u001b[39m \u001b[38;5;28;43mself\u001b[39;49m\u001b[38;5;241;43m.\u001b[39;49m\u001b[43mtranscribe\u001b[49m\u001b[43m(\u001b[49m\u001b[43maudio_path\u001b[49m\u001b[43m)\u001b[49m\n\u001b[0;32m    202\u001b[0m     \u001b[38;5;28;01mif\u001b[39;00m text \u001b[38;5;129;01mis\u001b[39;00m \u001b[38;5;28;01mNone\u001b[39;00m \u001b[38;5;129;01mor\u001b[39;00m text \u001b[38;5;241m==\u001b[39m \u001b[38;5;124m\"\u001b[39m\u001b[38;5;124m\"\u001b[39m:\n\u001b[0;32m    203\u001b[0m         text \u001b[38;5;241m=\u001b[39m \u001b[38;5;124m\"\u001b[39m\u001b[38;5;124m There is no event happening during the match. \u001b[39m\u001b[38;5;124m\"\u001b[39m\n",
      "Cell \u001b[1;32mIn[2], line 171\u001b[0m, in \u001b[0;36mAudio2Text.transcribe\u001b[1;34m(self, audio_path)\u001b[0m\n\u001b[0;32m    163\u001b[0m \u001b[38;5;28;01mdef\u001b[39;00m\u001b[38;5;250m \u001b[39m\u001b[38;5;21mtranscribe\u001b[39m(\u001b[38;5;28mself\u001b[39m, audio_path):\n\u001b[0;32m    164\u001b[0m     segments, info \u001b[38;5;241m=\u001b[39m \u001b[38;5;28mself\u001b[39m\u001b[38;5;241m.\u001b[39mstt_model\u001b[38;5;241m.\u001b[39mtranscribe(audio_path, multilingual\u001b[38;5;241m=\u001b[39m \u001b[38;5;28;01mTrue\u001b[39;00m,\n\u001b[0;32m    165\u001b[0m                                             beam_size\u001b[38;5;241m=\u001b[39m \u001b[38;5;241m3\u001b[39m,\n\u001b[0;32m    166\u001b[0m                                             no_speech_threshold \u001b[38;5;241m=\u001b[39m \u001b[38;5;241m1.0\u001b[39m, \n\u001b[1;32m   (...)\u001b[0m\n\u001b[0;32m    169\u001b[0m                                             vad_filter \u001b[38;5;241m=\u001b[39m \u001b[38;5;28;01mTrue\u001b[39;00m,\n\u001b[0;32m    170\u001b[0m                                             vad_parameters\u001b[38;5;241m=\u001b[39m\u001b[38;5;28mdict\u001b[39m(min_silence_duration_ms\u001b[38;5;241m=\u001b[39m\u001b[38;5;241m1000\u001b[39m))\n\u001b[1;32m--> 171\u001b[0m     text \u001b[38;5;241m=\u001b[39m \u001b[38;5;124m\"\u001b[39m\u001b[38;5;124m \u001b[39m\u001b[38;5;124m\"\u001b[39m\u001b[38;5;241m.\u001b[39mjoin([segment\u001b[38;5;241m.\u001b[39mtext \u001b[38;5;28;01mfor\u001b[39;00m segment \u001b[38;5;129;01min\u001b[39;00m segments])\n\u001b[0;32m    172\u001b[0m     text \u001b[38;5;241m=\u001b[39m text\u001b[38;5;241m.\u001b[39mreplace(\u001b[38;5;124m\"\u001b[39m\u001b[38;5;124m  \u001b[39m\u001b[38;5;124m\"\u001b[39m, \u001b[38;5;124m\"\u001b[39m\u001b[38;5;124m \u001b[39m\u001b[38;5;124m\"\u001b[39m)\n\u001b[0;32m    173\u001b[0m     \u001b[38;5;28;01mreturn\u001b[39;00m text, info\u001b[38;5;241m.\u001b[39mlanguage, info\u001b[38;5;241m.\u001b[39mlanguage_probability\n",
      "Cell \u001b[1;32mIn[2], line 171\u001b[0m, in \u001b[0;36m<listcomp>\u001b[1;34m(.0)\u001b[0m\n\u001b[0;32m    163\u001b[0m \u001b[38;5;28;01mdef\u001b[39;00m\u001b[38;5;250m \u001b[39m\u001b[38;5;21mtranscribe\u001b[39m(\u001b[38;5;28mself\u001b[39m, audio_path):\n\u001b[0;32m    164\u001b[0m     segments, info \u001b[38;5;241m=\u001b[39m \u001b[38;5;28mself\u001b[39m\u001b[38;5;241m.\u001b[39mstt_model\u001b[38;5;241m.\u001b[39mtranscribe(audio_path, multilingual\u001b[38;5;241m=\u001b[39m \u001b[38;5;28;01mTrue\u001b[39;00m,\n\u001b[0;32m    165\u001b[0m                                             beam_size\u001b[38;5;241m=\u001b[39m \u001b[38;5;241m3\u001b[39m,\n\u001b[0;32m    166\u001b[0m                                             no_speech_threshold \u001b[38;5;241m=\u001b[39m \u001b[38;5;241m1.0\u001b[39m, \n\u001b[1;32m   (...)\u001b[0m\n\u001b[0;32m    169\u001b[0m                                             vad_filter \u001b[38;5;241m=\u001b[39m \u001b[38;5;28;01mTrue\u001b[39;00m,\n\u001b[0;32m    170\u001b[0m                                             vad_parameters\u001b[38;5;241m=\u001b[39m\u001b[38;5;28mdict\u001b[39m(min_silence_duration_ms\u001b[38;5;241m=\u001b[39m\u001b[38;5;241m1000\u001b[39m))\n\u001b[1;32m--> 171\u001b[0m     text \u001b[38;5;241m=\u001b[39m \u001b[38;5;124m\"\u001b[39m\u001b[38;5;124m \u001b[39m\u001b[38;5;124m\"\u001b[39m\u001b[38;5;241m.\u001b[39mjoin([segment\u001b[38;5;241m.\u001b[39mtext \u001b[38;5;28;01mfor\u001b[39;00m segment \u001b[38;5;129;01min\u001b[39;00m segments])\n\u001b[0;32m    172\u001b[0m     text \u001b[38;5;241m=\u001b[39m text\u001b[38;5;241m.\u001b[39mreplace(\u001b[38;5;124m\"\u001b[39m\u001b[38;5;124m  \u001b[39m\u001b[38;5;124m\"\u001b[39m, \u001b[38;5;124m\"\u001b[39m\u001b[38;5;124m \u001b[39m\u001b[38;5;124m\"\u001b[39m)\n\u001b[0;32m    173\u001b[0m     \u001b[38;5;28;01mreturn\u001b[39;00m text, info\u001b[38;5;241m.\u001b[39mlanguage, info\u001b[38;5;241m.\u001b[39mlanguage_probability\n",
      "File \u001b[1;32md:\\projects\\v2v\\v5\\.conda\\lib\\site-packages\\faster_whisper\\transcribe.py:1809\u001b[0m, in \u001b[0;36mrestore_speech_timestamps\u001b[1;34m(segments, speech_chunks, sampling_rate)\u001b[0m\n\u001b[0;32m   1802\u001b[0m \u001b[38;5;28;01mdef\u001b[39;00m\u001b[38;5;250m \u001b[39m\u001b[38;5;21mrestore_speech_timestamps\u001b[39m(\n\u001b[0;32m   1803\u001b[0m     segments: Iterable[Segment],\n\u001b[0;32m   1804\u001b[0m     speech_chunks: List[\u001b[38;5;28mdict\u001b[39m],\n\u001b[0;32m   1805\u001b[0m     sampling_rate: \u001b[38;5;28mint\u001b[39m,\n\u001b[0;32m   1806\u001b[0m ) \u001b[38;5;241m-\u001b[39m\u001b[38;5;241m>\u001b[39m Iterable[Segment]:\n\u001b[0;32m   1807\u001b[0m     ts_map \u001b[38;5;241m=\u001b[39m SpeechTimestampsMap(speech_chunks, sampling_rate)\n\u001b[1;32m-> 1809\u001b[0m     \u001b[38;5;28;01mfor\u001b[39;00m segment \u001b[38;5;129;01min\u001b[39;00m segments:\n\u001b[0;32m   1810\u001b[0m         \u001b[38;5;28;01mif\u001b[39;00m segment\u001b[38;5;241m.\u001b[39mwords:\n\u001b[0;32m   1811\u001b[0m             words \u001b[38;5;241m=\u001b[39m []\n",
      "File \u001b[1;32md:\\projects\\v2v\\v5\\.conda\\lib\\site-packages\\faster_whisper\\transcribe.py:1148\u001b[0m, in \u001b[0;36mWhisperModel.generate_segments\u001b[1;34m(self, features, tokenizer, options, log_progress, encoder_output)\u001b[0m\n\u001b[0;32m   1145\u001b[0m previous_tokens \u001b[38;5;241m=\u001b[39m all_tokens[prompt_reset_since:]\n\u001b[0;32m   1147\u001b[0m \u001b[38;5;28;01mif\u001b[39;00m seek \u001b[38;5;241m>\u001b[39m \u001b[38;5;241m0\u001b[39m \u001b[38;5;129;01mor\u001b[39;00m encoder_output \u001b[38;5;129;01mis\u001b[39;00m \u001b[38;5;28;01mNone\u001b[39;00m:\n\u001b[1;32m-> 1148\u001b[0m     encoder_output \u001b[38;5;241m=\u001b[39m \u001b[38;5;28;43mself\u001b[39;49m\u001b[38;5;241;43m.\u001b[39;49m\u001b[43mencode\u001b[49m\u001b[43m(\u001b[49m\u001b[43msegment\u001b[49m\u001b[43m)\u001b[49m\n\u001b[0;32m   1150\u001b[0m \u001b[38;5;28;01mif\u001b[39;00m options\u001b[38;5;241m.\u001b[39mmultilingual:\n\u001b[0;32m   1151\u001b[0m     results \u001b[38;5;241m=\u001b[39m \u001b[38;5;28mself\u001b[39m\u001b[38;5;241m.\u001b[39mmodel\u001b[38;5;241m.\u001b[39mdetect_language(encoder_output)\n",
      "File \u001b[1;32md:\\projects\\v2v\\v5\\.conda\\lib\\site-packages\\faster_whisper\\transcribe.py:1358\u001b[0m, in \u001b[0;36mWhisperModel.encode\u001b[1;34m(self, features)\u001b[0m\n\u001b[0;32m   1355\u001b[0m     features \u001b[38;5;241m=\u001b[39m np\u001b[38;5;241m.\u001b[39mexpand_dims(features, \u001b[38;5;241m0\u001b[39m)\n\u001b[0;32m   1356\u001b[0m features \u001b[38;5;241m=\u001b[39m get_ctranslate2_storage(features)\n\u001b[1;32m-> 1358\u001b[0m \u001b[38;5;28;01mreturn\u001b[39;00m \u001b[38;5;28;43mself\u001b[39;49m\u001b[38;5;241;43m.\u001b[39;49m\u001b[43mmodel\u001b[49m\u001b[38;5;241;43m.\u001b[39;49m\u001b[43mencode\u001b[49m\u001b[43m(\u001b[49m\u001b[43mfeatures\u001b[49m\u001b[43m,\u001b[49m\u001b[43m \u001b[49m\u001b[43mto_cpu\u001b[49m\u001b[38;5;241;43m=\u001b[39;49m\u001b[43mto_cpu\u001b[49m\u001b[43m)\u001b[49m\n",
      "\u001b[1;31mKeyboardInterrupt\u001b[0m: "
     ]
    }
   ],
   "source": [
    "import json \n",
    "with open(\"./data/audio_list.json\", mode = \"r\") as f:\n",
    "    audio_list = json.load(f)\n",
    "# Tạo file rỗng nếu chưa có\n",
    "error_log_path = \"error_audios.json\"\n",
    "if not os.path.exists(error_log_path):\n",
    "    with open(error_log_path, 'w') as f:\n",
    "        f.write('[]')  # Ghi danh sách rỗng\n",
    "\n",
    "for audio in tqdm(audio_list):\n",
    "    try:\n",
    "        result = processor.run(audio)\n",
    "    except Exception:\n",
    "        # Ghi audio lỗi vào file ngay lập tức\n",
    "        with open(error_log_path, 'r+') as f:\n",
    "            f.seek(0)\n",
    "            data = json.load(f)\n",
    "            data.append(audio)\n",
    "            f.seek(0)\n",
    "            json.dump(data, f, indent=2)\n",
    "            f.truncate()\n",
    "        continue"
   ]
  },
  {
   "cell_type": "code",
   "execution_count": 1,
   "metadata": {},
   "outputs": [
    {
     "name": "stderr",
     "output_type": "stream",
     "text": [
      "d:\\projects\\v2v\\v5\\.conda\\lib\\site-packages\\tqdm\\auto.py:21: TqdmWarning: IProgress not found. Please update jupyter and ipywidgets. See https://ipywidgets.readthedocs.io/en/stable/user_install.html\n",
      "  from .autonotebook import tqdm as notebook_tqdm\n",
      "d:\\projects\\v2v\\v5\\.conda\\lib\\inspect.py:869: UserWarning: Module 'speechbrain.pretrained' was deprecated, redirecting to 'speechbrain.inference'. Please update your script. This is a change from SpeechBrain 1.0. See: https://github.com/speechbrain/speechbrain/releases/tag/v1.0.0\n",
      "  if ismodule(module) and hasattr(module, '__file__'):\n",
      "Lightning automatically upgraded your loaded checkpoint from v1.5.4 to v2.5.1. To apply the upgrade to your files permanently, run `python -m pytorch_lightning.utilities.upgrade_checkpoint d:\\projects\\v2v\\v5\\.conda\\lib\\site-packages\\whisperx\\assets\\pytorch_model.bin`\n"
     ]
    },
    {
     "name": "stdout",
     "output_type": "stream",
     "text": [
      "No language specified, language will be first be detected for each audio file (increases inference time).\n",
      "Model was trained with pyannote.audio 0.0.1, yours is 3.3.2. Bad things might happen unless you revert pyannote.audio to 0.x.\n",
      "Model was trained with torch 1.10.0+cu102, yours is 2.6.0+cu126. Bad things might happen unless you revert torch to 1.x.\n"
     ]
    }
   ],
   "source": [
    "import whisperx\n",
    "import gc \n",
    "import torch\n",
    "torch.backends.cuda.matmul.allow_tf32 = True\n",
    "torch.backends.cudnn.allow_tf32 = True\n",
    "device = \"cuda\" \n",
    "audio_file = \"F:/video_classification/2016-04-02 - 16-30 Bayern Munich 1 - 0 Eintracht Frankfurt/chunk_7/chunk_7.mp3\"\n",
    "batch_size = 32 # reduce if low on GPU mem\n",
    "compute_type = \"float16\" # change to \"int8\" if low on GPU mem (may reduce accuracy)\n",
    "\n",
    "# 1. Transcribe with original whisper (batched)\n",
    "model = whisperx.load_model(\"large-v3\", \n",
    "                            device, \n",
    "                            compute_type=compute_type, \n",
    "                            threads = 8, \n",
    "                            asr_options = {\n",
    "                                        \"beam_size\":3 , \n",
    "                                        \"repetition_penalty\": 1.2,\n",
    "                                        \"hotwords\": \"pressure, penalty, strike, shot, pass, foul, goal, offside, corner, save, clearance, counter\"\n",
    "                                       }\n",
    ")\n",
    "# save model to local path (optional)\n",
    "# model_dir = \"/path/\"\n",
    "# model = whisperx.load_model(\"large-v2\", device, compute_type=compute_type, download_root=model_dir)\n"
   ]
  },
  {
   "cell_type": "code",
   "execution_count": 7,
   "metadata": {},
   "outputs": [
    {
     "name": "stdout",
     "output_type": "stream",
     "text": [
      "Detected language: de (0.99) in first 30s of audio...\n"
     ]
    }
   ],
   "source": [
    "audio = whisperx.load_audio(audio_file)\n",
    "results = model.transcribe(audio, batch_size=batch_size)"
   ]
  },
  {
   "cell_type": "code",
   "execution_count": 13,
   "metadata": {},
   "outputs": [
    {
     "data": {
      "text/plain": [
       "array([ 0.01046753, -0.00558472, -0.01296997, ...,  0.02801514,\n",
       "        0.00817871, -0.01239014], dtype=float32)"
      ]
     },
     "execution_count": 13,
     "metadata": {},
     "output_type": "execute_result"
    }
   ],
   "source": [
    "\" \".join(segment['text'] for segment in results['segments'])"
   ]
  },
  {
   "cell_type": "code",
   "execution_count": null,
   "metadata": {},
   "outputs": [
    {
     "name": "stderr",
     "output_type": "stream",
     "text": [
      "d:\\projects\\v2v\\v5\\.conda\\lib\\site-packages\\tqdm\\auto.py:21: TqdmWarning: IProgress not found. Please update jupyter and ipywidgets. See https://ipywidgets.readthedocs.io/en/stable/user_install.html\n",
      "  from .autonotebook import tqdm as notebook_tqdm\n"
     ]
    }
   ],
   "source": [
    "from multiprocessing import Pool, cpu_count\n",
    "import os\n",
    "import gc\n",
    "import whisperx\n",
    "import json\n",
    "from tqdm import tqdm\n",
    "import torch\n",
    "import torch\n",
    "from typing import Optional, List\n",
    "from faster_whisper import WhisperModel\n",
    "from transformers import AutoTokenizer, AutoModelForSeq2SeqLM, pipeline\n",
    "from deep_translator import GoogleTranslator\n",
    "from concurrent.futures import ThreadPoolExecutor\n",
    "from src.task.register import task, register_task\n",
    "\n",
    "LANGUAGE_CODE = {\n",
    "    'ace': 'ace_Latn',\n",
    "    'ar': 'arz_Arab',\n",
    "    'af': 'afr_Latn',\n",
    "    'ak': 'aka_Latn',\n",
    "    'am': 'amh_Ethi',\n",
    "    'as': 'asm_Beng',\n",
    "    'ast': 'ast_Latn',\n",
    "    'awa': 'awa_Deva',\n",
    "    'ay': 'ayr_Latn',\n",
    "    'az': 'azj_Latn',\n",
    "    'ba': 'bak_Cyrl',\n",
    "    'bm': 'bam_Latn',\n",
    "    'ban': 'ban_Latn',\n",
    "    'be': 'bel_Cyrl',\n",
    "    'bem': 'bem_Latn',\n",
    "    'bn': 'ben_Beng',\n",
    "    'bho': 'bho_Deva',\n",
    "    'bjn': 'bjn_Latn',\n",
    "    'bo': 'bod_Tibt',\n",
    "    'bs': 'bos_Latn',\n",
    "    'bug': 'bug_Latn',\n",
    "    'bg': 'bul_Cyrl',\n",
    "    'ca': 'cat_Latn',\n",
    "    'ceb': 'ceb_Latn',\n",
    "    'cs': 'ces_Latn',\n",
    "    'cjk': 'cjk_Latn',\n",
    "    'ckb': 'ckb_Arab',\n",
    "    'crh': 'crh_Latn',\n",
    "    'cy': 'cym_Latn',\n",
    "    'da': 'dan_Latn',\n",
    "    'de': 'deu_Latn',\n",
    "    'dik': 'dik_Latn',\n",
    "    'dyu': 'dyu_Latn',\n",
    "    'dz': 'dzo_Tibt',\n",
    "    'el': 'ell_Grek',\n",
    "    'en': 'eng_Latn',\n",
    "    'eo': 'epo_Latn',\n",
    "    'et': 'est_Latn',\n",
    "    'eu': 'eus_Latn',\n",
    "    'ewe': 'ewe_Latn',\n",
    "    'fo': 'fao_Latn',\n",
    "    'fa': 'pes_Arab',\n",
    "    'fij': 'fij_Latn',\n",
    "    'fi': 'fin_Latn',\n",
    "    'fon': 'fon_Latn',\n",
    "    'fr': 'fra_Latn',\n",
    "    'fur': 'fur_Latn',\n",
    "    'fuv': 'fuv_Latn',\n",
    "    'gd': 'gla_Latn',\n",
    "    'ga': 'gle_Latn',\n",
    "    'gl': 'glg_Latn',\n",
    "    'gn': 'grn_Latn',\n",
    "    'gu': 'guj_Gujr',\n",
    "    'ht': 'hat_Latn',\n",
    "    'ha': 'hau_Latn',\n",
    "    'he': 'heb_Hebr',\n",
    "    'hi': 'hin_Deva',\n",
    "    'hne': 'hne_Deva',\n",
    "    'hr': 'hrv_Latn',\n",
    "    'hu': 'hun_Latn',\n",
    "    'hy': 'hye_Armn',\n",
    "    'ig': 'ibo_Latn',\n",
    "    'ilo': 'ilo_Latn',\n",
    "    'id': 'ind_Latn',\n",
    "    'is': 'isl_Latn',\n",
    "    'it': 'ita_Latn',\n",
    "    'jv': 'jav_Latn',\n",
    "    'ja': 'jpn_Jpan',\n",
    "    'kab': 'kab_Latn',\n",
    "    'kac': 'kac_Latn',\n",
    "    'kam': 'kam_Latn',\n",
    "    'kn': 'kan_Knda',\n",
    "    'ks': 'kas_Deva',\n",
    "    'ka': 'kat_Geor',\n",
    "    'knc': 'knc_Latn',\n",
    "    'kk': 'kaz_Cyrl',\n",
    "    'kbp': 'kbp_Latn',\n",
    "    'kea': 'kea_Latn',\n",
    "    'km': 'khm_Khmr',\n",
    "    'ki': 'kik_Latn',\n",
    "    'rw': 'kin_Latn',\n",
    "    'ky': 'kir_Cyrl',\n",
    "    'kmb': 'kmb_Latn',\n",
    "    'kon': 'kon_Latn',\n",
    "    'ko': 'kor_Hang',\n",
    "    'kmr': 'kmr_Latn',\n",
    "    'lo': 'lao_Laoo',\n",
    "    'lv': 'lvs_Latn',\n",
    "    'lij': 'lij_Latn',\n",
    "    'li': 'lim_Latn',\n",
    "    'ln': 'lin_Latn',\n",
    "    'lt': 'lit_Latn',\n",
    "    'lmo': 'lmo_Latn',\n",
    "    'ltg': 'ltg_Latn',\n",
    "    'lb': 'ltz_Latn',\n",
    "    'lua': 'lua_Latn',\n",
    "    'lg': 'lug_Latn',\n",
    "    'luo': 'luo_Latn',\n",
    "    'lus': 'lus_Latn',\n",
    "    'mag': 'mag_Deva',\n",
    "    'mai': 'mai_Deva',\n",
    "    'ml': 'mal_Mlym',\n",
    "    'mr': 'mar_Deva',\n",
    "    'min': 'min_Latn',\n",
    "    'mk': 'mkd_Cyrl',\n",
    "    'plt': 'plt_Latn',\n",
    "    'mt': 'mlt_Latn',\n",
    "    'mni': 'mni_Beng',\n",
    "    'khk': 'khk_Cyrl',\n",
    "    'mos': 'mos_Latn',\n",
    "    'mi': 'mri_Latn',\n",
    "    'ms': 'zsm_Latn',\n",
    "    'my': 'mya_Mymr',\n",
    "    'nl': 'nld_Latn',\n",
    "    'nn': 'nno_Latn',\n",
    "    'nb': 'nob_Latn',\n",
    "    'np': 'npi_Deva',\n",
    "    'nso': 'nso_Latn',\n",
    "    'nus': 'nus_Latn',\n",
    "    'ny': 'nya_Latn',\n",
    "    'oc': 'oci_Latn',\n",
    "    'gaz': 'gaz_Latn',\n",
    "    'or': 'ory_Orya',\n",
    "    'pag': 'pag_Latn',\n",
    "    'pa': 'pan_Guru',\n",
    "    'pap': 'pap_Latn',\n",
    "    'pl': 'pol_Latn',\n",
    "    'pt': 'por_Latn',\n",
    "    'prs': 'prs_Arab',\n",
    "    'pbt': 'pbt_Arab',\n",
    "    'quy': 'quy_Latn',\n",
    "    'ro': 'ron_Latn',\n",
    "    'rn': 'run_Latn',\n",
    "    'ru': 'rus_Cyrl',\n",
    "    'sag': 'sag_Latn',\n",
    "    'sa': 'san_Deva',\n",
    "    'sat': 'sat_Beng',\n",
    "    'scn': 'scn_Latn',\n",
    "    'shn': 'shn_Mymr',\n",
    "    'si': 'sin_Sinh',\n",
    "    'sk': 'slk_Latn',\n",
    "    'sl': 'slv_Latn',\n",
    "    'sm': 'smo_Latn',\n",
    "    'sn': 'sna_Latn',\n",
    "    'sd': 'snd_Arab',\n",
    "    'so': 'som_Latn',\n",
    "    'st': 'sot_Latn',\n",
    "    'es': 'spa_Latn',\n",
    "    'sq': 'als_Latn',\n",
    "    'sc': 'srd_Latn',\n",
    "    'sr': 'srp_Cyrl',\n",
    "    'ss': 'ssw_Latn',\n",
    "    'su': 'sun_Latn',\n",
    "    'sv': 'swe_Latn',\n",
    "    'sw': 'swh_Latn',\n",
    "    'szl': 'szl_Latn',\n",
    "    'ta': 'tam_Taml',\n",
    "    'tt': 'tat_Cyrl',\n",
    "    'te': 'tel_Telu',\n",
    "    'tg': 'tgk_Cyrl',\n",
    "    'tl': 'tgl_Latn',\n",
    "    'th': 'tha_Thai',\n",
    "    'ti': 'tir_Ethi',\n",
    "    'taq': 'taq_Tfng',\n",
    "    'tpi': 'tpi_Latn',\n",
    "    'tsn': 'tsn_Latn',\n",
    "    'tso': 'tso_Latn',\n",
    "    'tk': 'tuk_Latn',\n",
    "    'tum': 'tum_Latn',\n",
    "    'tr': 'tur_Latn',\n",
    "    'tw': 'twi_Latn',\n",
    "    'tzm': 'tzm_Tfng',\n",
    "    'ug': 'uig_Arab',\n",
    "    'uk': 'ukr_Cyrl',\n",
    "    'umb': 'umb_Latn',\n",
    "    'ur': 'urd_Arab',\n",
    "    'uz': 'uzn_Latn',\n",
    "    'vec': 'vec_Latn',\n",
    "    'vi': 'vie_Latn',\n",
    "    'war': 'war_Latn',\n",
    "    'wo': 'wol_Latn',\n",
    "    'xh': 'xho_Latn',\n",
    "    'yid': 'ydd_Hebr',\n",
    "    'yo': 'yor_Latn',\n",
    "    'yue': 'yue_Hant',\n",
    "    'zh': 'zho_Hant',\n",
    "    'zu': 'zul_Latn'}\n",
    "\n",
    "### Deep Tralation instead\n",
    "\n",
    "def process_file_with_run(args):\n",
    "    \"\"\"\n",
    "    Hàm độc lập để xử lý một file âm thanh sử dụng phương thức run()\n",
    "    \"\"\"\n",
    "    audio_path, config = args\n",
    "    \n",
    "    # Tạo một instance Audio2Text mới với file đầu ra tạm thời\n",
    "    processor = Audio2Text(\n",
    "        stt_model_name=config['stt_model_name'],\n",
    "        translate_model_name=config['translate_model_name'],\n",
    "        max_text_gen=config['max_text_gen'],\n",
    "        idx=config['idx'],\n",
    "        device=config['device'],\n",
    "        cpu_threads=config['cpu_threads'],\n",
    "        compute_type=config['compute_type'],\n",
    "        src_lang=config['src_lang'],\n",
    "        target_lang=config['target_lang'],\n",
    "        json_output_dir=config['temp_output_dir']\n",
    "    )\n",
    "    \n",
    "    try:\n",
    "        # Xử lý file và lưu vào file tạm\n",
    "        result = processor.run(audio_path)\n",
    "        return {\n",
    "            'success': True,\n",
    "            'result': result,\n",
    "            'audio_path': audio_path\n",
    "        }\n",
    "    except Exception as e:\n",
    "        return {\n",
    "            'success': False,\n",
    "            'error': str(e),\n",
    "            'audio_path': audio_path\n",
    "        }\n",
    "class Audio2Text:\n",
    "    def __init__(self, \n",
    "                 stt_model_name: str = 'large-v3',\n",
    "                 translate_model_name: str = \"Emilio407/nllb-200-3.3B-8bit\", #\"facebook/nllb-200-3.3B\",\n",
    "                 max_text_gen: int = 1024,\n",
    "                 idx: int = 0,\n",
    "                 device: Optional[str] = None,\n",
    "                 cpu_threads: int = 8, \n",
    "                 compute_type: str = 'float16',\n",
    "                 src_lang: str = None,\n",
    "                 batch_size: int = 16,\n",
    "                 target_lang: str = 'eng_Latn',\n",
    "                 json_output_dir: str = 'translated_audio2text.jsonl'):\n",
    "        super(Audio2Text, self).__init__()\n",
    "        self.stt_model_name = stt_model_name\n",
    "        self.translate_model_name = translate_model_name\n",
    "        self.max_text_gen = max_text_gen\n",
    "        \n",
    "        self.idx = idx\n",
    "        self.batch_size = batch_size\n",
    "        if device is None:\n",
    "            os.environ['CUDA_VISIBLE_DEVICES'] = str(self.idx)\n",
    "            self.device = f'cuda' if torch.cuda.is_available() else 'cpu'\n",
    "            \n",
    "        self.cpu_threads = cpu_threads\n",
    "        self.compute_type = compute_type\n",
    "        self.json_output_dir = json_output_dir\n",
    "        \n",
    "        # Khởi tạo mô hình faster-whisper\n",
    "        if self.stt_model_name is not None:\n",
    "            # self.stt_model = WhisperModel(model_size_or_path = self.stt_model_name, \n",
    "            #                  device=self.device,\n",
    "            #                  device_index= self.idx, \n",
    "            #                  cpu_threads=self.cpu_threads,\n",
    "            #                  compute_type=self.compute_type,\n",
    "            #                  )\n",
    "            self.stt_model = whisperx.load_model(whisper_arch= self.stt_model_name, \n",
    "                            device= self.device, \n",
    "                            compute_type=self.compute_type, \n",
    "                            threads = self.cpu_threads, \n",
    "                            asr_options = {\n",
    "                                        \"beam_size\":3 , \n",
    "                                        \"repetition_penalty\": 1.2,\n",
    "                                        \"hotwords\": \"pressure, penalty, strike, shot, pass, foul, goal, offside, corner, save, clearance, counter\"\n",
    "                                       }\n",
    "            )\n",
    "        else:\n",
    "            raise Exception(\"Model For Speech To text not found. Please add a valid model name.\")\n",
    "        \n",
    "        # khởi tạo mô hình dịch\n",
    "        if self.translate_model_name is not None:\n",
    "            self.translate_model = AutoModelForSeq2SeqLM.from_pretrained(self.translate_model_name)\n",
    "            self.translate_tokenizer = AutoTokenizer.from_pretrained(self.translate_model_name)\n",
    "        else:\n",
    "            raise Exception(\"Model for Translation not found. Please add a valid model name.\")\n",
    "        \n",
    "        self.src_lang = src_lang \n",
    "        self.target_lang = target_lang\n",
    "        self.translator = None\n",
    "        \n",
    "        # Chỉ khởi tạo translator nếu src_lang đã được xác định\n",
    "        if self.src_lang is not None:\n",
    "            self.translator = self.create_translator(self.src_lang, self.target_lang)\n",
    "    \n",
    "    def create_translator(self, src_lang, tgt_lang):\n",
    "        \"\"\"\n",
    "        Tạo hoặc cập nhật translator với ngôn ngữ nguồn và đích chỉ định\n",
    "        \"\"\"\n",
    "        try:\n",
    "            # Kiểm tra xem mô hình có phải là quantized hay không\n",
    "            is_quantized = \"8bit\" in self.translate_model_name or \"4bit\" in self.translate_model_name\n",
    "            \n",
    "            if is_quantized:\n",
    "                # Đối với mô hình đã lượng tử hóa, không chỉ định device\n",
    "                translator = pipeline('translation', \n",
    "                                    model=self.translate_model, \n",
    "                                    tokenizer=self.translate_tokenizer, \n",
    "                                    src_lang=src_lang, \n",
    "                                    tgt_lang=tgt_lang, \n",
    "                                    max_length=self.max_text_gen,\n",
    "                                    use_fast=True)\n",
    "            else:\n",
    "                # Đối với mô hình thông thường, có thể chỉ định device\n",
    "                translator = pipeline('translation', \n",
    "                                    model=self.translate_model, \n",
    "                                    tokenizer=self.translate_tokenizer, \n",
    "                                    src_lang=src_lang, \n",
    "                                    tgt_lang=tgt_lang, \n",
    "                                    device=self.idx,\n",
    "                                    max_length=self.max_text_gen,\n",
    "                                    use_fast=True)\n",
    "            return translator\n",
    "        except Exception as e:\n",
    "            print(f\"Lỗi khi tạo translator: {str(e)}\")\n",
    "            # Thử lại không có device parameter\n",
    "            return pipeline('translation', \n",
    "                        model=self.translate_model, \n",
    "                        tokenizer=self.translate_tokenizer, \n",
    "                        src_lang=src_lang, \n",
    "                        tgt_lang=tgt_lang, \n",
    "                        max_length=self.max_text_gen,\n",
    "                        use_fast=True)\n",
    "\n",
    "    \n",
    "    \n",
    "    @staticmethod\n",
    "    def remove_sentence_with_phrase(text, phrase):\n",
    "        sentences = text.split('.')\n",
    "        filtered_sentences = [sentence.strip() for sentence in sentences if phrase.lower() not in sentence.lower()]\n",
    "        filtered_sentences =  '. '.join(filtered_sentences) + ('' if len(filtered_sentences) > 0 else '')\n",
    "        return filtered_sentences.strip()\n",
    "    \n",
    "    @staticmethod\n",
    "    def postprocess_translation(text: str):\n",
    "        text = text.replace(\"  \", \" \")\n",
    "        text = text.replace(\"No.\", \"the number\")\n",
    "        text = Audio2Text.remove_sentence_with_phrase(text, \"Please subcribe\")\n",
    "        text = text.replace(\"  \", \" \")\n",
    "        text = text.replace(\". . .\", \".\")\n",
    "        text = text.replace (\"...\", \".\")\n",
    "        return text\n",
    "        \n",
    "    def transcribe(self, audio_path):\n",
    "        audio = whisperx.load_audio(audio_path)\n",
    "        results = self.stt_model.transcribe(audio, batch_size = self.batch_size)\n",
    "        text = \" \".join(segment['text'] for segment in results['segments'])\n",
    "        text = text.replace(\"  \", \" \")\n",
    "        text = Audio2Text.postprocess_translation(text)\n",
    "        return text, results['language'], results['language_probability']\n",
    "    \n",
    "    def __google_translate(self, text):\n",
    "        translator = GoogleTranslator(source=\"auto\", target=\"en\")\n",
    "        text = translator.translate(text)\n",
    "        text = Audio2Text.postprocess_translation(text)\n",
    "        return text.replace(\"  \", \" \")\n",
    "    \n",
    "    def save_to_jsonl(self, result_dict):\n",
    "        \"\"\"\n",
    "        Save translation result to JSONL file (JSON Lines)\n",
    "        Each result is written as a separate line in the file\n",
    "        \"\"\"\n",
    "        # Append new result as a new line\n",
    "        with open(self.json_output_dir, 'a', encoding='utf-8') as f:\n",
    "            # If the file is new/empty, no need for a newline at the beginning\n",
    "            if os.path.getsize(self.json_output_dir) > 0:\n",
    "                f.write('\\n')\n",
    "            f.write(json.dumps(result_dict, ensure_ascii=False))\n",
    "    \n",
    "    def translation(self, audio_path: str):\n",
    "        \"\"\"\n",
    "        - Đầu tiên sử dụng transcribe của fasterwhisper để nhận dạng\n",
    "        - Kiểm tra ngôn ngữ đầu ra, để dịch sang tiếng anh nếu cần\n",
    "        - Ưu tiên sử dụng Google Translate, chỉ khi gặp lỗi mới dùng NLLB\n",
    "        \"\"\"\n",
    "        try:\n",
    "            # Thực hiện nhận dạng giọng nói\n",
    "            text, lang, lang_prob = self.transcribe(audio_path)\n",
    "            if text is None or text == \"\":\n",
    "                text = \" There is no event happening during the match. \"\n",
    "            origin_text = text\n",
    "            translation_type = \"no_translation\"\n",
    "            translated_text = text\n",
    "\n",
    "            # Chỉ dịch nếu không phải tiếng Anh hoặc độ tin cậy thấp\n",
    "            if lang != 'en' or lang_prob <= 0.8:\n",
    "                # Ưu tiên sử dụng Google Translate trước\n",
    "                try:\n",
    "                    translated_text = self.__google_translate(text)\n",
    "                    translation_type = \"deep\"\n",
    "                except Exception as e:\n",
    "                    print(f\"Lỗi khi dịch bằng Google Translate: {str(e)}, chuyển sang NLLB\")\n",
    "                    \n",
    "                    # Xác định ngôn ngữ nguồn cho NLLB\n",
    "                    src_lang_for_nllb = self.src_lang\n",
    "                    if src_lang_for_nllb is None:\n",
    "                        # Tự động xác định ngôn ngữ nguồn từ kết quả nhận dạng\n",
    "                        src_lang_for_nllb = LANGUAGE_CODE.get(lang)\n",
    "                    \n",
    "                    # Nếu không tìm thấy mã ngôn ngữ trong từ điển, không thể dùng NLLB\n",
    "                    if src_lang_for_nllb is None:\n",
    "                        print(f\"Không tìm thấy mã NLLB cho ngôn ngữ {lang}, không thể dịch\")\n",
    "                        return {\n",
    "                            \"audio_path\": audio_path,\n",
    "                            \"translation_type\": \"failed\",\n",
    "                            \"origin\": origin_text,\n",
    "                            \"translation\": origin_text,\n",
    "                            \"error\": f\"Google Translate lỗi: {str(e)}, không tìm thấy mã NLLB cho ngôn ngữ {lang}\"\n",
    "                        }\n",
    "                    \n",
    "                    # Thử dùng NLLB\n",
    "                    try:\n",
    "                        # Tạo hoặc cập nhật translator nếu cần\n",
    "                        if self.translator is None or self.src_lang != src_lang_for_nllb:\n",
    "                            self.translator = self.create_translator(src_lang_for_nllb, self.target_lang)\n",
    "                        \n",
    "                        # Dịch văn bản\n",
    "                        result = self.translator(text)\n",
    "                        translated_text = result[0]['translation_text']\n",
    "                        translation_type = \"nllb\"\n",
    "                        \n",
    "                        # Kiểm tra kết quả dịch\n",
    "                        if not translated_text or translated_text.strip() == \"\":\n",
    "                            print(\"Kết quả dịch NLLB trống\")\n",
    "                            return {\n",
    "                                \"audio_path\": audio_path,\n",
    "                                \"translation_type\": \"failed\",\n",
    "                                \"origin\": origin_text,\n",
    "                                \"translation\": origin_text,\n",
    "                                \"error\": f\"Google Translate lỗi: {str(e)}, NLLB trả về kết quả trống\"\n",
    "                            }\n",
    "                    except Exception as nllb_err:\n",
    "                        print(f\"Lỗi khi dịch bằng NLLB: {str(nllb_err)}\")\n",
    "                        return {\n",
    "                            \"audio_path\": audio_path,\n",
    "                            \"translation_type\": \"failed\",\n",
    "                            \"origin\": origin_text,\n",
    "                            \"translation\": origin_text,\n",
    "                            \"error\": f\"Google Translate lỗi: {str(e)}, NLLB lỗi: {str(nllb_err)}\"\n",
    "                        }\n",
    "                \n",
    "                # Xử lý hậu kỳ cho văn bản đã dịch\n",
    "                if translated_text != origin_text:\n",
    "                    translated_text = self.postprocess_translation(translated_text)\n",
    "            \n",
    "            # Trả về kết quả\n",
    "            return {\n",
    "                \"audio_path\": audio_path,\n",
    "                \"translation_type\": translation_type, \n",
    "                \"origin\": origin_text,\n",
    "                \"translation\": translated_text, \n",
    "                \"error\": \"none\"\n",
    "            }\n",
    "        \n",
    "        except Exception as e:\n",
    "            return {\n",
    "                \"audio_path\": audio_path,\n",
    "                \"translation_type\": \"error\",\n",
    "                \"origin\": \"\",\n",
    "                \"translation\": \"\",\n",
    "                \"error\": str(e)\n",
    "            }\n",
    "    def run(self, audio_path: str,):\n",
    "        \"\"\"\n",
    "        Complete process: transcribe, translate, and save results to JSON in one step\n",
    "        \n",
    "        Args:\n",
    "            src_lang: Source language code (optional)\n",
    "            target_lang: Target language code, defaults to 'eng_Latn'\n",
    "            \n",
    "        Returns:\n",
    "            Dictionary containing translation results\n",
    "        \"\"\"\n",
    "        # Get translation results\n",
    "        result = self.translation(audio_path = audio_path)\n",
    "        \n",
    "        # Save results to JSON\n",
    "        self.save_to_jsonl(result)\n",
    "        \n",
    "        return result"
   ]
  },
  {
   "cell_type": "code",
   "execution_count": 3,
   "metadata": {},
   "outputs": [
    {
     "name": "stderr",
     "output_type": "stream",
     "text": [
      "Lightning automatically upgraded your loaded checkpoint from v1.5.4 to v2.5.1. To apply the upgrade to your files permanently, run `python -m pytorch_lightning.utilities.upgrade_checkpoint d:\\projects\\v2v\\v5\\.conda\\lib\\site-packages\\whisperx\\assets\\pytorch_model.bin`\n"
     ]
    },
    {
     "name": "stdout",
     "output_type": "stream",
     "text": [
      "No language specified, language will be first be detected for each audio file (increases inference time).\n",
      "Model was trained with pyannote.audio 0.0.1, yours is 3.3.2. Bad things might happen unless you revert pyannote.audio to 0.x.\n",
      "Model was trained with torch 1.10.0+cu102, yours is 2.6.0+cu126. Bad things might happen unless you revert torch to 1.x.\n"
     ]
    },
    {
     "name": "stderr",
     "output_type": "stream",
     "text": [
      "`low_cpu_mem_usage` was None, now default to True since model is quantized.\n"
     ]
    }
   ],
   "source": [
    "from tqdm import tqdm\n",
    "processor = Audio2Text(cpu_threads = 16, json_output_dir=  'testff.json')"
   ]
  },
  {
   "cell_type": "code",
   "execution_count": 5,
   "metadata": {},
   "outputs": [
    {
     "name": "stderr",
     "output_type": "stream",
     "text": [
      "  0%|          | 0/27439 [00:00<?, ?it/s]"
     ]
    },
    {
     "name": "stderr",
     "output_type": "stream",
     "text": [
      "  0%|          | 101/27439 [00:13<1:00:24,  7.54it/s]\n"
     ]
    },
    {
     "ename": "KeyboardInterrupt",
     "evalue": "",
     "output_type": "error",
     "traceback": [
      "\u001b[1;31m---------------------------------------------------------------------------\u001b[0m",
      "\u001b[1;31mKeyboardInterrupt\u001b[0m                         Traceback (most recent call last)",
      "Cell \u001b[1;32mIn[5], line 11\u001b[0m\n\u001b[0;32m      8\u001b[0m         f\u001b[38;5;241m.\u001b[39mwrite(\u001b[38;5;124m'\u001b[39m\u001b[38;5;124m[]\u001b[39m\u001b[38;5;124m'\u001b[39m)  \u001b[38;5;66;03m# Ghi danh sách rỗng\u001b[39;00m\n\u001b[0;32m     10\u001b[0m \u001b[38;5;28;01mfor\u001b[39;00m audio \u001b[38;5;129;01min\u001b[39;00m tqdm(audio_list):\n\u001b[1;32m---> 11\u001b[0m     result \u001b[38;5;241m=\u001b[39m \u001b[43mprocessor\u001b[49m\u001b[38;5;241;43m.\u001b[39;49m\u001b[43mrun\u001b[49m\u001b[43m(\u001b[49m\u001b[43maudio\u001b[49m\u001b[43m)\u001b[49m\n",
      "Cell \u001b[1;32mIn[1], line 494\u001b[0m, in \u001b[0;36mAudio2Text.run\u001b[1;34m(self, audio_path)\u001b[0m\n\u001b[0;32m    483\u001b[0m \u001b[38;5;250m\u001b[39m\u001b[38;5;124;03m\"\"\"\u001b[39;00m\n\u001b[0;32m    484\u001b[0m \u001b[38;5;124;03mComplete process: transcribe, translate, and save results to JSON in one step\u001b[39;00m\n\u001b[0;32m    485\u001b[0m \u001b[38;5;124;03m\u001b[39;00m\n\u001b[1;32m   (...)\u001b[0m\n\u001b[0;32m    491\u001b[0m \u001b[38;5;124;03m    Dictionary containing translation results\u001b[39;00m\n\u001b[0;32m    492\u001b[0m \u001b[38;5;124;03m\"\"\"\u001b[39;00m\n\u001b[0;32m    493\u001b[0m \u001b[38;5;66;03m# Get translation results\u001b[39;00m\n\u001b[1;32m--> 494\u001b[0m result \u001b[38;5;241m=\u001b[39m \u001b[38;5;28;43mself\u001b[39;49m\u001b[38;5;241;43m.\u001b[39;49m\u001b[43mtranslation\u001b[49m\u001b[43m(\u001b[49m\u001b[43maudio_path\u001b[49m\u001b[43m \u001b[49m\u001b[38;5;241;43m=\u001b[39;49m\u001b[43m \u001b[49m\u001b[43maudio_path\u001b[49m\u001b[43m)\u001b[49m\n\u001b[0;32m    496\u001b[0m \u001b[38;5;66;03m# Save results to JSON\u001b[39;00m\n\u001b[0;32m    497\u001b[0m \u001b[38;5;28mself\u001b[39m\u001b[38;5;241m.\u001b[39msave_to_jsonl(result)\n",
      "Cell \u001b[1;32mIn[1], line 397\u001b[0m, in \u001b[0;36mAudio2Text.translation\u001b[1;34m(self, audio_path)\u001b[0m\n\u001b[0;32m    390\u001b[0m \u001b[38;5;250m\u001b[39m\u001b[38;5;124;03m\"\"\"\u001b[39;00m\n\u001b[0;32m    391\u001b[0m \u001b[38;5;124;03m- Đầu tiên sử dụng transcribe của fasterwhisper để nhận dạng\u001b[39;00m\n\u001b[0;32m    392\u001b[0m \u001b[38;5;124;03m- Kiểm tra ngôn ngữ đầu ra, để dịch sang tiếng anh nếu cần\u001b[39;00m\n\u001b[0;32m    393\u001b[0m \u001b[38;5;124;03m- Ưu tiên sử dụng Google Translate, chỉ khi gặp lỗi mới dùng NLLB\u001b[39;00m\n\u001b[0;32m    394\u001b[0m \u001b[38;5;124;03m\"\"\"\u001b[39;00m\n\u001b[0;32m    395\u001b[0m \u001b[38;5;28;01mtry\u001b[39;00m:\n\u001b[0;32m    396\u001b[0m     \u001b[38;5;66;03m# Thực hiện nhận dạng giọng nói\u001b[39;00m\n\u001b[1;32m--> 397\u001b[0m     text, lang, lang_prob \u001b[38;5;241m=\u001b[39m \u001b[38;5;28;43mself\u001b[39;49m\u001b[38;5;241;43m.\u001b[39;49m\u001b[43mtranscribe\u001b[49m\u001b[43m(\u001b[49m\u001b[43maudio_path\u001b[49m\u001b[43m)\u001b[49m\n\u001b[0;32m    398\u001b[0m     \u001b[38;5;28;01mif\u001b[39;00m text \u001b[38;5;129;01mis\u001b[39;00m \u001b[38;5;28;01mNone\u001b[39;00m \u001b[38;5;129;01mor\u001b[39;00m text \u001b[38;5;241m==\u001b[39m \u001b[38;5;124m\"\u001b[39m\u001b[38;5;124m\"\u001b[39m:\n\u001b[0;32m    399\u001b[0m         text \u001b[38;5;241m=\u001b[39m \u001b[38;5;124m\"\u001b[39m\u001b[38;5;124m There is no event happening during the match. \u001b[39m\u001b[38;5;124m\"\u001b[39m\n",
      "Cell \u001b[1;32mIn[1], line 364\u001b[0m, in \u001b[0;36mAudio2Text.transcribe\u001b[1;34m(self, audio_path)\u001b[0m\n\u001b[0;32m    363\u001b[0m \u001b[38;5;28;01mdef\u001b[39;00m\u001b[38;5;250m \u001b[39m\u001b[38;5;21mtranscribe\u001b[39m(\u001b[38;5;28mself\u001b[39m, audio_path):\n\u001b[1;32m--> 364\u001b[0m     audio \u001b[38;5;241m=\u001b[39m \u001b[43mwhisperx\u001b[49m\u001b[38;5;241;43m.\u001b[39;49m\u001b[43mload_audio\u001b[49m\u001b[43m(\u001b[49m\u001b[43maudio_path\u001b[49m\u001b[43m)\u001b[49m\n\u001b[0;32m    365\u001b[0m     results \u001b[38;5;241m=\u001b[39m \u001b[38;5;28mself\u001b[39m\u001b[38;5;241m.\u001b[39mstt_model\u001b[38;5;241m.\u001b[39mtranscribe(audio, batch_size \u001b[38;5;241m=\u001b[39m \u001b[38;5;28mself\u001b[39m\u001b[38;5;241m.\u001b[39mbatch_size)\n\u001b[0;32m    366\u001b[0m     text \u001b[38;5;241m=\u001b[39m \u001b[38;5;124m\"\u001b[39m\u001b[38;5;124m \u001b[39m\u001b[38;5;124m\"\u001b[39m\u001b[38;5;241m.\u001b[39mjoin(segment[\u001b[38;5;124m'\u001b[39m\u001b[38;5;124mtext\u001b[39m\u001b[38;5;124m'\u001b[39m] \u001b[38;5;28;01mfor\u001b[39;00m segment \u001b[38;5;129;01min\u001b[39;00m results[\u001b[38;5;124m'\u001b[39m\u001b[38;5;124msegments\u001b[39m\u001b[38;5;124m'\u001b[39m])\n",
      "File \u001b[1;32md:\\projects\\v2v\\v5\\.conda\\lib\\site-packages\\whisperx\\audio.py:61\u001b[0m, in \u001b[0;36mload_audio\u001b[1;34m(file, sr)\u001b[0m\n\u001b[0;32m     41\u001b[0m \u001b[38;5;28;01mtry\u001b[39;00m:\n\u001b[0;32m     42\u001b[0m     \u001b[38;5;66;03m# Launches a subprocess to decode audio while down-mixing and resampling as necessary.\u001b[39;00m\n\u001b[0;32m     43\u001b[0m     \u001b[38;5;66;03m# Requires the ffmpeg CLI to be installed.\u001b[39;00m\n\u001b[0;32m     44\u001b[0m     cmd \u001b[38;5;241m=\u001b[39m [\n\u001b[0;32m     45\u001b[0m         \u001b[38;5;124m\"\u001b[39m\u001b[38;5;124mffmpeg\u001b[39m\u001b[38;5;124m\"\u001b[39m,\n\u001b[0;32m     46\u001b[0m         \u001b[38;5;124m\"\u001b[39m\u001b[38;5;124m-nostdin\u001b[39m\u001b[38;5;124m\"\u001b[39m,\n\u001b[1;32m   (...)\u001b[0m\n\u001b[0;32m     59\u001b[0m         \u001b[38;5;124m\"\u001b[39m\u001b[38;5;124m-\u001b[39m\u001b[38;5;124m\"\u001b[39m,\n\u001b[0;32m     60\u001b[0m     ]\n\u001b[1;32m---> 61\u001b[0m     out \u001b[38;5;241m=\u001b[39m \u001b[43msubprocess\u001b[49m\u001b[38;5;241;43m.\u001b[39;49m\u001b[43mrun\u001b[49m\u001b[43m(\u001b[49m\u001b[43mcmd\u001b[49m\u001b[43m,\u001b[49m\u001b[43m \u001b[49m\u001b[43mcapture_output\u001b[49m\u001b[38;5;241;43m=\u001b[39;49m\u001b[38;5;28;43;01mTrue\u001b[39;49;00m\u001b[43m,\u001b[49m\u001b[43m \u001b[49m\u001b[43mcheck\u001b[49m\u001b[38;5;241;43m=\u001b[39;49m\u001b[38;5;28;43;01mTrue\u001b[39;49;00m\u001b[43m)\u001b[49m\u001b[38;5;241m.\u001b[39mstdout\n\u001b[0;32m     62\u001b[0m \u001b[38;5;28;01mexcept\u001b[39;00m subprocess\u001b[38;5;241m.\u001b[39mCalledProcessError \u001b[38;5;28;01mas\u001b[39;00m e:\n\u001b[0;32m     63\u001b[0m     \u001b[38;5;28;01mraise\u001b[39;00m \u001b[38;5;167;01mRuntimeError\u001b[39;00m(\u001b[38;5;124mf\u001b[39m\u001b[38;5;124m\"\u001b[39m\u001b[38;5;124mFailed to load audio: \u001b[39m\u001b[38;5;132;01m{\u001b[39;00me\u001b[38;5;241m.\u001b[39mstderr\u001b[38;5;241m.\u001b[39mdecode()\u001b[38;5;132;01m}\u001b[39;00m\u001b[38;5;124m\"\u001b[39m) \u001b[38;5;28;01mfrom\u001b[39;00m\u001b[38;5;250m \u001b[39m\u001b[38;5;21;01me\u001b[39;00m\n",
      "File \u001b[1;32md:\\projects\\v2v\\v5\\.conda\\lib\\subprocess.py:505\u001b[0m, in \u001b[0;36mrun\u001b[1;34m(input, capture_output, timeout, check, *popenargs, **kwargs)\u001b[0m\n\u001b[0;32m    503\u001b[0m \u001b[38;5;28;01mwith\u001b[39;00m Popen(\u001b[38;5;241m*\u001b[39mpopenargs, \u001b[38;5;241m*\u001b[39m\u001b[38;5;241m*\u001b[39mkwargs) \u001b[38;5;28;01mas\u001b[39;00m process:\n\u001b[0;32m    504\u001b[0m     \u001b[38;5;28;01mtry\u001b[39;00m:\n\u001b[1;32m--> 505\u001b[0m         stdout, stderr \u001b[38;5;241m=\u001b[39m \u001b[43mprocess\u001b[49m\u001b[38;5;241;43m.\u001b[39;49m\u001b[43mcommunicate\u001b[49m\u001b[43m(\u001b[49m\u001b[38;5;28;43minput\u001b[39;49m\u001b[43m,\u001b[49m\u001b[43m \u001b[49m\u001b[43mtimeout\u001b[49m\u001b[38;5;241;43m=\u001b[39;49m\u001b[43mtimeout\u001b[49m\u001b[43m)\u001b[49m\n\u001b[0;32m    506\u001b[0m     \u001b[38;5;28;01mexcept\u001b[39;00m TimeoutExpired \u001b[38;5;28;01mas\u001b[39;00m exc:\n\u001b[0;32m    507\u001b[0m         process\u001b[38;5;241m.\u001b[39mkill()\n",
      "File \u001b[1;32md:\\projects\\v2v\\v5\\.conda\\lib\\subprocess.py:1154\u001b[0m, in \u001b[0;36mPopen.communicate\u001b[1;34m(self, input, timeout)\u001b[0m\n\u001b[0;32m   1151\u001b[0m     endtime \u001b[38;5;241m=\u001b[39m \u001b[38;5;28;01mNone\u001b[39;00m\n\u001b[0;32m   1153\u001b[0m \u001b[38;5;28;01mtry\u001b[39;00m:\n\u001b[1;32m-> 1154\u001b[0m     stdout, stderr \u001b[38;5;241m=\u001b[39m \u001b[38;5;28;43mself\u001b[39;49m\u001b[38;5;241;43m.\u001b[39;49m\u001b[43m_communicate\u001b[49m\u001b[43m(\u001b[49m\u001b[38;5;28;43minput\u001b[39;49m\u001b[43m,\u001b[49m\u001b[43m \u001b[49m\u001b[43mendtime\u001b[49m\u001b[43m,\u001b[49m\u001b[43m \u001b[49m\u001b[43mtimeout\u001b[49m\u001b[43m)\u001b[49m\n\u001b[0;32m   1155\u001b[0m \u001b[38;5;28;01mexcept\u001b[39;00m \u001b[38;5;167;01mKeyboardInterrupt\u001b[39;00m:\n\u001b[0;32m   1156\u001b[0m     \u001b[38;5;66;03m# https://bugs.python.org/issue25942\u001b[39;00m\n\u001b[0;32m   1157\u001b[0m     \u001b[38;5;66;03m# See the detailed comment in .wait().\u001b[39;00m\n\u001b[0;32m   1158\u001b[0m     \u001b[38;5;28;01mif\u001b[39;00m timeout \u001b[38;5;129;01mis\u001b[39;00m \u001b[38;5;129;01mnot\u001b[39;00m \u001b[38;5;28;01mNone\u001b[39;00m:\n",
      "File \u001b[1;32md:\\projects\\v2v\\v5\\.conda\\lib\\subprocess.py:1544\u001b[0m, in \u001b[0;36mPopen._communicate\u001b[1;34m(self, input, endtime, orig_timeout)\u001b[0m\n\u001b[0;32m   1540\u001b[0m \u001b[38;5;66;03m# Wait for the reader threads, or time out.  If we time out, the\u001b[39;00m\n\u001b[0;32m   1541\u001b[0m \u001b[38;5;66;03m# threads remain reading and the fds left open in case the user\u001b[39;00m\n\u001b[0;32m   1542\u001b[0m \u001b[38;5;66;03m# calls communicate again.\u001b[39;00m\n\u001b[0;32m   1543\u001b[0m \u001b[38;5;28;01mif\u001b[39;00m \u001b[38;5;28mself\u001b[39m\u001b[38;5;241m.\u001b[39mstdout \u001b[38;5;129;01mis\u001b[39;00m \u001b[38;5;129;01mnot\u001b[39;00m \u001b[38;5;28;01mNone\u001b[39;00m:\n\u001b[1;32m-> 1544\u001b[0m     \u001b[38;5;28;43mself\u001b[39;49m\u001b[38;5;241;43m.\u001b[39;49m\u001b[43mstdout_thread\u001b[49m\u001b[38;5;241;43m.\u001b[39;49m\u001b[43mjoin\u001b[49m\u001b[43m(\u001b[49m\u001b[38;5;28;43mself\u001b[39;49m\u001b[38;5;241;43m.\u001b[39;49m\u001b[43m_remaining_time\u001b[49m\u001b[43m(\u001b[49m\u001b[43mendtime\u001b[49m\u001b[43m)\u001b[49m\u001b[43m)\u001b[49m\n\u001b[0;32m   1545\u001b[0m     \u001b[38;5;28;01mif\u001b[39;00m \u001b[38;5;28mself\u001b[39m\u001b[38;5;241m.\u001b[39mstdout_thread\u001b[38;5;241m.\u001b[39mis_alive():\n\u001b[0;32m   1546\u001b[0m         \u001b[38;5;28;01mraise\u001b[39;00m TimeoutExpired(\u001b[38;5;28mself\u001b[39m\u001b[38;5;241m.\u001b[39margs, orig_timeout)\n",
      "File \u001b[1;32md:\\projects\\v2v\\v5\\.conda\\lib\\threading.py:1096\u001b[0m, in \u001b[0;36mThread.join\u001b[1;34m(self, timeout)\u001b[0m\n\u001b[0;32m   1093\u001b[0m     \u001b[38;5;28;01mraise\u001b[39;00m \u001b[38;5;167;01mRuntimeError\u001b[39;00m(\u001b[38;5;124m\"\u001b[39m\u001b[38;5;124mcannot join current thread\u001b[39m\u001b[38;5;124m\"\u001b[39m)\n\u001b[0;32m   1095\u001b[0m \u001b[38;5;28;01mif\u001b[39;00m timeout \u001b[38;5;129;01mis\u001b[39;00m \u001b[38;5;28;01mNone\u001b[39;00m:\n\u001b[1;32m-> 1096\u001b[0m     \u001b[38;5;28;43mself\u001b[39;49m\u001b[38;5;241;43m.\u001b[39;49m\u001b[43m_wait_for_tstate_lock\u001b[49m\u001b[43m(\u001b[49m\u001b[43m)\u001b[49m\n\u001b[0;32m   1097\u001b[0m \u001b[38;5;28;01melse\u001b[39;00m:\n\u001b[0;32m   1098\u001b[0m     \u001b[38;5;66;03m# the behavior of a negative timeout isn't documented, but\u001b[39;00m\n\u001b[0;32m   1099\u001b[0m     \u001b[38;5;66;03m# historically .join(timeout=x) for x<0 has acted as if timeout=0\u001b[39;00m\n\u001b[0;32m   1100\u001b[0m     \u001b[38;5;28mself\u001b[39m\u001b[38;5;241m.\u001b[39m_wait_for_tstate_lock(timeout\u001b[38;5;241m=\u001b[39m\u001b[38;5;28mmax\u001b[39m(timeout, \u001b[38;5;241m0\u001b[39m))\n",
      "File \u001b[1;32md:\\projects\\v2v\\v5\\.conda\\lib\\threading.py:1116\u001b[0m, in \u001b[0;36mThread._wait_for_tstate_lock\u001b[1;34m(self, block, timeout)\u001b[0m\n\u001b[0;32m   1113\u001b[0m     \u001b[38;5;28;01mreturn\u001b[39;00m\n\u001b[0;32m   1115\u001b[0m \u001b[38;5;28;01mtry\u001b[39;00m:\n\u001b[1;32m-> 1116\u001b[0m     \u001b[38;5;28;01mif\u001b[39;00m \u001b[43mlock\u001b[49m\u001b[38;5;241;43m.\u001b[39;49m\u001b[43macquire\u001b[49m\u001b[43m(\u001b[49m\u001b[43mblock\u001b[49m\u001b[43m,\u001b[49m\u001b[43m \u001b[49m\u001b[43mtimeout\u001b[49m\u001b[43m)\u001b[49m:\n\u001b[0;32m   1117\u001b[0m         lock\u001b[38;5;241m.\u001b[39mrelease()\n\u001b[0;32m   1118\u001b[0m         \u001b[38;5;28mself\u001b[39m\u001b[38;5;241m.\u001b[39m_stop()\n",
      "\u001b[1;31mKeyboardInterrupt\u001b[0m: "
     ]
    }
   ],
   "source": [
    "import json \n",
    "with open(\"./data/audio_list.json\", mode = \"r\") as f:\n",
    "    audio_list = json.load(f)\n",
    "# Tạo file rỗng nếu chưa có\n",
    "error_log_path = \"error_audios.json\"\n",
    "if not os.path.exists(error_log_path):\n",
    "    with open(error_log_path, 'w') as f:\n",
    "        f.write('[]')  # Ghi danh sách rỗng\n",
    "\n",
    "for audio in tqdm(audio_list):\n",
    "    result = processor.run(audio)"
   ]
  },
  {
   "cell_type": "code",
   "execution_count": 7,
   "metadata": {},
   "outputs": [],
   "source": [
    "import pandas\n",
    "\n",
    "data= pandas.read_csv(\"data/base_dataset.csv\", sep = \";\")\n",
    "data2= data[['video_id', 'label']]\n",
    "data2.to_csv(\"data/event_dataset.csv\", index = False, sep = \";\")"
   ]
  },
  {
   "cell_type": "code",
   "execution_count": 14,
   "metadata": {},
   "outputs": [
    {
     "name": "stdout",
     "output_type": "stream",
     "text": [
      "[REMOVE] F:/video_classification/2014-11-04 - 22-45 Arsenal 3 - 3 Anderlecht/chunk_92 — only 15 frames\n",
      "[REMOVE] F:/video_classification/2014-11-04 - 22-45 Dortmund 4 - 1 Galatasaray/chunk_92 — only 25 frames\n",
      "[REMOVE] F:/video_classification/2014-12-10 - 22-45 Barcelona 3 - 1 Paris SG/chunk_92 — only 18 frames\n",
      "[REMOVE] F:/video_classification/2015-02-18 - 22-45 Schalke 0 - 2 Real Madrid/chunk_47 — only 7 frames\n",
      "[REMOVE] F:/video_classification/2015-02-21 - 18-00 Barcelona 0 - 1 Malaga/chunk_91 — only 27 frames\n",
      "[REMOVE] F:/video_classification/2015-02-21 - 18-00 Crystal Palace 1 - 2 Arsenal/chunk_95 — only 17 frames\n",
      "[REMOVE] F:/video_classification/2015-02-21 - 18-00 Swansea 2 - 1 Manchester United/chunk_45 — only 13 frames\n",
      "[REMOVE] F:/video_classification/2015-02-22 - 19-15 Southampton 0 - 2 Liverpool/chunk_91 — only 21 frames\n",
      "[REMOVE] F:/video_classification/2015-02-25 - 22-45 Bayer Leverkusen 1 - 0 Atl. Madrid/chunk_92 — only 26 frames\n",
      "[REMOVE] F:/video_classification/2015-03-10 - 22-45 FC Porto 4 - 0 Basel/chunk_91 — only 20 frames\n",
      "[REMOVE] F:/video_classification/2015-03-18 - 22-45 Barcelona 1 - 0 Manchester City/chunk_91 — only 24 frames\n",
      "[REMOVE] F:/video_classification/2015-04-05 - 22-00 Marseille 2 - 3 Paris SG/chunk_45 — only 7 frames\n",
      "[REMOVE] F:/video_classification/2015-04-05 - 22-00 Marseille 2 - 3 Paris SG/chunk_98 — only 17 frames\n",
      "[REMOVE] F:/video_classification/2015-04-11 - 21-45 Verona 0 - 3 Inter/chunk_92 — only 12 frames\n",
      "[REMOVE] F:/video_classification/2015-04-22 - 21-45 Monaco 0 - 0 Juventus/chunk_90 — only 29 frames\n",
      "[REMOVE] F:/video_classification/2015-04-25 - 21-45 Inter 2 - 1 AS Roma/chunk_94 — only 23 frames\n",
      "[REMOVE] F:/video_classification/2015-05-09 - 21-00 Real Madrid 2 - 2 Valencia/chunk_93 — only 17 frames\n",
      "[REMOVE] F:/video_classification/2015-05-12 - 21-45 Bayern Munich 3 - 2 Barcelona/chunk_47 — only 18 frames\n",
      "[REMOVE] F:/video_classification/2015-05-16 - 19-00 Inter 1 - 2 Juventus/chunk_46 — only 5 frames\n",
      "[REMOVE] F:/video_classification/2015-05-16 - 19-00 Inter 1 - 2 Juventus/chunk_47 — only 0 frames\n",
      "[REMOVE] F:/video_classification/2015-05-16 - 19-00 Inter 1 - 2 Juventus/chunk_48 — only 0 frames\n",
      "[REMOVE] F:/video_classification/2015-05-16 - 19-00 Inter 1 - 2 Juventus/chunk_49 — only 0 frames\n",
      "[REMOVE] F:/video_classification/2015-05-16 - 19-00 Inter 1 - 2 Juventus/chunk_50 — only 0 frames\n",
      "[REMOVE] F:/video_classification/2015-05-16 - 19-00 Inter 1 - 2 Juventus/chunk_51 — only 0 frames\n",
      "[REMOVE] F:/video_classification/2015-05-16 - 19-00 Inter 1 - 2 Juventus/chunk_52 — only 0 frames\n",
      "[REMOVE] F:/video_classification/2015-05-16 - 19-00 Inter 1 - 2 Juventus/chunk_53 — only 0 frames\n",
      "[REMOVE] F:/video_classification/2015-05-16 - 19-00 Inter 1 - 2 Juventus/chunk_54 — only 0 frames\n",
      "[REMOVE] F:/video_classification/2015-05-16 - 19-00 Inter 1 - 2 Juventus/chunk_55 — only 0 frames\n",
      "[REMOVE] F:/video_classification/2015-05-16 - 19-00 Inter 1 - 2 Juventus/chunk_56 — only 0 frames\n",
      "[REMOVE] F:/video_classification/2015-05-16 - 19-00 Inter 1 - 2 Juventus/chunk_57 — only 0 frames\n",
      "[REMOVE] F:/video_classification/2015-05-16 - 19-00 Inter 1 - 2 Juventus/chunk_58 — only 0 frames\n",
      "[REMOVE] F:/video_classification/2015-05-16 - 19-00 Inter 1 - 2 Juventus/chunk_59 — only 0 frames\n",
      "[REMOVE] F:/video_classification/2015-05-16 - 19-00 Inter 1 - 2 Juventus/chunk_60 — only 0 frames\n",
      "[REMOVE] F:/video_classification/2015-05-16 - 19-00 Inter 1 - 2 Juventus/chunk_61 — only 0 frames\n",
      "[REMOVE] F:/video_classification/2015-05-16 - 19-00 Inter 1 - 2 Juventus/chunk_62 — only 0 frames\n",
      "[REMOVE] F:/video_classification/2015-05-16 - 19-00 Inter 1 - 2 Juventus/chunk_63 — only 0 frames\n",
      "[REMOVE] F:/video_classification/2015-05-16 - 19-00 Inter 1 - 2 Juventus/chunk_64 — only 0 frames\n",
      "[REMOVE] F:/video_classification/2015-05-16 - 19-00 Inter 1 - 2 Juventus/chunk_65 — only 0 frames\n",
      "[REMOVE] F:/video_classification/2015-05-16 - 19-00 Inter 1 - 2 Juventus/chunk_66 — only 0 frames\n",
      "[REMOVE] F:/video_classification/2015-05-16 - 19-00 Inter 1 - 2 Juventus/chunk_67 — only 0 frames\n",
      "[REMOVE] F:/video_classification/2015-05-16 - 19-00 Inter 1 - 2 Juventus/chunk_68 — only 0 frames\n",
      "[REMOVE] F:/video_classification/2015-05-16 - 19-00 Inter 1 - 2 Juventus/chunk_69 — only 0 frames\n",
      "[REMOVE] F:/video_classification/2015-05-16 - 19-00 Inter 1 - 2 Juventus/chunk_70 — only 0 frames\n",
      "[REMOVE] F:/video_classification/2015-05-16 - 19-00 Inter 1 - 2 Juventus/chunk_71 — only 0 frames\n",
      "[REMOVE] F:/video_classification/2015-05-16 - 19-00 Inter 1 - 2 Juventus/chunk_72 — only 0 frames\n",
      "[REMOVE] F:/video_classification/2015-05-16 - 19-00 Inter 1 - 2 Juventus/chunk_73 — only 0 frames\n",
      "[REMOVE] F:/video_classification/2015-05-16 - 19-00 Inter 1 - 2 Juventus/chunk_74 — only 0 frames\n",
      "[REMOVE] F:/video_classification/2015-05-16 - 19-00 Inter 1 - 2 Juventus/chunk_75 — only 0 frames\n",
      "[REMOVE] F:/video_classification/2015-05-16 - 19-00 Inter 1 - 2 Juventus/chunk_76 — only 0 frames\n",
      "[REMOVE] F:/video_classification/2015-05-16 - 19-00 Inter 1 - 2 Juventus/chunk_77 — only 0 frames\n",
      "[REMOVE] F:/video_classification/2015-05-16 - 19-00 Inter 1 - 2 Juventus/chunk_78 — only 0 frames\n",
      "[REMOVE] F:/video_classification/2015-05-16 - 19-00 Inter 1 - 2 Juventus/chunk_79 — only 0 frames\n",
      "[REMOVE] F:/video_classification/2015-05-16 - 19-00 Inter 1 - 2 Juventus/chunk_80 — only 0 frames\n",
      "[REMOVE] F:/video_classification/2015-05-16 - 19-00 Inter 1 - 2 Juventus/chunk_81 — only 0 frames\n",
      "[REMOVE] F:/video_classification/2015-05-16 - 19-00 Inter 1 - 2 Juventus/chunk_82 — only 0 frames\n",
      "[REMOVE] F:/video_classification/2015-05-16 - 19-00 Inter 1 - 2 Juventus/chunk_83 — only 0 frames\n",
      "[REMOVE] F:/video_classification/2015-05-16 - 19-00 Inter 1 - 2 Juventus/chunk_84 — only 0 frames\n",
      "[REMOVE] F:/video_classification/2015-05-16 - 19-00 Inter 1 - 2 Juventus/chunk_85 — only 0 frames\n",
      "[REMOVE] F:/video_classification/2015-05-16 - 19-00 Inter 1 - 2 Juventus/chunk_86 — only 0 frames\n",
      "[REMOVE] F:/video_classification/2015-05-16 - 19-00 Inter 1 - 2 Juventus/chunk_87 — only 0 frames\n",
      "[REMOVE] F:/video_classification/2015-05-16 - 19-00 Inter 1 - 2 Juventus/chunk_88 — only 0 frames\n",
      "[REMOVE] F:/video_classification/2015-05-16 - 19-00 Inter 1 - 2 Juventus/chunk_89 — only 0 frames\n",
      "[REMOVE] F:/video_classification/2015-08-08 - 19-30 Chelsea 2 - 2 Swansea/chunk_47 — only 13 frames\n",
      "[REMOVE] F:/video_classification/2015-09-12 - 17-00 Crystal Palace 0 - 1 Manchester City/chunk_94 — only 18 frames\n",
      "[REMOVE] F:/video_classification/2015-09-20 - 13-30 Chievo 0 - 1 Inter/chunk_94 — only 27 frames\n",
      "[REMOVE] F:/video_classification/2015-09-22 - 21-45 Udinese 2 - 3 AC Milan/chunk_46 — only 19 frames\n",
      "[REMOVE] F:/video_classification/2015-09-23 - 22-00 Ath Bilbao 1 - 2 Real Madrid/chunk_90 — only 29 frames\n",
      "[REMOVE] F:/video_classification/2015-09-26 - 18-30 Nantes 1 - 4 Paris SG/chunk_90 — only 27 frames\n",
      "[REMOVE] F:/video_classification/2015-09-29 - 21-45 Arsenal 2 - 3 Olympiakos Piraeus/chunk_45 — only 14 frames\n",
      "[REMOVE] F:/video_classification/2015-09-29 - 21-45 Lyon 0 - 1 Valencia/chunk_92 — only 29 frames\n",
      "[REMOVE] F:/video_classification/2015-10-31 - 15-45 Chelsea 1 - 3 Liverpool/chunk_94 — only 20 frames\n",
      "[REMOVE] F:/video_classification/2015-11-01 - 22-45 Lazio 1 - 3 AC Milan/chunk_92 — only 26 frames\n",
      "[REMOVE] F:/video_classification/2015-11-03 - 22-45 PSV 2 - 0 Wolfsburg/chunk_12 — only 27 frames\n",
      "[REMOVE] F:/video_classification/2015-11-03 - 22-45 PSV 2 - 0 Wolfsburg/chunk_47 — only 13 frames\n",
      "[REMOVE] F:/video_classification/2015-11-03 - 22-45 PSV 2 - 0 Wolfsburg/chunk_93 — only 20 frames\n",
      "[REMOVE] F:/video_classification/2015-11-04 - 22-45 Gent 1 - 0 Valencia/chunk_93 — only 25 frames\n",
      "[REMOVE] F:/video_classification/2015-11-04 - 22-45 Lyon 0 - 2 Zenit Petersburg/chunk_90 — only 22 frames\n",
      "[REMOVE] F:/video_classification/2015-11-21 - 20-30 Manchester City 1 - 4 Liverpool/chunk_90 — only 17 frames\n",
      "[REMOVE] F:/video_classification/2015-11-24 - 20-00 Zenit Petersburg 2 - 0 Valencia/chunk_45 — only 19 frames\n",
      "[REMOVE] F:/video_classification/2015-11-25 - 20-00 CSKA Moscow 0 - 2 Wolfsburg/chunk_93 — only 16 frames\n",
      "[REMOVE] F:/video_classification/2015-11-25 - 22-45 B. Monchengladbach 4 - 2 Sevilla/chunk_91 — only 22 frames\n",
      "[REMOVE] F:/video_classification/2015-11-25 - 22-45 Malmo FF 0 - 5 Paris SG/chunk_90 — only 24 frames\n",
      "[REMOVE] F:/video_classification/2015-11-29 - 15-00 Tottenham 0 - 0 Chelsea/chunk_46 — only 29 frames\n",
      "[REMOVE] F:/video_classification/2016-01-24 - 22-30 Betis 1 - 1 Real Madrid/chunk_92 — only 25 frames\n",
      "[REMOVE] F:/video_classification/2016-03-05 - 18-00 Chelsea 1 - 1 Stoke City/chunk_45 — only 28 frames\n",
      "[REMOVE] F:/video_classification/2016-03-05 - 18-00 Chelsea 1 - 1 Stoke City/chunk_91 — only 8 frames\n",
      "[REMOVE] F:/video_classification/2016-03-13 - 22-30 Las Palmas 1 - 2 Real Madrid/chunk_91 — only 6 frames\n",
      "[REMOVE] F:/video_classification/2016-04-02 - 16-30 Bayern Munich 1 - 0 Eintracht Frankfurt/chunk_45 — only 9 frames\n",
      "[REMOVE] F:/video_classification/2016-08-14 - 18-00 Arsenal 3 - 4 Liverpool/chunk_46 — only 29 frames\n",
      "[REMOVE] F:/video_classification/2016-08-20 - 19-15 Barcelona 6 - 2 Betis/chunk_45 — only 10 frames\n",
      "[REMOVE] F:/video_classification/2016-08-20 - 19-30 Leicester 0 - 0 Arsenal/chunk_45 — only 19 frames\n",
      "[REMOVE] F:/video_classification/2016-08-20 - 19-30 Leicester 0 - 0 Arsenal/chunk_93 — only 25 frames\n",
      "[REMOVE] F:/video_classification/2016-08-21 - 21-45 Pescara 2 - 2 Napoli/chunk_92 — only 10 frames\n",
      "[REMOVE] F:/video_classification/2016-08-28 - 21-45 Cagliari 2 - 2 AS Roma/chunk_91 — only 16 frames\n",
      "[REMOVE] F:/video_classification/2016-09-10 - 17-00 Arsenal 2 - 1 Southampton/chunk_94 — only 22 frames\n",
      "[REMOVE] F:/video_classification/2016-09-16 - 21-45 Caen 0 - 6 Paris SG/chunk_46 — only 29 frames\n",
      "[REMOVE] F:/video_classification/2016-09-16 - 21-45 Sampdoria 0 - 1 AC Milan/chunk_95 — only 6 frames\n",
      "[REMOVE] F:/video_classification/2016-09-16 - 22-00 Chelsea 1 - 2 Liverpool/chunk_46 — only 7 frames\n",
      "[REMOVE] F:/video_classification/2016-09-16 - 22-00 Chelsea 1 - 2 Liverpool/chunk_92 — only 22 frames\n",
      "[REMOVE] F:/video_classification/2016-09-17 - 17-00 Hull City 1 - 4 Arsenal/chunk_92 — only 18 frames\n",
      "[REMOVE] F:/video_classification/2016-09-23 - 21-45 Toulouse 2 - 0 Paris SG/chunk_45 — only 9 frames\n",
      "[REMOVE] F:/video_classification/2016-09-28 - 21-45 Ludogorets 1 - 3 Paris SG/chunk_91 — only 17 frames\n",
      "[REMOVE] F:/video_classification/2016-10-02 - 17-15 Real Madrid 1 - 1 Eibar/chunk_92 — only 25 frames\n",
      "[REMOVE] F:/video_classification/2016-10-14 - 21-30 Dortmund 1 - 1 Hertha Berlin/chunk_93 — only 16 frames\n",
      "[REMOVE] F:/video_classification/2016-10-15 - 16-00 Napoli 1 - 3 AS Roma/chunk_46 — only 23 frames\n",
      "[REMOVE] F:/video_classification/2016-10-15 - 16-00 Napoli 1 - 3 AS Roma/chunk_93 — only 13 frames\n",
      "[REMOVE] F:/video_classification/2016-10-15 - 21-45 Betis 1 - 6 Real Madrid/chunk_91 — only 7 frames\n",
      "[REMOVE] F:/video_classification/2016-10-17 - 22-00 Liverpool 0 - 0 Manchester United/chunk_46 — only 20 frames\n",
      "[REMOVE] F:/video_classification/2016-10-17 - 22-00 Liverpool 0 - 0 Manchester United/chunk_94 — only 27 frames\n",
      "[REMOVE] F:/video_classification/2016-10-29 - 19-30 Dortmund 0 - 0 Schalke/chunk_90 — only 20 frames\n",
      "[REMOVE] F:/video_classification/2016-10-30 - 17-00 Empoli 0 - 0 AS Roma/chunk_93 — only 18 frames\n",
      "[REMOVE] F:/video_classification/2016-11-06 - 14-00 Real Madrid 3 - 0 Leganes/chunk_92 — only 21 frames\n",
      "[REMOVE] F:/video_classification/2016-11-19 - 18-15 Barcelona 0 - 0 Malaga/chunk_96 — only 15 frames\n",
      "[REMOVE] F:/video_classification/2016-11-20 - 22-45 AC Milan 2 - 2 Inter/chunk_93 — only 27 frames\n",
      "[REMOVE] F:/video_classification/2016-11-26 - 18-00 Liverpool 2 - 0 Sunderland/chunk_90 — only 28 frames\n",
      "[REMOVE] F:/video_classification/2016-11-27 - 22-45 AS Roma 3 - 2 Pescara/chunk_92 — only 12 frames\n",
      "[REMOVE] F:/video_classification/2016-11-27 - 22-45 Lyon 1 - 2 Paris SG/chunk_94 — only 28 frames\n",
      "[REMOVE] F:/video_classification/2016-11-27 - 22-45 Real Sociedad 1 - 1 Barcelona/chunk_93 — only 27 frames\n",
      "[REMOVE] F:/video_classification/2016-12-04 - 14-30 AC Milan 2 - 1 Crotone/chunk_92 — only 15 frames\n",
      "[REMOVE] F:/video_classification/2016-12-10 - 17-30 FC Koln 1 - 1 Dortmund/chunk_45 — only 28 frames\n",
      "[REMOVE] F:/video_classification/2016-12-10 - 17-30 FC Koln 1 - 1 Dortmund/chunk_95 — only 6 frames\n",
      "[REMOVE] F:/video_classification/2016-12-10 - 20-30 Leicester 4 - 2 Manchester City/chunk_92 — only 27 frames\n",
      "[REMOVE] F:/video_classification/2016-12-10 - 22-45 Real Madrid 3 - 2 Dep. La Coruna/chunk_45 — only 21 frames\n",
      "[REMOVE] F:/video_classification/2016-12-14 - 22-45 Middlesbrough 0 - 3 Liverpool/chunk_91 — only 17 frames\n",
      "[REMOVE] F:/video_classification/2016-12-17 - 20-00 AC Milan 0 - 0 Atalanta/chunk_94 — only 13 frames\n",
      "[REMOVE] F:/video_classification/2016-12-19 - 23-00 Everton 0 - 1 Liverpool/chunk_98 — only 24 frames\n",
      "[REMOVE] F:/video_classification/2016-12-22 - 22-45 AS Roma 3 - 1 Chievo/chunk_46 — only 18 frames\n",
      "[REMOVE] F:/video_classification/2016-12-31 - 20-30 Liverpool 1 - 0 Manchester City/chunk_93 — only 13 frames\n",
      "[REMOVE] F:/video_classification/2017-01-08 - 22-45 Villarreal 1 - 1 Barcelona/chunk_93 — only 21 frames\n",
      "[REMOVE] F:/video_classification/2017-01-29 - 14-00 Betis 1 - 1 Barcelona/chunk_90 — only 21 frames\n",
      "[REMOVE] F:/video_classification/2017-02-10 - 22-45 Napoli 2 - 0 Genoa/chunk_92 — only 6 frames\n",
      "[REMOVE] F:/video_classification/2017-02-12 - 14-30 Crotone 0 - 2 AS Roma/chunk_91 — only 6 frames\n",
      "[REMOVE] F:/video_classification/2017-02-19 - 20-00 AS Roma 4 - 1 Torino/chunk_91 — only 27 frames\n",
      "[REMOVE] F:/video_classification/2017-02-19 - 22-45 Barcelona 2 - 1 Leganes/chunk_95 — only 26 frames\n",
      "[REMOVE] F:/video_classification/2017-02-26 - 22-45 Villarreal 2 - 3 Real Madrid/chunk_91 — only 18 frames\n",
      "[REMOVE] F:/video_classification/2017-03-01 - 21-30 Barcelona 6 - 1 Gijon/chunk_46 — only 21 frames\n",
      "[REMOVE] F:/video_classification/2017-03-01 - 23-30 Real Madrid 3 - 3 Las Palmas/chunk_92 — only 5 frames\n",
      "[REMOVE] F:/video_classification/2017-03-04 - 17-00 AS Roma 1 - 2 Napoli/chunk_94 — only 9 frames\n",
      "[REMOVE] F:/video_classification/2017-03-17 - 22-30 Dortmund 1 - 0 Ingolstadt/chunk_90 — only 29 frames\n",
      "[REMOVE] F:/video_classification/2017-03-19 - 22-45 AS Roma 3 - 1 Sassuolo/chunk_47 — only 28 frames\n",
      "[REMOVE] F:/video_classification/2017-03-19 - 22-45 Barcelona 4 - 2 Valencia/chunk_46 — only 16 frames\n",
      "[REMOVE] F:/video_classification/2017-04-01 - 16-30 Schalke 1 - 1 Dortmund/chunk_90 — only 26 frames\n",
      "[REMOVE] F:/video_classification/2017-04-02 - 21-45 Granada CF 1 - 4 Barcelona/chunk_91 — only 11 frames\n",
      "[REMOVE] F:/video_classification/2017-04-09 - 16-00 Bologna 0 - 3 AS Roma/chunk_71 — only 29 frames\n",
      "[REMOVE] F:/video_classification/2017-04-09 - 21-45 Lazio 0 - 3 Napoli/chunk_92 — only 6 frames\n",
      "[REMOVE] F:/video_classification/2017-04-24 - 21-45 Pescara 1 - 4 AS Roma/chunk_45 — only 21 frames\n",
      "[REMOVE] F:/video_classification/2017-04-30 - 22-00 Nice 3 - 1 Paris SG/chunk_93 — only 29 frames\n",
      "[REMOVE] F:/video_classification/2017-05-13 - 16-30 FC Augsburg 1 - 1 Dortmund/chunk_92 — only 15 frames\n",
      "[REMOVE] F:/video_classification/2017-05-21 - 21-00 Barcelona 4 - 2 Eibar/chunk_67 — only 29 frames\n",
      "\n",
      "Total removed folders: 149\n"
     ]
    },
    {
     "data": {
      "text/plain": [
       "149"
      ]
     },
     "execution_count": 14,
     "metadata": {},
     "output_type": "execute_result"
    }
   ],
   "source": [
    "import os\n",
    "import shutil\n",
    "import pandas as pd\n",
    "\n",
    "def remove_incomplete_chunks(csv_path):\n",
    "    df = pd.read_csv(csv_path, sep=';')\n",
    "    removed_count = 0\n",
    "    removed_chunks = set()\n",
    "\n",
    "    for idx, row in df.iterrows():\n",
    "        video_path = row['video_id']\n",
    "        chunk_dir = os.path.dirname(video_path)\n",
    "\n",
    "        # Bỏ qua nếu chunk đã bị xóa trước đó\n",
    "        if not os.path.exists(chunk_dir) or chunk_dir in removed_chunks:\n",
    "            continue\n",
    "\n",
    "        frame_dir = os.path.join(chunk_dir, 'frames')\n",
    "        if not os.path.exists(frame_dir):\n",
    "            print(f\"[WARNING] Frame folder not found: {frame_dir}\")\n",
    "            continue\n",
    "\n",
    "        # Đếm số lượng ảnh\n",
    "        image_count = len([\n",
    "            f for f in os.listdir(frame_dir)\n",
    "            if f.lower().endswith(('.jpg', '.jpeg', '.png'))\n",
    "        ])\n",
    "\n",
    "        if image_count < 30:\n",
    "            print(f\"[REMOVE] {chunk_dir} — only {image_count} frames\")\n",
    "            shutil.rmtree(chunk_dir)\n",
    "            removed_chunks.add(chunk_dir)\n",
    "            removed_count += 1\n",
    "\n",
    "    print(f\"\\nTotal removed folders: {removed_count}\")\n",
    "    return removed_count\n",
    "\n",
    "# Gọi hàm\n",
    "csv_file = './data/event_dataset.csv'\n",
    "remove_incomplete_chunks(csv_file)"
   ]
  },
  {
   "cell_type": "code",
   "execution_count": 26,
   "metadata": {},
   "outputs": [],
   "source": [
    "remove_paths = []\n",
    "with open('log.txt', 'r', encoding='utf-8') as f:\n",
    "    for line in f:\n",
    "        if line.startswith('[REMOVE]'):\n",
    "            path = line.split('[REMOVE]')[1].strip().split('—')[0].strip()\n",
    "            remove_paths.append(path)\n",
    "            \n",
    "from src.preprocessing.video.utils import normalize_path\n",
    "new_rm_items = []\n",
    "for item in remove_paths:\n",
    "    mp4_file = item.split(\"/\")[-1] + \".mp4\"\n",
    "    new_rm_items.append(normalize_path(os.path.join(item, mp4_file)))\n",
    "\n",
    "import pandas\n",
    "data = pandas.read_csv(\"data/event_dataset.csv\", sep = \";\")\n",
    "# Lọc bỏ các dòng có video_id trong new_rm_items\n",
    "filtered_data = data[~data['video_id'].isin(new_rm_items)]\n",
    "\n",
    "# Ghi lại file (nếu muốn)\n",
    "filtered_data.to_csv(\"data/event_dataset_filtered.csv\", sep=\";\", index=False)"
   ]
  },
  {
   "cell_type": "code",
   "execution_count": 27,
   "metadata": {},
   "outputs": [
    {
     "data": {
      "text/plain": [
       "['F:/video_classification/2014-11-04 - 22-45 Arsenal 3 - 3 Anderlecht/chunk_92/chunk_92.mp4',\n",
       " 'F:/video_classification/2014-11-04 - 22-45 Dortmund 4 - 1 Galatasaray/chunk_92/chunk_92.mp4',\n",
       " 'F:/video_classification/2014-12-10 - 22-45 Barcelona 3 - 1 Paris SG/chunk_92/chunk_92.mp4',\n",
       " 'F:/video_classification/2015-02-18 - 22-45 Schalke 0 - 2 Real Madrid/chunk_47/chunk_47.mp4',\n",
       " 'F:/video_classification/2015-02-21 - 18-00 Barcelona 0 - 1 Malaga/chunk_91/chunk_91.mp4',\n",
       " 'F:/video_classification/2015-02-21 - 18-00 Crystal Palace 1 - 2 Arsenal/chunk_95/chunk_95.mp4',\n",
       " 'F:/video_classification/2015-02-21 - 18-00 Swansea 2 - 1 Manchester United/chunk_45/chunk_45.mp4',\n",
       " 'F:/video_classification/2015-02-22 - 19-15 Southampton 0 - 2 Liverpool/chunk_91/chunk_91.mp4',\n",
       " 'F:/video_classification/2015-02-25 - 22-45 Bayer Leverkusen 1 - 0 Atl. Madrid/chunk_92/chunk_92.mp4',\n",
       " 'F:/video_classification/2015-03-10 - 22-45 FC Porto 4 - 0 Basel/chunk_91/chunk_91.mp4',\n",
       " 'F:/video_classification/2015-03-18 - 22-45 Barcelona 1 - 0 Manchester City/chunk_91/chunk_91.mp4',\n",
       " 'F:/video_classification/2015-04-05 - 22-00 Marseille 2 - 3 Paris SG/chunk_45/chunk_45.mp4',\n",
       " 'F:/video_classification/2015-04-05 - 22-00 Marseille 2 - 3 Paris SG/chunk_98/chunk_98.mp4',\n",
       " 'F:/video_classification/2015-04-11 - 21-45 Verona 0 - 3 Inter/chunk_92/chunk_92.mp4',\n",
       " 'F:/video_classification/2015-04-22 - 21-45 Monaco 0 - 0 Juventus/chunk_90/chunk_90.mp4',\n",
       " 'F:/video_classification/2015-04-25 - 21-45 Inter 2 - 1 AS Roma/chunk_94/chunk_94.mp4',\n",
       " 'F:/video_classification/2015-05-09 - 21-00 Real Madrid 2 - 2 Valencia/chunk_93/chunk_93.mp4',\n",
       " 'F:/video_classification/2015-05-12 - 21-45 Bayern Munich 3 - 2 Barcelona/chunk_47/chunk_47.mp4',\n",
       " 'F:/video_classification/2015-05-16 - 19-00 Inter 1 - 2 Juventus/chunk_46/chunk_46.mp4',\n",
       " 'F:/video_classification/2015-05-16 - 19-00 Inter 1 - 2 Juventus/chunk_47/chunk_47.mp4',\n",
       " 'F:/video_classification/2015-05-16 - 19-00 Inter 1 - 2 Juventus/chunk_48/chunk_48.mp4',\n",
       " 'F:/video_classification/2015-05-16 - 19-00 Inter 1 - 2 Juventus/chunk_49/chunk_49.mp4',\n",
       " 'F:/video_classification/2015-05-16 - 19-00 Inter 1 - 2 Juventus/chunk_50/chunk_50.mp4',\n",
       " 'F:/video_classification/2015-05-16 - 19-00 Inter 1 - 2 Juventus/chunk_51/chunk_51.mp4',\n",
       " 'F:/video_classification/2015-05-16 - 19-00 Inter 1 - 2 Juventus/chunk_52/chunk_52.mp4',\n",
       " 'F:/video_classification/2015-05-16 - 19-00 Inter 1 - 2 Juventus/chunk_53/chunk_53.mp4',\n",
       " 'F:/video_classification/2015-05-16 - 19-00 Inter 1 - 2 Juventus/chunk_54/chunk_54.mp4',\n",
       " 'F:/video_classification/2015-05-16 - 19-00 Inter 1 - 2 Juventus/chunk_55/chunk_55.mp4',\n",
       " 'F:/video_classification/2015-05-16 - 19-00 Inter 1 - 2 Juventus/chunk_56/chunk_56.mp4',\n",
       " 'F:/video_classification/2015-05-16 - 19-00 Inter 1 - 2 Juventus/chunk_57/chunk_57.mp4',\n",
       " 'F:/video_classification/2015-05-16 - 19-00 Inter 1 - 2 Juventus/chunk_58/chunk_58.mp4',\n",
       " 'F:/video_classification/2015-05-16 - 19-00 Inter 1 - 2 Juventus/chunk_59/chunk_59.mp4',\n",
       " 'F:/video_classification/2015-05-16 - 19-00 Inter 1 - 2 Juventus/chunk_60/chunk_60.mp4',\n",
       " 'F:/video_classification/2015-05-16 - 19-00 Inter 1 - 2 Juventus/chunk_61/chunk_61.mp4',\n",
       " 'F:/video_classification/2015-05-16 - 19-00 Inter 1 - 2 Juventus/chunk_62/chunk_62.mp4',\n",
       " 'F:/video_classification/2015-05-16 - 19-00 Inter 1 - 2 Juventus/chunk_63/chunk_63.mp4',\n",
       " 'F:/video_classification/2015-05-16 - 19-00 Inter 1 - 2 Juventus/chunk_64/chunk_64.mp4',\n",
       " 'F:/video_classification/2015-05-16 - 19-00 Inter 1 - 2 Juventus/chunk_65/chunk_65.mp4',\n",
       " 'F:/video_classification/2015-05-16 - 19-00 Inter 1 - 2 Juventus/chunk_66/chunk_66.mp4',\n",
       " 'F:/video_classification/2015-05-16 - 19-00 Inter 1 - 2 Juventus/chunk_67/chunk_67.mp4',\n",
       " 'F:/video_classification/2015-05-16 - 19-00 Inter 1 - 2 Juventus/chunk_68/chunk_68.mp4',\n",
       " 'F:/video_classification/2015-05-16 - 19-00 Inter 1 - 2 Juventus/chunk_69/chunk_69.mp4',\n",
       " 'F:/video_classification/2015-05-16 - 19-00 Inter 1 - 2 Juventus/chunk_70/chunk_70.mp4',\n",
       " 'F:/video_classification/2015-05-16 - 19-00 Inter 1 - 2 Juventus/chunk_71/chunk_71.mp4',\n",
       " 'F:/video_classification/2015-05-16 - 19-00 Inter 1 - 2 Juventus/chunk_72/chunk_72.mp4',\n",
       " 'F:/video_classification/2015-05-16 - 19-00 Inter 1 - 2 Juventus/chunk_73/chunk_73.mp4',\n",
       " 'F:/video_classification/2015-05-16 - 19-00 Inter 1 - 2 Juventus/chunk_74/chunk_74.mp4',\n",
       " 'F:/video_classification/2015-05-16 - 19-00 Inter 1 - 2 Juventus/chunk_75/chunk_75.mp4',\n",
       " 'F:/video_classification/2015-05-16 - 19-00 Inter 1 - 2 Juventus/chunk_76/chunk_76.mp4',\n",
       " 'F:/video_classification/2015-05-16 - 19-00 Inter 1 - 2 Juventus/chunk_77/chunk_77.mp4',\n",
       " 'F:/video_classification/2015-05-16 - 19-00 Inter 1 - 2 Juventus/chunk_78/chunk_78.mp4',\n",
       " 'F:/video_classification/2015-05-16 - 19-00 Inter 1 - 2 Juventus/chunk_79/chunk_79.mp4',\n",
       " 'F:/video_classification/2015-05-16 - 19-00 Inter 1 - 2 Juventus/chunk_80/chunk_80.mp4',\n",
       " 'F:/video_classification/2015-05-16 - 19-00 Inter 1 - 2 Juventus/chunk_81/chunk_81.mp4',\n",
       " 'F:/video_classification/2015-05-16 - 19-00 Inter 1 - 2 Juventus/chunk_82/chunk_82.mp4',\n",
       " 'F:/video_classification/2015-05-16 - 19-00 Inter 1 - 2 Juventus/chunk_83/chunk_83.mp4',\n",
       " 'F:/video_classification/2015-05-16 - 19-00 Inter 1 - 2 Juventus/chunk_84/chunk_84.mp4',\n",
       " 'F:/video_classification/2015-05-16 - 19-00 Inter 1 - 2 Juventus/chunk_85/chunk_85.mp4',\n",
       " 'F:/video_classification/2015-05-16 - 19-00 Inter 1 - 2 Juventus/chunk_86/chunk_86.mp4',\n",
       " 'F:/video_classification/2015-05-16 - 19-00 Inter 1 - 2 Juventus/chunk_87/chunk_87.mp4',\n",
       " 'F:/video_classification/2015-05-16 - 19-00 Inter 1 - 2 Juventus/chunk_88/chunk_88.mp4',\n",
       " 'F:/video_classification/2015-05-16 - 19-00 Inter 1 - 2 Juventus/chunk_89/chunk_89.mp4',\n",
       " 'F:/video_classification/2015-08-08 - 19-30 Chelsea 2 - 2 Swansea/chunk_47/chunk_47.mp4',\n",
       " 'F:/video_classification/2015-09-12 - 17-00 Crystal Palace 0 - 1 Manchester City/chunk_94/chunk_94.mp4',\n",
       " 'F:/video_classification/2015-09-20 - 13-30 Chievo 0 - 1 Inter/chunk_94/chunk_94.mp4',\n",
       " 'F:/video_classification/2015-09-22 - 21-45 Udinese 2 - 3 AC Milan/chunk_46/chunk_46.mp4',\n",
       " 'F:/video_classification/2015-09-23 - 22-00 Ath Bilbao 1 - 2 Real Madrid/chunk_90/chunk_90.mp4',\n",
       " 'F:/video_classification/2015-09-26 - 18-30 Nantes 1 - 4 Paris SG/chunk_90/chunk_90.mp4',\n",
       " 'F:/video_classification/2015-09-29 - 21-45 Arsenal 2 - 3 Olympiakos Piraeus/chunk_45/chunk_45.mp4',\n",
       " 'F:/video_classification/2015-09-29 - 21-45 Lyon 0 - 1 Valencia/chunk_92/chunk_92.mp4',\n",
       " 'F:/video_classification/2015-10-31 - 15-45 Chelsea 1 - 3 Liverpool/chunk_94/chunk_94.mp4',\n",
       " 'F:/video_classification/2015-11-01 - 22-45 Lazio 1 - 3 AC Milan/chunk_92/chunk_92.mp4',\n",
       " 'F:/video_classification/2015-11-03 - 22-45 PSV 2 - 0 Wolfsburg/chunk_12/chunk_12.mp4',\n",
       " 'F:/video_classification/2015-11-03 - 22-45 PSV 2 - 0 Wolfsburg/chunk_47/chunk_47.mp4',\n",
       " 'F:/video_classification/2015-11-03 - 22-45 PSV 2 - 0 Wolfsburg/chunk_93/chunk_93.mp4',\n",
       " 'F:/video_classification/2015-11-04 - 22-45 Gent 1 - 0 Valencia/chunk_93/chunk_93.mp4',\n",
       " 'F:/video_classification/2015-11-04 - 22-45 Lyon 0 - 2 Zenit Petersburg/chunk_90/chunk_90.mp4',\n",
       " 'F:/video_classification/2015-11-21 - 20-30 Manchester City 1 - 4 Liverpool/chunk_90/chunk_90.mp4',\n",
       " 'F:/video_classification/2015-11-24 - 20-00 Zenit Petersburg 2 - 0 Valencia/chunk_45/chunk_45.mp4',\n",
       " 'F:/video_classification/2015-11-25 - 20-00 CSKA Moscow 0 - 2 Wolfsburg/chunk_93/chunk_93.mp4',\n",
       " 'F:/video_classification/2015-11-25 - 22-45 B. Monchengladbach 4 - 2 Sevilla/chunk_91/chunk_91.mp4',\n",
       " 'F:/video_classification/2015-11-25 - 22-45 Malmo FF 0 - 5 Paris SG/chunk_90/chunk_90.mp4',\n",
       " 'F:/video_classification/2015-11-29 - 15-00 Tottenham 0 - 0 Chelsea/chunk_46/chunk_46.mp4',\n",
       " 'F:/video_classification/2016-01-24 - 22-30 Betis 1 - 1 Real Madrid/chunk_92/chunk_92.mp4',\n",
       " 'F:/video_classification/2016-03-05 - 18-00 Chelsea 1 - 1 Stoke City/chunk_45/chunk_45.mp4',\n",
       " 'F:/video_classification/2016-03-05 - 18-00 Chelsea 1 - 1 Stoke City/chunk_91/chunk_91.mp4',\n",
       " 'F:/video_classification/2016-03-13 - 22-30 Las Palmas 1 - 2 Real Madrid/chunk_91/chunk_91.mp4',\n",
       " 'F:/video_classification/2016-04-02 - 16-30 Bayern Munich 1 - 0 Eintracht Frankfurt/chunk_45/chunk_45.mp4',\n",
       " 'F:/video_classification/2016-08-14 - 18-00 Arsenal 3 - 4 Liverpool/chunk_46/chunk_46.mp4',\n",
       " 'F:/video_classification/2016-08-20 - 19-15 Barcelona 6 - 2 Betis/chunk_45/chunk_45.mp4',\n",
       " 'F:/video_classification/2016-08-20 - 19-30 Leicester 0 - 0 Arsenal/chunk_45/chunk_45.mp4',\n",
       " 'F:/video_classification/2016-08-20 - 19-30 Leicester 0 - 0 Arsenal/chunk_93/chunk_93.mp4',\n",
       " 'F:/video_classification/2016-08-21 - 21-45 Pescara 2 - 2 Napoli/chunk_92/chunk_92.mp4',\n",
       " 'F:/video_classification/2016-08-28 - 21-45 Cagliari 2 - 2 AS Roma/chunk_91/chunk_91.mp4',\n",
       " 'F:/video_classification/2016-09-10 - 17-00 Arsenal 2 - 1 Southampton/chunk_94/chunk_94.mp4',\n",
       " 'F:/video_classification/2016-09-16 - 21-45 Caen 0 - 6 Paris SG/chunk_46/chunk_46.mp4',\n",
       " 'F:/video_classification/2016-09-16 - 21-45 Sampdoria 0 - 1 AC Milan/chunk_95/chunk_95.mp4',\n",
       " 'F:/video_classification/2016-09-16 - 22-00 Chelsea 1 - 2 Liverpool/chunk_46/chunk_46.mp4',\n",
       " 'F:/video_classification/2016-09-16 - 22-00 Chelsea 1 - 2 Liverpool/chunk_92/chunk_92.mp4',\n",
       " 'F:/video_classification/2016-09-17 - 17-00 Hull City 1 - 4 Arsenal/chunk_92/chunk_92.mp4',\n",
       " 'F:/video_classification/2016-09-23 - 21-45 Toulouse 2 - 0 Paris SG/chunk_45/chunk_45.mp4',\n",
       " 'F:/video_classification/2016-09-28 - 21-45 Ludogorets 1 - 3 Paris SG/chunk_91/chunk_91.mp4',\n",
       " 'F:/video_classification/2016-10-02 - 17-15 Real Madrid 1 - 1 Eibar/chunk_92/chunk_92.mp4',\n",
       " 'F:/video_classification/2016-10-14 - 21-30 Dortmund 1 - 1 Hertha Berlin/chunk_93/chunk_93.mp4',\n",
       " 'F:/video_classification/2016-10-15 - 16-00 Napoli 1 - 3 AS Roma/chunk_46/chunk_46.mp4',\n",
       " 'F:/video_classification/2016-10-15 - 16-00 Napoli 1 - 3 AS Roma/chunk_93/chunk_93.mp4',\n",
       " 'F:/video_classification/2016-10-15 - 21-45 Betis 1 - 6 Real Madrid/chunk_91/chunk_91.mp4',\n",
       " 'F:/video_classification/2016-10-17 - 22-00 Liverpool 0 - 0 Manchester United/chunk_46/chunk_46.mp4',\n",
       " 'F:/video_classification/2016-10-17 - 22-00 Liverpool 0 - 0 Manchester United/chunk_94/chunk_94.mp4',\n",
       " 'F:/video_classification/2016-10-29 - 19-30 Dortmund 0 - 0 Schalke/chunk_90/chunk_90.mp4',\n",
       " 'F:/video_classification/2016-10-30 - 17-00 Empoli 0 - 0 AS Roma/chunk_93/chunk_93.mp4',\n",
       " 'F:/video_classification/2016-11-06 - 14-00 Real Madrid 3 - 0 Leganes/chunk_92/chunk_92.mp4',\n",
       " 'F:/video_classification/2016-11-19 - 18-15 Barcelona 0 - 0 Malaga/chunk_96/chunk_96.mp4',\n",
       " 'F:/video_classification/2016-11-20 - 22-45 AC Milan 2 - 2 Inter/chunk_93/chunk_93.mp4',\n",
       " 'F:/video_classification/2016-11-26 - 18-00 Liverpool 2 - 0 Sunderland/chunk_90/chunk_90.mp4',\n",
       " 'F:/video_classification/2016-11-27 - 22-45 AS Roma 3 - 2 Pescara/chunk_92/chunk_92.mp4',\n",
       " 'F:/video_classification/2016-11-27 - 22-45 Lyon 1 - 2 Paris SG/chunk_94/chunk_94.mp4',\n",
       " 'F:/video_classification/2016-11-27 - 22-45 Real Sociedad 1 - 1 Barcelona/chunk_93/chunk_93.mp4',\n",
       " 'F:/video_classification/2016-12-04 - 14-30 AC Milan 2 - 1 Crotone/chunk_92/chunk_92.mp4',\n",
       " 'F:/video_classification/2016-12-10 - 17-30 FC Koln 1 - 1 Dortmund/chunk_45/chunk_45.mp4',\n",
       " 'F:/video_classification/2016-12-10 - 17-30 FC Koln 1 - 1 Dortmund/chunk_95/chunk_95.mp4',\n",
       " 'F:/video_classification/2016-12-10 - 20-30 Leicester 4 - 2 Manchester City/chunk_92/chunk_92.mp4',\n",
       " 'F:/video_classification/2016-12-10 - 22-45 Real Madrid 3 - 2 Dep. La Coruna/chunk_45/chunk_45.mp4',\n",
       " 'F:/video_classification/2016-12-14 - 22-45 Middlesbrough 0 - 3 Liverpool/chunk_91/chunk_91.mp4',\n",
       " 'F:/video_classification/2016-12-17 - 20-00 AC Milan 0 - 0 Atalanta/chunk_94/chunk_94.mp4',\n",
       " 'F:/video_classification/2016-12-19 - 23-00 Everton 0 - 1 Liverpool/chunk_98/chunk_98.mp4',\n",
       " 'F:/video_classification/2016-12-22 - 22-45 AS Roma 3 - 1 Chievo/chunk_46/chunk_46.mp4',\n",
       " 'F:/video_classification/2016-12-31 - 20-30 Liverpool 1 - 0 Manchester City/chunk_93/chunk_93.mp4',\n",
       " 'F:/video_classification/2017-01-08 - 22-45 Villarreal 1 - 1 Barcelona/chunk_93/chunk_93.mp4',\n",
       " 'F:/video_classification/2017-01-29 - 14-00 Betis 1 - 1 Barcelona/chunk_90/chunk_90.mp4',\n",
       " 'F:/video_classification/2017-02-10 - 22-45 Napoli 2 - 0 Genoa/chunk_92/chunk_92.mp4',\n",
       " 'F:/video_classification/2017-02-12 - 14-30 Crotone 0 - 2 AS Roma/chunk_91/chunk_91.mp4',\n",
       " 'F:/video_classification/2017-02-19 - 20-00 AS Roma 4 - 1 Torino/chunk_91/chunk_91.mp4',\n",
       " 'F:/video_classification/2017-02-19 - 22-45 Barcelona 2 - 1 Leganes/chunk_95/chunk_95.mp4',\n",
       " 'F:/video_classification/2017-02-26 - 22-45 Villarreal 2 - 3 Real Madrid/chunk_91/chunk_91.mp4',\n",
       " 'F:/video_classification/2017-03-01 - 21-30 Barcelona 6 - 1 Gijon/chunk_46/chunk_46.mp4',\n",
       " 'F:/video_classification/2017-03-01 - 23-30 Real Madrid 3 - 3 Las Palmas/chunk_92/chunk_92.mp4',\n",
       " 'F:/video_classification/2017-03-04 - 17-00 AS Roma 1 - 2 Napoli/chunk_94/chunk_94.mp4',\n",
       " 'F:/video_classification/2017-03-17 - 22-30 Dortmund 1 - 0 Ingolstadt/chunk_90/chunk_90.mp4',\n",
       " 'F:/video_classification/2017-03-19 - 22-45 AS Roma 3 - 1 Sassuolo/chunk_47/chunk_47.mp4',\n",
       " 'F:/video_classification/2017-03-19 - 22-45 Barcelona 4 - 2 Valencia/chunk_46/chunk_46.mp4',\n",
       " 'F:/video_classification/2017-04-01 - 16-30 Schalke 1 - 1 Dortmund/chunk_90/chunk_90.mp4',\n",
       " 'F:/video_classification/2017-04-02 - 21-45 Granada CF 1 - 4 Barcelona/chunk_91/chunk_91.mp4',\n",
       " 'F:/video_classification/2017-04-09 - 16-00 Bologna 0 - 3 AS Roma/chunk_71/chunk_71.mp4',\n",
       " 'F:/video_classification/2017-04-09 - 21-45 Lazio 0 - 3 Napoli/chunk_92/chunk_92.mp4',\n",
       " 'F:/video_classification/2017-04-24 - 21-45 Pescara 1 - 4 AS Roma/chunk_45/chunk_45.mp4',\n",
       " 'F:/video_classification/2017-04-30 - 22-00 Nice 3 - 1 Paris SG/chunk_93/chunk_93.mp4',\n",
       " 'F:/video_classification/2017-05-13 - 16-30 FC Augsburg 1 - 1 Dortmund/chunk_92/chunk_92.mp4',\n",
       " 'F:/video_classification/2017-05-21 - 21-00 Barcelona 4 - 2 Eibar/chunk_67/chunk_67.mp4']"
      ]
     },
     "execution_count": 27,
     "metadata": {},
     "output_type": "execute_result"
    }
   ],
   "source": [
    "new_rm_items"
   ]
  },
  {
   "cell_type": "code",
   "execution_count": 3,
   "metadata": {},
   "outputs": [],
   "source": [
    "checker = ['F:/video_classification/2014-11-04 - 22-45 Arsenal 3 - 3 Anderlecht/chunk_92/chunk_92.mp4',\n",
    " 'F:/video_classification/2014-11-04 - 22-45 Dortmund 4 - 1 Galatasaray/chunk_92/chunk_92.mp4',\n",
    " 'F:/video_classification/2014-12-10 - 22-45 Barcelona 3 - 1 Paris SG/chunk_92/chunk_92.mp4',\n",
    " 'F:/video_classification/2015-02-18 - 22-45 Schalke 0 - 2 Real Madrid/chunk_47/chunk_47.mp4',\n",
    " 'F:/video_classification/2015-02-21 - 18-00 Barcelona 0 - 1 Malaga/chunk_91/chunk_91.mp4',\n",
    " 'F:/video_classification/2015-02-21 - 18-00 Crystal Palace 1 - 2 Arsenal/chunk_95/chunk_95.mp4',\n",
    " 'F:/video_classification/2015-02-21 - 18-00 Swansea 2 - 1 Manchester United/chunk_45/chunk_45.mp4',\n",
    " 'F:/video_classification/2015-02-22 - 19-15 Southampton 0 - 2 Liverpool/chunk_91/chunk_91.mp4',\n",
    " 'F:/video_classification/2015-02-25 - 22-45 Bayer Leverkusen 1 - 0 Atl. Madrid/chunk_92/chunk_92.mp4',\n",
    " 'F:/video_classification/2015-03-10 - 22-45 FC Porto 4 - 0 Basel/chunk_91/chunk_91.mp4',\n",
    " 'F:/video_classification/2015-03-18 - 22-45 Barcelona 1 - 0 Manchester City/chunk_91/chunk_91.mp4',\n",
    " 'F:/video_classification/2015-04-05 - 22-00 Marseille 2 - 3 Paris SG/chunk_45/chunk_45.mp4',\n",
    " 'F:/video_classification/2015-04-05 - 22-00 Marseille 2 - 3 Paris SG/chunk_98/chunk_98.mp4',\n",
    " 'F:/video_classification/2015-04-11 - 21-45 Verona 0 - 3 Inter/chunk_92/chunk_92.mp4',\n",
    " 'F:/video_classification/2015-04-22 - 21-45 Monaco 0 - 0 Juventus/chunk_90/chunk_90.mp4',\n",
    " 'F:/video_classification/2015-04-25 - 21-45 Inter 2 - 1 AS Roma/chunk_94/chunk_94.mp4',\n",
    " 'F:/video_classification/2015-05-09 - 21-00 Real Madrid 2 - 2 Valencia/chunk_93/chunk_93.mp4',\n",
    " 'F:/video_classification/2015-05-12 - 21-45 Bayern Munich 3 - 2 Barcelona/chunk_47/chunk_47.mp4',\n",
    " 'F:/video_classification/2015-05-16 - 19-00 Inter 1 - 2 Juventus/chunk_46/chunk_46.mp4',\n",
    " 'F:/video_classification/2015-05-16 - 19-00 Inter 1 - 2 Juventus/chunk_47/chunk_47.mp4',\n",
    " 'F:/video_classification/2015-05-16 - 19-00 Inter 1 - 2 Juventus/chunk_48/chunk_48.mp4',\n",
    " 'F:/video_classification/2015-05-16 - 19-00 Inter 1 - 2 Juventus/chunk_49/chunk_49.mp4',\n",
    " 'F:/video_classification/2015-05-16 - 19-00 Inter 1 - 2 Juventus/chunk_50/chunk_50.mp4',\n",
    " 'F:/video_classification/2015-05-16 - 19-00 Inter 1 - 2 Juventus/chunk_51/chunk_51.mp4',\n",
    " 'F:/video_classification/2015-05-16 - 19-00 Inter 1 - 2 Juventus/chunk_52/chunk_52.mp4',\n",
    " 'F:/video_classification/2015-05-16 - 19-00 Inter 1 - 2 Juventus/chunk_53/chunk_53.mp4',\n",
    " 'F:/video_classification/2015-05-16 - 19-00 Inter 1 - 2 Juventus/chunk_54/chunk_54.mp4',\n",
    " 'F:/video_classification/2015-05-16 - 19-00 Inter 1 - 2 Juventus/chunk_55/chunk_55.mp4',\n",
    " 'F:/video_classification/2015-05-16 - 19-00 Inter 1 - 2 Juventus/chunk_56/chunk_56.mp4',\n",
    " 'F:/video_classification/2015-05-16 - 19-00 Inter 1 - 2 Juventus/chunk_57/chunk_57.mp4',\n",
    " 'F:/video_classification/2015-05-16 - 19-00 Inter 1 - 2 Juventus/chunk_58/chunk_58.mp4',\n",
    " 'F:/video_classification/2015-05-16 - 19-00 Inter 1 - 2 Juventus/chunk_59/chunk_59.mp4',\n",
    " 'F:/video_classification/2015-05-16 - 19-00 Inter 1 - 2 Juventus/chunk_60/chunk_60.mp4',\n",
    " 'F:/video_classification/2015-05-16 - 19-00 Inter 1 - 2 Juventus/chunk_61/chunk_61.mp4',\n",
    " 'F:/video_classification/2015-05-16 - 19-00 Inter 1 - 2 Juventus/chunk_62/chunk_62.mp4',\n",
    " 'F:/video_classification/2015-05-16 - 19-00 Inter 1 - 2 Juventus/chunk_63/chunk_63.mp4',\n",
    " 'F:/video_classification/2015-05-16 - 19-00 Inter 1 - 2 Juventus/chunk_64/chunk_64.mp4',\n",
    " 'F:/video_classification/2015-05-16 - 19-00 Inter 1 - 2 Juventus/chunk_65/chunk_65.mp4',\n",
    " 'F:/video_classification/2015-05-16 - 19-00 Inter 1 - 2 Juventus/chunk_66/chunk_66.mp4',\n",
    " 'F:/video_classification/2015-05-16 - 19-00 Inter 1 - 2 Juventus/chunk_67/chunk_67.mp4',\n",
    " 'F:/video_classification/2015-05-16 - 19-00 Inter 1 - 2 Juventus/chunk_68/chunk_68.mp4',\n",
    " 'F:/video_classification/2015-05-16 - 19-00 Inter 1 - 2 Juventus/chunk_69/chunk_69.mp4',\n",
    " 'F:/video_classification/2015-05-16 - 19-00 Inter 1 - 2 Juventus/chunk_70/chunk_70.mp4',\n",
    " 'F:/video_classification/2015-05-16 - 19-00 Inter 1 - 2 Juventus/chunk_71/chunk_71.mp4',\n",
    " 'F:/video_classification/2015-05-16 - 19-00 Inter 1 - 2 Juventus/chunk_72/chunk_72.mp4',\n",
    " 'F:/video_classification/2015-05-16 - 19-00 Inter 1 - 2 Juventus/chunk_73/chunk_73.mp4',\n",
    " 'F:/video_classification/2015-05-16 - 19-00 Inter 1 - 2 Juventus/chunk_74/chunk_74.mp4',\n",
    " 'F:/video_classification/2015-05-16 - 19-00 Inter 1 - 2 Juventus/chunk_75/chunk_75.mp4',\n",
    " 'F:/video_classification/2015-05-16 - 19-00 Inter 1 - 2 Juventus/chunk_76/chunk_76.mp4',\n",
    " 'F:/video_classification/2015-05-16 - 19-00 Inter 1 - 2 Juventus/chunk_77/chunk_77.mp4',\n",
    " 'F:/video_classification/2015-05-16 - 19-00 Inter 1 - 2 Juventus/chunk_78/chunk_78.mp4',\n",
    " 'F:/video_classification/2015-05-16 - 19-00 Inter 1 - 2 Juventus/chunk_79/chunk_79.mp4',\n",
    " 'F:/video_classification/2015-05-16 - 19-00 Inter 1 - 2 Juventus/chunk_80/chunk_80.mp4',\n",
    " 'F:/video_classification/2015-05-16 - 19-00 Inter 1 - 2 Juventus/chunk_81/chunk_81.mp4',\n",
    " 'F:/video_classification/2015-05-16 - 19-00 Inter 1 - 2 Juventus/chunk_82/chunk_82.mp4',\n",
    " 'F:/video_classification/2015-05-16 - 19-00 Inter 1 - 2 Juventus/chunk_83/chunk_83.mp4',\n",
    " 'F:/video_classification/2015-05-16 - 19-00 Inter 1 - 2 Juventus/chunk_84/chunk_84.mp4',\n",
    " 'F:/video_classification/2015-05-16 - 19-00 Inter 1 - 2 Juventus/chunk_85/chunk_85.mp4',\n",
    " 'F:/video_classification/2015-05-16 - 19-00 Inter 1 - 2 Juventus/chunk_86/chunk_86.mp4',\n",
    " 'F:/video_classification/2015-05-16 - 19-00 Inter 1 - 2 Juventus/chunk_87/chunk_87.mp4',\n",
    " 'F:/video_classification/2015-05-16 - 19-00 Inter 1 - 2 Juventus/chunk_88/chunk_88.mp4',\n",
    " 'F:/video_classification/2015-05-16 - 19-00 Inter 1 - 2 Juventus/chunk_89/chunk_89.mp4',\n",
    " 'F:/video_classification/2015-08-08 - 19-30 Chelsea 2 - 2 Swansea/chunk_47/chunk_47.mp4',\n",
    " 'F:/video_classification/2015-09-12 - 17-00 Crystal Palace 0 - 1 Manchester City/chunk_94/chunk_94.mp4',\n",
    " 'F:/video_classification/2015-09-20 - 13-30 Chievo 0 - 1 Inter/chunk_94/chunk_94.mp4',\n",
    " 'F:/video_classification/2015-09-22 - 21-45 Udinese 2 - 3 AC Milan/chunk_46/chunk_46.mp4',\n",
    " 'F:/video_classification/2015-09-23 - 22-00 Ath Bilbao 1 - 2 Real Madrid/chunk_90/chunk_90.mp4',\n",
    " 'F:/video_classification/2015-09-26 - 18-30 Nantes 1 - 4 Paris SG/chunk_90/chunk_90.mp4',\n",
    " 'F:/video_classification/2015-09-29 - 21-45 Arsenal 2 - 3 Olympiakos Piraeus/chunk_45/chunk_45.mp4',\n",
    " 'F:/video_classification/2015-09-29 - 21-45 Lyon 0 - 1 Valencia/chunk_92/chunk_92.mp4',\n",
    " 'F:/video_classification/2015-10-31 - 15-45 Chelsea 1 - 3 Liverpool/chunk_94/chunk_94.mp4',\n",
    " 'F:/video_classification/2015-11-01 - 22-45 Lazio 1 - 3 AC Milan/chunk_92/chunk_92.mp4',\n",
    " 'F:/video_classification/2015-11-03 - 22-45 PSV 2 - 0 Wolfsburg/chunk_12/chunk_12.mp4',\n",
    " 'F:/video_classification/2015-11-03 - 22-45 PSV 2 - 0 Wolfsburg/chunk_47/chunk_47.mp4',\n",
    " 'F:/video_classification/2015-11-03 - 22-45 PSV 2 - 0 Wolfsburg/chunk_93/chunk_93.mp4',\n",
    " 'F:/video_classification/2015-11-04 - 22-45 Gent 1 - 0 Valencia/chunk_93/chunk_93.mp4',\n",
    " 'F:/video_classification/2015-11-04 - 22-45 Lyon 0 - 2 Zenit Petersburg/chunk_90/chunk_90.mp4',\n",
    " 'F:/video_classification/2015-11-21 - 20-30 Manchester City 1 - 4 Liverpool/chunk_90/chunk_90.mp4',\n",
    " 'F:/video_classification/2015-11-24 - 20-00 Zenit Petersburg 2 - 0 Valencia/chunk_45/chunk_45.mp4',\n",
    " 'F:/video_classification/2015-11-25 - 20-00 CSKA Moscow 0 - 2 Wolfsburg/chunk_93/chunk_93.mp4',\n",
    " 'F:/video_classification/2015-11-25 - 22-45 B. Monchengladbach 4 - 2 Sevilla/chunk_91/chunk_91.mp4',\n",
    " 'F:/video_classification/2015-11-25 - 22-45 Malmo FF 0 - 5 Paris SG/chunk_90/chunk_90.mp4',\n",
    " 'F:/video_classification/2015-11-29 - 15-00 Tottenham 0 - 0 Chelsea/chunk_46/chunk_46.mp4',\n",
    " 'F:/video_classification/2016-01-24 - 22-30 Betis 1 - 1 Real Madrid/chunk_92/chunk_92.mp4',\n",
    " 'F:/video_classification/2016-03-05 - 18-00 Chelsea 1 - 1 Stoke City/chunk_45/chunk_45.mp4',\n",
    " 'F:/video_classification/2016-03-05 - 18-00 Chelsea 1 - 1 Stoke City/chunk_91/chunk_91.mp4',\n",
    " 'F:/video_classification/2016-03-13 - 22-30 Las Palmas 1 - 2 Real Madrid/chunk_91/chunk_91.mp4',\n",
    " 'F:/video_classification/2016-04-02 - 16-30 Bayern Munich 1 - 0 Eintracht Frankfurt/chunk_45/chunk_45.mp4',\n",
    " 'F:/video_classification/2016-08-14 - 18-00 Arsenal 3 - 4 Liverpool/chunk_46/chunk_46.mp4',\n",
    " 'F:/video_classification/2016-08-20 - 19-15 Barcelona 6 - 2 Betis/chunk_45/chunk_45.mp4',\n",
    " 'F:/video_classification/2016-08-20 - 19-30 Leicester 0 - 0 Arsenal/chunk_45/chunk_45.mp4',\n",
    " 'F:/video_classification/2016-08-20 - 19-30 Leicester 0 - 0 Arsenal/chunk_93/chunk_93.mp4',\n",
    " 'F:/video_classification/2016-08-21 - 21-45 Pescara 2 - 2 Napoli/chunk_92/chunk_92.mp4',\n",
    " 'F:/video_classification/2016-08-28 - 21-45 Cagliari 2 - 2 AS Roma/chunk_91/chunk_91.mp4',\n",
    " 'F:/video_classification/2016-09-10 - 17-00 Arsenal 2 - 1 Southampton/chunk_94/chunk_94.mp4',\n",
    " 'F:/video_classification/2016-09-16 - 21-45 Caen 0 - 6 Paris SG/chunk_46/chunk_46.mp4',\n",
    " 'F:/video_classification/2016-09-16 - 21-45 Sampdoria 0 - 1 AC Milan/chunk_95/chunk_95.mp4',\n",
    " 'F:/video_classification/2016-09-16 - 22-00 Chelsea 1 - 2 Liverpool/chunk_46/chunk_46.mp4',\n",
    " 'F:/video_classification/2016-09-16 - 22-00 Chelsea 1 - 2 Liverpool/chunk_92/chunk_92.mp4',\n",
    " 'F:/video_classification/2016-09-17 - 17-00 Hull City 1 - 4 Arsenal/chunk_92/chunk_92.mp4',\n",
    " 'F:/video_classification/2016-09-23 - 21-45 Toulouse 2 - 0 Paris SG/chunk_45/chunk_45.mp4',\n",
    " 'F:/video_classification/2016-09-28 - 21-45 Ludogorets 1 - 3 Paris SG/chunk_91/chunk_91.mp4',\n",
    " 'F:/video_classification/2016-10-02 - 17-15 Real Madrid 1 - 1 Eibar/chunk_92/chunk_92.mp4',\n",
    " 'F:/video_classification/2016-10-14 - 21-30 Dortmund 1 - 1 Hertha Berlin/chunk_93/chunk_93.mp4',\n",
    " 'F:/video_classification/2016-10-15 - 16-00 Napoli 1 - 3 AS Roma/chunk_46/chunk_46.mp4',\n",
    " 'F:/video_classification/2016-10-15 - 16-00 Napoli 1 - 3 AS Roma/chunk_93/chunk_93.mp4',\n",
    " 'F:/video_classification/2016-10-15 - 21-45 Betis 1 - 6 Real Madrid/chunk_91/chunk_91.mp4',\n",
    " 'F:/video_classification/2016-10-17 - 22-00 Liverpool 0 - 0 Manchester United/chunk_46/chunk_46.mp4',\n",
    " 'F:/video_classification/2016-10-17 - 22-00 Liverpool 0 - 0 Manchester United/chunk_94/chunk_94.mp4',\n",
    " 'F:/video_classification/2016-10-29 - 19-30 Dortmund 0 - 0 Schalke/chunk_90/chunk_90.mp4',\n",
    " 'F:/video_classification/2016-10-30 - 17-00 Empoli 0 - 0 AS Roma/chunk_93/chunk_93.mp4',\n",
    " 'F:/video_classification/2016-11-06 - 14-00 Real Madrid 3 - 0 Leganes/chunk_92/chunk_92.mp4',\n",
    " 'F:/video_classification/2016-11-19 - 18-15 Barcelona 0 - 0 Malaga/chunk_96/chunk_96.mp4',\n",
    " 'F:/video_classification/2016-11-20 - 22-45 AC Milan 2 - 2 Inter/chunk_93/chunk_93.mp4',\n",
    " 'F:/video_classification/2016-11-26 - 18-00 Liverpool 2 - 0 Sunderland/chunk_90/chunk_90.mp4',\n",
    " 'F:/video_classification/2016-11-27 - 22-45 AS Roma 3 - 2 Pescara/chunk_92/chunk_92.mp4',\n",
    " 'F:/video_classification/2016-11-27 - 22-45 Lyon 1 - 2 Paris SG/chunk_94/chunk_94.mp4',\n",
    " 'F:/video_classification/2016-11-27 - 22-45 Real Sociedad 1 - 1 Barcelona/chunk_93/chunk_93.mp4',\n",
    " 'F:/video_classification/2016-12-04 - 14-30 AC Milan 2 - 1 Crotone/chunk_92/chunk_92.mp4',\n",
    " 'F:/video_classification/2016-12-10 - 17-30 FC Koln 1 - 1 Dortmund/chunk_45/chunk_45.mp4',\n",
    " 'F:/video_classification/2016-12-10 - 17-30 FC Koln 1 - 1 Dortmund/chunk_95/chunk_95.mp4',\n",
    " 'F:/video_classification/2016-12-10 - 20-30 Leicester 4 - 2 Manchester City/chunk_92/chunk_92.mp4',\n",
    " 'F:/video_classification/2016-12-10 - 22-45 Real Madrid 3 - 2 Dep. La Coruna/chunk_45/chunk_45.mp4',\n",
    " 'F:/video_classification/2016-12-14 - 22-45 Middlesbrough 0 - 3 Liverpool/chunk_91/chunk_91.mp4',\n",
    " 'F:/video_classification/2016-12-17 - 20-00 AC Milan 0 - 0 Atalanta/chunk_94/chunk_94.mp4',\n",
    " 'F:/video_classification/2016-12-19 - 23-00 Everton 0 - 1 Liverpool/chunk_98/chunk_98.mp4',\n",
    " 'F:/video_classification/2016-12-22 - 22-45 AS Roma 3 - 1 Chievo/chunk_46/chunk_46.mp4',\n",
    " 'F:/video_classification/2016-12-31 - 20-30 Liverpool 1 - 0 Manchester City/chunk_93/chunk_93.mp4',\n",
    " 'F:/video_classification/2017-01-08 - 22-45 Villarreal 1 - 1 Barcelona/chunk_93/chunk_93.mp4',\n",
    " 'F:/video_classification/2017-01-29 - 14-00 Betis 1 - 1 Barcelona/chunk_90/chunk_90.mp4',\n",
    " 'F:/video_classification/2017-02-10 - 22-45 Napoli 2 - 0 Genoa/chunk_92/chunk_92.mp4',\n",
    " 'F:/video_classification/2017-02-12 - 14-30 Crotone 0 - 2 AS Roma/chunk_91/chunk_91.mp4',\n",
    " 'F:/video_classification/2017-02-19 - 20-00 AS Roma 4 - 1 Torino/chunk_91/chunk_91.mp4',\n",
    " 'F:/video_classification/2017-02-19 - 22-45 Barcelona 2 - 1 Leganes/chunk_95/chunk_95.mp4',\n",
    " 'F:/video_classification/2017-02-26 - 22-45 Villarreal 2 - 3 Real Madrid/chunk_91/chunk_91.mp4',\n",
    " 'F:/video_classification/2017-03-01 - 21-30 Barcelona 6 - 1 Gijon/chunk_46/chunk_46.mp4',\n",
    " 'F:/video_classification/2017-03-01 - 23-30 Real Madrid 3 - 3 Las Palmas/chunk_92/chunk_92.mp4',\n",
    " 'F:/video_classification/2017-03-04 - 17-00 AS Roma 1 - 2 Napoli/chunk_94/chunk_94.mp4',\n",
    " 'F:/video_classification/2017-03-17 - 22-30 Dortmund 1 - 0 Ingolstadt/chunk_90/chunk_90.mp4',\n",
    " 'F:/video_classification/2017-03-19 - 22-45 AS Roma 3 - 1 Sassuolo/chunk_47/chunk_47.mp4',\n",
    " 'F:/video_classification/2017-03-19 - 22-45 Barcelona 4 - 2 Valencia/chunk_46/chunk_46.mp4',\n",
    " 'F:/video_classification/2017-04-01 - 16-30 Schalke 1 - 1 Dortmund/chunk_90/chunk_90.mp4',\n",
    " 'F:/video_classification/2017-04-02 - 21-45 Granada CF 1 - 4 Barcelona/chunk_91/chunk_91.mp4',\n",
    " 'F:/video_classification/2017-04-09 - 16-00 Bologna 0 - 3 AS Roma/chunk_71/chunk_71.mp4',\n",
    " 'F:/video_classification/2017-04-09 - 21-45 Lazio 0 - 3 Napoli/chunk_92/chunk_92.mp4',\n",
    " 'F:/video_classification/2017-04-24 - 21-45 Pescara 1 - 4 AS Roma/chunk_45/chunk_45.mp4',\n",
    " 'F:/video_classification/2017-04-30 - 22-00 Nice 3 - 1 Paris SG/chunk_93/chunk_93.mp4',\n",
    " 'F:/video_classification/2017-05-13 - 16-30 FC Augsburg 1 - 1 Dortmund/chunk_92/chunk_92.mp4',\n",
    " 'F:/video_classification/2017-05-21 - 21-00 Barcelona 4 - 2 Eibar/chunk_67/chunk_67.mp4']"
   ]
  },
  {
   "cell_type": "code",
   "execution_count": 4,
   "metadata": {},
   "outputs": [
    {
     "data": {
      "text/plain": [
       "'F:/video_classification/2014-11-04 - 22-45 Arsenal 3 - 3 Anderlecht/chunk_92/chunk_92.mp4'"
      ]
     },
     "execution_count": 4,
     "metadata": {},
     "output_type": "execute_result"
    }
   ],
   "source": [
    "import pandas\n",
    "\n",
    "check_dataset = pandas.read_csv(\"./data/event_dataset.csv\", sep = \";\")"
   ]
  },
  {
   "cell_type": "code",
   "execution_count": null,
   "metadata": {},
   "outputs": [],
   "source": [
    "import pandas\n",
    "\n",
    "check_dataset = pandas.read_csv(\"./data/base_dataset.csv\", sep = \";\")\n",
    "check_dataset = check_dataset[['video_id','audio_id', 'label']]\n",
    "# check_dataset.to_csv(\"./data/event_va_dataset.csv\", index = False, sep = \";\")"
   ]
  },
  {
   "cell_type": "code",
   "execution_count": 12,
   "metadata": {},
   "outputs": [
    {
     "name": "stderr",
     "output_type": "stream",
     "text": [
      "  1%|          | 227/27262 [00:22<45:04, 10.00it/s]C:\\Users\\PC\\AppData\\Local\\Temp\\ipykernel_4988\\2808338843.py:16: UserWarning: PySoundFile failed. Trying audioread instead.\n",
      "  y, sr = librosa.load(audio_path, sr=None)\n",
      "  1%|          | 235/27262 [00:23<23:01, 19.57it/s]"
     ]
    },
    {
     "name": "stdout",
     "output_type": "stream",
     "text": [
      "Error reading F:/video_classification/2014-11-05 - 22-45 Bayern Munich 2 - 0 AS Roma/chunk_46/chunk_46.mp3: \n",
      "Error reading F:/video_classification/2014-11-05 - 22-45 Bayern Munich 2 - 0 AS Roma/chunk_47/chunk_47.mp3: \n",
      "Error reading F:/video_classification/2014-11-05 - 22-45 Bayern Munich 2 - 0 AS Roma/chunk_51/chunk_51.mp3: \n",
      "Error reading F:/video_classification/2014-11-05 - 22-45 Bayern Munich 2 - 0 AS Roma/chunk_52/chunk_52.mp3: \n"
     ]
    },
    {
     "name": "stderr",
     "output_type": "stream",
     "text": [
      "  1%|          | 237/27262 [00:23<27:02, 16.66it/s]"
     ]
    },
    {
     "name": "stdout",
     "output_type": "stream",
     "text": [
      "Error reading F:/video_classification/2014-11-05 - 22-45 Bayern Munich 2 - 0 AS Roma/chunk_53/chunk_53.mp3: \n",
      "Error reading F:/video_classification/2014-11-05 - 22-45 Bayern Munich 2 - 0 AS Roma/chunk_54/chunk_54.mp3: \n"
     ]
    },
    {
     "name": "stderr",
     "output_type": "stream",
     "text": [
      "  1%|          | 244/27262 [00:23<21:48, 20.65it/s]"
     ]
    },
    {
     "name": "stdout",
     "output_type": "stream",
     "text": [
      "Error reading F:/video_classification/2014-11-05 - 22-45 Bayern Munich 2 - 0 AS Roma/chunk_55/chunk_55.mp3: \n",
      "Error reading F:/video_classification/2014-11-05 - 22-45 Bayern Munich 2 - 0 AS Roma/chunk_58/chunk_58.mp3: \n",
      "Error reading F:/video_classification/2014-11-05 - 22-45 Bayern Munich 2 - 0 AS Roma/chunk_59/chunk_59.mp3: \n",
      "Error reading F:/video_classification/2014-11-05 - 22-45 Bayern Munich 2 - 0 AS Roma/chunk_60/chunk_60.mp3: \n",
      "Error reading F:/video_classification/2014-11-05 - 22-45 Bayern Munich 2 - 0 AS Roma/chunk_61/chunk_61.mp3: \n"
     ]
    },
    {
     "name": "stderr",
     "output_type": "stream",
     "text": [
      "  1%|          | 247/27262 [00:23<22:00, 20.46it/s]"
     ]
    },
    {
     "name": "stdout",
     "output_type": "stream",
     "text": [
      "Error reading F:/video_classification/2014-11-05 - 22-45 Bayern Munich 2 - 0 AS Roma/chunk_62/chunk_62.mp3: \n",
      "Error reading F:/video_classification/2014-11-05 - 22-45 Bayern Munich 2 - 0 AS Roma/chunk_63/chunk_63.mp3: \n",
      "Error reading F:/video_classification/2014-11-05 - 22-45 Bayern Munich 2 - 0 AS Roma/chunk_64/chunk_64.mp3: \n",
      "Error reading F:/video_classification/2014-11-05 - 22-45 Bayern Munich 2 - 0 AS Roma/chunk_65/chunk_65.mp3: \n",
      "Error reading F:/video_classification/2014-11-05 - 22-45 Bayern Munich 2 - 0 AS Roma/chunk_66/chunk_66.mp3: \n"
     ]
    },
    {
     "name": "stderr",
     "output_type": "stream",
     "text": [
      "  1%|          | 254/27262 [00:24<20:43, 21.72it/s]"
     ]
    },
    {
     "name": "stdout",
     "output_type": "stream",
     "text": [
      "Error reading F:/video_classification/2014-11-05 - 22-45 Bayern Munich 2 - 0 AS Roma/chunk_68/chunk_68.mp3: \n",
      "Error reading F:/video_classification/2014-11-05 - 22-45 Bayern Munich 2 - 0 AS Roma/chunk_69/chunk_69.mp3: \n",
      "Error reading F:/video_classification/2014-11-05 - 22-45 Bayern Munich 2 - 0 AS Roma/chunk_70/chunk_70.mp3: \n",
      "Error reading F:/video_classification/2014-11-05 - 22-45 Bayern Munich 2 - 0 AS Roma/chunk_71/chunk_71.mp3: \n",
      "Error reading F:/video_classification/2014-11-05 - 22-45 Bayern Munich 2 - 0 AS Roma/chunk_72/chunk_72.mp3: \n"
     ]
    },
    {
     "name": "stderr",
     "output_type": "stream",
     "text": [
      "  1%|          | 260/27262 [00:24<21:32, 20.89it/s]"
     ]
    },
    {
     "name": "stdout",
     "output_type": "stream",
     "text": [
      "Error reading F:/video_classification/2014-11-05 - 22-45 Bayern Munich 2 - 0 AS Roma/chunk_73/chunk_73.mp3: \n",
      "Error reading F:/video_classification/2014-11-05 - 22-45 Bayern Munich 2 - 0 AS Roma/chunk_74/chunk_74.mp3: \n",
      "Error reading F:/video_classification/2014-11-05 - 22-45 Bayern Munich 2 - 0 AS Roma/chunk_75/chunk_75.mp3: \n",
      "Error reading F:/video_classification/2014-11-05 - 22-45 Bayern Munich 2 - 0 AS Roma/chunk_76/chunk_76.mp3: \n",
      "Error reading F:/video_classification/2014-11-05 - 22-45 Bayern Munich 2 - 0 AS Roma/chunk_77/chunk_77.mp3: \n"
     ]
    },
    {
     "name": "stderr",
     "output_type": "stream",
     "text": [
      "  1%|          | 265/27262 [00:24<18:15, 24.64it/s]"
     ]
    },
    {
     "name": "stdout",
     "output_type": "stream",
     "text": [
      "Error reading F:/video_classification/2014-11-05 - 22-45 Bayern Munich 2 - 0 AS Roma/chunk_80/chunk_80.mp3: \n",
      "Error reading F:/video_classification/2014-11-05 - 22-45 Bayern Munich 2 - 0 AS Roma/chunk_81/chunk_81.mp3: \n",
      "Error reading F:/video_classification/2014-11-05 - 22-45 Bayern Munich 2 - 0 AS Roma/chunk_82/chunk_82.mp3: \n",
      "Error reading F:/video_classification/2014-11-05 - 22-45 Bayern Munich 2 - 0 AS Roma/chunk_83/chunk_83.mp3: \n",
      "Error reading F:/video_classification/2014-11-05 - 22-45 Bayern Munich 2 - 0 AS Roma/chunk_84/chunk_84.mp3: \n"
     ]
    },
    {
     "name": "stderr",
     "output_type": "stream",
     "text": [
      "  1%|          | 271/27262 [00:24<20:05, 22.39it/s]"
     ]
    },
    {
     "name": "stdout",
     "output_type": "stream",
     "text": [
      "Error reading F:/video_classification/2014-11-05 - 22-45 Bayern Munich 2 - 0 AS Roma/chunk_85/chunk_85.mp3: \n",
      "Error reading F:/video_classification/2014-11-05 - 22-45 Bayern Munich 2 - 0 AS Roma/chunk_86/chunk_86.mp3: \n",
      "Error reading F:/video_classification/2014-11-05 - 22-45 Bayern Munich 2 - 0 AS Roma/chunk_87/chunk_87.mp3: \n",
      "Error reading F:/video_classification/2014-11-05 - 22-45 Bayern Munich 2 - 0 AS Roma/chunk_88/chunk_88.mp3: \n",
      "Error reading F:/video_classification/2014-11-05 - 22-45 Bayern Munich 2 - 0 AS Roma/chunk_89/chunk_89.mp3: \n"
     ]
    },
    {
     "name": "stderr",
     "output_type": "stream",
     "text": [
      " 15%|█▌        | 4164/27262 [09:47<29:39, 12.98it/s]  "
     ]
    },
    {
     "name": "stdout",
     "output_type": "stream",
     "text": [
      "Error reading F:/video_classification/2015-08-22 - 16-30 Hoffenheim 1 - 2 Bayern Munich/chunk_0/chunk_0.mp3: \n",
      "Error reading F:/video_classification/2015-08-22 - 16-30 Hoffenheim 1 - 2 Bayern Munich/chunk_1/chunk_1.mp3: \n",
      "Error reading F:/video_classification/2015-08-22 - 16-30 Hoffenheim 1 - 2 Bayern Munich/chunk_3/chunk_3.mp3: \n",
      "Error reading F:/video_classification/2015-08-22 - 16-30 Hoffenheim 1 - 2 Bayern Munich/chunk_4/chunk_4.mp3: \n"
     ]
    },
    {
     "name": "stderr",
     "output_type": "stream",
     "text": [
      " 15%|█▌        | 4166/27262 [09:47<27:19, 14.09it/s]"
     ]
    },
    {
     "name": "stdout",
     "output_type": "stream",
     "text": [
      "Error reading F:/video_classification/2015-08-22 - 16-30 Hoffenheim 1 - 2 Bayern Munich/chunk_5/chunk_5.mp3: \n",
      "Error reading F:/video_classification/2015-08-22 - 16-30 Hoffenheim 1 - 2 Bayern Munich/chunk_6/chunk_6.mp3: \n",
      "Error reading F:/video_classification/2015-08-22 - 16-30 Hoffenheim 1 - 2 Bayern Munich/chunk_7/chunk_7.mp3: \n",
      "Error reading F:/video_classification/2015-08-22 - 16-30 Hoffenheim 1 - 2 Bayern Munich/chunk_8/chunk_8.mp3: \n"
     ]
    },
    {
     "name": "stderr",
     "output_type": "stream",
     "text": [
      " 15%|█▌        | 4172/27262 [09:47<22:44, 16.93it/s]"
     ]
    },
    {
     "name": "stdout",
     "output_type": "stream",
     "text": [
      "Error reading F:/video_classification/2015-08-22 - 16-30 Hoffenheim 1 - 2 Bayern Munich/chunk_9/chunk_9.mp3: \n",
      "Error reading F:/video_classification/2015-08-22 - 16-30 Hoffenheim 1 - 2 Bayern Munich/chunk_10/chunk_10.mp3: \n",
      "Error reading F:/video_classification/2015-08-22 - 16-30 Hoffenheim 1 - 2 Bayern Munich/chunk_11/chunk_11.mp3: \n",
      "Error reading F:/video_classification/2015-08-22 - 16-30 Hoffenheim 1 - 2 Bayern Munich/chunk_12/chunk_12.mp3: \n"
     ]
    },
    {
     "name": "stderr",
     "output_type": "stream",
     "text": [
      " 15%|█▌        | 4177/27262 [09:48<20:55, 18.39it/s]"
     ]
    },
    {
     "name": "stdout",
     "output_type": "stream",
     "text": [
      "Error reading F:/video_classification/2015-08-22 - 16-30 Hoffenheim 1 - 2 Bayern Munich/chunk_13/chunk_13.mp3: \n",
      "Error reading F:/video_classification/2015-08-22 - 16-30 Hoffenheim 1 - 2 Bayern Munich/chunk_14/chunk_14.mp3: \n",
      "Error reading F:/video_classification/2015-08-22 - 16-30 Hoffenheim 1 - 2 Bayern Munich/chunk_15/chunk_15.mp3: \n",
      "Error reading F:/video_classification/2015-08-22 - 16-30 Hoffenheim 1 - 2 Bayern Munich/chunk_16/chunk_16.mp3: \n",
      "Error reading F:/video_classification/2015-08-22 - 16-30 Hoffenheim 1 - 2 Bayern Munich/chunk_17/chunk_17.mp3: \n"
     ]
    },
    {
     "name": "stderr",
     "output_type": "stream",
     "text": [
      " 15%|█▌        | 4181/27262 [09:48<17:30, 21.96it/s]"
     ]
    },
    {
     "name": "stdout",
     "output_type": "stream",
     "text": [
      "Error reading F:/video_classification/2015-08-22 - 16-30 Hoffenheim 1 - 2 Bayern Munich/chunk_20/chunk_20.mp3: \n",
      "Error reading F:/video_classification/2015-08-22 - 16-30 Hoffenheim 1 - 2 Bayern Munich/chunk_21/chunk_21.mp3: \n",
      "Error reading F:/video_classification/2015-08-22 - 16-30 Hoffenheim 1 - 2 Bayern Munich/chunk_22/chunk_22.mp3: \n",
      "Error reading F:/video_classification/2015-08-22 - 16-30 Hoffenheim 1 - 2 Bayern Munich/chunk_23/chunk_23.mp3: \n"
     ]
    },
    {
     "name": "stderr",
     "output_type": "stream",
     "text": [
      " 15%|█▌        | 4187/27262 [09:48<18:48, 20.45it/s]"
     ]
    },
    {
     "name": "stdout",
     "output_type": "stream",
     "text": [
      "Error reading F:/video_classification/2015-08-22 - 16-30 Hoffenheim 1 - 2 Bayern Munich/chunk_24/chunk_24.mp3: \n",
      "Error reading F:/video_classification/2015-08-22 - 16-30 Hoffenheim 1 - 2 Bayern Munich/chunk_25/chunk_25.mp3: \n",
      "Error reading F:/video_classification/2015-08-22 - 16-30 Hoffenheim 1 - 2 Bayern Munich/chunk_26/chunk_26.mp3: \n",
      "Error reading F:/video_classification/2015-08-22 - 16-30 Hoffenheim 1 - 2 Bayern Munich/chunk_27/chunk_27.mp3: \n",
      "Error reading F:/video_classification/2015-08-22 - 16-30 Hoffenheim 1 - 2 Bayern Munich/chunk_28/chunk_28.mp3: \n"
     ]
    },
    {
     "name": "stderr",
     "output_type": "stream",
     "text": [
      " 15%|█▌        | 4190/27262 [09:48<18:32, 20.74it/s]"
     ]
    },
    {
     "name": "stdout",
     "output_type": "stream",
     "text": [
      "Error reading F:/video_classification/2015-08-22 - 16-30 Hoffenheim 1 - 2 Bayern Munich/chunk_29/chunk_29.mp3: \n",
      "Error reading F:/video_classification/2015-08-22 - 16-30 Hoffenheim 1 - 2 Bayern Munich/chunk_30/chunk_30.mp3: \n",
      "Error reading F:/video_classification/2015-08-22 - 16-30 Hoffenheim 1 - 2 Bayern Munich/chunk_31/chunk_31.mp3: \n",
      "Error reading F:/video_classification/2015-08-22 - 16-30 Hoffenheim 1 - 2 Bayern Munich/chunk_32/chunk_32.mp3: \n"
     ]
    },
    {
     "name": "stderr",
     "output_type": "stream",
     "text": [
      " 15%|█▌        | 4196/27262 [09:49<19:18, 19.90it/s]"
     ]
    },
    {
     "name": "stdout",
     "output_type": "stream",
     "text": [
      "Error reading F:/video_classification/2015-08-22 - 16-30 Hoffenheim 1 - 2 Bayern Munich/chunk_33/chunk_33.mp3: \n",
      "Error reading F:/video_classification/2015-08-22 - 16-30 Hoffenheim 1 - 2 Bayern Munich/chunk_34/chunk_34.mp3: \n",
      "Error reading F:/video_classification/2015-08-22 - 16-30 Hoffenheim 1 - 2 Bayern Munich/chunk_35/chunk_35.mp3: \n",
      "Error reading F:/video_classification/2015-08-22 - 16-30 Hoffenheim 1 - 2 Bayern Munich/chunk_36/chunk_36.mp3: \n"
     ]
    },
    {
     "name": "stderr",
     "output_type": "stream",
     "text": [
      " 15%|█▌        | 4199/27262 [09:49<19:34, 19.63it/s]"
     ]
    },
    {
     "name": "stdout",
     "output_type": "stream",
     "text": [
      "Error reading F:/video_classification/2015-08-22 - 16-30 Hoffenheim 1 - 2 Bayern Munich/chunk_37/chunk_37.mp3: \n",
      "Error reading F:/video_classification/2015-08-22 - 16-30 Hoffenheim 1 - 2 Bayern Munich/chunk_38/chunk_38.mp3: \n",
      "Error reading F:/video_classification/2015-08-22 - 16-30 Hoffenheim 1 - 2 Bayern Munich/chunk_39/chunk_39.mp3: \n",
      "Error reading F:/video_classification/2015-08-22 - 16-30 Hoffenheim 1 - 2 Bayern Munich/chunk_42/chunk_42.mp3: \n"
     ]
    },
    {
     "name": "stderr",
     "output_type": "stream",
     "text": [
      " 15%|█▌        | 4205/27262 [09:49<20:12, 19.02it/s]"
     ]
    },
    {
     "name": "stdout",
     "output_type": "stream",
     "text": [
      "Error reading F:/video_classification/2015-08-22 - 16-30 Hoffenheim 1 - 2 Bayern Munich/chunk_43/chunk_43.mp3: \n",
      "Error reading F:/video_classification/2015-08-22 - 16-30 Hoffenheim 1 - 2 Bayern Munich/chunk_44/chunk_44.mp3: \n",
      "Error reading F:/video_classification/2015-08-22 - 16-30 Hoffenheim 1 - 2 Bayern Munich/chunk_45/chunk_45.mp3: \n",
      "Error reading F:/video_classification/2015-08-22 - 16-30 Hoffenheim 1 - 2 Bayern Munich/chunk_46/chunk_46.mp3: \n"
     ]
    },
    {
     "name": "stderr",
     "output_type": "stream",
     "text": [
      " 15%|█▌        | 4209/27262 [09:49<20:42, 18.55it/s]"
     ]
    },
    {
     "name": "stdout",
     "output_type": "stream",
     "text": [
      "Error reading F:/video_classification/2015-08-22 - 16-30 Hoffenheim 1 - 2 Bayern Munich/chunk_47/chunk_47.mp3: \n",
      "Error reading F:/video_classification/2015-08-22 - 16-30 Hoffenheim 1 - 2 Bayern Munich/chunk_48/chunk_48.mp3: \n",
      "Error reading F:/video_classification/2015-08-22 - 16-30 Hoffenheim 1 - 2 Bayern Munich/chunk_49/chunk_49.mp3: \n",
      "Error reading F:/video_classification/2015-08-22 - 16-30 Hoffenheim 1 - 2 Bayern Munich/chunk_50/chunk_50.mp3: \n"
     ]
    },
    {
     "name": "stderr",
     "output_type": "stream",
     "text": [
      " 15%|█▌        | 4215/27262 [09:50<19:00, 20.20it/s]"
     ]
    },
    {
     "name": "stdout",
     "output_type": "stream",
     "text": [
      "Error reading F:/video_classification/2015-08-22 - 16-30 Hoffenheim 1 - 2 Bayern Munich/chunk_52/chunk_52.mp3: \n",
      "Error reading F:/video_classification/2015-08-22 - 16-30 Hoffenheim 1 - 2 Bayern Munich/chunk_53/chunk_53.mp3: \n",
      "Error reading F:/video_classification/2015-08-22 - 16-30 Hoffenheim 1 - 2 Bayern Munich/chunk_54/chunk_54.mp3: \n",
      "Error reading F:/video_classification/2015-08-22 - 16-30 Hoffenheim 1 - 2 Bayern Munich/chunk_55/chunk_55.mp3: \n",
      "Error reading F:/video_classification/2015-08-22 - 16-30 Hoffenheim 1 - 2 Bayern Munich/chunk_56/chunk_56.mp3: \n"
     ]
    },
    {
     "name": "stderr",
     "output_type": "stream",
     "text": [
      " 15%|█▌        | 4221/27262 [09:50<18:05, 21.22it/s]"
     ]
    },
    {
     "name": "stdout",
     "output_type": "stream",
     "text": [
      "Error reading F:/video_classification/2015-08-22 - 16-30 Hoffenheim 1 - 2 Bayern Munich/chunk_57/chunk_57.mp3: \n",
      "Error reading F:/video_classification/2015-08-22 - 16-30 Hoffenheim 1 - 2 Bayern Munich/chunk_58/chunk_58.mp3: \n",
      "Error reading F:/video_classification/2015-08-22 - 16-30 Hoffenheim 1 - 2 Bayern Munich/chunk_60/chunk_60.mp3: \n",
      "Error reading F:/video_classification/2015-08-22 - 16-30 Hoffenheim 1 - 2 Bayern Munich/chunk_61/chunk_61.mp3: \n"
     ]
    },
    {
     "name": "stderr",
     "output_type": "stream",
     "text": [
      " 15%|█▌        | 4224/27262 [09:50<20:34, 18.66it/s]"
     ]
    },
    {
     "name": "stdout",
     "output_type": "stream",
     "text": [
      "Error reading F:/video_classification/2015-08-22 - 16-30 Hoffenheim 1 - 2 Bayern Munich/chunk_62/chunk_62.mp3: \n",
      "Error reading F:/video_classification/2015-08-22 - 16-30 Hoffenheim 1 - 2 Bayern Munich/chunk_63/chunk_63.mp3: \n",
      "Error reading F:/video_classification/2015-08-22 - 16-30 Hoffenheim 1 - 2 Bayern Munich/chunk_64/chunk_64.mp3: \n",
      "Error reading F:/video_classification/2015-08-22 - 16-30 Hoffenheim 1 - 2 Bayern Munich/chunk_65/chunk_65.mp3: \n"
     ]
    },
    {
     "name": "stderr",
     "output_type": "stream",
     "text": [
      " 16%|█▌        | 4229/27262 [09:50<19:40, 19.51it/s]"
     ]
    },
    {
     "name": "stdout",
     "output_type": "stream",
     "text": [
      "Error reading F:/video_classification/2015-08-22 - 16-30 Hoffenheim 1 - 2 Bayern Munich/chunk_66/chunk_66.mp3: \n",
      "Error reading F:/video_classification/2015-08-22 - 16-30 Hoffenheim 1 - 2 Bayern Munich/chunk_67/chunk_67.mp3: \n",
      "Error reading F:/video_classification/2015-08-22 - 16-30 Hoffenheim 1 - 2 Bayern Munich/chunk_68/chunk_68.mp3: \n"
     ]
    },
    {
     "name": "stderr",
     "output_type": "stream",
     "text": [
      " 16%|█▌        | 4235/27262 [09:51<18:56, 20.26it/s]"
     ]
    },
    {
     "name": "stdout",
     "output_type": "stream",
     "text": [
      "Error reading F:/video_classification/2015-08-22 - 16-30 Hoffenheim 1 - 2 Bayern Munich/chunk_72/chunk_72.mp3: \n",
      "Error reading F:/video_classification/2015-08-22 - 16-30 Hoffenheim 1 - 2 Bayern Munich/chunk_73/chunk_73.mp3: \n",
      "Error reading F:/video_classification/2015-08-22 - 16-30 Hoffenheim 1 - 2 Bayern Munich/chunk_74/chunk_74.mp3: \n",
      "Error reading F:/video_classification/2015-08-22 - 16-30 Hoffenheim 1 - 2 Bayern Munich/chunk_75/chunk_75.mp3: \n",
      "Error reading F:/video_classification/2015-08-22 - 16-30 Hoffenheim 1 - 2 Bayern Munich/chunk_76/chunk_76.mp3: \n"
     ]
    },
    {
     "name": "stderr",
     "output_type": "stream",
     "text": [
      " 16%|█▌        | 4241/27262 [09:51<19:05, 20.10it/s]"
     ]
    },
    {
     "name": "stdout",
     "output_type": "stream",
     "text": [
      "Error reading F:/video_classification/2015-08-22 - 16-30 Hoffenheim 1 - 2 Bayern Munich/chunk_77/chunk_77.mp3: \n",
      "Error reading F:/video_classification/2015-08-22 - 16-30 Hoffenheim 1 - 2 Bayern Munich/chunk_78/chunk_78.mp3: \n",
      "Error reading F:/video_classification/2015-08-22 - 16-30 Hoffenheim 1 - 2 Bayern Munich/chunk_79/chunk_79.mp3: \n",
      "Error reading F:/video_classification/2015-08-22 - 16-30 Hoffenheim 1 - 2 Bayern Munich/chunk_80/chunk_80.mp3: \n",
      "Error reading F:/video_classification/2015-08-22 - 16-30 Hoffenheim 1 - 2 Bayern Munich/chunk_81/chunk_81.mp3: \n"
     ]
    },
    {
     "name": "stderr",
     "output_type": "stream",
     "text": [
      " 16%|█▌        | 4246/27262 [09:51<19:41, 19.48it/s]"
     ]
    },
    {
     "name": "stdout",
     "output_type": "stream",
     "text": [
      "Error reading F:/video_classification/2015-08-22 - 16-30 Hoffenheim 1 - 2 Bayern Munich/chunk_82/chunk_82.mp3: \n",
      "Error reading F:/video_classification/2015-08-22 - 16-30 Hoffenheim 1 - 2 Bayern Munich/chunk_83/chunk_83.mp3: \n",
      "Error reading F:/video_classification/2015-08-22 - 16-30 Hoffenheim 1 - 2 Bayern Munich/chunk_84/chunk_84.mp3: \n",
      "Error reading F:/video_classification/2015-08-22 - 16-30 Hoffenheim 1 - 2 Bayern Munich/chunk_85/chunk_85.mp3: \n",
      "Error reading F:/video_classification/2015-08-22 - 16-30 Hoffenheim 1 - 2 Bayern Munich/chunk_86/chunk_86.mp3: \n"
     ]
    },
    {
     "name": "stderr",
     "output_type": "stream",
     "text": [
      " 16%|█▌        | 4249/27262 [09:51<19:31, 19.64it/s]"
     ]
    },
    {
     "name": "stdout",
     "output_type": "stream",
     "text": [
      "Error reading F:/video_classification/2015-08-22 - 16-30 Hoffenheim 1 - 2 Bayern Munich/chunk_87/chunk_87.mp3: \n",
      "Error reading F:/video_classification/2015-08-22 - 16-30 Hoffenheim 1 - 2 Bayern Munich/chunk_88/chunk_88.mp3: \n",
      "Error reading F:/video_classification/2015-08-22 - 16-30 Hoffenheim 1 - 2 Bayern Munich/chunk_89/chunk_89.mp3: \n",
      "Error reading F:/video_classification/2015-08-22 - 16-30 Hoffenheim 1 - 2 Bayern Munich/chunk_90/chunk_90.mp3: \n"
     ]
    },
    {
     "name": "stderr",
     "output_type": "stream",
     "text": [
      " 25%|██▍       | 6709/27262 [17:19<29:42, 11.53it/s]  "
     ]
    },
    {
     "name": "stdout",
     "output_type": "stream",
     "text": [
      "Error reading F:/video_classification/2015-10-04 - 21-30 Atl. Madrid 1 - 1 Real Madrid/chunk_3/chunk_3.mp3: \n",
      "Error reading F:/video_classification/2015-10-04 - 21-30 Atl. Madrid 1 - 1 Real Madrid/chunk_4/chunk_4.mp3: \n",
      "Error reading F:/video_classification/2015-10-04 - 21-30 Atl. Madrid 1 - 1 Real Madrid/chunk_5/chunk_5.mp3: \n",
      "Error reading F:/video_classification/2015-10-04 - 21-30 Atl. Madrid 1 - 1 Real Madrid/chunk_7/chunk_7.mp3: \n"
     ]
    },
    {
     "name": "stderr",
     "output_type": "stream",
     "text": [
      " 25%|██▍       | 6720/27262 [17:20<15:44, 21.76it/s]"
     ]
    },
    {
     "name": "stdout",
     "output_type": "stream",
     "text": [
      "Error reading F:/video_classification/2015-10-04 - 21-30 Atl. Madrid 1 - 1 Real Madrid/chunk_14/chunk_14.mp3: \n",
      "Error reading F:/video_classification/2015-10-04 - 21-30 Atl. Madrid 1 - 1 Real Madrid/chunk_17/chunk_17.mp3: \n"
     ]
    },
    {
     "name": "stderr",
     "output_type": "stream",
     "text": [
      " 25%|██▍       | 6730/27262 [17:20<13:00, 26.30it/s]"
     ]
    },
    {
     "name": "stdout",
     "output_type": "stream",
     "text": [
      "Error reading F:/video_classification/2015-10-04 - 21-30 Atl. Madrid 1 - 1 Real Madrid/chunk_21/chunk_21.mp3: \n",
      "Error reading F:/video_classification/2015-10-04 - 21-30 Atl. Madrid 1 - 1 Real Madrid/chunk_22/chunk_22.mp3: \n"
     ]
    },
    {
     "name": "stderr",
     "output_type": "stream",
     "text": [
      " 25%|██▍       | 6737/27262 [17:20<13:24, 25.50it/s]"
     ]
    },
    {
     "name": "stdout",
     "output_type": "stream",
     "text": [
      "Error reading F:/video_classification/2015-10-04 - 21-30 Atl. Madrid 1 - 1 Real Madrid/chunk_29/chunk_29.mp3: \n",
      "Error reading F:/video_classification/2015-10-04 - 21-30 Atl. Madrid 1 - 1 Real Madrid/chunk_30/chunk_30.mp3: \n",
      "Error reading F:/video_classification/2015-10-04 - 21-30 Atl. Madrid 1 - 1 Real Madrid/chunk_31/chunk_31.mp3: \n",
      "Error reading F:/video_classification/2015-10-04 - 21-30 Atl. Madrid 1 - 1 Real Madrid/chunk_32/chunk_32.mp3: \n"
     ]
    },
    {
     "name": "stderr",
     "output_type": "stream",
     "text": [
      " 25%|██▍       | 6744/27262 [17:21<12:35, 27.14it/s]"
     ]
    },
    {
     "name": "stdout",
     "output_type": "stream",
     "text": [
      "Error reading F:/video_classification/2015-10-04 - 21-30 Atl. Madrid 1 - 1 Real Madrid/chunk_35/chunk_35.mp3: \n",
      "Error reading F:/video_classification/2015-10-04 - 21-30 Atl. Madrid 1 - 1 Real Madrid/chunk_36/chunk_36.mp3: \n"
     ]
    },
    {
     "name": "stderr",
     "output_type": "stream",
     "text": [
      " 25%|██▍       | 6747/27262 [17:21<13:44, 24.87it/s]"
     ]
    },
    {
     "name": "stdout",
     "output_type": "stream",
     "text": [
      "Error reading F:/video_classification/2015-10-04 - 21-30 Atl. Madrid 1 - 1 Real Madrid/chunk_41/chunk_41.mp3: \n"
     ]
    },
    {
     "name": "stderr",
     "output_type": "stream",
     "text": [
      " 25%|██▍       | 6763/27262 [17:21<09:04, 37.68it/s]"
     ]
    },
    {
     "name": "stdout",
     "output_type": "stream",
     "text": [
      "Error reading F:/video_classification/2015-10-04 - 21-30 Atl. Madrid 1 - 1 Real Madrid/chunk_51/chunk_51.mp3: \n",
      "Error reading F:/video_classification/2015-10-04 - 21-30 Atl. Madrid 1 - 1 Real Madrid/chunk_52/chunk_52.mp3: \n",
      "Error reading F:/video_classification/2015-10-04 - 21-30 Atl. Madrid 1 - 1 Real Madrid/chunk_58/chunk_58.mp3: \n",
      "Error reading F:/video_classification/2015-10-04 - 21-30 Atl. Madrid 1 - 1 Real Madrid/chunk_59/chunk_59.mp3: \n"
     ]
    },
    {
     "name": "stderr",
     "output_type": "stream",
     "text": [
      " 25%|██▍       | 6771/27262 [17:21<10:52, 31.38it/s]"
     ]
    },
    {
     "name": "stdout",
     "output_type": "stream",
     "text": [
      "Error reading F:/video_classification/2015-10-04 - 21-30 Atl. Madrid 1 - 1 Real Madrid/chunk_63/chunk_63.mp3: \n",
      "Error reading F:/video_classification/2015-10-04 - 21-30 Atl. Madrid 1 - 1 Real Madrid/chunk_65/chunk_65.mp3: \n",
      "Error reading F:/video_classification/2015-10-04 - 21-30 Atl. Madrid 1 - 1 Real Madrid/chunk_66/chunk_66.mp3: \n",
      "Error reading F:/video_classification/2015-10-04 - 21-30 Atl. Madrid 1 - 1 Real Madrid/chunk_67/chunk_67.mp3: \n"
     ]
    },
    {
     "name": "stderr",
     "output_type": "stream",
     "text": [
      " 25%|██▍       | 6782/27262 [17:22<08:32, 39.99it/s]"
     ]
    },
    {
     "name": "stdout",
     "output_type": "stream",
     "text": [
      "Error reading F:/video_classification/2015-10-04 - 21-30 Atl. Madrid 1 - 1 Real Madrid/chunk_71/chunk_71.mp3: \n"
     ]
    },
    {
     "name": "stderr",
     "output_type": "stream",
     "text": [
      " 25%|██▍       | 6793/27262 [17:22<09:38, 35.40it/s]"
     ]
    },
    {
     "name": "stdout",
     "output_type": "stream",
     "text": [
      "Error reading F:/video_classification/2015-10-04 - 21-30 Atl. Madrid 1 - 1 Real Madrid/chunk_84/chunk_84.mp3: \n",
      "Error reading F:/video_classification/2015-10-04 - 21-30 Atl. Madrid 1 - 1 Real Madrid/chunk_86/chunk_86.mp3: \n",
      "Error reading F:/video_classification/2015-10-04 - 21-30 Atl. Madrid 1 - 1 Real Madrid/chunk_87/chunk_87.mp3: \n"
     ]
    },
    {
     "name": "stderr",
     "output_type": "stream",
     "text": [
      " 34%|███▍      | 9245/27262 [24:49<24:18, 12.35it/s]  "
     ]
    },
    {
     "name": "stdout",
     "output_type": "stream",
     "text": [
      "Error reading F:/video_classification/2015-11-29 - 15-00 Tottenham 0 - 0 Chelsea/chunk_0/chunk_0.mp3: \n",
      "Error reading F:/video_classification/2015-11-29 - 15-00 Tottenham 0 - 0 Chelsea/chunk_1/chunk_1.mp3: \n",
      "Error reading F:/video_classification/2015-11-29 - 15-00 Tottenham 0 - 0 Chelsea/chunk_2/chunk_2.mp3: \n",
      "Error reading F:/video_classification/2015-11-29 - 15-00 Tottenham 0 - 0 Chelsea/chunk_3/chunk_3.mp3: \n"
     ]
    },
    {
     "name": "stderr",
     "output_type": "stream",
     "text": [
      " 34%|███▍      | 9250/27262 [24:49<18:44, 16.01it/s]"
     ]
    },
    {
     "name": "stdout",
     "output_type": "stream",
     "text": [
      "Error reading F:/video_classification/2015-11-29 - 15-00 Tottenham 0 - 0 Chelsea/chunk_5/chunk_5.mp3: \n",
      "Error reading F:/video_classification/2015-11-29 - 15-00 Tottenham 0 - 0 Chelsea/chunk_6/chunk_6.mp3: \n",
      "Error reading F:/video_classification/2015-11-29 - 15-00 Tottenham 0 - 0 Chelsea/chunk_7/chunk_7.mp3: \n",
      "Error reading F:/video_classification/2015-11-29 - 15-00 Tottenham 0 - 0 Chelsea/chunk_8/chunk_8.mp3: \n",
      "Error reading F:/video_classification/2015-11-29 - 15-00 Tottenham 0 - 0 Chelsea/chunk_9/chunk_9.mp3: \n"
     ]
    },
    {
     "name": "stderr",
     "output_type": "stream",
     "text": [
      " 34%|███▍      | 9253/27262 [24:49<17:16, 17.38it/s]"
     ]
    },
    {
     "name": "stdout",
     "output_type": "stream",
     "text": [
      "Error reading F:/video_classification/2015-11-29 - 15-00 Tottenham 0 - 0 Chelsea/chunk_10/chunk_10.mp3: \n",
      "Error reading F:/video_classification/2015-11-29 - 15-00 Tottenham 0 - 0 Chelsea/chunk_11/chunk_11.mp3: \n",
      "Error reading F:/video_classification/2015-11-29 - 15-00 Tottenham 0 - 0 Chelsea/chunk_12/chunk_12.mp3: \n",
      "Error reading F:/video_classification/2015-11-29 - 15-00 Tottenham 0 - 0 Chelsea/chunk_13/chunk_13.mp3: \n"
     ]
    },
    {
     "name": "stderr",
     "output_type": "stream",
     "text": [
      " 34%|███▍      | 9258/27262 [24:50<16:27, 18.23it/s]"
     ]
    },
    {
     "name": "stdout",
     "output_type": "stream",
     "text": [
      "Error reading F:/video_classification/2015-11-29 - 15-00 Tottenham 0 - 0 Chelsea/chunk_14/chunk_14.mp3: \n",
      "Error reading F:/video_classification/2015-11-29 - 15-00 Tottenham 0 - 0 Chelsea/chunk_15/chunk_15.mp3: \n",
      "Error reading F:/video_classification/2015-11-29 - 15-00 Tottenham 0 - 0 Chelsea/chunk_16/chunk_16.mp3: \n",
      "Error reading F:/video_classification/2015-11-29 - 15-00 Tottenham 0 - 0 Chelsea/chunk_17/chunk_17.mp3: \n",
      "Error reading F:/video_classification/2015-11-29 - 15-00 Tottenham 0 - 0 Chelsea/chunk_18/chunk_18.mp3: \n"
     ]
    },
    {
     "name": "stderr",
     "output_type": "stream",
     "text": [
      " 34%|███▍      | 9263/27262 [24:50<15:55, 18.85it/s]"
     ]
    },
    {
     "name": "stdout",
     "output_type": "stream",
     "text": [
      "Error reading F:/video_classification/2015-11-29 - 15-00 Tottenham 0 - 0 Chelsea/chunk_19/chunk_19.mp3: \n",
      "Error reading F:/video_classification/2015-11-29 - 15-00 Tottenham 0 - 0 Chelsea/chunk_20/chunk_20.mp3: \n",
      "Error reading F:/video_classification/2015-11-29 - 15-00 Tottenham 0 - 0 Chelsea/chunk_21/chunk_21.mp3: \n",
      "Error reading F:/video_classification/2015-11-29 - 15-00 Tottenham 0 - 0 Chelsea/chunk_22/chunk_22.mp3: \n",
      "Error reading F:/video_classification/2015-11-29 - 15-00 Tottenham 0 - 0 Chelsea/chunk_23/chunk_23.mp3: \n"
     ]
    },
    {
     "name": "stderr",
     "output_type": "stream",
     "text": [
      " 34%|███▍      | 9269/27262 [24:50<15:22, 19.51it/s]"
     ]
    },
    {
     "name": "stdout",
     "output_type": "stream",
     "text": [
      "Error reading F:/video_classification/2015-11-29 - 15-00 Tottenham 0 - 0 Chelsea/chunk_24/chunk_24.mp3: \n",
      "Error reading F:/video_classification/2015-11-29 - 15-00 Tottenham 0 - 0 Chelsea/chunk_26/chunk_26.mp3: \n",
      "Error reading F:/video_classification/2015-11-29 - 15-00 Tottenham 0 - 0 Chelsea/chunk_27/chunk_27.mp3: \n",
      "Error reading F:/video_classification/2015-11-29 - 15-00 Tottenham 0 - 0 Chelsea/chunk_28/chunk_28.mp3: \n"
     ]
    },
    {
     "name": "stderr",
     "output_type": "stream",
     "text": [
      " 34%|███▍      | 9273/27262 [24:50<15:42, 19.08it/s]"
     ]
    },
    {
     "name": "stdout",
     "output_type": "stream",
     "text": [
      "Error reading F:/video_classification/2015-11-29 - 15-00 Tottenham 0 - 0 Chelsea/chunk_29/chunk_29.mp3: \n",
      "Error reading F:/video_classification/2015-11-29 - 15-00 Tottenham 0 - 0 Chelsea/chunk_30/chunk_30.mp3: \n",
      "Error reading F:/video_classification/2015-11-29 - 15-00 Tottenham 0 - 0 Chelsea/chunk_31/chunk_31.mp3: \n",
      "Error reading F:/video_classification/2015-11-29 - 15-00 Tottenham 0 - 0 Chelsea/chunk_32/chunk_32.mp3: \n"
     ]
    },
    {
     "name": "stderr",
     "output_type": "stream",
     "text": [
      " 34%|███▍      | 9278/27262 [24:51<15:49, 18.93it/s]"
     ]
    },
    {
     "name": "stdout",
     "output_type": "stream",
     "text": [
      "Error reading F:/video_classification/2015-11-29 - 15-00 Tottenham 0 - 0 Chelsea/chunk_33/chunk_33.mp3: \n",
      "Error reading F:/video_classification/2015-11-29 - 15-00 Tottenham 0 - 0 Chelsea/chunk_34/chunk_34.mp3: \n",
      "Error reading F:/video_classification/2015-11-29 - 15-00 Tottenham 0 - 0 Chelsea/chunk_35/chunk_35.mp3: \n",
      "Error reading F:/video_classification/2015-11-29 - 15-00 Tottenham 0 - 0 Chelsea/chunk_36/chunk_36.mp3: \n",
      "Error reading F:/video_classification/2015-11-29 - 15-00 Tottenham 0 - 0 Chelsea/chunk_37/chunk_37.mp3: \n"
     ]
    },
    {
     "name": "stderr",
     "output_type": "stream",
     "text": [
      " 34%|███▍      | 9285/27262 [24:51<12:49, 23.36it/s]"
     ]
    },
    {
     "name": "stdout",
     "output_type": "stream",
     "text": [
      "Error reading F:/video_classification/2015-11-29 - 15-00 Tottenham 0 - 0 Chelsea/chunk_38/chunk_38.mp3: \n",
      "Error reading F:/video_classification/2015-11-29 - 15-00 Tottenham 0 - 0 Chelsea/chunk_39/chunk_39.mp3: \n",
      "Error reading F:/video_classification/2015-11-29 - 15-00 Tottenham 0 - 0 Chelsea/chunk_40/chunk_40.mp3: \n",
      "Error reading F:/video_classification/2015-11-29 - 15-00 Tottenham 0 - 0 Chelsea/chunk_44/chunk_44.mp3: \n"
     ]
    },
    {
     "name": "stderr",
     "output_type": "stream",
     "text": [
      " 34%|███▍      | 9291/27262 [24:51<12:07, 24.69it/s]"
     ]
    },
    {
     "name": "stdout",
     "output_type": "stream",
     "text": [
      "Error reading F:/video_classification/2015-11-29 - 15-00 Tottenham 0 - 0 Chelsea/chunk_45/chunk_45.mp3: \n",
      "Error reading F:/video_classification/2015-11-29 - 15-00 Tottenham 0 - 0 Chelsea/chunk_47/chunk_47.mp3: \n",
      "Error reading F:/video_classification/2015-11-29 - 15-00 Tottenham 0 - 0 Chelsea/chunk_50/chunk_50.mp3: \n",
      "Error reading F:/video_classification/2015-11-29 - 15-00 Tottenham 0 - 0 Chelsea/chunk_51/chunk_51.mp3: \n"
     ]
    },
    {
     "name": "stderr",
     "output_type": "stream",
     "text": [
      " 34%|███▍      | 9294/27262 [24:51<13:37, 21.99it/s]"
     ]
    },
    {
     "name": "stdout",
     "output_type": "stream",
     "text": [
      "Error reading F:/video_classification/2015-11-29 - 15-00 Tottenham 0 - 0 Chelsea/chunk_52/chunk_52.mp3: \n",
      "Error reading F:/video_classification/2015-11-29 - 15-00 Tottenham 0 - 0 Chelsea/chunk_53/chunk_53.mp3: \n",
      "Error reading F:/video_classification/2015-11-29 - 15-00 Tottenham 0 - 0 Chelsea/chunk_56/chunk_56.mp3: \n"
     ]
    },
    {
     "name": "stderr",
     "output_type": "stream",
     "text": [
      " 34%|███▍      | 9298/27262 [24:51<12:56, 23.13it/s]"
     ]
    },
    {
     "name": "stdout",
     "output_type": "stream",
     "text": [
      "Error reading F:/video_classification/2015-11-29 - 15-00 Tottenham 0 - 0 Chelsea/chunk_57/chunk_57.mp3: \n",
      "Error reading F:/video_classification/2015-11-29 - 15-00 Tottenham 0 - 0 Chelsea/chunk_58/chunk_58.mp3: \n",
      "Error reading F:/video_classification/2015-11-29 - 15-00 Tottenham 0 - 0 Chelsea/chunk_59/chunk_59.mp3: \n",
      "Error reading F:/video_classification/2015-11-29 - 15-00 Tottenham 0 - 0 Chelsea/chunk_60/chunk_60.mp3: \n"
     ]
    },
    {
     "name": "stderr",
     "output_type": "stream",
     "text": [
      " 34%|███▍      | 9304/27262 [24:52<14:08, 21.16it/s]"
     ]
    },
    {
     "name": "stdout",
     "output_type": "stream",
     "text": [
      "Error reading F:/video_classification/2015-11-29 - 15-00 Tottenham 0 - 0 Chelsea/chunk_61/chunk_61.mp3: \n",
      "Error reading F:/video_classification/2015-11-29 - 15-00 Tottenham 0 - 0 Chelsea/chunk_62/chunk_62.mp3: \n",
      "Error reading F:/video_classification/2015-11-29 - 15-00 Tottenham 0 - 0 Chelsea/chunk_63/chunk_63.mp3: \n",
      "Error reading F:/video_classification/2015-11-29 - 15-00 Tottenham 0 - 0 Chelsea/chunk_64/chunk_64.mp3: \n"
     ]
    },
    {
     "name": "stderr",
     "output_type": "stream",
     "text": [
      " 34%|███▍      | 9307/27262 [24:52<16:15, 18.40it/s]"
     ]
    },
    {
     "name": "stdout",
     "output_type": "stream",
     "text": [
      "Error reading F:/video_classification/2015-11-29 - 15-00 Tottenham 0 - 0 Chelsea/chunk_65/chunk_65.mp3: \n",
      "Error reading F:/video_classification/2015-11-29 - 15-00 Tottenham 0 - 0 Chelsea/chunk_66/chunk_66.mp3: \n",
      "Error reading F:/video_classification/2015-11-29 - 15-00 Tottenham 0 - 0 Chelsea/chunk_67/chunk_67.mp3: \n"
     ]
    },
    {
     "name": "stderr",
     "output_type": "stream",
     "text": [
      " 34%|███▍      | 9309/27262 [24:52<15:58, 18.73it/s]"
     ]
    },
    {
     "name": "stdout",
     "output_type": "stream",
     "text": [
      "Error reading F:/video_classification/2015-11-29 - 15-00 Tottenham 0 - 0 Chelsea/chunk_68/chunk_68.mp3: \n",
      "Error reading F:/video_classification/2015-11-29 - 15-00 Tottenham 0 - 0 Chelsea/chunk_69/chunk_69.mp3: \n",
      "Error reading F:/video_classification/2015-11-29 - 15-00 Tottenham 0 - 0 Chelsea/chunk_70/chunk_70.mp3: \n",
      "Error reading F:/video_classification/2015-11-29 - 15-00 Tottenham 0 - 0 Chelsea/chunk_71/chunk_71.mp3: \n"
     ]
    },
    {
     "name": "stderr",
     "output_type": "stream",
     "text": [
      " 34%|███▍      | 9314/27262 [24:52<15:33, 19.22it/s]"
     ]
    },
    {
     "name": "stdout",
     "output_type": "stream",
     "text": [
      "Error reading F:/video_classification/2015-11-29 - 15-00 Tottenham 0 - 0 Chelsea/chunk_72/chunk_72.mp3: \n",
      "Error reading F:/video_classification/2015-11-29 - 15-00 Tottenham 0 - 0 Chelsea/chunk_73/chunk_73.mp3: \n",
      "Error reading F:/video_classification/2015-11-29 - 15-00 Tottenham 0 - 0 Chelsea/chunk_74/chunk_74.mp3: \n",
      "Error reading F:/video_classification/2015-11-29 - 15-00 Tottenham 0 - 0 Chelsea/chunk_75/chunk_75.mp3: \n",
      "Error reading F:/video_classification/2015-11-29 - 15-00 Tottenham 0 - 0 Chelsea/chunk_76/chunk_76.mp3: \n"
     ]
    },
    {
     "name": "stderr",
     "output_type": "stream",
     "text": [
      " 34%|███▍      | 9320/27262 [24:53<14:04, 21.24it/s]"
     ]
    },
    {
     "name": "stdout",
     "output_type": "stream",
     "text": [
      "Error reading F:/video_classification/2015-11-29 - 15-00 Tottenham 0 - 0 Chelsea/chunk_77/chunk_77.mp3: \n",
      "Error reading F:/video_classification/2015-11-29 - 15-00 Tottenham 0 - 0 Chelsea/chunk_78/chunk_78.mp3: \n",
      "Error reading F:/video_classification/2015-11-29 - 15-00 Tottenham 0 - 0 Chelsea/chunk_80/chunk_80.mp3: \n",
      "Error reading F:/video_classification/2015-11-29 - 15-00 Tottenham 0 - 0 Chelsea/chunk_81/chunk_81.mp3: \n"
     ]
    },
    {
     "name": "stderr",
     "output_type": "stream",
     "text": [
      " 34%|███▍      | 9326/27262 [24:53<14:32, 20.56it/s]"
     ]
    },
    {
     "name": "stdout",
     "output_type": "stream",
     "text": [
      "Error reading F:/video_classification/2015-11-29 - 15-00 Tottenham 0 - 0 Chelsea/chunk_82/chunk_82.mp3: \n",
      "Error reading F:/video_classification/2015-11-29 - 15-00 Tottenham 0 - 0 Chelsea/chunk_83/chunk_83.mp3: \n",
      "Error reading F:/video_classification/2015-11-29 - 15-00 Tottenham 0 - 0 Chelsea/chunk_84/chunk_84.mp3: \n",
      "Error reading F:/video_classification/2015-11-29 - 15-00 Tottenham 0 - 0 Chelsea/chunk_85/chunk_85.mp3: \n",
      "Error reading F:/video_classification/2015-11-29 - 15-00 Tottenham 0 - 0 Chelsea/chunk_86/chunk_86.mp3: \n"
     ]
    },
    {
     "name": "stderr",
     "output_type": "stream",
     "text": [
      " 34%|███▍      | 9329/27262 [24:53<15:34, 19.19it/s]"
     ]
    },
    {
     "name": "stdout",
     "output_type": "stream",
     "text": [
      "Error reading F:/video_classification/2015-11-29 - 15-00 Tottenham 0 - 0 Chelsea/chunk_87/chunk_87.mp3: \n",
      "Error reading F:/video_classification/2015-11-29 - 15-00 Tottenham 0 - 0 Chelsea/chunk_88/chunk_88.mp3: \n",
      "Error reading F:/video_classification/2015-11-29 - 15-00 Tottenham 0 - 0 Chelsea/chunk_89/chunk_89.mp3: \n",
      "Error reading F:/video_classification/2015-11-29 - 15-00 Tottenham 0 - 0 Chelsea/chunk_90/chunk_90.mp3: \n"
     ]
    },
    {
     "name": "stderr",
     "output_type": "stream",
     "text": [
      " 34%|███▍      | 9332/27262 [24:53<15:26, 19.34it/s]"
     ]
    },
    {
     "name": "stdout",
     "output_type": "stream",
     "text": [
      "Error reading F:/video_classification/2015-11-29 - 15-00 Tottenham 0 - 0 Chelsea/chunk_91/chunk_91.mp3: \n",
      "Error reading F:/video_classification/2015-11-29 - 15-00 Tottenham 0 - 0 Chelsea/chunk_92/chunk_92.mp3: \n",
      "Error reading F:/video_classification/2015-11-29 - 15-00 Tottenham 0 - 0 Chelsea/chunk_93/chunk_93.mp3: \n"
     ]
    },
    {
     "name": "stderr",
     "output_type": "stream",
     "text": [
      " 34%|███▍      | 9340/27262 [24:53<12:00, 24.87it/s]"
     ]
    },
    {
     "name": "stdout",
     "output_type": "stream",
     "text": [
      "Error reading F:/video_classification/2015-11-29 - 15-00 Tottenham 0 - 0 Chelsea/chunk_96/chunk_96.mp3: \n",
      "Error reading F:/video_classification/2015-11-29 - 18-00 Eibar 0 - 2 Real Madrid/chunk_3/chunk_3.mp3: \n"
     ]
    },
    {
     "name": "stderr",
     "output_type": "stream",
     "text": [
      " 34%|███▍      | 9344/27262 [24:54<12:56, 23.08it/s]"
     ]
    },
    {
     "name": "stdout",
     "output_type": "stream",
     "text": [
      "Error reading F:/video_classification/2015-11-29 - 18-00 Eibar 0 - 2 Real Madrid/chunk_6/chunk_6.mp3: \n"
     ]
    },
    {
     "name": "stderr",
     "output_type": "stream",
     "text": [
      " 34%|███▍      | 9351/27262 [24:54<12:28, 23.93it/s]"
     ]
    },
    {
     "name": "stdout",
     "output_type": "stream",
     "text": [
      "Error reading F:/video_classification/2015-11-29 - 18-00 Eibar 0 - 2 Real Madrid/chunk_12/chunk_12.mp3: \n",
      "Error reading F:/video_classification/2015-11-29 - 18-00 Eibar 0 - 2 Real Madrid/chunk_13/chunk_13.mp3: \n",
      "Error reading F:/video_classification/2015-11-29 - 18-00 Eibar 0 - 2 Real Madrid/chunk_14/chunk_14.mp3: \n",
      "Error reading F:/video_classification/2015-11-29 - 18-00 Eibar 0 - 2 Real Madrid/chunk_15/chunk_15.mp3: \n"
     ]
    },
    {
     "name": "stderr",
     "output_type": "stream",
     "text": [
      " 34%|███▍      | 9363/27262 [24:54<09:57, 29.96it/s]"
     ]
    },
    {
     "name": "stdout",
     "output_type": "stream",
     "text": [
      "Error reading F:/video_classification/2015-11-29 - 18-00 Eibar 0 - 2 Real Madrid/chunk_22/chunk_22.mp3: \n",
      "Error reading F:/video_classification/2015-11-29 - 18-00 Eibar 0 - 2 Real Madrid/chunk_23/chunk_23.mp3: \n",
      "Error reading F:/video_classification/2015-11-29 - 18-00 Eibar 0 - 2 Real Madrid/chunk_24/chunk_24.mp3: \n"
     ]
    },
    {
     "name": "stderr",
     "output_type": "stream",
     "text": [
      " 34%|███▍      | 9371/27262 [24:55<10:26, 28.57it/s]"
     ]
    },
    {
     "name": "stdout",
     "output_type": "stream",
     "text": [
      "Error reading F:/video_classification/2015-11-29 - 18-00 Eibar 0 - 2 Real Madrid/chunk_29/chunk_29.mp3: \n",
      "Error reading F:/video_classification/2015-11-29 - 18-00 Eibar 0 - 2 Real Madrid/chunk_31/chunk_31.mp3: \n",
      "Error reading F:/video_classification/2015-11-29 - 18-00 Eibar 0 - 2 Real Madrid/chunk_32/chunk_32.mp3: \n",
      "Error reading F:/video_classification/2015-11-29 - 18-00 Eibar 0 - 2 Real Madrid/chunk_33/chunk_33.mp3: \n"
     ]
    },
    {
     "name": "stderr",
     "output_type": "stream",
     "text": [
      " 34%|███▍      | 9382/27262 [24:55<09:05, 32.78it/s]"
     ]
    },
    {
     "name": "stdout",
     "output_type": "stream",
     "text": [
      "Error reading F:/video_classification/2015-11-29 - 18-00 Eibar 0 - 2 Real Madrid/chunk_41/chunk_41.mp3: \n"
     ]
    },
    {
     "name": "stderr",
     "output_type": "stream",
     "text": [
      " 35%|███▍      | 9538/27262 [25:20<09:52, 29.94it/s]  "
     ]
    },
    {
     "name": "stdout",
     "output_type": "stream",
     "text": [
      "Error reading F:/video_classification/2015-12-09 - 22-45 D. Zagreb 0 - 2 Bayern Munich/chunk_14/chunk_14.mp3: \n",
      "Error reading F:/video_classification/2015-12-09 - 22-45 D. Zagreb 0 - 2 Bayern Munich/chunk_18/chunk_18.mp3: \n",
      "Error reading F:/video_classification/2015-12-09 - 22-45 D. Zagreb 0 - 2 Bayern Munich/chunk_19/chunk_19.mp3: \n"
     ]
    },
    {
     "name": "stderr",
     "output_type": "stream",
     "text": [
      " 35%|███▌      | 9546/27262 [25:20<09:47, 30.16it/s]"
     ]
    },
    {
     "name": "stdout",
     "output_type": "stream",
     "text": [
      "Error reading F:/video_classification/2015-12-09 - 22-45 D. Zagreb 0 - 2 Bayern Munich/chunk_23/chunk_23.mp3: \n",
      "Error reading F:/video_classification/2015-12-09 - 22-45 D. Zagreb 0 - 2 Bayern Munich/chunk_24/chunk_24.mp3: \n",
      "Error reading F:/video_classification/2015-12-09 - 22-45 D. Zagreb 0 - 2 Bayern Munich/chunk_32/chunk_32.mp3: \n"
     ]
    },
    {
     "name": "stderr",
     "output_type": "stream",
     "text": [
      " 35%|███▌      | 9557/27262 [25:20<08:18, 35.51it/s]"
     ]
    },
    {
     "name": "stdout",
     "output_type": "stream",
     "text": [
      "Error reading F:/video_classification/2015-12-09 - 22-45 D. Zagreb 0 - 2 Bayern Munich/chunk_33/chunk_33.mp3: \n",
      "Error reading F:/video_classification/2015-12-09 - 22-45 D. Zagreb 0 - 2 Bayern Munich/chunk_34/chunk_34.mp3: \n",
      "Error reading F:/video_classification/2015-12-09 - 22-45 D. Zagreb 0 - 2 Bayern Munich/chunk_38/chunk_38.mp3: \n"
     ]
    },
    {
     "name": "stderr",
     "output_type": "stream",
     "text": [
      " 35%|███▌      | 9565/27262 [25:21<09:47, 30.11it/s]"
     ]
    },
    {
     "name": "stdout",
     "output_type": "stream",
     "text": [
      "Error reading F:/video_classification/2015-12-09 - 22-45 D. Zagreb 0 - 2 Bayern Munich/chunk_42/chunk_42.mp3: \n",
      "Error reading F:/video_classification/2015-12-09 - 22-45 D. Zagreb 0 - 2 Bayern Munich/chunk_43/chunk_43.mp3: \n"
     ]
    },
    {
     "name": "stderr",
     "output_type": "stream",
     "text": [
      " 35%|███▌      | 9580/27262 [25:21<08:01, 36.72it/s]"
     ]
    },
    {
     "name": "stdout",
     "output_type": "stream",
     "text": [
      "Error reading F:/video_classification/2015-12-09 - 22-45 D. Zagreb 0 - 2 Bayern Munich/chunk_52/chunk_52.mp3: \n",
      "Error reading F:/video_classification/2015-12-09 - 22-45 D. Zagreb 0 - 2 Bayern Munich/chunk_53/chunk_53.mp3: \n",
      "Error reading F:/video_classification/2015-12-09 - 22-45 D. Zagreb 0 - 2 Bayern Munich/chunk_59/chunk_59.mp3: \n"
     ]
    },
    {
     "name": "stderr",
     "output_type": "stream",
     "text": [
      " 35%|███▌      | 9592/27262 [25:21<07:00, 42.01it/s]"
     ]
    },
    {
     "name": "stdout",
     "output_type": "stream",
     "text": [
      "Error reading F:/video_classification/2015-12-09 - 22-45 D. Zagreb 0 - 2 Bayern Munich/chunk_64/chunk_64.mp3: \n"
     ]
    },
    {
     "name": "stderr",
     "output_type": "stream",
     "text": [
      " 35%|███▌      | 9610/27262 [25:22<06:27, 45.52it/s]"
     ]
    },
    {
     "name": "stdout",
     "output_type": "stream",
     "text": [
      "Error reading F:/video_classification/2015-12-09 - 22-45 D. Zagreb 0 - 2 Bayern Munich/chunk_82/chunk_82.mp3: \n"
     ]
    },
    {
     "name": "stderr",
     "output_type": "stream",
     "text": [
      " 35%|███▌      | 9615/27262 [25:22<08:06, 36.27it/s]"
     ]
    },
    {
     "name": "stdout",
     "output_type": "stream",
     "text": [
      "Error reading F:/video_classification/2015-12-12 - 17-30 Bayern Munich 2 - 0 Ingolstadt/chunk_4/chunk_4.mp3: \n",
      "Error reading F:/video_classification/2015-12-12 - 17-30 Bayern Munich 2 - 0 Ingolstadt/chunk_5/chunk_5.mp3: \n",
      "Error reading F:/video_classification/2015-12-12 - 17-30 Bayern Munich 2 - 0 Ingolstadt/chunk_6/chunk_6.mp3: \n",
      "Error reading F:/video_classification/2015-12-12 - 17-30 Bayern Munich 2 - 0 Ingolstadt/chunk_7/chunk_7.mp3: \n"
     ]
    },
    {
     "name": "stderr",
     "output_type": "stream",
     "text": [
      " 35%|███▌      | 9620/27262 [25:22<08:37, 34.06it/s]"
     ]
    },
    {
     "name": "stdout",
     "output_type": "stream",
     "text": [
      "Error reading F:/video_classification/2015-12-12 - 17-30 Bayern Munich 2 - 0 Ingolstadt/chunk_8/chunk_8.mp3: \n",
      "Error reading F:/video_classification/2015-12-12 - 17-30 Bayern Munich 2 - 0 Ingolstadt/chunk_12/chunk_12.mp3: \n",
      "Error reading F:/video_classification/2015-12-12 - 17-30 Bayern Munich 2 - 0 Ingolstadt/chunk_13/chunk_13.mp3: \n"
     ]
    },
    {
     "name": "stderr",
     "output_type": "stream",
     "text": [
      " 35%|███▌      | 9624/27262 [25:22<09:26, 31.11it/s]"
     ]
    },
    {
     "name": "stdout",
     "output_type": "stream",
     "text": [
      "Error reading F:/video_classification/2015-12-12 - 17-30 Bayern Munich 2 - 0 Ingolstadt/chunk_15/chunk_15.mp3: \n",
      "Error reading F:/video_classification/2015-12-12 - 17-30 Bayern Munich 2 - 0 Ingolstadt/chunk_16/chunk_16.mp3: \n",
      "Error reading F:/video_classification/2015-12-12 - 17-30 Bayern Munich 2 - 0 Ingolstadt/chunk_17/chunk_17.mp3: \n",
      "Error reading F:/video_classification/2015-12-12 - 17-30 Bayern Munich 2 - 0 Ingolstadt/chunk_18/chunk_18.mp3: \n",
      "Error reading F:/video_classification/2015-12-12 - 17-30 Bayern Munich 2 - 0 Ingolstadt/chunk_19/chunk_19.mp3: \n"
     ]
    },
    {
     "name": "stderr",
     "output_type": "stream",
     "text": [
      " 35%|███▌      | 9631/27262 [25:22<11:16, 26.07it/s]"
     ]
    },
    {
     "name": "stdout",
     "output_type": "stream",
     "text": [
      "Error reading F:/video_classification/2015-12-12 - 17-30 Bayern Munich 2 - 0 Ingolstadt/chunk_20/chunk_20.mp3: \n",
      "Error reading F:/video_classification/2015-12-12 - 17-30 Bayern Munich 2 - 0 Ingolstadt/chunk_21/chunk_21.mp3: \n",
      "Error reading F:/video_classification/2015-12-12 - 17-30 Bayern Munich 2 - 0 Ingolstadt/chunk_22/chunk_22.mp3: \n"
     ]
    },
    {
     "name": "stderr",
     "output_type": "stream",
     "text": [
      " 35%|███▌      | 9635/27262 [25:23<11:05, 26.49it/s]"
     ]
    },
    {
     "name": "stdout",
     "output_type": "stream",
     "text": [
      "Error reading F:/video_classification/2015-12-12 - 17-30 Bayern Munich 2 - 0 Ingolstadt/chunk_26/chunk_26.mp3: \n",
      "Error reading F:/video_classification/2015-12-12 - 17-30 Bayern Munich 2 - 0 Ingolstadt/chunk_27/chunk_27.mp3: \n",
      "Error reading F:/video_classification/2015-12-12 - 17-30 Bayern Munich 2 - 0 Ingolstadt/chunk_28/chunk_28.mp3: \n"
     ]
    },
    {
     "name": "stderr",
     "output_type": "stream",
     "text": [
      " 35%|███▌      | 9642/27262 [25:23<12:39, 23.19it/s]"
     ]
    },
    {
     "name": "stdout",
     "output_type": "stream",
     "text": [
      "Error reading F:/video_classification/2015-12-12 - 17-30 Bayern Munich 2 - 0 Ingolstadt/chunk_29/chunk_29.mp3: \n",
      "Error reading F:/video_classification/2015-12-12 - 17-30 Bayern Munich 2 - 0 Ingolstadt/chunk_33/chunk_33.mp3: \n",
      "Error reading F:/video_classification/2015-12-12 - 17-30 Bayern Munich 2 - 0 Ingolstadt/chunk_34/chunk_34.mp3: \n"
     ]
    },
    {
     "name": "stderr",
     "output_type": "stream",
     "text": [
      " 35%|███▌      | 9645/27262 [25:23<13:05, 22.43it/s]"
     ]
    },
    {
     "name": "stdout",
     "output_type": "stream",
     "text": [
      "Error reading F:/video_classification/2015-12-12 - 17-30 Bayern Munich 2 - 0 Ingolstadt/chunk_35/chunk_35.mp3: \n",
      "Error reading F:/video_classification/2015-12-12 - 17-30 Bayern Munich 2 - 0 Ingolstadt/chunk_36/chunk_36.mp3: \n",
      "Error reading F:/video_classification/2015-12-12 - 17-30 Bayern Munich 2 - 0 Ingolstadt/chunk_37/chunk_37.mp3: \n",
      "Error reading F:/video_classification/2015-12-12 - 17-30 Bayern Munich 2 - 0 Ingolstadt/chunk_38/chunk_38.mp3: \n"
     ]
    },
    {
     "name": "stderr",
     "output_type": "stream",
     "text": [
      " 35%|███▌      | 9652/27262 [25:23<12:31, 23.43it/s]"
     ]
    },
    {
     "name": "stdout",
     "output_type": "stream",
     "text": [
      "Error reading F:/video_classification/2015-12-12 - 17-30 Bayern Munich 2 - 0 Ingolstadt/chunk_41/chunk_41.mp3: \n",
      "Error reading F:/video_classification/2015-12-12 - 17-30 Bayern Munich 2 - 0 Ingolstadt/chunk_42/chunk_42.mp3: \n",
      "Error reading F:/video_classification/2015-12-12 - 17-30 Bayern Munich 2 - 0 Ingolstadt/chunk_43/chunk_43.mp3: \n",
      "Error reading F:/video_classification/2015-12-12 - 17-30 Bayern Munich 2 - 0 Ingolstadt/chunk_44/chunk_44.mp3: \n"
     ]
    },
    {
     "name": "stderr",
     "output_type": "stream",
     "text": [
      " 35%|███▌      | 9659/27262 [25:24<11:12, 26.18it/s]"
     ]
    },
    {
     "name": "stdout",
     "output_type": "stream",
     "text": [
      "Error reading F:/video_classification/2015-12-12 - 17-30 Bayern Munich 2 - 0 Ingolstadt/chunk_46/chunk_46.mp3: \n",
      "Error reading F:/video_classification/2015-12-12 - 17-30 Bayern Munich 2 - 0 Ingolstadt/chunk_50/chunk_50.mp3: \n",
      "Error reading F:/video_classification/2015-12-12 - 17-30 Bayern Munich 2 - 0 Ingolstadt/chunk_52/chunk_52.mp3: \n"
     ]
    },
    {
     "name": "stderr",
     "output_type": "stream",
     "text": [
      " 35%|███▌      | 9666/27262 [25:24<11:10, 26.23it/s]"
     ]
    },
    {
     "name": "stdout",
     "output_type": "stream",
     "text": [
      "Error reading F:/video_classification/2015-12-12 - 17-30 Bayern Munich 2 - 0 Ingolstadt/chunk_55/chunk_55.mp3: \n",
      "Error reading F:/video_classification/2015-12-12 - 17-30 Bayern Munich 2 - 0 Ingolstadt/chunk_56/chunk_56.mp3: \n",
      "Error reading F:/video_classification/2015-12-12 - 17-30 Bayern Munich 2 - 0 Ingolstadt/chunk_57/chunk_57.mp3: \n",
      "Error reading F:/video_classification/2015-12-12 - 17-30 Bayern Munich 2 - 0 Ingolstadt/chunk_59/chunk_59.mp3: \n"
     ]
    },
    {
     "name": "stderr",
     "output_type": "stream",
     "text": [
      " 35%|███▌      | 9675/27262 [25:24<13:09, 22.26it/s]"
     ]
    },
    {
     "name": "stdout",
     "output_type": "stream",
     "text": [
      "Error reading F:/video_classification/2015-12-12 - 17-30 Bayern Munich 2 - 0 Ingolstadt/chunk_63/chunk_63.mp3: \n",
      "Error reading F:/video_classification/2015-12-12 - 17-30 Bayern Munich 2 - 0 Ingolstadt/chunk_64/chunk_64.mp3: \n",
      "Error reading F:/video_classification/2015-12-12 - 17-30 Bayern Munich 2 - 0 Ingolstadt/chunk_65/chunk_65.mp3: \n",
      "Error reading F:/video_classification/2015-12-12 - 17-30 Bayern Munich 2 - 0 Ingolstadt/chunk_66/chunk_66.mp3: \n",
      "Error reading F:/video_classification/2015-12-12 - 17-30 Bayern Munich 2 - 0 Ingolstadt/chunk_67/chunk_67.mp3: \n"
     ]
    },
    {
     "name": "stderr",
     "output_type": "stream",
     "text": [
      " 36%|███▌      | 9679/27262 [25:24<11:21, 25.79it/s]"
     ]
    },
    {
     "name": "stdout",
     "output_type": "stream",
     "text": [
      "Error reading F:/video_classification/2015-12-12 - 17-30 Bayern Munich 2 - 0 Ingolstadt/chunk_68/chunk_68.mp3: \n",
      "Error reading F:/video_classification/2015-12-12 - 17-30 Bayern Munich 2 - 0 Ingolstadt/chunk_72/chunk_72.mp3: \n",
      "Error reading F:/video_classification/2015-12-12 - 17-30 Bayern Munich 2 - 0 Ingolstadt/chunk_73/chunk_73.mp3: \n"
     ]
    },
    {
     "name": "stderr",
     "output_type": "stream",
     "text": [
      " 36%|███▌      | 9685/27262 [25:25<12:29, 23.46it/s]"
     ]
    },
    {
     "name": "stdout",
     "output_type": "stream",
     "text": [
      "Error reading F:/video_classification/2015-12-12 - 17-30 Bayern Munich 2 - 0 Ingolstadt/chunk_74/chunk_74.mp3: \n",
      "Error reading F:/video_classification/2015-12-12 - 17-30 Bayern Munich 2 - 0 Ingolstadt/chunk_76/chunk_76.mp3: \n",
      "Error reading F:/video_classification/2015-12-12 - 17-30 Bayern Munich 2 - 0 Ingolstadt/chunk_77/chunk_77.mp3: \n",
      "Error reading F:/video_classification/2015-12-12 - 17-30 Bayern Munich 2 - 0 Ingolstadt/chunk_78/chunk_78.mp3: \n"
     ]
    },
    {
     "name": "stderr",
     "output_type": "stream",
     "text": [
      " 36%|███▌      | 9688/27262 [25:25<12:58, 22.58it/s]"
     ]
    },
    {
     "name": "stdout",
     "output_type": "stream",
     "text": [
      "Error reading F:/video_classification/2015-12-12 - 17-30 Bayern Munich 2 - 0 Ingolstadt/chunk_79/chunk_79.mp3: \n",
      "Error reading F:/video_classification/2015-12-12 - 17-30 Bayern Munich 2 - 0 Ingolstadt/chunk_80/chunk_80.mp3: \n",
      "Error reading F:/video_classification/2015-12-12 - 17-30 Bayern Munich 2 - 0 Ingolstadt/chunk_81/chunk_81.mp3: \n",
      "Error reading F:/video_classification/2015-12-12 - 17-30 Bayern Munich 2 - 0 Ingolstadt/chunk_82/chunk_82.mp3: \n"
     ]
    },
    {
     "name": "stderr",
     "output_type": "stream",
     "text": [
      " 36%|███▌      | 9694/27262 [25:25<13:46, 21.25it/s]"
     ]
    },
    {
     "name": "stdout",
     "output_type": "stream",
     "text": [
      "Error reading F:/video_classification/2015-12-12 - 17-30 Bayern Munich 2 - 0 Ingolstadt/chunk_83/chunk_83.mp3: \n",
      "Error reading F:/video_classification/2015-12-12 - 17-30 Bayern Munich 2 - 0 Ingolstadt/chunk_84/chunk_84.mp3: \n",
      "Error reading F:/video_classification/2015-12-12 - 17-30 Bayern Munich 2 - 0 Ingolstadt/chunk_85/chunk_85.mp3: \n",
      "Error reading F:/video_classification/2015-12-12 - 17-30 Bayern Munich 2 - 0 Ingolstadt/chunk_86/chunk_86.mp3: \n"
     ]
    },
    {
     "name": "stderr",
     "output_type": "stream",
     "text": [
      " 36%|███▌      | 9697/27262 [25:25<13:58, 20.94it/s]"
     ]
    },
    {
     "name": "stdout",
     "output_type": "stream",
     "text": [
      "Error reading F:/video_classification/2015-12-12 - 17-30 Bayern Munich 2 - 0 Ingolstadt/chunk_87/chunk_87.mp3: \n",
      "Error reading F:/video_classification/2015-12-12 - 17-30 Bayern Munich 2 - 0 Ingolstadt/chunk_89/chunk_89.mp3: \n"
     ]
    },
    {
     "name": "stderr",
     "output_type": "stream",
     "text": [
      " 36%|███▌      | 9793/27262 [25:43<20:43, 14.05it/s]  "
     ]
    },
    {
     "name": "stdout",
     "output_type": "stream",
     "text": [
      "Error reading F:/video_classification/2015-12-26 - 18-00 Manchester City 4 - 1 Sunderland/chunk_1/chunk_1.mp3: \n",
      "Error reading F:/video_classification/2015-12-26 - 18-00 Manchester City 4 - 1 Sunderland/chunk_2/chunk_2.mp3: \n",
      "Error reading F:/video_classification/2015-12-26 - 18-00 Manchester City 4 - 1 Sunderland/chunk_3/chunk_3.mp3: \n",
      "Error reading F:/video_classification/2015-12-26 - 18-00 Manchester City 4 - 1 Sunderland/chunk_4/chunk_4.mp3: \n"
     ]
    },
    {
     "name": "stderr",
     "output_type": "stream",
     "text": [
      " 36%|███▌      | 9798/27262 [25:43<17:31, 16.61it/s]"
     ]
    },
    {
     "name": "stdout",
     "output_type": "stream",
     "text": [
      "Error reading F:/video_classification/2015-12-26 - 18-00 Manchester City 4 - 1 Sunderland/chunk_7/chunk_7.mp3: \n",
      "Error reading F:/video_classification/2015-12-26 - 18-00 Manchester City 4 - 1 Sunderland/chunk_8/chunk_8.mp3: \n",
      "Error reading F:/video_classification/2015-12-26 - 18-00 Manchester City 4 - 1 Sunderland/chunk_9/chunk_9.mp3: \n",
      "Error reading F:/video_classification/2015-12-26 - 18-00 Manchester City 4 - 1 Sunderland/chunk_10/chunk_10.mp3: \n"
     ]
    },
    {
     "name": "stderr",
     "output_type": "stream",
     "text": [
      " 36%|███▌      | 9805/27262 [25:43<13:21, 21.78it/s]"
     ]
    },
    {
     "name": "stdout",
     "output_type": "stream",
     "text": [
      "Error reading F:/video_classification/2015-12-26 - 18-00 Manchester City 4 - 1 Sunderland/chunk_11/chunk_11.mp3: \n",
      "Error reading F:/video_classification/2015-12-26 - 18-00 Manchester City 4 - 1 Sunderland/chunk_13/chunk_13.mp3: \n",
      "Error reading F:/video_classification/2015-12-26 - 18-00 Manchester City 4 - 1 Sunderland/chunk_15/chunk_15.mp3: \n",
      "Error reading F:/video_classification/2015-12-26 - 18-00 Manchester City 4 - 1 Sunderland/chunk_17/chunk_17.mp3: \n"
     ]
    },
    {
     "name": "stderr",
     "output_type": "stream",
     "text": [
      " 36%|███▌      | 9808/27262 [25:44<14:58, 19.43it/s]"
     ]
    },
    {
     "name": "stdout",
     "output_type": "stream",
     "text": [
      "Error reading F:/video_classification/2015-12-26 - 18-00 Manchester City 4 - 1 Sunderland/chunk_18/chunk_18.mp3: \n",
      "Error reading F:/video_classification/2015-12-26 - 18-00 Manchester City 4 - 1 Sunderland/chunk_19/chunk_19.mp3: \n",
      "Error reading F:/video_classification/2015-12-26 - 18-00 Manchester City 4 - 1 Sunderland/chunk_20/chunk_20.mp3: \n",
      "Error reading F:/video_classification/2015-12-26 - 18-00 Manchester City 4 - 1 Sunderland/chunk_21/chunk_21.mp3: \n"
     ]
    },
    {
     "name": "stderr",
     "output_type": "stream",
     "text": [
      " 36%|███▌      | 9814/27262 [25:44<14:52, 19.54it/s]"
     ]
    },
    {
     "name": "stdout",
     "output_type": "stream",
     "text": [
      "Error reading F:/video_classification/2015-12-26 - 18-00 Manchester City 4 - 1 Sunderland/chunk_22/chunk_22.mp3: \n",
      "Error reading F:/video_classification/2015-12-26 - 18-00 Manchester City 4 - 1 Sunderland/chunk_23/chunk_23.mp3: \n",
      "Error reading F:/video_classification/2015-12-26 - 18-00 Manchester City 4 - 1 Sunderland/chunk_24/chunk_24.mp3: \n",
      "Error reading F:/video_classification/2015-12-26 - 18-00 Manchester City 4 - 1 Sunderland/chunk_25/chunk_25.mp3: \n",
      "Error reading F:/video_classification/2015-12-26 - 18-00 Manchester City 4 - 1 Sunderland/chunk_26/chunk_26.mp3: \n"
     ]
    },
    {
     "name": "stderr",
     "output_type": "stream",
     "text": [
      " 36%|███▌      | 9820/27262 [25:44<13:53, 20.92it/s]"
     ]
    },
    {
     "name": "stdout",
     "output_type": "stream",
     "text": [
      "Error reading F:/video_classification/2015-12-26 - 18-00 Manchester City 4 - 1 Sunderland/chunk_28/chunk_28.mp3: \n",
      "Error reading F:/video_classification/2015-12-26 - 18-00 Manchester City 4 - 1 Sunderland/chunk_29/chunk_29.mp3: \n",
      "Error reading F:/video_classification/2015-12-26 - 18-00 Manchester City 4 - 1 Sunderland/chunk_30/chunk_30.mp3: \n",
      "Error reading F:/video_classification/2015-12-26 - 18-00 Manchester City 4 - 1 Sunderland/chunk_31/chunk_31.mp3: \n",
      "Error reading F:/video_classification/2015-12-26 - 18-00 Manchester City 4 - 1 Sunderland/chunk_32/chunk_32.mp3: \n"
     ]
    },
    {
     "name": "stderr",
     "output_type": "stream",
     "text": [
      " 36%|███▌      | 9824/27262 [25:44<12:15, 23.71it/s]"
     ]
    },
    {
     "name": "stdout",
     "output_type": "stream",
     "text": [
      "Error reading F:/video_classification/2015-12-26 - 18-00 Manchester City 4 - 1 Sunderland/chunk_33/chunk_33.mp3: \n",
      "Error reading F:/video_classification/2015-12-26 - 18-00 Manchester City 4 - 1 Sunderland/chunk_37/chunk_37.mp3: \n",
      "Error reading F:/video_classification/2015-12-26 - 18-00 Manchester City 4 - 1 Sunderland/chunk_38/chunk_38.mp3: \n"
     ]
    },
    {
     "name": "stderr",
     "output_type": "stream",
     "text": [
      " 36%|███▌      | 9830/27262 [25:45<13:54, 20.88it/s]"
     ]
    },
    {
     "name": "stdout",
     "output_type": "stream",
     "text": [
      "Error reading F:/video_classification/2015-12-26 - 18-00 Manchester City 4 - 1 Sunderland/chunk_39/chunk_39.mp3: \n",
      "Error reading F:/video_classification/2015-12-26 - 18-00 Manchester City 4 - 1 Sunderland/chunk_40/chunk_40.mp3: \n",
      "Error reading F:/video_classification/2015-12-26 - 18-00 Manchester City 4 - 1 Sunderland/chunk_41/chunk_41.mp3: \n",
      "Error reading F:/video_classification/2015-12-26 - 18-00 Manchester City 4 - 1 Sunderland/chunk_42/chunk_42.mp3: \n"
     ]
    },
    {
     "name": "stderr",
     "output_type": "stream",
     "text": [
      " 36%|███▌      | 9833/27262 [25:45<14:35, 19.91it/s]"
     ]
    },
    {
     "name": "stdout",
     "output_type": "stream",
     "text": [
      "Error reading F:/video_classification/2015-12-26 - 18-00 Manchester City 4 - 1 Sunderland/chunk_43/chunk_43.mp3: \n",
      "Error reading F:/video_classification/2015-12-26 - 18-00 Manchester City 4 - 1 Sunderland/chunk_44/chunk_44.mp3: \n",
      "Error reading F:/video_classification/2015-12-26 - 18-00 Manchester City 4 - 1 Sunderland/chunk_45/chunk_45.mp3: \n",
      "Error reading F:/video_classification/2015-12-26 - 18-00 Manchester City 4 - 1 Sunderland/chunk_47/chunk_47.mp3: \n"
     ]
    },
    {
     "name": "stderr",
     "output_type": "stream",
     "text": [
      " 36%|███▌      | 9841/27262 [25:45<11:48, 24.59it/s]"
     ]
    },
    {
     "name": "stdout",
     "output_type": "stream",
     "text": [
      "Error reading F:/video_classification/2015-12-26 - 18-00 Manchester City 4 - 1 Sunderland/chunk_50/chunk_50.mp3: \n",
      "Error reading F:/video_classification/2015-12-26 - 18-00 Manchester City 4 - 1 Sunderland/chunk_52/chunk_52.mp3: \n",
      "Error reading F:/video_classification/2015-12-26 - 18-00 Manchester City 4 - 1 Sunderland/chunk_53/chunk_53.mp3: \n",
      "Error reading F:/video_classification/2015-12-26 - 18-00 Manchester City 4 - 1 Sunderland/chunk_54/chunk_54.mp3: \n"
     ]
    },
    {
     "name": "stderr",
     "output_type": "stream",
     "text": [
      " 36%|███▌      | 9847/27262 [25:45<12:31, 23.17it/s]"
     ]
    },
    {
     "name": "stdout",
     "output_type": "stream",
     "text": [
      "Error reading F:/video_classification/2015-12-26 - 18-00 Manchester City 4 - 1 Sunderland/chunk_55/chunk_55.mp3: \n",
      "Error reading F:/video_classification/2015-12-26 - 18-00 Manchester City 4 - 1 Sunderland/chunk_57/chunk_57.mp3: \n",
      "Error reading F:/video_classification/2015-12-26 - 18-00 Manchester City 4 - 1 Sunderland/chunk_58/chunk_58.mp3: \n",
      "Error reading F:/video_classification/2015-12-26 - 18-00 Manchester City 4 - 1 Sunderland/chunk_59/chunk_59.mp3: \n",
      "Error reading F:/video_classification/2015-12-26 - 18-00 Manchester City 4 - 1 Sunderland/chunk_60/chunk_60.mp3: \n"
     ]
    },
    {
     "name": "stderr",
     "output_type": "stream",
     "text": [
      " 36%|███▌      | 9853/27262 [25:46<13:12, 21.97it/s]"
     ]
    },
    {
     "name": "stdout",
     "output_type": "stream",
     "text": [
      "Error reading F:/video_classification/2015-12-26 - 18-00 Manchester City 4 - 1 Sunderland/chunk_62/chunk_62.mp3: \n",
      "Error reading F:/video_classification/2015-12-26 - 18-00 Manchester City 4 - 1 Sunderland/chunk_63/chunk_63.mp3: \n",
      "Error reading F:/video_classification/2015-12-26 - 18-00 Manchester City 4 - 1 Sunderland/chunk_64/chunk_64.mp3: \n",
      "Error reading F:/video_classification/2015-12-26 - 18-00 Manchester City 4 - 1 Sunderland/chunk_65/chunk_65.mp3: \n"
     ]
    },
    {
     "name": "stderr",
     "output_type": "stream",
     "text": [
      " 36%|███▌      | 9856/27262 [25:46<13:34, 21.38it/s]"
     ]
    },
    {
     "name": "stdout",
     "output_type": "stream",
     "text": [
      "Error reading F:/video_classification/2015-12-26 - 18-00 Manchester City 4 - 1 Sunderland/chunk_66/chunk_66.mp3: \n",
      "Error reading F:/video_classification/2015-12-26 - 18-00 Manchester City 4 - 1 Sunderland/chunk_67/chunk_67.mp3: \n",
      "Error reading F:/video_classification/2015-12-26 - 18-00 Manchester City 4 - 1 Sunderland/chunk_68/chunk_68.mp3: \n",
      "Error reading F:/video_classification/2015-12-26 - 18-00 Manchester City 4 - 1 Sunderland/chunk_69/chunk_69.mp3: \n"
     ]
    },
    {
     "name": "stderr",
     "output_type": "stream",
     "text": [
      " 36%|███▌      | 9862/27262 [25:46<14:03, 20.64it/s]"
     ]
    },
    {
     "name": "stdout",
     "output_type": "stream",
     "text": [
      "Error reading F:/video_classification/2015-12-26 - 18-00 Manchester City 4 - 1 Sunderland/chunk_70/chunk_70.mp3: \n",
      "Error reading F:/video_classification/2015-12-26 - 18-00 Manchester City 4 - 1 Sunderland/chunk_71/chunk_71.mp3: \n",
      "Error reading F:/video_classification/2015-12-26 - 18-00 Manchester City 4 - 1 Sunderland/chunk_72/chunk_72.mp3: \n",
      "Error reading F:/video_classification/2015-12-26 - 18-00 Manchester City 4 - 1 Sunderland/chunk_73/chunk_73.mp3: \n",
      "Error reading F:/video_classification/2015-12-26 - 18-00 Manchester City 4 - 1 Sunderland/chunk_74/chunk_74.mp3: \n"
     ]
    },
    {
     "name": "stderr",
     "output_type": "stream",
     "text": [
      " 36%|███▌      | 9865/27262 [25:46<14:06, 20.54it/s]"
     ]
    },
    {
     "name": "stdout",
     "output_type": "stream",
     "text": [
      "Error reading F:/video_classification/2015-12-26 - 18-00 Manchester City 4 - 1 Sunderland/chunk_75/chunk_75.mp3: \n",
      "Error reading F:/video_classification/2015-12-26 - 18-00 Manchester City 4 - 1 Sunderland/chunk_76/chunk_76.mp3: \n",
      "Error reading F:/video_classification/2015-12-26 - 18-00 Manchester City 4 - 1 Sunderland/chunk_77/chunk_77.mp3: \n",
      "Error reading F:/video_classification/2015-12-26 - 18-00 Manchester City 4 - 1 Sunderland/chunk_78/chunk_78.mp3: \n"
     ]
    },
    {
     "name": "stderr",
     "output_type": "stream",
     "text": [
      " 36%|███▌      | 9871/27262 [25:46<13:39, 21.22it/s]"
     ]
    },
    {
     "name": "stdout",
     "output_type": "stream",
     "text": [
      "Error reading F:/video_classification/2015-12-26 - 18-00 Manchester City 4 - 1 Sunderland/chunk_79/chunk_79.mp3: \n",
      "Error reading F:/video_classification/2015-12-26 - 18-00 Manchester City 4 - 1 Sunderland/chunk_80/chunk_80.mp3: \n",
      "Error reading F:/video_classification/2015-12-26 - 18-00 Manchester City 4 - 1 Sunderland/chunk_81/chunk_81.mp3: \n",
      "Error reading F:/video_classification/2015-12-26 - 18-00 Manchester City 4 - 1 Sunderland/chunk_82/chunk_82.mp3: \n"
     ]
    },
    {
     "name": "stderr",
     "output_type": "stream",
     "text": [
      " 36%|███▌      | 9874/27262 [25:47<14:47, 19.59it/s]"
     ]
    },
    {
     "name": "stdout",
     "output_type": "stream",
     "text": [
      "Error reading F:/video_classification/2015-12-26 - 18-00 Manchester City 4 - 1 Sunderland/chunk_84/chunk_84.mp3: \n",
      "Error reading F:/video_classification/2015-12-26 - 18-00 Manchester City 4 - 1 Sunderland/chunk_85/chunk_85.mp3: \n",
      "Error reading F:/video_classification/2015-12-26 - 18-00 Manchester City 4 - 1 Sunderland/chunk_86/chunk_86.mp3: \n",
      "Error reading F:/video_classification/2015-12-26 - 18-00 Manchester City 4 - 1 Sunderland/chunk_87/chunk_87.mp3: \n"
     ]
    },
    {
     "name": "stderr",
     "output_type": "stream",
     "text": [
      " 36%|███▌      | 9876/27262 [25:47<14:45, 19.63it/s]"
     ]
    },
    {
     "name": "stdout",
     "output_type": "stream",
     "text": [
      "Error reading F:/video_classification/2015-12-26 - 18-00 Manchester City 4 - 1 Sunderland/chunk_88/chunk_88.mp3: \n",
      "Error reading F:/video_classification/2015-12-26 - 18-00 Manchester City 4 - 1 Sunderland/chunk_89/chunk_89.mp3: \n"
     ]
    },
    {
     "name": "stderr",
     "output_type": "stream",
     "text": [
      " 37%|███▋      | 10066/27262 [26:21<14:56, 19.19it/s] "
     ]
    },
    {
     "name": "stdout",
     "output_type": "stream",
     "text": [
      "Error reading F:/video_classification/2016-01-24 - 22-30 Betis 1 - 1 Real Madrid/chunk_3/chunk_3.mp3: \n",
      "Error reading F:/video_classification/2016-01-24 - 22-30 Betis 1 - 1 Real Madrid/chunk_8/chunk_8.mp3: \n"
     ]
    },
    {
     "name": "stderr",
     "output_type": "stream",
     "text": [
      " 37%|███▋      | 10073/27262 [26:21<11:42, 24.48it/s]"
     ]
    },
    {
     "name": "stdout",
     "output_type": "stream",
     "text": [
      "Error reading F:/video_classification/2016-01-24 - 22-30 Betis 1 - 1 Real Madrid/chunk_11/chunk_11.mp3: \n",
      "Error reading F:/video_classification/2016-01-24 - 22-30 Betis 1 - 1 Real Madrid/chunk_14/chunk_14.mp3: \n"
     ]
    },
    {
     "name": "stderr",
     "output_type": "stream",
     "text": [
      " 37%|███▋      | 10085/27262 [26:21<08:09, 35.11it/s]"
     ]
    },
    {
     "name": "stdout",
     "output_type": "stream",
     "text": [
      "Error reading F:/video_classification/2016-01-24 - 22-30 Betis 1 - 1 Real Madrid/chunk_20/chunk_20.mp3: \n",
      "Error reading F:/video_classification/2016-01-24 - 22-30 Betis 1 - 1 Real Madrid/chunk_27/chunk_27.mp3: \n"
     ]
    },
    {
     "name": "stderr",
     "output_type": "stream",
     "text": [
      " 37%|███▋      | 10094/27262 [26:22<07:24, 38.64it/s]"
     ]
    },
    {
     "name": "stdout",
     "output_type": "stream",
     "text": [
      "Error reading F:/video_classification/2016-01-24 - 22-30 Betis 1 - 1 Real Madrid/chunk_31/chunk_31.mp3: \n",
      "Error reading F:/video_classification/2016-01-24 - 22-30 Betis 1 - 1 Real Madrid/chunk_36/chunk_36.mp3: \n",
      "Error reading F:/video_classification/2016-01-24 - 22-30 Betis 1 - 1 Real Madrid/chunk_37/chunk_37.mp3: \n"
     ]
    },
    {
     "name": "stderr",
     "output_type": "stream",
     "text": [
      " 37%|███▋      | 10098/27262 [26:22<08:44, 32.75it/s]"
     ]
    },
    {
     "name": "stdout",
     "output_type": "stream",
     "text": [
      "Error reading F:/video_classification/2016-01-24 - 22-30 Betis 1 - 1 Real Madrid/chunk_38/chunk_38.mp3: \n",
      "Error reading F:/video_classification/2016-01-24 - 22-30 Betis 1 - 1 Real Madrid/chunk_39/chunk_39.mp3: \n"
     ]
    },
    {
     "name": "stderr",
     "output_type": "stream",
     "text": [
      " 37%|███▋      | 10109/27262 [26:22<07:10, 39.80it/s]"
     ]
    },
    {
     "name": "stdout",
     "output_type": "stream",
     "text": [
      "Error reading F:/video_classification/2016-01-24 - 22-30 Betis 1 - 1 Real Madrid/chunk_46/chunk_46.mp3: \n",
      "Error reading F:/video_classification/2016-01-24 - 22-30 Betis 1 - 1 Real Madrid/chunk_47/chunk_47.mp3: \n"
     ]
    },
    {
     "name": "stderr",
     "output_type": "stream",
     "text": [
      " 37%|███▋      | 10123/27262 [26:22<06:30, 43.90it/s]"
     ]
    },
    {
     "name": "stdout",
     "output_type": "stream",
     "text": [
      "Error reading F:/video_classification/2016-01-24 - 22-30 Betis 1 - 1 Real Madrid/chunk_58/chunk_58.mp3: \n",
      "Error reading F:/video_classification/2016-01-24 - 22-30 Betis 1 - 1 Real Madrid/chunk_65/chunk_65.mp3: \n"
     ]
    },
    {
     "name": "stderr",
     "output_type": "stream",
     "text": [
      " 37%|███▋      | 10128/27262 [26:22<08:05, 35.28it/s]"
     ]
    },
    {
     "name": "stdout",
     "output_type": "stream",
     "text": [
      "Error reading F:/video_classification/2016-01-24 - 22-30 Betis 1 - 1 Real Madrid/chunk_67/chunk_67.mp3: \n",
      "Error reading F:/video_classification/2016-01-24 - 22-30 Betis 1 - 1 Real Madrid/chunk_68/chunk_68.mp3: \n",
      "Error reading F:/video_classification/2016-01-24 - 22-30 Betis 1 - 1 Real Madrid/chunk_70/chunk_70.mp3: \n",
      "Error reading F:/video_classification/2016-01-24 - 22-30 Betis 1 - 1 Real Madrid/chunk_71/chunk_71.mp3: \n"
     ]
    },
    {
     "name": "stderr",
     "output_type": "stream",
     "text": [
      " 37%|███▋      | 10138/27262 [26:23<08:07, 35.12it/s]"
     ]
    },
    {
     "name": "stdout",
     "output_type": "stream",
     "text": [
      "Error reading F:/video_classification/2016-01-24 - 22-30 Betis 1 - 1 Real Madrid/chunk_74/chunk_74.mp3: \n"
     ]
    },
    {
     "name": "stderr",
     "output_type": "stream",
     "text": [
      " 37%|███▋      | 10142/27262 [26:23<09:02, 31.53it/s]"
     ]
    },
    {
     "name": "stdout",
     "output_type": "stream",
     "text": [
      "Error reading F:/video_classification/2016-01-24 - 22-30 Betis 1 - 1 Real Madrid/chunk_82/chunk_82.mp3: \n",
      "Error reading F:/video_classification/2016-01-24 - 22-30 Betis 1 - 1 Real Madrid/chunk_83/chunk_83.mp3: \n",
      "Error reading F:/video_classification/2016-01-24 - 22-30 Betis 1 - 1 Real Madrid/chunk_84/chunk_84.mp3: \n",
      "Error reading F:/video_classification/2016-01-24 - 22-30 Betis 1 - 1 Real Madrid/chunk_85/chunk_85.mp3: \n"
     ]
    },
    {
     "name": "stderr",
     "output_type": "stream",
     "text": [
      " 37%|███▋      | 10146/27262 [26:23<08:58, 31.76it/s]"
     ]
    },
    {
     "name": "stdout",
     "output_type": "stream",
     "text": [
      "Error reading F:/video_classification/2016-01-24 - 22-30 Betis 1 - 1 Real Madrid/chunk_88/chunk_88.mp3: \n",
      "Error reading F:/video_classification/2016-01-24 - 22-30 Betis 1 - 1 Real Madrid/chunk_91/chunk_91.mp3: \n"
     ]
    },
    {
     "name": "stderr",
     "output_type": "stream",
     "text": [
      " 38%|███▊      | 10248/27262 [26:41<14:09, 20.04it/s]  "
     ]
    },
    {
     "name": "stdout",
     "output_type": "stream",
     "text": [
      "Error reading F:/video_classification/2016-01-31 - 22-30 Real Madrid 6 - 0 Espanyol/chunk_4/chunk_4.mp3: \n"
     ]
    },
    {
     "name": "stderr",
     "output_type": "stream",
     "text": [
      " 38%|███▊      | 10254/27262 [26:41<10:01, 28.30it/s]"
     ]
    },
    {
     "name": "stdout",
     "output_type": "stream",
     "text": [
      "Error reading F:/video_classification/2016-01-31 - 22-30 Real Madrid 6 - 0 Espanyol/chunk_15/chunk_15.mp3: \n",
      "Error reading F:/video_classification/2016-01-31 - 22-30 Real Madrid 6 - 0 Espanyol/chunk_17/chunk_17.mp3: \n"
     ]
    },
    {
     "name": "stderr",
     "output_type": "stream",
     "text": [
      " 38%|███▊      | 10270/27262 [26:41<07:38, 37.10it/s]"
     ]
    },
    {
     "name": "stdout",
     "output_type": "stream",
     "text": [
      "Error reading F:/video_classification/2016-01-31 - 22-30 Real Madrid 6 - 0 Espanyol/chunk_22/chunk_22.mp3: \n"
     ]
    },
    {
     "name": "stderr",
     "output_type": "stream",
     "text": [
      " 38%|███▊      | 10302/27262 [26:42<05:37, 50.18it/s]"
     ]
    },
    {
     "name": "stdout",
     "output_type": "stream",
     "text": [
      "Error reading F:/video_classification/2016-01-31 - 22-30 Real Madrid 6 - 0 Espanyol/chunk_58/chunk_58.mp3: \n",
      "Error reading F:/video_classification/2016-01-31 - 22-30 Real Madrid 6 - 0 Espanyol/chunk_62/chunk_62.mp3: \n"
     ]
    },
    {
     "name": "stderr",
     "output_type": "stream",
     "text": [
      " 38%|███▊      | 10318/27262 [26:42<05:00, 56.38it/s]"
     ]
    },
    {
     "name": "stdout",
     "output_type": "stream",
     "text": [
      "Error reading F:/video_classification/2016-01-31 - 22-30 Real Madrid 6 - 0 Espanyol/chunk_79/chunk_79.mp3: \n"
     ]
    },
    {
     "name": "stderr",
     "output_type": "stream",
     "text": [
      " 38%|███▊      | 10424/27262 [27:00<37:58,  7.39it/s]"
     ]
    },
    {
     "name": "stdout",
     "output_type": "stream",
     "text": [
      "Error reading F:/video_classification/2016-02-07 - 22-30 Granada CF 1 - 2 Real Madrid/chunk_0/chunk_0.mp3: \n",
      "Error reading F:/video_classification/2016-02-07 - 22-30 Granada CF 1 - 2 Real Madrid/chunk_1/chunk_1.mp3: \n",
      "Error reading F:/video_classification/2016-02-07 - 22-30 Granada CF 1 - 2 Real Madrid/chunk_3/chunk_3.mp3: \n"
     ]
    },
    {
     "name": "stderr",
     "output_type": "stream",
     "text": [
      " 38%|███▊      | 10430/27262 [27:00<20:26, 13.72it/s]"
     ]
    },
    {
     "name": "stdout",
     "output_type": "stream",
     "text": [
      "Error reading F:/video_classification/2016-02-07 - 22-30 Granada CF 1 - 2 Real Madrid/chunk_4/chunk_4.mp3: \n",
      "Error reading F:/video_classification/2016-02-07 - 22-30 Granada CF 1 - 2 Real Madrid/chunk_5/chunk_5.mp3: \n",
      "Error reading F:/video_classification/2016-02-07 - 22-30 Granada CF 1 - 2 Real Madrid/chunk_6/chunk_6.mp3: \n",
      "Error reading F:/video_classification/2016-02-07 - 22-30 Granada CF 1 - 2 Real Madrid/chunk_7/chunk_7.mp3: \n"
     ]
    },
    {
     "name": "stderr",
     "output_type": "stream",
     "text": [
      " 38%|███▊      | 10437/27262 [27:00<13:33, 20.67it/s]"
     ]
    },
    {
     "name": "stdout",
     "output_type": "stream",
     "text": [
      "Error reading F:/video_classification/2016-02-07 - 22-30 Granada CF 1 - 2 Real Madrid/chunk_10/chunk_10.mp3: \n",
      "Error reading F:/video_classification/2016-02-07 - 22-30 Granada CF 1 - 2 Real Madrid/chunk_13/chunk_13.mp3: \n",
      "Error reading F:/video_classification/2016-02-07 - 22-30 Granada CF 1 - 2 Real Madrid/chunk_14/chunk_14.mp3: \n",
      "Error reading F:/video_classification/2016-02-07 - 22-30 Granada CF 1 - 2 Real Madrid/chunk_15/chunk_15.mp3: \n"
     ]
    },
    {
     "name": "stderr",
     "output_type": "stream",
     "text": [
      " 38%|███▊      | 10443/27262 [27:01<13:56, 20.11it/s]"
     ]
    },
    {
     "name": "stdout",
     "output_type": "stream",
     "text": [
      "Error reading F:/video_classification/2016-02-07 - 22-30 Granada CF 1 - 2 Real Madrid/chunk_16/chunk_16.mp3: \n",
      "Error reading F:/video_classification/2016-02-07 - 22-30 Granada CF 1 - 2 Real Madrid/chunk_17/chunk_17.mp3: \n",
      "Error reading F:/video_classification/2016-02-07 - 22-30 Granada CF 1 - 2 Real Madrid/chunk_18/chunk_18.mp3: \n",
      "Error reading F:/video_classification/2016-02-07 - 22-30 Granada CF 1 - 2 Real Madrid/chunk_19/chunk_19.mp3: \n",
      "Error reading F:/video_classification/2016-02-07 - 22-30 Granada CF 1 - 2 Real Madrid/chunk_20/chunk_20.mp3: \n"
     ]
    },
    {
     "name": "stderr",
     "output_type": "stream",
     "text": [
      " 38%|███▊      | 10446/27262 [27:01<13:35, 20.62it/s]"
     ]
    },
    {
     "name": "stdout",
     "output_type": "stream",
     "text": [
      "Error reading F:/video_classification/2016-02-07 - 22-30 Granada CF 1 - 2 Real Madrid/chunk_21/chunk_21.mp3: \n",
      "Error reading F:/video_classification/2016-02-07 - 22-30 Granada CF 1 - 2 Real Madrid/chunk_23/chunk_23.mp3: \n",
      "Error reading F:/video_classification/2016-02-07 - 22-30 Granada CF 1 - 2 Real Madrid/chunk_24/chunk_24.mp3: \n",
      "Error reading F:/video_classification/2016-02-07 - 22-30 Granada CF 1 - 2 Real Madrid/chunk_25/chunk_25.mp3: \n"
     ]
    },
    {
     "name": "stderr",
     "output_type": "stream",
     "text": [
      " 38%|███▊      | 10452/27262 [27:01<13:40, 20.50it/s]"
     ]
    },
    {
     "name": "stdout",
     "output_type": "stream",
     "text": [
      "Error reading F:/video_classification/2016-02-07 - 22-30 Granada CF 1 - 2 Real Madrid/chunk_26/chunk_26.mp3: \n",
      "Error reading F:/video_classification/2016-02-07 - 22-30 Granada CF 1 - 2 Real Madrid/chunk_27/chunk_27.mp3: \n",
      "Error reading F:/video_classification/2016-02-07 - 22-30 Granada CF 1 - 2 Real Madrid/chunk_28/chunk_28.mp3: \n",
      "Error reading F:/video_classification/2016-02-07 - 22-30 Granada CF 1 - 2 Real Madrid/chunk_29/chunk_29.mp3: \n",
      "Error reading F:/video_classification/2016-02-07 - 22-30 Granada CF 1 - 2 Real Madrid/chunk_30/chunk_30.mp3: \n"
     ]
    },
    {
     "name": "stderr",
     "output_type": "stream",
     "text": [
      " 38%|███▊      | 10458/27262 [27:01<13:43, 20.40it/s]"
     ]
    },
    {
     "name": "stdout",
     "output_type": "stream",
     "text": [
      "Error reading F:/video_classification/2016-02-07 - 22-30 Granada CF 1 - 2 Real Madrid/chunk_31/chunk_31.mp3: \n",
      "Error reading F:/video_classification/2016-02-07 - 22-30 Granada CF 1 - 2 Real Madrid/chunk_32/chunk_32.mp3: \n",
      "Error reading F:/video_classification/2016-02-07 - 22-30 Granada CF 1 - 2 Real Madrid/chunk_33/chunk_33.mp3: \n",
      "Error reading F:/video_classification/2016-02-07 - 22-30 Granada CF 1 - 2 Real Madrid/chunk_34/chunk_34.mp3: \n",
      "Error reading F:/video_classification/2016-02-07 - 22-30 Granada CF 1 - 2 Real Madrid/chunk_35/chunk_35.mp3: \n"
     ]
    },
    {
     "name": "stderr",
     "output_type": "stream",
     "text": [
      " 38%|███▊      | 10461/27262 [27:02<13:46, 20.32it/s]"
     ]
    },
    {
     "name": "stdout",
     "output_type": "stream",
     "text": [
      "Error reading F:/video_classification/2016-02-07 - 22-30 Granada CF 1 - 2 Real Madrid/chunk_36/chunk_36.mp3: \n",
      "Error reading F:/video_classification/2016-02-07 - 22-30 Granada CF 1 - 2 Real Madrid/chunk_37/chunk_37.mp3: \n",
      "Error reading F:/video_classification/2016-02-07 - 22-30 Granada CF 1 - 2 Real Madrid/chunk_38/chunk_38.mp3: \n",
      "Error reading F:/video_classification/2016-02-07 - 22-30 Granada CF 1 - 2 Real Madrid/chunk_39/chunk_39.mp3: \n",
      "Error reading F:/video_classification/2016-02-07 - 22-30 Granada CF 1 - 2 Real Madrid/chunk_40/chunk_40.mp3: \n"
     ]
    },
    {
     "name": "stderr",
     "output_type": "stream",
     "text": [
      " 38%|███▊      | 10467/27262 [27:02<13:28, 20.76it/s]"
     ]
    },
    {
     "name": "stdout",
     "output_type": "stream",
     "text": [
      "Error reading F:/video_classification/2016-02-07 - 22-30 Granada CF 1 - 2 Real Madrid/chunk_41/chunk_41.mp3: \n",
      "Error reading F:/video_classification/2016-02-07 - 22-30 Granada CF 1 - 2 Real Madrid/chunk_42/chunk_42.mp3: \n",
      "Error reading F:/video_classification/2016-02-07 - 22-30 Granada CF 1 - 2 Real Madrid/chunk_44/chunk_44.mp3: \n",
      "Error reading F:/video_classification/2016-02-07 - 22-30 Granada CF 1 - 2 Real Madrid/chunk_45/chunk_45.mp3: \n"
     ]
    },
    {
     "name": "stderr",
     "output_type": "stream",
     "text": [
      " 38%|███▊      | 10473/27262 [27:02<12:25, 22.52it/s]"
     ]
    },
    {
     "name": "stdout",
     "output_type": "stream",
     "text": [
      "Error reading F:/video_classification/2016-02-07 - 22-30 Granada CF 1 - 2 Real Madrid/chunk_46/chunk_46.mp3: \n",
      "Error reading F:/video_classification/2016-02-07 - 22-30 Granada CF 1 - 2 Real Madrid/chunk_49/chunk_49.mp3: \n",
      "Error reading F:/video_classification/2016-02-07 - 22-30 Granada CF 1 - 2 Real Madrid/chunk_50/chunk_50.mp3: \n",
      "Error reading F:/video_classification/2016-02-07 - 22-30 Granada CF 1 - 2 Real Madrid/chunk_51/chunk_51.mp3: \n"
     ]
    },
    {
     "name": "stderr",
     "output_type": "stream",
     "text": [
      " 38%|███▊      | 10476/27262 [27:02<12:57, 21.60it/s]"
     ]
    },
    {
     "name": "stdout",
     "output_type": "stream",
     "text": [
      "Error reading F:/video_classification/2016-02-07 - 22-30 Granada CF 1 - 2 Real Madrid/chunk_52/chunk_52.mp3: \n",
      "Error reading F:/video_classification/2016-02-07 - 22-30 Granada CF 1 - 2 Real Madrid/chunk_53/chunk_53.mp3: \n",
      "Error reading F:/video_classification/2016-02-07 - 22-30 Granada CF 1 - 2 Real Madrid/chunk_54/chunk_54.mp3: \n",
      "Error reading F:/video_classification/2016-02-07 - 22-30 Granada CF 1 - 2 Real Madrid/chunk_55/chunk_55.mp3: \n",
      "Error reading F:/video_classification/2016-02-07 - 22-30 Granada CF 1 - 2 Real Madrid/chunk_56/chunk_56.mp3: \n"
     ]
    },
    {
     "name": "stderr",
     "output_type": "stream",
     "text": [
      " 38%|███▊      | 10482/27262 [27:03<13:43, 20.37it/s]"
     ]
    },
    {
     "name": "stdout",
     "output_type": "stream",
     "text": [
      "Error reading F:/video_classification/2016-02-07 - 22-30 Granada CF 1 - 2 Real Madrid/chunk_57/chunk_57.mp3: \n",
      "Error reading F:/video_classification/2016-02-07 - 22-30 Granada CF 1 - 2 Real Madrid/chunk_58/chunk_58.mp3: \n",
      "Error reading F:/video_classification/2016-02-07 - 22-30 Granada CF 1 - 2 Real Madrid/chunk_59/chunk_59.mp3: \n",
      "Error reading F:/video_classification/2016-02-07 - 22-30 Granada CF 1 - 2 Real Madrid/chunk_60/chunk_60.mp3: \n",
      "Error reading F:/video_classification/2016-02-07 - 22-30 Granada CF 1 - 2 Real Madrid/chunk_61/chunk_61.mp3: \n"
     ]
    },
    {
     "name": "stderr",
     "output_type": "stream",
     "text": [
      " 38%|███▊      | 10488/27262 [27:03<13:10, 21.22it/s]"
     ]
    },
    {
     "name": "stdout",
     "output_type": "stream",
     "text": [
      "Error reading F:/video_classification/2016-02-07 - 22-30 Granada CF 1 - 2 Real Madrid/chunk_62/chunk_62.mp3: \n",
      "Error reading F:/video_classification/2016-02-07 - 22-30 Granada CF 1 - 2 Real Madrid/chunk_63/chunk_63.mp3: \n",
      "Error reading F:/video_classification/2016-02-07 - 22-30 Granada CF 1 - 2 Real Madrid/chunk_66/chunk_66.mp3: \n"
     ]
    },
    {
     "name": "stderr",
     "output_type": "stream",
     "text": [
      " 38%|███▊      | 10491/27262 [27:03<14:17, 19.56it/s]"
     ]
    },
    {
     "name": "stdout",
     "output_type": "stream",
     "text": [
      "Error reading F:/video_classification/2016-02-07 - 22-30 Granada CF 1 - 2 Real Madrid/chunk_67/chunk_67.mp3: \n",
      "Error reading F:/video_classification/2016-02-07 - 22-30 Granada CF 1 - 2 Real Madrid/chunk_68/chunk_68.mp3: \n",
      "Error reading F:/video_classification/2016-02-07 - 22-30 Granada CF 1 - 2 Real Madrid/chunk_69/chunk_69.mp3: \n",
      "Error reading F:/video_classification/2016-02-07 - 22-30 Granada CF 1 - 2 Real Madrid/chunk_70/chunk_70.mp3: \n"
     ]
    },
    {
     "name": "stderr",
     "output_type": "stream",
     "text": [
      " 39%|███▊      | 10497/27262 [27:03<14:05, 19.84it/s]"
     ]
    },
    {
     "name": "stdout",
     "output_type": "stream",
     "text": [
      "Error reading F:/video_classification/2016-02-07 - 22-30 Granada CF 1 - 2 Real Madrid/chunk_71/chunk_71.mp3: \n",
      "Error reading F:/video_classification/2016-02-07 - 22-30 Granada CF 1 - 2 Real Madrid/chunk_72/chunk_72.mp3: \n",
      "Error reading F:/video_classification/2016-02-07 - 22-30 Granada CF 1 - 2 Real Madrid/chunk_73/chunk_73.mp3: \n",
      "Error reading F:/video_classification/2016-02-07 - 22-30 Granada CF 1 - 2 Real Madrid/chunk_74/chunk_74.mp3: \n",
      "Error reading F:/video_classification/2016-02-07 - 22-30 Granada CF 1 - 2 Real Madrid/chunk_75/chunk_75.mp3: \n"
     ]
    },
    {
     "name": "stderr",
     "output_type": "stream",
     "text": [
      " 39%|███▊      | 10503/27262 [27:04<12:30, 22.33it/s]"
     ]
    },
    {
     "name": "stdout",
     "output_type": "stream",
     "text": [
      "Error reading F:/video_classification/2016-02-07 - 22-30 Granada CF 1 - 2 Real Madrid/chunk_76/chunk_76.mp3: \n",
      "Error reading F:/video_classification/2016-02-07 - 22-30 Granada CF 1 - 2 Real Madrid/chunk_79/chunk_79.mp3: \n",
      "Error reading F:/video_classification/2016-02-07 - 22-30 Granada CF 1 - 2 Real Madrid/chunk_80/chunk_80.mp3: \n",
      "Error reading F:/video_classification/2016-02-07 - 22-30 Granada CF 1 - 2 Real Madrid/chunk_81/chunk_81.mp3: \n"
     ]
    },
    {
     "name": "stderr",
     "output_type": "stream",
     "text": [
      " 39%|███▊      | 10509/27262 [27:04<13:15, 21.06it/s]"
     ]
    },
    {
     "name": "stdout",
     "output_type": "stream",
     "text": [
      "Error reading F:/video_classification/2016-02-07 - 22-30 Granada CF 1 - 2 Real Madrid/chunk_82/chunk_82.mp3: \n",
      "Error reading F:/video_classification/2016-02-07 - 22-30 Granada CF 1 - 2 Real Madrid/chunk_83/chunk_83.mp3: \n",
      "Error reading F:/video_classification/2016-02-07 - 22-30 Granada CF 1 - 2 Real Madrid/chunk_84/chunk_84.mp3: \n",
      "Error reading F:/video_classification/2016-02-07 - 22-30 Granada CF 1 - 2 Real Madrid/chunk_85/chunk_85.mp3: \n",
      "Error reading F:/video_classification/2016-02-07 - 22-30 Granada CF 1 - 2 Real Madrid/chunk_86/chunk_86.mp3: \n"
     ]
    },
    {
     "name": "stderr",
     "output_type": "stream",
     "text": [
      " 39%|███▊      | 10512/27262 [27:04<13:41, 20.38it/s]"
     ]
    },
    {
     "name": "stdout",
     "output_type": "stream",
     "text": [
      "Error reading F:/video_classification/2016-02-07 - 22-30 Granada CF 1 - 2 Real Madrid/chunk_87/chunk_87.mp3: \n",
      "Error reading F:/video_classification/2016-02-07 - 22-30 Granada CF 1 - 2 Real Madrid/chunk_88/chunk_88.mp3: \n",
      "Error reading F:/video_classification/2016-02-07 - 22-30 Granada CF 1 - 2 Real Madrid/chunk_89/chunk_89.mp3: \n"
     ]
    },
    {
     "name": "stderr",
     "output_type": "stream",
     "text": [
      " 39%|███▉      | 10612/27262 [27:22<13:43, 20.22it/s]  "
     ]
    },
    {
     "name": "stdout",
     "output_type": "stream",
     "text": [
      "Error reading F:/video_classification/2016-02-21 - 18-00 Malaga 1 - 1 Real Madrid/chunk_5/chunk_5.mp3: \n",
      "Error reading F:/video_classification/2016-02-21 - 18-00 Malaga 1 - 1 Real Madrid/chunk_10/chunk_10.mp3: \n"
     ]
    },
    {
     "name": "stderr",
     "output_type": "stream",
     "text": [
      " 39%|███▉      | 10633/27262 [27:23<07:12, 38.46it/s]"
     ]
    },
    {
     "name": "stdout",
     "output_type": "stream",
     "text": [
      "Error reading F:/video_classification/2016-02-21 - 18-00 Malaga 1 - 1 Real Madrid/chunk_24/chunk_24.mp3: \n",
      "Error reading F:/video_classification/2016-02-21 - 18-00 Malaga 1 - 1 Real Madrid/chunk_26/chunk_26.mp3: \n"
     ]
    },
    {
     "name": "stderr",
     "output_type": "stream",
     "text": [
      " 39%|███▉      | 10646/27262 [27:23<05:58, 46.29it/s]"
     ]
    },
    {
     "name": "stdout",
     "output_type": "stream",
     "text": [
      "Error reading F:/video_classification/2016-02-21 - 18-00 Malaga 1 - 1 Real Madrid/chunk_32/chunk_32.mp3: \n",
      "Error reading F:/video_classification/2016-02-21 - 18-00 Malaga 1 - 1 Real Madrid/chunk_42/chunk_42.mp3: \n"
     ]
    },
    {
     "name": "stderr",
     "output_type": "stream",
     "text": [
      " 39%|███▉      | 10675/27262 [27:24<07:03, 39.16it/s]"
     ]
    },
    {
     "name": "stdout",
     "output_type": "stream",
     "text": [
      "Error reading F:/video_classification/2016-02-21 - 18-00 Malaga 1 - 1 Real Madrid/chunk_65/chunk_65.mp3: \n",
      "Error reading F:/video_classification/2016-02-21 - 18-00 Malaga 1 - 1 Real Madrid/chunk_68/chunk_68.mp3: \n",
      "Error reading F:/video_classification/2016-02-21 - 18-00 Malaga 1 - 1 Real Madrid/chunk_72/chunk_72.mp3: \n"
     ]
    },
    {
     "name": "stderr",
     "output_type": "stream",
     "text": [
      " 40%|███▉      | 10878/27262 [27:59<20:39, 13.22it/s]  "
     ]
    },
    {
     "name": "stdout",
     "output_type": "stream",
     "text": [
      "Error reading F:/video_classification/2016-03-05 - 18-00 Real Madrid 7 - 1 Celta Vigo/chunk_0/chunk_0.mp3: \n",
      "Error reading F:/video_classification/2016-03-05 - 18-00 Real Madrid 7 - 1 Celta Vigo/chunk_1/chunk_1.mp3: \n"
     ]
    },
    {
     "name": "stderr",
     "output_type": "stream",
     "text": [
      " 40%|███▉      | 10887/27262 [28:00<11:36, 23.52it/s]"
     ]
    },
    {
     "name": "stdout",
     "output_type": "stream",
     "text": [
      "Error reading F:/video_classification/2016-03-05 - 18-00 Real Madrid 7 - 1 Celta Vigo/chunk_10/chunk_10.mp3: \n",
      "Error reading F:/video_classification/2016-03-05 - 18-00 Real Madrid 7 - 1 Celta Vigo/chunk_11/chunk_11.mp3: \n",
      "Error reading F:/video_classification/2016-03-05 - 18-00 Real Madrid 7 - 1 Celta Vigo/chunk_13/chunk_13.mp3: \n"
     ]
    },
    {
     "name": "stderr",
     "output_type": "stream",
     "text": [
      " 40%|███▉      | 10903/27262 [28:00<07:05, 38.45it/s]"
     ]
    },
    {
     "name": "stdout",
     "output_type": "stream",
     "text": [
      "Error reading F:/video_classification/2016-03-05 - 18-00 Real Madrid 7 - 1 Celta Vigo/chunk_23/chunk_23.mp3: \n",
      "Error reading F:/video_classification/2016-03-05 - 18-00 Real Madrid 7 - 1 Celta Vigo/chunk_28/chunk_28.mp3: \n"
     ]
    },
    {
     "name": "stderr",
     "output_type": "stream",
     "text": [
      " 40%|████      | 10913/27262 [28:00<08:20, 32.68it/s]"
     ]
    },
    {
     "name": "stdout",
     "output_type": "stream",
     "text": [
      "Error reading F:/video_classification/2016-03-05 - 18-00 Real Madrid 7 - 1 Celta Vigo/chunk_36/chunk_36.mp3: \n",
      "Error reading F:/video_classification/2016-03-05 - 18-00 Real Madrid 7 - 1 Celta Vigo/chunk_37/chunk_37.mp3: \n",
      "Error reading F:/video_classification/2016-03-05 - 18-00 Real Madrid 7 - 1 Celta Vigo/chunk_38/chunk_38.mp3: \n",
      "Error reading F:/video_classification/2016-03-05 - 18-00 Real Madrid 7 - 1 Celta Vigo/chunk_39/chunk_39.mp3: \n"
     ]
    },
    {
     "name": "stderr",
     "output_type": "stream",
     "text": [
      " 40%|████      | 10922/27262 [28:00<08:09, 33.41it/s]"
     ]
    },
    {
     "name": "stdout",
     "output_type": "stream",
     "text": [
      "Error reading F:/video_classification/2016-03-05 - 18-00 Real Madrid 7 - 1 Celta Vigo/chunk_40/chunk_40.mp3: \n",
      "Error reading F:/video_classification/2016-03-05 - 18-00 Real Madrid 7 - 1 Celta Vigo/chunk_47/chunk_47.mp3: \n",
      "Error reading F:/video_classification/2016-03-05 - 18-00 Real Madrid 7 - 1 Celta Vigo/chunk_48/chunk_48.mp3: \n",
      "Error reading F:/video_classification/2016-03-05 - 18-00 Real Madrid 7 - 1 Celta Vigo/chunk_49/chunk_49.mp3: \n",
      "Error reading F:/video_classification/2016-03-05 - 18-00 Real Madrid 7 - 1 Celta Vigo/chunk_50/chunk_50.mp3: \n"
     ]
    },
    {
     "name": "stderr",
     "output_type": "stream",
     "text": [
      " 40%|████      | 10932/27262 [28:01<08:41, 31.33it/s]"
     ]
    },
    {
     "name": "stdout",
     "output_type": "stream",
     "text": [
      "Error reading F:/video_classification/2016-03-05 - 18-00 Real Madrid 7 - 1 Celta Vigo/chunk_52/chunk_52.mp3: \n"
     ]
    },
    {
     "name": "stderr",
     "output_type": "stream",
     "text": [
      " 40%|████      | 10944/27262 [28:01<07:13, 37.61it/s]"
     ]
    },
    {
     "name": "stdout",
     "output_type": "stream",
     "text": [
      "Error reading F:/video_classification/2016-03-05 - 18-00 Real Madrid 7 - 1 Celta Vigo/chunk_64/chunk_64.mp3: \n",
      "Error reading F:/video_classification/2016-03-05 - 18-00 Real Madrid 7 - 1 Celta Vigo/chunk_70/chunk_70.mp3: \n"
     ]
    },
    {
     "name": "stderr",
     "output_type": "stream",
     "text": [
      " 40%|████      | 10965/27262 [28:02<06:22, 42.58it/s]"
     ]
    },
    {
     "name": "stdout",
     "output_type": "stream",
     "text": [
      "Error reading F:/video_classification/2016-03-05 - 18-00 Real Madrid 7 - 1 Celta Vigo/chunk_86/chunk_86.mp3: \n"
     ]
    },
    {
     "name": "stderr",
     "output_type": "stream",
     "text": [
      " 40%|████      | 10970/27262 [28:02<06:28, 41.91it/s]"
     ]
    },
    {
     "name": "stdout",
     "output_type": "stream",
     "text": [
      "Error reading F:/video_classification/2016-03-13 - 22-30 Las Palmas 1 - 2 Real Madrid/chunk_3/chunk_3.mp3: \n"
     ]
    },
    {
     "name": "stderr",
     "output_type": "stream",
     "text": [
      " 40%|████      | 10986/27262 [28:02<05:08, 52.84it/s]"
     ]
    },
    {
     "name": "stdout",
     "output_type": "stream",
     "text": [
      "Error reading F:/video_classification/2016-03-13 - 22-30 Las Palmas 1 - 2 Real Madrid/chunk_14/chunk_14.mp3: \n",
      "Error reading F:/video_classification/2016-03-13 - 22-30 Las Palmas 1 - 2 Real Madrid/chunk_24/chunk_24.mp3: \n"
     ]
    },
    {
     "name": "stderr",
     "output_type": "stream",
     "text": [
      " 40%|████      | 10992/27262 [28:02<06:19, 42.88it/s]"
     ]
    },
    {
     "name": "stdout",
     "output_type": "stream",
     "text": [
      "Error reading F:/video_classification/2016-03-13 - 22-30 Las Palmas 1 - 2 Real Madrid/chunk_27/chunk_27.mp3: \n",
      "Error reading F:/video_classification/2016-03-13 - 22-30 Las Palmas 1 - 2 Real Madrid/chunk_32/chunk_32.mp3: \n"
     ]
    },
    {
     "name": "stderr",
     "output_type": "stream",
     "text": [
      " 40%|████      | 11003/27262 [28:02<06:18, 42.91it/s]"
     ]
    },
    {
     "name": "stdout",
     "output_type": "stream",
     "text": [
      "Error reading F:/video_classification/2016-03-13 - 22-30 Las Palmas 1 - 2 Real Madrid/chunk_33/chunk_33.mp3: \n"
     ]
    },
    {
     "name": "stderr",
     "output_type": "stream",
     "text": [
      " 40%|████      | 11014/27262 [28:03<06:58, 38.85it/s]"
     ]
    },
    {
     "name": "stdout",
     "output_type": "stream",
     "text": [
      "Error reading F:/video_classification/2016-03-13 - 22-30 Las Palmas 1 - 2 Real Madrid/chunk_47/chunk_47.mp3: \n",
      "Error reading F:/video_classification/2016-03-13 - 22-30 Las Palmas 1 - 2 Real Madrid/chunk_48/chunk_48.mp3: \n",
      "Error reading F:/video_classification/2016-03-13 - 22-30 Las Palmas 1 - 2 Real Madrid/chunk_49/chunk_49.mp3: \n",
      "Error reading F:/video_classification/2016-03-13 - 22-30 Las Palmas 1 - 2 Real Madrid/chunk_52/chunk_52.mp3: \n"
     ]
    },
    {
     "name": "stderr",
     "output_type": "stream",
     "text": [
      " 40%|████      | 11029/27262 [28:03<06:50, 39.51it/s]"
     ]
    },
    {
     "name": "stdout",
     "output_type": "stream",
     "text": [
      "Error reading F:/video_classification/2016-03-13 - 22-30 Las Palmas 1 - 2 Real Madrid/chunk_59/chunk_59.mp3: \n",
      "Error reading F:/video_classification/2016-03-13 - 22-30 Las Palmas 1 - 2 Real Madrid/chunk_63/chunk_63.mp3: \n"
     ]
    },
    {
     "name": "stderr",
     "output_type": "stream",
     "text": [
      " 40%|████      | 11034/27262 [28:03<08:37, 31.38it/s]"
     ]
    },
    {
     "name": "stdout",
     "output_type": "stream",
     "text": [
      "Error reading F:/video_classification/2016-03-13 - 22-30 Las Palmas 1 - 2 Real Madrid/chunk_67/chunk_67.mp3: \n",
      "Error reading F:/video_classification/2016-03-13 - 22-30 Las Palmas 1 - 2 Real Madrid/chunk_68/chunk_68.mp3: \n",
      "Error reading F:/video_classification/2016-03-13 - 22-30 Las Palmas 1 - 2 Real Madrid/chunk_69/chunk_69.mp3: \n",
      "Error reading F:/video_classification/2016-03-13 - 22-30 Las Palmas 1 - 2 Real Madrid/chunk_70/chunk_70.mp3: \n"
     ]
    },
    {
     "name": "stderr",
     "output_type": "stream",
     "text": [
      " 41%|████      | 11046/27262 [28:04<08:25, 32.08it/s]"
     ]
    },
    {
     "name": "stdout",
     "output_type": "stream",
     "text": [
      "Error reading F:/video_classification/2016-03-13 - 22-30 Las Palmas 1 - 2 Real Madrid/chunk_78/chunk_78.mp3: \n",
      "Error reading F:/video_classification/2016-03-13 - 22-30 Las Palmas 1 - 2 Real Madrid/chunk_79/chunk_79.mp3: \n",
      "Error reading F:/video_classification/2016-03-13 - 22-30 Las Palmas 1 - 2 Real Madrid/chunk_83/chunk_83.mp3: \n",
      "Error reading F:/video_classification/2016-03-13 - 22-30 Las Palmas 1 - 2 Real Madrid/chunk_84/chunk_84.mp3: \n"
     ]
    },
    {
     "name": "stderr",
     "output_type": "stream",
     "text": [
      " 41%|████      | 11050/27262 [28:04<09:02, 29.88it/s]"
     ]
    },
    {
     "name": "stdout",
     "output_type": "stream",
     "text": [
      "Error reading F:/video_classification/2016-03-13 - 22-30 Las Palmas 1 - 2 Real Madrid/chunk_85/chunk_85.mp3: \n",
      "Error reading F:/video_classification/2016-03-13 - 22-30 Las Palmas 1 - 2 Real Madrid/chunk_87/chunk_87.mp3: \n",
      "Error reading F:/video_classification/2016-03-13 - 22-30 Las Palmas 1 - 2 Real Madrid/chunk_89/chunk_89.mp3: \n"
     ]
    },
    {
     "name": "stderr",
     "output_type": "stream",
     "text": [
      " 85%|████████▍ | 23122/27262 [1:05:50<05:54, 11.67it/s]"
     ]
    },
    {
     "name": "stdout",
     "output_type": "stream",
     "text": [
      "Error reading F:/video_classification/2017-03-04 - 18-15 Eibar 1 - 4 Real Madrid/chunk_38/chunk_38.mp3: \n",
      "Error reading F:/video_classification/2017-03-04 - 18-15 Eibar 1 - 4 Real Madrid/chunk_39/chunk_39.mp3: \n",
      "Error reading F:/video_classification/2017-03-04 - 18-15 Eibar 1 - 4 Real Madrid/chunk_40/chunk_40.mp3: \n",
      "Error reading F:/video_classification/2017-03-04 - 18-15 Eibar 1 - 4 Real Madrid/chunk_41/chunk_41.mp3: \n",
      "Error reading F:/video_classification/2017-03-04 - 18-15 Eibar 1 - 4 Real Madrid/chunk_42/chunk_42.mp3: \n"
     ]
    },
    {
     "name": "stderr",
     "output_type": "stream",
     "text": [
      " 85%|████████▍ | 23124/27262 [1:05:50<05:09, 13.36it/s]"
     ]
    },
    {
     "name": "stdout",
     "output_type": "stream",
     "text": [
      "Error reading F:/video_classification/2017-03-04 - 18-15 Eibar 1 - 4 Real Madrid/chunk_43/chunk_43.mp3: \n",
      "Error reading F:/video_classification/2017-03-04 - 18-15 Eibar 1 - 4 Real Madrid/chunk_44/chunk_44.mp3: \n"
     ]
    },
    {
     "name": "stderr",
     "output_type": "stream",
     "text": [
      "100%|██████████| 27262/27262 [1:18:02<00:00,  5.82it/s]\n"
     ]
    }
   ],
   "source": [
    "import librosa\n",
    "import json\n",
    "import os\n",
    "from tqdm import tqdm\n",
    "output_file = \"invalid_audio_files.jsonl\"\n",
    "\n",
    "\n",
    "# Nếu file đã tồn tại thì xóa để ghi mới từ đầu\n",
    "if os.path.exists(output_file):\n",
    "    os.remove(output_file)\n",
    "\n",
    "# Mở file để ghi từng dòng (JSON Lines)\n",
    "with open(output_file, \"a\", encoding=\"utf-8\") as f:\n",
    "    for audio_path in tqdm(check_dataset['audio_id']):\n",
    "        try:\n",
    "            y, sr = librosa.load(audio_path, sr=None)\n",
    "        except Exception as e:\n",
    "            print(f\"Error reading {audio_path}: {e}\")\n",
    "            error_entry = {\n",
    "                \"audio_id\": audio_path,\n",
    "                \"error\": str(e)\n",
    "            }\n",
    "            # Ghi từng dòng JSON và thêm ký tự xuống dòng\n",
    "            f.write(json.dumps(error_entry, ensure_ascii=False) + \"\\n\")\n",
    "            f.flush()  # Đảm bảo dữ liệu được ghi ngay lập tức vào file\n"
   ]
  },
  {
   "cell_type": "code",
   "execution_count": 18,
   "metadata": {},
   "outputs": [],
   "source": [
    "import json \n",
    "\n",
    "with open(\"invalid_audio_files.jsonl\", mode = \"r\") as f:\n",
    "    error_list = f.readlines()\n",
    "error_list = [json.loads(line) for line in error_list]\n",
    "\n",
    "errors = []\n",
    "for er in error_list:\n",
    "    errors.append(er['audio_id'])\n",
    "\n",
    "check_dataset = check_dataset[['video_id','audio_id', 'label']]\n",
    "check_dataset = check_dataset[~check_dataset['audio_id'].isin(errors)]   \n",
    "check_dataset.to_csv(\"./data/event_va_dataset.csv\", index = False, sep = \";\")"
   ]
  },
  {
   "cell_type": "code",
   "execution_count": null,
   "metadata": {},
   "outputs": [],
   "source": []
  },
  {
   "cell_type": "code",
   "execution_count": null,
   "metadata": {},
   "outputs": [],
   "source": []
  }
 ],
 "metadata": {
  "kernelspec": {
   "display_name": "Python 3",
   "language": "python",
   "name": "python3"
  },
  "language_info": {
   "codemirror_mode": {
    "name": "ipython",
    "version": 3
   },
   "file_extension": ".py",
   "mimetype": "text/x-python",
   "name": "python",
   "nbconvert_exporter": "python",
   "pygments_lexer": "ipython3",
   "version": "3.10.16"
  }
 },
 "nbformat": 4,
 "nbformat_minor": 2
}
