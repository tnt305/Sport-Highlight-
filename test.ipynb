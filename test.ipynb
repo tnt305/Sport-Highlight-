{
 "cells": [
  {
   "cell_type": "code",
   "execution_count": 15,
   "metadata": {},
   "outputs": [
    {
     "name": "stdout",
     "output_type": "stream",
     "text": [
      "Drop path rate: 0.0\n",
      "No L_MHRA: False\n",
      "Double L_MHRA: True\n",
      "Init zero for Conv in pos_emb\n",
      "Init zero for Conv in pos_emb\n",
      "Drop path rate: 0.0\n",
      "No L_MHRA: False\n",
      "Double L_MHRA: True\n",
      "Init zero for Conv in pos_emb\n",
      "Init zero for Conv in pos_emb\n",
      "Drop path rate: 0.0\n",
      "No L_MHRA: False\n",
      "Double L_MHRA: True\n",
      "Init zero for Conv in pos_emb\n",
      "Init zero for Conv in pos_emb\n",
      "Drop path rate: 0.0\n",
      "No L_MHRA: False\n",
      "Double L_MHRA: True\n",
      "Init zero for Conv in pos_emb\n",
      "Init zero for Conv in pos_emb\n",
      "Drop path rate: 0.0\n",
      "No L_MHRA: False\n",
      "Double L_MHRA: True\n",
      "Init zero for Conv in pos_emb\n",
      "Init zero for Conv in pos_emb\n",
      "Drop path rate: 0.0\n",
      "No L_MHRA: False\n",
      "Double L_MHRA: True\n",
      "Init zero for Conv in pos_emb\n",
      "Init zero for Conv in pos_emb\n",
      "Drop path rate: 0.0\n",
      "No L_MHRA: False\n",
      "Double L_MHRA: True\n",
      "Init zero for Conv in pos_emb\n",
      "Init zero for Conv in pos_emb\n",
      "Drop path rate: 0.0\n",
      "No L_MHRA: False\n",
      "Double L_MHRA: True\n",
      "Init zero for Conv in pos_emb\n",
      "Init zero for Conv in pos_emb\n",
      "Drop path rate: 0.0\n",
      "No L_MHRA: False\n",
      "Double L_MHRA: True\n",
      "Init zero for Conv in pos_emb\n",
      "Init zero for Conv in pos_emb\n",
      "Drop path rate: 0.0\n",
      "No L_MHRA: False\n",
      "Double L_MHRA: True\n",
      "Init zero for Conv in pos_emb\n",
      "Init zero for Conv in pos_emb\n",
      "Drop path rate: 0.0\n",
      "No L_MHRA: False\n",
      "Double L_MHRA: True\n",
      "Init zero for Conv in pos_emb\n",
      "Init zero for Conv in pos_emb\n",
      "Drop path rate: 0.0\n",
      "No L_MHRA: False\n",
      "Double L_MHRA: True\n",
      "Init zero for Conv in pos_emb\n",
      "Init zero for Conv in pos_emb\n",
      "Use checkpoint: False\n",
      "Checkpoint number: [0]\n",
      "Drop path rate: 0.0\n",
      "Drop path rate: 0.0\n",
      "Drop path rate: 0.0\n",
      "Drop path rate: 0.0\n"
     ]
    },
    {
     "data": {
      "text/plain": [
       "_IncompatibleKeys(missing_keys=['original_model.class_embedding', 'original_model.positional_embedding', 'original_model.conv1.weight', 'original_model.ln_pre.weight', 'original_model.ln_pre.bias', 'original_model.transformer.temporal_cls_token', 'original_model.transformer.balance', 'original_model.transformer.resblocks.0.lmhra1.pos_embed.0.weight', 'original_model.transformer.resblocks.0.lmhra1.pos_embed.0.bias', 'original_model.transformer.resblocks.0.lmhra1.pos_embed.0.running_mean', 'original_model.transformer.resblocks.0.lmhra1.pos_embed.0.running_var', 'original_model.transformer.resblocks.0.lmhra1.pos_embed.1.weight', 'original_model.transformer.resblocks.0.lmhra1.pos_embed.1.bias', 'original_model.transformer.resblocks.0.lmhra1.pos_embed.2.weight', 'original_model.transformer.resblocks.0.lmhra1.pos_embed.2.bias', 'original_model.transformer.resblocks.0.lmhra1.pos_embed.3.weight', 'original_model.transformer.resblocks.0.lmhra1.pos_embed.3.bias', 'original_model.transformer.resblocks.0.lmhra2.pos_embed.0.weight', 'original_model.transformer.resblocks.0.lmhra2.pos_embed.0.bias', 'original_model.transformer.resblocks.0.lmhra2.pos_embed.0.running_mean', 'original_model.transformer.resblocks.0.lmhra2.pos_embed.0.running_var', 'original_model.transformer.resblocks.0.lmhra2.pos_embed.1.weight', 'original_model.transformer.resblocks.0.lmhra2.pos_embed.1.bias', 'original_model.transformer.resblocks.0.lmhra2.pos_embed.2.weight', 'original_model.transformer.resblocks.0.lmhra2.pos_embed.2.bias', 'original_model.transformer.resblocks.0.lmhra2.pos_embed.3.weight', 'original_model.transformer.resblocks.0.lmhra2.pos_embed.3.bias', 'original_model.transformer.resblocks.0.attn.in_proj_weight', 'original_model.transformer.resblocks.0.attn.in_proj_bias', 'original_model.transformer.resblocks.0.attn.out_proj.weight', 'original_model.transformer.resblocks.0.attn.out_proj.bias', 'original_model.transformer.resblocks.0.ln_1.weight', 'original_model.transformer.resblocks.0.ln_1.bias', 'original_model.transformer.resblocks.0.mlp.c_fc.weight', 'original_model.transformer.resblocks.0.mlp.c_fc.bias', 'original_model.transformer.resblocks.0.mlp.c_proj.weight', 'original_model.transformer.resblocks.0.mlp.c_proj.bias', 'original_model.transformer.resblocks.0.ln_2.weight', 'original_model.transformer.resblocks.0.ln_2.bias', 'original_model.transformer.resblocks.1.lmhra1.pos_embed.0.weight', 'original_model.transformer.resblocks.1.lmhra1.pos_embed.0.bias', 'original_model.transformer.resblocks.1.lmhra1.pos_embed.0.running_mean', 'original_model.transformer.resblocks.1.lmhra1.pos_embed.0.running_var', 'original_model.transformer.resblocks.1.lmhra1.pos_embed.1.weight', 'original_model.transformer.resblocks.1.lmhra1.pos_embed.1.bias', 'original_model.transformer.resblocks.1.lmhra1.pos_embed.2.weight', 'original_model.transformer.resblocks.1.lmhra1.pos_embed.2.bias', 'original_model.transformer.resblocks.1.lmhra1.pos_embed.3.weight', 'original_model.transformer.resblocks.1.lmhra1.pos_embed.3.bias', 'original_model.transformer.resblocks.1.lmhra2.pos_embed.0.weight', 'original_model.transformer.resblocks.1.lmhra2.pos_embed.0.bias', 'original_model.transformer.resblocks.1.lmhra2.pos_embed.0.running_mean', 'original_model.transformer.resblocks.1.lmhra2.pos_embed.0.running_var', 'original_model.transformer.resblocks.1.lmhra2.pos_embed.1.weight', 'original_model.transformer.resblocks.1.lmhra2.pos_embed.1.bias', 'original_model.transformer.resblocks.1.lmhra2.pos_embed.2.weight', 'original_model.transformer.resblocks.1.lmhra2.pos_embed.2.bias', 'original_model.transformer.resblocks.1.lmhra2.pos_embed.3.weight', 'original_model.transformer.resblocks.1.lmhra2.pos_embed.3.bias', 'original_model.transformer.resblocks.1.attn.in_proj_weight', 'original_model.transformer.resblocks.1.attn.in_proj_bias', 'original_model.transformer.resblocks.1.attn.out_proj.weight', 'original_model.transformer.resblocks.1.attn.out_proj.bias', 'original_model.transformer.resblocks.1.ln_1.weight', 'original_model.transformer.resblocks.1.ln_1.bias', 'original_model.transformer.resblocks.1.mlp.c_fc.weight', 'original_model.transformer.resblocks.1.mlp.c_fc.bias', 'original_model.transformer.resblocks.1.mlp.c_proj.weight', 'original_model.transformer.resblocks.1.mlp.c_proj.bias', 'original_model.transformer.resblocks.1.ln_2.weight', 'original_model.transformer.resblocks.1.ln_2.bias', 'original_model.transformer.resblocks.2.lmhra1.pos_embed.0.weight', 'original_model.transformer.resblocks.2.lmhra1.pos_embed.0.bias', 'original_model.transformer.resblocks.2.lmhra1.pos_embed.0.running_mean', 'original_model.transformer.resblocks.2.lmhra1.pos_embed.0.running_var', 'original_model.transformer.resblocks.2.lmhra1.pos_embed.1.weight', 'original_model.transformer.resblocks.2.lmhra1.pos_embed.1.bias', 'original_model.transformer.resblocks.2.lmhra1.pos_embed.2.weight', 'original_model.transformer.resblocks.2.lmhra1.pos_embed.2.bias', 'original_model.transformer.resblocks.2.lmhra1.pos_embed.3.weight', 'original_model.transformer.resblocks.2.lmhra1.pos_embed.3.bias', 'original_model.transformer.resblocks.2.lmhra2.pos_embed.0.weight', 'original_model.transformer.resblocks.2.lmhra2.pos_embed.0.bias', 'original_model.transformer.resblocks.2.lmhra2.pos_embed.0.running_mean', 'original_model.transformer.resblocks.2.lmhra2.pos_embed.0.running_var', 'original_model.transformer.resblocks.2.lmhra2.pos_embed.1.weight', 'original_model.transformer.resblocks.2.lmhra2.pos_embed.1.bias', 'original_model.transformer.resblocks.2.lmhra2.pos_embed.2.weight', 'original_model.transformer.resblocks.2.lmhra2.pos_embed.2.bias', 'original_model.transformer.resblocks.2.lmhra2.pos_embed.3.weight', 'original_model.transformer.resblocks.2.lmhra2.pos_embed.3.bias', 'original_model.transformer.resblocks.2.attn.in_proj_weight', 'original_model.transformer.resblocks.2.attn.in_proj_bias', 'original_model.transformer.resblocks.2.attn.out_proj.weight', 'original_model.transformer.resblocks.2.attn.out_proj.bias', 'original_model.transformer.resblocks.2.ln_1.weight', 'original_model.transformer.resblocks.2.ln_1.bias', 'original_model.transformer.resblocks.2.mlp.c_fc.weight', 'original_model.transformer.resblocks.2.mlp.c_fc.bias', 'original_model.transformer.resblocks.2.mlp.c_proj.weight', 'original_model.transformer.resblocks.2.mlp.c_proj.bias', 'original_model.transformer.resblocks.2.ln_2.weight', 'original_model.transformer.resblocks.2.ln_2.bias', 'original_model.transformer.resblocks.3.lmhra1.pos_embed.0.weight', 'original_model.transformer.resblocks.3.lmhra1.pos_embed.0.bias', 'original_model.transformer.resblocks.3.lmhra1.pos_embed.0.running_mean', 'original_model.transformer.resblocks.3.lmhra1.pos_embed.0.running_var', 'original_model.transformer.resblocks.3.lmhra1.pos_embed.1.weight', 'original_model.transformer.resblocks.3.lmhra1.pos_embed.1.bias', 'original_model.transformer.resblocks.3.lmhra1.pos_embed.2.weight', 'original_model.transformer.resblocks.3.lmhra1.pos_embed.2.bias', 'original_model.transformer.resblocks.3.lmhra1.pos_embed.3.weight', 'original_model.transformer.resblocks.3.lmhra1.pos_embed.3.bias', 'original_model.transformer.resblocks.3.lmhra2.pos_embed.0.weight', 'original_model.transformer.resblocks.3.lmhra2.pos_embed.0.bias', 'original_model.transformer.resblocks.3.lmhra2.pos_embed.0.running_mean', 'original_model.transformer.resblocks.3.lmhra2.pos_embed.0.running_var', 'original_model.transformer.resblocks.3.lmhra2.pos_embed.1.weight', 'original_model.transformer.resblocks.3.lmhra2.pos_embed.1.bias', 'original_model.transformer.resblocks.3.lmhra2.pos_embed.2.weight', 'original_model.transformer.resblocks.3.lmhra2.pos_embed.2.bias', 'original_model.transformer.resblocks.3.lmhra2.pos_embed.3.weight', 'original_model.transformer.resblocks.3.lmhra2.pos_embed.3.bias', 'original_model.transformer.resblocks.3.attn.in_proj_weight', 'original_model.transformer.resblocks.3.attn.in_proj_bias', 'original_model.transformer.resblocks.3.attn.out_proj.weight', 'original_model.transformer.resblocks.3.attn.out_proj.bias', 'original_model.transformer.resblocks.3.ln_1.weight', 'original_model.transformer.resblocks.3.ln_1.bias', 'original_model.transformer.resblocks.3.mlp.c_fc.weight', 'original_model.transformer.resblocks.3.mlp.c_fc.bias', 'original_model.transformer.resblocks.3.mlp.c_proj.weight', 'original_model.transformer.resblocks.3.mlp.c_proj.bias', 'original_model.transformer.resblocks.3.ln_2.weight', 'original_model.transformer.resblocks.3.ln_2.bias', 'original_model.transformer.resblocks.4.lmhra1.pos_embed.0.weight', 'original_model.transformer.resblocks.4.lmhra1.pos_embed.0.bias', 'original_model.transformer.resblocks.4.lmhra1.pos_embed.0.running_mean', 'original_model.transformer.resblocks.4.lmhra1.pos_embed.0.running_var', 'original_model.transformer.resblocks.4.lmhra1.pos_embed.1.weight', 'original_model.transformer.resblocks.4.lmhra1.pos_embed.1.bias', 'original_model.transformer.resblocks.4.lmhra1.pos_embed.2.weight', 'original_model.transformer.resblocks.4.lmhra1.pos_embed.2.bias', 'original_model.transformer.resblocks.4.lmhra1.pos_embed.3.weight', 'original_model.transformer.resblocks.4.lmhra1.pos_embed.3.bias', 'original_model.transformer.resblocks.4.lmhra2.pos_embed.0.weight', 'original_model.transformer.resblocks.4.lmhra2.pos_embed.0.bias', 'original_model.transformer.resblocks.4.lmhra2.pos_embed.0.running_mean', 'original_model.transformer.resblocks.4.lmhra2.pos_embed.0.running_var', 'original_model.transformer.resblocks.4.lmhra2.pos_embed.1.weight', 'original_model.transformer.resblocks.4.lmhra2.pos_embed.1.bias', 'original_model.transformer.resblocks.4.lmhra2.pos_embed.2.weight', 'original_model.transformer.resblocks.4.lmhra2.pos_embed.2.bias', 'original_model.transformer.resblocks.4.lmhra2.pos_embed.3.weight', 'original_model.transformer.resblocks.4.lmhra2.pos_embed.3.bias', 'original_model.transformer.resblocks.4.attn.in_proj_weight', 'original_model.transformer.resblocks.4.attn.in_proj_bias', 'original_model.transformer.resblocks.4.attn.out_proj.weight', 'original_model.transformer.resblocks.4.attn.out_proj.bias', 'original_model.transformer.resblocks.4.ln_1.weight', 'original_model.transformer.resblocks.4.ln_1.bias', 'original_model.transformer.resblocks.4.mlp.c_fc.weight', 'original_model.transformer.resblocks.4.mlp.c_fc.bias', 'original_model.transformer.resblocks.4.mlp.c_proj.weight', 'original_model.transformer.resblocks.4.mlp.c_proj.bias', 'original_model.transformer.resblocks.4.ln_2.weight', 'original_model.transformer.resblocks.4.ln_2.bias', 'original_model.transformer.resblocks.5.lmhra1.pos_embed.0.weight', 'original_model.transformer.resblocks.5.lmhra1.pos_embed.0.bias', 'original_model.transformer.resblocks.5.lmhra1.pos_embed.0.running_mean', 'original_model.transformer.resblocks.5.lmhra1.pos_embed.0.running_var', 'original_model.transformer.resblocks.5.lmhra1.pos_embed.1.weight', 'original_model.transformer.resblocks.5.lmhra1.pos_embed.1.bias', 'original_model.transformer.resblocks.5.lmhra1.pos_embed.2.weight', 'original_model.transformer.resblocks.5.lmhra1.pos_embed.2.bias', 'original_model.transformer.resblocks.5.lmhra1.pos_embed.3.weight', 'original_model.transformer.resblocks.5.lmhra1.pos_embed.3.bias', 'original_model.transformer.resblocks.5.lmhra2.pos_embed.0.weight', 'original_model.transformer.resblocks.5.lmhra2.pos_embed.0.bias', 'original_model.transformer.resblocks.5.lmhra2.pos_embed.0.running_mean', 'original_model.transformer.resblocks.5.lmhra2.pos_embed.0.running_var', 'original_model.transformer.resblocks.5.lmhra2.pos_embed.1.weight', 'original_model.transformer.resblocks.5.lmhra2.pos_embed.1.bias', 'original_model.transformer.resblocks.5.lmhra2.pos_embed.2.weight', 'original_model.transformer.resblocks.5.lmhra2.pos_embed.2.bias', 'original_model.transformer.resblocks.5.lmhra2.pos_embed.3.weight', 'original_model.transformer.resblocks.5.lmhra2.pos_embed.3.bias', 'original_model.transformer.resblocks.5.attn.in_proj_weight', 'original_model.transformer.resblocks.5.attn.in_proj_bias', 'original_model.transformer.resblocks.5.attn.out_proj.weight', 'original_model.transformer.resblocks.5.attn.out_proj.bias', 'original_model.transformer.resblocks.5.ln_1.weight', 'original_model.transformer.resblocks.5.ln_1.bias', 'original_model.transformer.resblocks.5.mlp.c_fc.weight', 'original_model.transformer.resblocks.5.mlp.c_fc.bias', 'original_model.transformer.resblocks.5.mlp.c_proj.weight', 'original_model.transformer.resblocks.5.mlp.c_proj.bias', 'original_model.transformer.resblocks.5.ln_2.weight', 'original_model.transformer.resblocks.5.ln_2.bias', 'original_model.transformer.resblocks.6.lmhra1.pos_embed.0.weight', 'original_model.transformer.resblocks.6.lmhra1.pos_embed.0.bias', 'original_model.transformer.resblocks.6.lmhra1.pos_embed.0.running_mean', 'original_model.transformer.resblocks.6.lmhra1.pos_embed.0.running_var', 'original_model.transformer.resblocks.6.lmhra1.pos_embed.1.weight', 'original_model.transformer.resblocks.6.lmhra1.pos_embed.1.bias', 'original_model.transformer.resblocks.6.lmhra1.pos_embed.2.weight', 'original_model.transformer.resblocks.6.lmhra1.pos_embed.2.bias', 'original_model.transformer.resblocks.6.lmhra1.pos_embed.3.weight', 'original_model.transformer.resblocks.6.lmhra1.pos_embed.3.bias', 'original_model.transformer.resblocks.6.lmhra2.pos_embed.0.weight', 'original_model.transformer.resblocks.6.lmhra2.pos_embed.0.bias', 'original_model.transformer.resblocks.6.lmhra2.pos_embed.0.running_mean', 'original_model.transformer.resblocks.6.lmhra2.pos_embed.0.running_var', 'original_model.transformer.resblocks.6.lmhra2.pos_embed.1.weight', 'original_model.transformer.resblocks.6.lmhra2.pos_embed.1.bias', 'original_model.transformer.resblocks.6.lmhra2.pos_embed.2.weight', 'original_model.transformer.resblocks.6.lmhra2.pos_embed.2.bias', 'original_model.transformer.resblocks.6.lmhra2.pos_embed.3.weight', 'original_model.transformer.resblocks.6.lmhra2.pos_embed.3.bias', 'original_model.transformer.resblocks.6.attn.in_proj_weight', 'original_model.transformer.resblocks.6.attn.in_proj_bias', 'original_model.transformer.resblocks.6.attn.out_proj.weight', 'original_model.transformer.resblocks.6.attn.out_proj.bias', 'original_model.transformer.resblocks.6.ln_1.weight', 'original_model.transformer.resblocks.6.ln_1.bias', 'original_model.transformer.resblocks.6.mlp.c_fc.weight', 'original_model.transformer.resblocks.6.mlp.c_fc.bias', 'original_model.transformer.resblocks.6.mlp.c_proj.weight', 'original_model.transformer.resblocks.6.mlp.c_proj.bias', 'original_model.transformer.resblocks.6.ln_2.weight', 'original_model.transformer.resblocks.6.ln_2.bias', 'original_model.transformer.resblocks.7.lmhra1.pos_embed.0.weight', 'original_model.transformer.resblocks.7.lmhra1.pos_embed.0.bias', 'original_model.transformer.resblocks.7.lmhra1.pos_embed.0.running_mean', 'original_model.transformer.resblocks.7.lmhra1.pos_embed.0.running_var', 'original_model.transformer.resblocks.7.lmhra1.pos_embed.1.weight', 'original_model.transformer.resblocks.7.lmhra1.pos_embed.1.bias', 'original_model.transformer.resblocks.7.lmhra1.pos_embed.2.weight', 'original_model.transformer.resblocks.7.lmhra1.pos_embed.2.bias', 'original_model.transformer.resblocks.7.lmhra1.pos_embed.3.weight', 'original_model.transformer.resblocks.7.lmhra1.pos_embed.3.bias', 'original_model.transformer.resblocks.7.lmhra2.pos_embed.0.weight', 'original_model.transformer.resblocks.7.lmhra2.pos_embed.0.bias', 'original_model.transformer.resblocks.7.lmhra2.pos_embed.0.running_mean', 'original_model.transformer.resblocks.7.lmhra2.pos_embed.0.running_var', 'original_model.transformer.resblocks.7.lmhra2.pos_embed.1.weight', 'original_model.transformer.resblocks.7.lmhra2.pos_embed.1.bias', 'original_model.transformer.resblocks.7.lmhra2.pos_embed.2.weight', 'original_model.transformer.resblocks.7.lmhra2.pos_embed.2.bias', 'original_model.transformer.resblocks.7.lmhra2.pos_embed.3.weight', 'original_model.transformer.resblocks.7.lmhra2.pos_embed.3.bias', 'original_model.transformer.resblocks.7.attn.in_proj_weight', 'original_model.transformer.resblocks.7.attn.in_proj_bias', 'original_model.transformer.resblocks.7.attn.out_proj.weight', 'original_model.transformer.resblocks.7.attn.out_proj.bias', 'original_model.transformer.resblocks.7.ln_1.weight', 'original_model.transformer.resblocks.7.ln_1.bias', 'original_model.transformer.resblocks.7.mlp.c_fc.weight', 'original_model.transformer.resblocks.7.mlp.c_fc.bias', 'original_model.transformer.resblocks.7.mlp.c_proj.weight', 'original_model.transformer.resblocks.7.mlp.c_proj.bias', 'original_model.transformer.resblocks.7.ln_2.weight', 'original_model.transformer.resblocks.7.ln_2.bias', 'original_model.transformer.resblocks.8.lmhra1.pos_embed.0.weight', 'original_model.transformer.resblocks.8.lmhra1.pos_embed.0.bias', 'original_model.transformer.resblocks.8.lmhra1.pos_embed.0.running_mean', 'original_model.transformer.resblocks.8.lmhra1.pos_embed.0.running_var', 'original_model.transformer.resblocks.8.lmhra1.pos_embed.1.weight', 'original_model.transformer.resblocks.8.lmhra1.pos_embed.1.bias', 'original_model.transformer.resblocks.8.lmhra1.pos_embed.2.weight', 'original_model.transformer.resblocks.8.lmhra1.pos_embed.2.bias', 'original_model.transformer.resblocks.8.lmhra1.pos_embed.3.weight', 'original_model.transformer.resblocks.8.lmhra1.pos_embed.3.bias', 'original_model.transformer.resblocks.8.lmhra2.pos_embed.0.weight', 'original_model.transformer.resblocks.8.lmhra2.pos_embed.0.bias', 'original_model.transformer.resblocks.8.lmhra2.pos_embed.0.running_mean', 'original_model.transformer.resblocks.8.lmhra2.pos_embed.0.running_var', 'original_model.transformer.resblocks.8.lmhra2.pos_embed.1.weight', 'original_model.transformer.resblocks.8.lmhra2.pos_embed.1.bias', 'original_model.transformer.resblocks.8.lmhra2.pos_embed.2.weight', 'original_model.transformer.resblocks.8.lmhra2.pos_embed.2.bias', 'original_model.transformer.resblocks.8.lmhra2.pos_embed.3.weight', 'original_model.transformer.resblocks.8.lmhra2.pos_embed.3.bias', 'original_model.transformer.resblocks.8.attn.in_proj_weight', 'original_model.transformer.resblocks.8.attn.in_proj_bias', 'original_model.transformer.resblocks.8.attn.out_proj.weight', 'original_model.transformer.resblocks.8.attn.out_proj.bias', 'original_model.transformer.resblocks.8.ln_1.weight', 'original_model.transformer.resblocks.8.ln_1.bias', 'original_model.transformer.resblocks.8.mlp.c_fc.weight', 'original_model.transformer.resblocks.8.mlp.c_fc.bias', 'original_model.transformer.resblocks.8.mlp.c_proj.weight', 'original_model.transformer.resblocks.8.mlp.c_proj.bias', 'original_model.transformer.resblocks.8.ln_2.weight', 'original_model.transformer.resblocks.8.ln_2.bias', 'original_model.transformer.resblocks.9.lmhra1.pos_embed.0.weight', 'original_model.transformer.resblocks.9.lmhra1.pos_embed.0.bias', 'original_model.transformer.resblocks.9.lmhra1.pos_embed.0.running_mean', 'original_model.transformer.resblocks.9.lmhra1.pos_embed.0.running_var', 'original_model.transformer.resblocks.9.lmhra1.pos_embed.1.weight', 'original_model.transformer.resblocks.9.lmhra1.pos_embed.1.bias', 'original_model.transformer.resblocks.9.lmhra1.pos_embed.2.weight', 'original_model.transformer.resblocks.9.lmhra1.pos_embed.2.bias', 'original_model.transformer.resblocks.9.lmhra1.pos_embed.3.weight', 'original_model.transformer.resblocks.9.lmhra1.pos_embed.3.bias', 'original_model.transformer.resblocks.9.lmhra2.pos_embed.0.weight', 'original_model.transformer.resblocks.9.lmhra2.pos_embed.0.bias', 'original_model.transformer.resblocks.9.lmhra2.pos_embed.0.running_mean', 'original_model.transformer.resblocks.9.lmhra2.pos_embed.0.running_var', 'original_model.transformer.resblocks.9.lmhra2.pos_embed.1.weight', 'original_model.transformer.resblocks.9.lmhra2.pos_embed.1.bias', 'original_model.transformer.resblocks.9.lmhra2.pos_embed.2.weight', 'original_model.transformer.resblocks.9.lmhra2.pos_embed.2.bias', 'original_model.transformer.resblocks.9.lmhra2.pos_embed.3.weight', 'original_model.transformer.resblocks.9.lmhra2.pos_embed.3.bias', 'original_model.transformer.resblocks.9.attn.in_proj_weight', 'original_model.transformer.resblocks.9.attn.in_proj_bias', 'original_model.transformer.resblocks.9.attn.out_proj.weight', 'original_model.transformer.resblocks.9.attn.out_proj.bias', 'original_model.transformer.resblocks.9.ln_1.weight', 'original_model.transformer.resblocks.9.ln_1.bias', 'original_model.transformer.resblocks.9.mlp.c_fc.weight', 'original_model.transformer.resblocks.9.mlp.c_fc.bias', 'original_model.transformer.resblocks.9.mlp.c_proj.weight', 'original_model.transformer.resblocks.9.mlp.c_proj.bias', 'original_model.transformer.resblocks.9.ln_2.weight', 'original_model.transformer.resblocks.9.ln_2.bias', 'original_model.transformer.resblocks.10.lmhra1.pos_embed.0.weight', 'original_model.transformer.resblocks.10.lmhra1.pos_embed.0.bias', 'original_model.transformer.resblocks.10.lmhra1.pos_embed.0.running_mean', 'original_model.transformer.resblocks.10.lmhra1.pos_embed.0.running_var', 'original_model.transformer.resblocks.10.lmhra1.pos_embed.1.weight', 'original_model.transformer.resblocks.10.lmhra1.pos_embed.1.bias', 'original_model.transformer.resblocks.10.lmhra1.pos_embed.2.weight', 'original_model.transformer.resblocks.10.lmhra1.pos_embed.2.bias', 'original_model.transformer.resblocks.10.lmhra1.pos_embed.3.weight', 'original_model.transformer.resblocks.10.lmhra1.pos_embed.3.bias', 'original_model.transformer.resblocks.10.lmhra2.pos_embed.0.weight', 'original_model.transformer.resblocks.10.lmhra2.pos_embed.0.bias', 'original_model.transformer.resblocks.10.lmhra2.pos_embed.0.running_mean', 'original_model.transformer.resblocks.10.lmhra2.pos_embed.0.running_var', 'original_model.transformer.resblocks.10.lmhra2.pos_embed.1.weight', 'original_model.transformer.resblocks.10.lmhra2.pos_embed.1.bias', 'original_model.transformer.resblocks.10.lmhra2.pos_embed.2.weight', 'original_model.transformer.resblocks.10.lmhra2.pos_embed.2.bias', 'original_model.transformer.resblocks.10.lmhra2.pos_embed.3.weight', 'original_model.transformer.resblocks.10.lmhra2.pos_embed.3.bias', 'original_model.transformer.resblocks.10.attn.in_proj_weight', 'original_model.transformer.resblocks.10.attn.in_proj_bias', 'original_model.transformer.resblocks.10.attn.out_proj.weight', 'original_model.transformer.resblocks.10.attn.out_proj.bias', 'original_model.transformer.resblocks.10.ln_1.weight', 'original_model.transformer.resblocks.10.ln_1.bias', 'original_model.transformer.resblocks.10.mlp.c_fc.weight', 'original_model.transformer.resblocks.10.mlp.c_fc.bias', 'original_model.transformer.resblocks.10.mlp.c_proj.weight', 'original_model.transformer.resblocks.10.mlp.c_proj.bias', 'original_model.transformer.resblocks.10.ln_2.weight', 'original_model.transformer.resblocks.10.ln_2.bias', 'original_model.transformer.resblocks.11.lmhra1.pos_embed.0.weight', 'original_model.transformer.resblocks.11.lmhra1.pos_embed.0.bias', 'original_model.transformer.resblocks.11.lmhra1.pos_embed.0.running_mean', 'original_model.transformer.resblocks.11.lmhra1.pos_embed.0.running_var', 'original_model.transformer.resblocks.11.lmhra1.pos_embed.1.weight', 'original_model.transformer.resblocks.11.lmhra1.pos_embed.1.bias', 'original_model.transformer.resblocks.11.lmhra1.pos_embed.2.weight', 'original_model.transformer.resblocks.11.lmhra1.pos_embed.2.bias', 'original_model.transformer.resblocks.11.lmhra1.pos_embed.3.weight', 'original_model.transformer.resblocks.11.lmhra1.pos_embed.3.bias', 'original_model.transformer.resblocks.11.lmhra2.pos_embed.0.weight', 'original_model.transformer.resblocks.11.lmhra2.pos_embed.0.bias', 'original_model.transformer.resblocks.11.lmhra2.pos_embed.0.running_mean', 'original_model.transformer.resblocks.11.lmhra2.pos_embed.0.running_var', 'original_model.transformer.resblocks.11.lmhra2.pos_embed.1.weight', 'original_model.transformer.resblocks.11.lmhra2.pos_embed.1.bias', 'original_model.transformer.resblocks.11.lmhra2.pos_embed.2.weight', 'original_model.transformer.resblocks.11.lmhra2.pos_embed.2.bias', 'original_model.transformer.resblocks.11.lmhra2.pos_embed.3.weight', 'original_model.transformer.resblocks.11.lmhra2.pos_embed.3.bias', 'original_model.transformer.resblocks.11.attn.in_proj_weight', 'original_model.transformer.resblocks.11.attn.in_proj_bias', 'original_model.transformer.resblocks.11.attn.out_proj.weight', 'original_model.transformer.resblocks.11.attn.out_proj.bias', 'original_model.transformer.resblocks.11.ln_1.weight', 'original_model.transformer.resblocks.11.ln_1.bias', 'original_model.transformer.resblocks.11.mlp.c_fc.weight', 'original_model.transformer.resblocks.11.mlp.c_fc.bias', 'original_model.transformer.resblocks.11.mlp.c_proj.weight', 'original_model.transformer.resblocks.11.mlp.c_proj.bias', 'original_model.transformer.resblocks.11.ln_2.weight', 'original_model.transformer.resblocks.11.ln_2.bias', 'original_model.transformer.dpe.0.weight', 'original_model.transformer.dpe.0.bias', 'original_model.transformer.dpe.1.weight', 'original_model.transformer.dpe.1.bias', 'original_model.transformer.dpe.2.weight', 'original_model.transformer.dpe.2.bias', 'original_model.transformer.dpe.3.weight', 'original_model.transformer.dpe.3.bias', 'original_model.transformer.dec.0.attn.in_proj_weight', 'original_model.transformer.dec.0.attn.in_proj_bias', 'original_model.transformer.dec.0.attn.out_proj.weight', 'original_model.transformer.dec.0.attn.out_proj.bias', 'original_model.transformer.dec.0.ln_1.weight', 'original_model.transformer.dec.0.ln_1.bias', 'original_model.transformer.dec.0.mlp.c_fc.weight', 'original_model.transformer.dec.0.mlp.c_fc.bias', 'original_model.transformer.dec.0.mlp.c_proj.weight', 'original_model.transformer.dec.0.mlp.c_proj.bias', 'original_model.transformer.dec.0.ln_2.weight', 'original_model.transformer.dec.0.ln_2.bias', 'original_model.transformer.dec.0.ln_3.weight', 'original_model.transformer.dec.0.ln_3.bias', 'original_model.transformer.dec.1.attn.in_proj_weight', 'original_model.transformer.dec.1.attn.in_proj_bias', 'original_model.transformer.dec.1.attn.out_proj.weight', 'original_model.transformer.dec.1.attn.out_proj.bias', 'original_model.transformer.dec.1.ln_1.weight', 'original_model.transformer.dec.1.ln_1.bias', 'original_model.transformer.dec.1.mlp.c_fc.weight', 'original_model.transformer.dec.1.mlp.c_fc.bias', 'original_model.transformer.dec.1.mlp.c_proj.weight', 'original_model.transformer.dec.1.mlp.c_proj.bias', 'original_model.transformer.dec.1.ln_2.weight', 'original_model.transformer.dec.1.ln_2.bias', 'original_model.transformer.dec.1.ln_3.weight', 'original_model.transformer.dec.1.ln_3.bias', 'original_model.transformer.dec.2.attn.in_proj_weight', 'original_model.transformer.dec.2.attn.in_proj_bias', 'original_model.transformer.dec.2.attn.out_proj.weight', 'original_model.transformer.dec.2.attn.out_proj.bias', 'original_model.transformer.dec.2.ln_1.weight', 'original_model.transformer.dec.2.ln_1.bias', 'original_model.transformer.dec.2.mlp.c_fc.weight', 'original_model.transformer.dec.2.mlp.c_fc.bias', 'original_model.transformer.dec.2.mlp.c_proj.weight', 'original_model.transformer.dec.2.mlp.c_proj.bias', 'original_model.transformer.dec.2.ln_2.weight', 'original_model.transformer.dec.2.ln_2.bias', 'original_model.transformer.dec.2.ln_3.weight', 'original_model.transformer.dec.2.ln_3.bias', 'original_model.transformer.dec.3.attn.in_proj_weight', 'original_model.transformer.dec.3.attn.in_proj_bias', 'original_model.transformer.dec.3.attn.out_proj.weight', 'original_model.transformer.dec.3.attn.out_proj.bias', 'original_model.transformer.dec.3.ln_1.weight', 'original_model.transformer.dec.3.ln_1.bias', 'original_model.transformer.dec.3.mlp.c_fc.weight', 'original_model.transformer.dec.3.mlp.c_fc.bias', 'original_model.transformer.dec.3.mlp.c_proj.weight', 'original_model.transformer.dec.3.mlp.c_proj.bias', 'original_model.transformer.dec.3.ln_2.weight', 'original_model.transformer.dec.3.ln_2.bias', 'original_model.transformer.dec.3.ln_3.weight', 'original_model.transformer.dec.3.ln_3.bias'], unexpected_keys=['meta', 'state_dict'])"
      ]
     },
     "execution_count": 15,
     "metadata": {},
     "output_type": "execute_result"
    }
   ],
   "source": [
    "from short_sport.video_trainer.architecture.uniformer_v2_root import uniformerv2_l14, uniformerv2_b16\n",
    "class Uniformerv2Backbone(nn.Module):\n",
    "    def __init__(self, original_model):\n",
    "        super(Uniformerv2Backbone, self).__init__()\n",
    "        # Giữ lại các thành phần cần thiết từ mô hình gốc\n",
    "        self.original_model = original_model\n",
    "        if hasattr(self.original_model.transformer, 'sigmoid'):\n",
    "            delattr(self.original_model.transformer, 'sigmoid')\n",
    "        if hasattr(self.original_model.transformer, 'proj'):\n",
    "            delattr(self.original_model.transformer, 'proj')\n",
    "    def forward(self, x):\n",
    "        return self.original_model(x)\n",
    "    \n",
    "backbone = Uniformerv2Backbone(uniformerv2_b16())\n",
    "state_dict = torch.load(\"./hub/uniformerv2-base-p16-res224_clip-kinetics710-pre_8xb32-u8_kinetics400.pth\", map_location='cpu')\n",
    "backbone.load_state_dict(state_dict, strict  = False)"
   ]
  },
  {
   "cell_type": "code",
   "execution_count": 13,
   "metadata": {},
   "outputs": [
    {
     "data": {
      "text/plain": [
       "VisionTransformer(\n",
       "  (conv1): Conv3d(3, 768, kernel_size=(3, 16, 16), stride=(2, 16, 16), padding=(1, 0, 0), bias=False)\n",
       "  (ln_pre): LayerNorm((768,), eps=1e-05, elementwise_affine=True)\n",
       "  (transformer): Transformer(\n",
       "    (resblocks): ModuleList(\n",
       "      (0-11): 12 x ResidualAttentionBlock(\n",
       "        (drop_path): Identity()\n",
       "        (lmhra1): Local_MHRA(\n",
       "          (pos_embed): Sequential(\n",
       "            (0): BatchNorm3d(768, eps=1e-05, momentum=0.1, affine=True, track_running_stats=True)\n",
       "            (1): Conv3d(768, 512, kernel_size=(1, 1, 1), stride=(1, 1, 1))\n",
       "            (2): Conv3d(512, 512, kernel_size=(3, 1, 1), stride=(1, 1, 1), padding=(1, 0, 0), groups=512)\n",
       "            (3): Conv3d(512, 768, kernel_size=(1, 1, 1), stride=(1, 1, 1))\n",
       "          )\n",
       "        )\n",
       "        (lmhra2): Local_MHRA(\n",
       "          (pos_embed): Sequential(\n",
       "            (0): BatchNorm3d(768, eps=1e-05, momentum=0.1, affine=True, track_running_stats=True)\n",
       "            (1): Conv3d(768, 512, kernel_size=(1, 1, 1), stride=(1, 1, 1))\n",
       "            (2): Conv3d(512, 512, kernel_size=(3, 1, 1), stride=(1, 1, 1), padding=(1, 0, 0), groups=512)\n",
       "            (3): Conv3d(512, 768, kernel_size=(1, 1, 1), stride=(1, 1, 1))\n",
       "          )\n",
       "        )\n",
       "        (attn): MultiheadAttention(\n",
       "          (out_proj): NonDynamicallyQuantizableLinear(in_features=768, out_features=768, bias=True)\n",
       "        )\n",
       "        (ln_1): LayerNorm((768,), eps=1e-05, elementwise_affine=True)\n",
       "        (mlp): Sequential(\n",
       "          (c_fc): Linear(in_features=768, out_features=3072, bias=True)\n",
       "          (gelu): QuickGELU()\n",
       "          (c_proj): Linear(in_features=3072, out_features=768, bias=True)\n",
       "        )\n",
       "        (ln_2): LayerNorm((768,), eps=1e-05, elementwise_affine=True)\n",
       "      )\n",
       "    )\n",
       "    (dpe): ModuleList(\n",
       "      (0-3): 4 x Conv3d(768, 768, kernel_size=(3, 3, 3), stride=(1, 1, 1), padding=(1, 1, 1), groups=768)\n",
       "    )\n",
       "    (dec): ModuleList(\n",
       "      (0-3): 4 x Extractor(\n",
       "        (drop_path): Identity()\n",
       "        (attn): MultiheadAttention(\n",
       "          (out_proj): NonDynamicallyQuantizableLinear(in_features=768, out_features=768, bias=True)\n",
       "        )\n",
       "        (ln_1): LayerNorm((768,), eps=1e-05, elementwise_affine=True)\n",
       "        (mlp): Sequential(\n",
       "          (c_fc): Linear(in_features=768, out_features=3072, bias=True)\n",
       "          (gelu): QuickGELU()\n",
       "          (dropout): Dropout(p=0.5, inplace=False)\n",
       "          (c_proj): Linear(in_features=3072, out_features=768, bias=True)\n",
       "        )\n",
       "        (ln_2): LayerNorm((768,), eps=1e-05, elementwise_affine=True)\n",
       "        (ln_3): LayerNorm((768,), eps=1e-05, elementwise_affine=True)\n",
       "      )\n",
       "    )\n",
       "  )\n",
       ")"
      ]
     },
     "execution_count": 13,
     "metadata": {},
     "output_type": "execute_result"
    }
   ],
   "source": [
    "original_model"
   ]
  },
  {
   "cell_type": "code",
   "execution_count": 5,
   "metadata": {},
   "outputs": [
    {
     "name": "stdout",
     "output_type": "stream",
     "text": [
      "Drop path rate: 0.0\n",
      "No L_MHRA: False\n",
      "Double L_MHRA: True\n",
      "Init zero for Conv in pos_emb\n",
      "Init zero for Conv in pos_emb\n",
      "Drop path rate: 0.0\n",
      "No L_MHRA: False\n",
      "Double L_MHRA: True\n",
      "Init zero for Conv in pos_emb\n",
      "Init zero for Conv in pos_emb\n",
      "Drop path rate: 0.0\n",
      "No L_MHRA: False\n",
      "Double L_MHRA: True\n",
      "Init zero for Conv in pos_emb\n",
      "Init zero for Conv in pos_emb\n",
      "Drop path rate: 0.0\n",
      "No L_MHRA: False\n",
      "Double L_MHRA: True\n",
      "Init zero for Conv in pos_emb\n",
      "Init zero for Conv in pos_emb\n",
      "Drop path rate: 0.0\n",
      "No L_MHRA: False\n",
      "Double L_MHRA: True\n",
      "Init zero for Conv in pos_emb\n",
      "Init zero for Conv in pos_emb\n",
      "Drop path rate: 0.0\n",
      "No L_MHRA: False\n",
      "Double L_MHRA: True\n",
      "Init zero for Conv in pos_emb\n",
      "Init zero for Conv in pos_emb\n",
      "Drop path rate: 0.0\n",
      "No L_MHRA: False\n",
      "Double L_MHRA: True\n",
      "Init zero for Conv in pos_emb\n",
      "Init zero for Conv in pos_emb\n",
      "Drop path rate: 0.0\n",
      "No L_MHRA: False\n",
      "Double L_MHRA: True\n",
      "Init zero for Conv in pos_emb\n",
      "Init zero for Conv in pos_emb\n",
      "Drop path rate: 0.0\n",
      "No L_MHRA: False\n",
      "Double L_MHRA: True\n",
      "Init zero for Conv in pos_emb\n",
      "Init zero for Conv in pos_emb\n",
      "Drop path rate: 0.0\n",
      "No L_MHRA: False\n",
      "Double L_MHRA: True\n",
      "Init zero for Conv in pos_emb\n",
      "Init zero for Conv in pos_emb\n",
      "Drop path rate: 0.0\n",
      "No L_MHRA: False\n",
      "Double L_MHRA: True\n",
      "Init zero for Conv in pos_emb\n",
      "Init zero for Conv in pos_emb\n",
      "Drop path rate: 0.0\n",
      "No L_MHRA: False\n",
      "Double L_MHRA: True\n",
      "Init zero for Conv in pos_emb\n",
      "Init zero for Conv in pos_emb\n",
      "Use checkpoint: False\n",
      "Checkpoint number: [0]\n",
      "Drop path rate: 0.0\n",
      "Drop path rate: 0.0\n",
      "Drop path rate: 0.0\n",
      "Drop path rate: 0.0\n"
     ]
    }
   ],
   "source": [
    "class ModifiedVisionTransformer(nn.Module):\n",
    "    def __init__(self, original_model):\n",
    "        super(ModifiedVisionTransformer, self).__init__()\n",
    "        self.original_model = original_model\n",
    "        if hasattr(self.original_model.transformer, 'sigmoid'):\n",
    "            delattr(self.original_model.transformer, 'sigmoid')\n",
    "        if hasattr(self.original_model.transformer, 'proj'):\n",
    "            delattr(self.original_model.transformer, 'proj')\n",
    "    def forward(self, x):\n",
    "        # Giả định cách thức forward pass của mô hình gốc\n",
    "\n",
    "        return x\n",
    "\n",
    "original_model = uniformerv2_b16()\n",
    "modified_model = ModifiedVisionTransformer(original_model)"
   ]
  },
  {
   "cell_type": "code",
   "execution_count": 6,
   "metadata": {},
   "outputs": [
    {
     "data": {
      "text/plain": [
       "ModifiedVisionTransformer(\n",
       "  (original_model): VisionTransformer(\n",
       "    (conv1): Conv3d(3, 768, kernel_size=(3, 16, 16), stride=(2, 16, 16), padding=(1, 0, 0), bias=False)\n",
       "    (ln_pre): LayerNorm((768,), eps=1e-05, elementwise_affine=True)\n",
       "    (transformer): Transformer(\n",
       "      (resblocks): ModuleList(\n",
       "        (0-11): 12 x ResidualAttentionBlock(\n",
       "          (drop_path): Identity()\n",
       "          (lmhra1): Local_MHRA(\n",
       "            (pos_embed): Sequential(\n",
       "              (0): BatchNorm3d(768, eps=1e-05, momentum=0.1, affine=True, track_running_stats=True)\n",
       "              (1): Conv3d(768, 512, kernel_size=(1, 1, 1), stride=(1, 1, 1))\n",
       "              (2): Conv3d(512, 512, kernel_size=(3, 1, 1), stride=(1, 1, 1), padding=(1, 0, 0), groups=512)\n",
       "              (3): Conv3d(512, 768, kernel_size=(1, 1, 1), stride=(1, 1, 1))\n",
       "            )\n",
       "          )\n",
       "          (lmhra2): Local_MHRA(\n",
       "            (pos_embed): Sequential(\n",
       "              (0): BatchNorm3d(768, eps=1e-05, momentum=0.1, affine=True, track_running_stats=True)\n",
       "              (1): Conv3d(768, 512, kernel_size=(1, 1, 1), stride=(1, 1, 1))\n",
       "              (2): Conv3d(512, 512, kernel_size=(3, 1, 1), stride=(1, 1, 1), padding=(1, 0, 0), groups=512)\n",
       "              (3): Conv3d(512, 768, kernel_size=(1, 1, 1), stride=(1, 1, 1))\n",
       "            )\n",
       "          )\n",
       "          (attn): MultiheadAttention(\n",
       "            (out_proj): NonDynamicallyQuantizableLinear(in_features=768, out_features=768, bias=True)\n",
       "          )\n",
       "          (ln_1): LayerNorm((768,), eps=1e-05, elementwise_affine=True)\n",
       "          (mlp): Sequential(\n",
       "            (c_fc): Linear(in_features=768, out_features=3072, bias=True)\n",
       "            (gelu): QuickGELU()\n",
       "            (c_proj): Linear(in_features=3072, out_features=768, bias=True)\n",
       "          )\n",
       "          (ln_2): LayerNorm((768,), eps=1e-05, elementwise_affine=True)\n",
       "        )\n",
       "      )\n",
       "      (dpe): ModuleList(\n",
       "        (0-3): 4 x Conv3d(768, 768, kernel_size=(3, 3, 3), stride=(1, 1, 1), padding=(1, 1, 1), groups=768)\n",
       "      )\n",
       "      (dec): ModuleList(\n",
       "        (0-3): 4 x Extractor(\n",
       "          (drop_path): Identity()\n",
       "          (attn): MultiheadAttention(\n",
       "            (out_proj): NonDynamicallyQuantizableLinear(in_features=768, out_features=768, bias=True)\n",
       "          )\n",
       "          (ln_1): LayerNorm((768,), eps=1e-05, elementwise_affine=True)\n",
       "          (mlp): Sequential(\n",
       "            (c_fc): Linear(in_features=768, out_features=3072, bias=True)\n",
       "            (gelu): QuickGELU()\n",
       "            (dropout): Dropout(p=0.5, inplace=False)\n",
       "            (c_proj): Linear(in_features=3072, out_features=768, bias=True)\n",
       "          )\n",
       "          (ln_2): LayerNorm((768,), eps=1e-05, elementwise_affine=True)\n",
       "          (ln_3): LayerNorm((768,), eps=1e-05, elementwise_affine=True)\n",
       "        )\n",
       "      )\n",
       "      (sigmoid): Sigmoid()\n",
       "      (proj): Sequential(\n",
       "        (0): LayerNorm((768,), eps=1e-05, elementwise_affine=True)\n",
       "        (1): Dropout(p=0.5, inplace=False)\n",
       "        (2): Linear(in_features=768, out_features=400, bias=True)\n",
       "      )\n",
       "    )\n",
       "  )\n",
       ")"
      ]
     },
     "execution_count": 6,
     "metadata": {},
     "output_type": "execute_result"
    }
   ],
   "source": [
    "modified_model"
   ]
  },
  {
   "cell_type": "code",
   "execution_count": 5,
   "metadata": {},
   "outputs": [],
   "source": [
    "import os\n",
    "import pandas\n",
    "import json\n",
    "from typing import List, Dict, Any, Tuple, Union\n",
    "import random\n",
    "import re\n",
    "\n",
    "\n",
    "class TimeHandler:\n",
    "    @staticmethod\n",
    "    def parse_game_time(game_time: str) -> Tuple[int, int, int]:\n",
    "        \"\"\"\n",
    "        Parse game_time string format \"1 - 23:45\" into (1, 23, 45)\n",
    "        \n",
    "        Args:\n",
    "            game_time: String in format \"half - minutes:seconds\"\n",
    "            \n",
    "        Returns:\n",
    "            Tuple of (half, minutes, seconds)\n",
    "        \"\"\"\n",
    "        half, time_part = game_time.split(' - ')\n",
    "        minutes, seconds = map(int, time_part.split(':'))\n",
    "        return int(half), minutes, seconds\n",
    "    \n",
    "    @staticmethod\n",
    "    def parse_max_time_by_half(first_half: str, second_half: str) -> Dict[int, Tuple[int, int]]:\n",
    "        \"\"\"\n",
    "        Convert two strings 'half - minutes:seconds' into dict {half: (minutes, seconds)}\n",
    "        \n",
    "        Example:\n",
    "            entry1 = \"1 - 44:49\"\n",
    "            entry2 = \"2 - 44:42\"\n",
    "            Result:\n",
    "            {1: (44, 49), 2: (44, 42)}\n",
    "        \"\"\"\n",
    "        return {int(entry.split(\" - \")[0]): tuple(map(int, entry.split(\" - \")[1].split(\":\"))) \n",
    "                for entry in [first_half, second_half]}\n",
    "    \n",
    "    @staticmethod\n",
    "    def get_half(game_time: str) -> str:\n",
    "        \"\"\"Extract half from game_time string\"\"\"\n",
    "        try:\n",
    "            return game_time.split(' - ')[0]\n",
    "        except:\n",
    "            print(f\"Error: Cannot extract half from: {game_time}\")\n",
    "            return None\n",
    "    \n",
    "    @staticmethod\n",
    "    def get_minute_second(game_time: str) -> Tuple[int, int]:\n",
    "        \"\"\"Extract minute and second from game_time string\"\"\"\n",
    "        try:\n",
    "            time_part = game_time.split(' - ')[1]\n",
    "            minute = int(time_part.split(':')[0])\n",
    "            second = int(time_part.split(':')[1])\n",
    "            return minute, second\n",
    "        except:\n",
    "            return None, None\n",
    "    \n",
    "    @staticmethod\n",
    "    def calculate_time_difference(time1: str, time2: str) -> float:\n",
    "        \"\"\"Calculate time difference between two game_time strings in seconds\"\"\"\n",
    "        half1 = TimeHandler.get_half(time1)\n",
    "        half2 = TimeHandler.get_half(time2)\n",
    "        \n",
    "        if half1 != half2:\n",
    "            return float('inf')  # Different halves, return infinity\n",
    "        \n",
    "        min1, sec1 = TimeHandler.get_minute_second(time1)\n",
    "        min2, sec2 = TimeHandler.get_minute_second(time2)\n",
    "        \n",
    "        if min1 is None or min2 is None:\n",
    "            return float('inf')\n",
    "        \n",
    "        return abs((min1 * 60 + sec1) - (min2 * 60 + sec2))\n",
    "    \n",
    "    @staticmethod\n",
    "    def game_time_to_seconds(game_time: str) -> int:\n",
    "        \"\"\"Convert game_time (H - MM:SS) to total seconds\"\"\"\n",
    "        try:\n",
    "            _, time_part = game_time.split(' - ')\n",
    "            minute, second = map(int, time_part.split(':'))\n",
    "            return minute * 60 + second\n",
    "        except:\n",
    "            print(f\"Error: Cannot convert gameTime: {game_time}\")\n",
    "            return None\n",
    "    \n",
    "    @staticmethod\n",
    "    def seconds_to_game_time(seconds: int, half: str) -> str:\n",
    "        \"\"\"Convert total seconds to game_time (H - MM:SS), no negative values allowed\"\"\"\n",
    "        if seconds is None:\n",
    "            return None\n",
    "        # Limit to non-negative\n",
    "        seconds = max(0, seconds)\n",
    "        minute = seconds // 60\n",
    "        second = seconds % 60\n",
    "        return f\"{half} - {minute:02d}:{second:02d}\"\n",
    "    \n",
    "    @staticmethod\n",
    "    def is_time_before(game_time1: str, game_time2: str) -> bool:\n",
    "        \"\"\"Compare if game_time1 is before game_time2\"\"\"\n",
    "        half1 = TimeHandler.get_half(game_time1)\n",
    "        half2 = TimeHandler.get_half(game_time2)\n",
    "        if half1 != half2:\n",
    "            return False\n",
    "        seconds1 = TimeHandler.game_time_to_seconds(game_time1)\n",
    "        seconds2 = TimeHandler.game_time_to_seconds(game_time2)\n",
    "        if seconds1 is None or seconds2 is None:\n",
    "            return False\n",
    "        return seconds1 < seconds2\n",
    "    \n",
    "    @staticmethod\n",
    "    def is_second_half_and_late(game_time: str) -> bool:\n",
    "        \"\"\"Check if the game is in second half and after 30 minutes\"\"\"\n",
    "        try:\n",
    "            half = game_time.split(' - ')[0]\n",
    "            minute = int(game_time.split(' - ')[1].split(':')[0])\n",
    "            return half == '2' and minute > 30\n",
    "        except:\n",
    "            return False\n",
    "    \n",
    "    @staticmethod\n",
    "    def adjust_gameTime(game_time_str: str) -> str:\n",
    "        \"\"\"\n",
    "        Input: '44:50' or '59:55'\n",
    "        Output: '44:59' or '59:59'\n",
    "        \"\"\"\n",
    "        minutes, seconds = map(int, game_time_str.split(':'))\n",
    "        \n",
    "        if seconds > 59:\n",
    "            seconds = 59\n",
    "            \n",
    "        if minutes > 59:\n",
    "            minutes = 59\n",
    "            \n",
    "        # Set seconds to 59\n",
    "        seconds = 59\n",
    "            \n",
    "        return f\"{minutes}:{str(seconds).zfill(2)}\"\n",
    "    \n",
    "    @staticmethod\n",
    "    def adjust_full_gameTime(full_game_time_str: str) -> str:\n",
    "        \"\"\"\n",
    "        Input: '1 - 44:50'\n",
    "        Output: '1 - 44:59'\n",
    "        \"\"\"\n",
    "        half, time_str = full_game_time_str.split(' - ')\n",
    "        adjusted_time = TimeHandler.adjust_gameTime(time_str)\n",
    "        return f\"{half} - {adjusted_time}\"\n",
    "\n",
    "    @staticmethod\n",
    "    def convert_to_seconds(time_str):\n",
    "        \"\"\"\n",
    "        Chuyển đổi thời gian dạng 'half - minute:second' thành giây.\n",
    "        \"\"\"\n",
    "        half, time = time_str.split(' - ')\n",
    "        minutes, seconds = map(int, time.split(':'))\n",
    "\n",
    "        # Nếu là hiệp 2, thì cộng thêm 45 phút\n",
    "        if half == '2':\n",
    "            minutes += 45\n",
    "\n",
    "        total_seconds = minutes * 60 + seconds\n",
    "        return total_seconds\n",
    "\n",
    "    @staticmethod\n",
    "    def convert_from_seconds(seconds):\n",
    "        \"\"\"\n",
    "        Chuyển đổi số giây thành dạng 'half - minute:second'.\n",
    "        \"\"\"\n",
    "        if seconds >= 45 * 60:  # Nếu thời gian thuộc hiệp 2\n",
    "            half = '2'\n",
    "            remaining_seconds = seconds - 45 * 60\n",
    "        else:\n",
    "            half = '1'\n",
    "            remaining_seconds = seconds\n",
    "        \n",
    "        minutes = remaining_seconds // 60\n",
    "        seconds = remaining_seconds % 60\n",
    "        \n",
    "        return f\"{half} - {minutes}:{seconds:02d}\"\n",
    "\n",
    "class DataLoader:\n",
    "    @staticmethod\n",
    "    def load_and_filter_labels(caption_path: str, label_path: str) -> Tuple[List[Dict[str, Any]], List[Dict[str, Any]]]:\n",
    "        \"\"\"\n",
    "        Load annotations (caption) and labels from JSON files, and filter out unwanted keys in label data.\n",
    "        \n",
    "        Args:\n",
    "            caption_path: Path to JSON file containing caption data\n",
    "            label_path: Path to JSON file containing label data\n",
    "            \n",
    "        Returns:\n",
    "            Tuple of loaded caption data and filtered label data\n",
    "        \"\"\"\n",
    "        with open(caption_path, \"r\") as f:\n",
    "            caption_data = json.load(f)['annotations']\n",
    "        \n",
    "        with open(label_path, \"r\") as f2:\n",
    "            label_data = json.load(f2)['annotations']\n",
    "        \n",
    "        # Correct filtering logic: must create a new list\n",
    "        filtered_label_data = [\n",
    "            {k: v for k, v in datas.items() if k not in ['visibility', 'team', 'identified', 'description']}\n",
    "            for datas in label_data\n",
    "        ]\n",
    "        \n",
    "        return caption_data, filtered_label_data\n",
    "    \n",
    "    @staticmethod\n",
    "    def find_max_game_times(label_data: List[Dict[str, Any]]) -> Tuple[str, str]:\n",
    "        \"\"\"Find maximum game time for first and second half\"\"\"\n",
    "        max1 = max((item for item in label_data if item['gameTime'].startswith('1')), \n",
    "                   key=lambda x: int(x['position']), default=None)\n",
    "        max2 = max((item for item in label_data if item['gameTime'].startswith('2')), \n",
    "                   key=lambda x: int(x['position']), default=None)\n",
    "        return (max1['gameTime'] if max1 else None, max2['gameTime'] if max2 else None)\n",
    "    \n",
    "    @staticmethod\n",
    "    def find_max_game_time(label_data: List[Dict[str, Any]]) -> Dict[str, str]:\n",
    "        \"\"\"Find maximum game time for each half based on position\"\"\"\n",
    "        max_game_time = {'1': None, '2': None}\n",
    "        max_position = {'1': -1, '2': -1}\n",
    "        \n",
    "        for item in label_data:\n",
    "            half = TimeHandler.get_half(item['gameTime'])\n",
    "            if half not in ['1', '2']:\n",
    "                continue\n",
    "            position = int(item['position'])\n",
    "            if position > max_position[half]:\n",
    "                max_position[half] = position\n",
    "                max_game_time[half] = item['gameTime']\n",
    "        \n",
    "        return max_game_time\n",
    "    \n",
    "    @staticmethod\n",
    "    def max_gameTime_as_dict(max_gameTime1: str, max_gameTime2: str) -> Dict[str, str]:\n",
    "        \"\"\"Convert max game times to dictionary with adjusted values\"\"\"\n",
    "        return {\n",
    "            \"1\": f\"{TimeHandler.adjust_full_gameTime(max_gameTime1)}\", \n",
    "            \"2\": f\"{TimeHandler.adjust_full_gameTime(max_gameTime2)}\"\n",
    "        }\n",
    "\n",
    "\n",
    "class EventMatcher:\n",
    "    @staticmethod\n",
    "    def sort_caption_dataset(caption_data: List, max_time: Dict[int, Tuple[int, int]]) -> List:\n",
    "        \"\"\"Sort caption data by game time and filter based on max time\"\"\"\n",
    "        filtered_annotations = []\n",
    "        for item in caption_data:\n",
    "            half, min_, sec = TimeHandler.parse_game_time(item['gameTime'])\n",
    "            if half in [1, 2]:\n",
    "                max_min, max_sec = max_time[half]\n",
    "                if (min_, sec) <= (max_min, max_sec):\n",
    "                    filtered_annotations.append(item)\n",
    "        \n",
    "        # Sort by increasing time\n",
    "        sorted_annotations = sorted(\n",
    "            filtered_annotations,\n",
    "            key=lambda x: TimeHandler.parse_game_time(x['gameTime'])\n",
    "        )\n",
    "        \n",
    "        return sorted_annotations\n",
    "    \n",
    "    @staticmethod\n",
    "    def match_descriptions_with_events(descriptions: List, events: List) -> List[Dict]:\n",
    "        \"\"\"Match descriptions with related events based on time proximity\"\"\"\n",
    "        # Function to get position as integer (milliseconds)\n",
    "        def get_position(pos):\n",
    "            try:\n",
    "                return int(pos)\n",
    "            except (ValueError, TypeError):\n",
    "                print(f\"Error: Cannot convert position: {pos}\")\n",
    "                return 0\n",
    "        \n",
    "        # Function to get nearest events in the same half by real time\n",
    "        def get_nearest_events(desc_game_time, events, num_events=5):\n",
    "            # Calculate time distance and sort\n",
    "            events_with_distance = [(event, TimeHandler.calculate_time_difference(desc_game_time, event['gameTime'])) \n",
    "                                   for event in events]\n",
    "            events_with_distance.sort(key=lambda x: x[1])\n",
    "            # Get at most num_events events\n",
    "            return [event for event, distance in events_with_distance[:num_events]]\n",
    "        \n",
    "        # Result will be a list of descriptions with related events\n",
    "        result = []\n",
    "        \n",
    "        # Iterate through each description\n",
    "        for desc in descriptions:\n",
    "            _ = get_position(desc['position'])\n",
    "            _ = TimeHandler.get_half(desc['gameTime'])\n",
    "            related_events = []\n",
    "            \n",
    "            # Determine time range based on label, importance, and half\n",
    "            # Change unit to seconds instead of milliseconds\n",
    "            if desc['important']:\n",
    "                if desc['label'] == 'soccer-ball':\n",
    "                    time_before = 30  # 30 seconds before\n",
    "                    time_after = 30   # 30 seconds after\n",
    "                elif desc['label'] == 'injury':\n",
    "                    time_before = 10  # 10 seconds before\n",
    "                    time_after = 20   # 20 seconds after\n",
    "                elif desc['label'] in ['r-card', 'yr-card']:\n",
    "                    time_before = 16  # 16 seconds before\n",
    "                    time_after = 16   # 16 seconds after\n",
    "                else:\n",
    "                    time_before = 15  # Default 15 seconds before\n",
    "                    time_after = 15   # Default 15 seconds after\n",
    "            else:\n",
    "                time_before = 15  # Default 15 seconds before\n",
    "                time_after = 15   # Default 15 seconds after\n",
    "            \n",
    "            # If in second half and minute > 30, extend by 5 seconds\n",
    "            if TimeHandler.is_second_half_and_late(desc['gameTime']):\n",
    "                time_before = min(time_before + 5, 60)\n",
    "                time_after = min(time_after + 5, 60)\n",
    "            \n",
    "            # Find nearest events based on real time (gameTime)\n",
    "            nearest_events = get_nearest_events(desc['gameTime'], events, 10)\n",
    "            \n",
    "            # Filter events within allowed time range\n",
    "            for event in nearest_events:\n",
    "                time_diff = TimeHandler.calculate_time_difference(desc['gameTime'], event['gameTime'])\n",
    "                if time_diff <= max(time_before, time_after):\n",
    "                    related_events.append(event)\n",
    "            \n",
    "            # If no events found, expand search range\n",
    "            if len(related_events) == 0:\n",
    "                # Expand up to 2 minutes (120 seconds)\n",
    "                extended_time = 120\n",
    "                for event in events:\n",
    "                    time_diff = TimeHandler.calculate_time_difference(desc['gameTime'], event['gameTime'])\n",
    "                    if time_diff <= extended_time:\n",
    "                        related_events.append(event)\n",
    "                \n",
    "                # Log if still no events found\n",
    "                if len(related_events) == 0:\n",
    "                    print(f\"No events found after expanding to {extended_time} seconds for description at {desc['gameTime']}\")\n",
    "            \n",
    "            # Add description and related events to result\n",
    "            result.append({\n",
    "                'description': desc,\n",
    "                'related_events': related_events\n",
    "            })\n",
    "        return result\n",
    "    \n",
    "    @staticmethod\n",
    "    def calculate_min_max_time_bounds(related_events: List, current_time: str, \n",
    "                                      max_game_time: Dict[str, str]) -> Tuple[str, str]:\n",
    "        \"\"\"Calculate minimum and maximum time bounds based on related events and current time\"\"\"\n",
    "        if not related_events:\n",
    "            return None, None\n",
    "        \n",
    "        half = TimeHandler.get_half(current_time)\n",
    "        if half is None:\n",
    "            return None, None\n",
    "        \n",
    "        current_seconds = TimeHandler.game_time_to_seconds(current_time)\n",
    "        if current_seconds is None:\n",
    "            return None, None\n",
    "        \n",
    "        # Get max_gameTime for corresponding half\n",
    "        max_game_time_str = max_game_time.get(half)\n",
    "        max_seconds = TimeHandler.game_time_to_seconds(max_game_time_str) if max_game_time_str else float('inf')\n",
    "        \n",
    "        if len(related_events) == 1:\n",
    "            # Case with only 1 event\n",
    "            event = related_events[0]\n",
    "            event_game_time = event['event_gameTime']\n",
    "            event_seconds = TimeHandler.game_time_to_seconds(event_game_time)\n",
    "            if event_seconds is None:\n",
    "                return None, None\n",
    "            \n",
    "            # Check for Kickoff\n",
    "            is_kickoff = re.search(r'kick-?off', event['event_label'], re.IGNORECASE) is not None\n",
    "            \n",
    "            if TimeHandler.is_time_before(event_game_time, current_time):\n",
    "                # Event is before current_time\n",
    "                min_time_seconds = event_seconds - 5\n",
    "                max_time_seconds = current_seconds + 5\n",
    "            elif TimeHandler.is_time_before(current_time, event_game_time):\n",
    "                # Event is after current_time\n",
    "                min_time_seconds = current_seconds - 5\n",
    "                max_time_seconds = event_seconds + 5\n",
    "            else:\n",
    "                # Event coincides with current_time\n",
    "                min_time_seconds = event_seconds - 5\n",
    "                max_time_seconds = event_seconds + 5\n",
    "            \n",
    "            min_time = TimeHandler.seconds_to_game_time(min_time_seconds, half) if min_time_seconds is not None else None\n",
    "            \n",
    "            if is_kickoff:\n",
    "                # max_time = min_time + 3 seconds\n",
    "                max_time_seconds = min_time_seconds + 3 if min_time_seconds is not None else None\n",
    "            max_time = TimeHandler.seconds_to_game_time(max_time_seconds, half) if max_time_seconds is not None else None\n",
    "            \n",
    "            # If max_time is None, set it to current_time\n",
    "            if max_time is None:\n",
    "                max_time = current_time\n",
    "            \n",
    "            # Limit max_time to not exceed max_gameTime\n",
    "            if max_time and max_seconds != float('inf'):\n",
    "                max_time_seconds = TimeHandler.game_time_to_seconds(max_time)\n",
    "                if max_time_seconds and max_time_seconds > max_seconds:\n",
    "                    max_time = max_game_time_str\n",
    "            \n",
    "            return min_time, max_time\n",
    "        \n",
    "        # Case with more than 1 event\n",
    "        min_time_seconds = float('inf')\n",
    "        max_time_seconds = -float('inf')\n",
    "        min_event = None\n",
    "        max_event = None\n",
    "        \n",
    "        for event in related_events:\n",
    "            game_time = event['event_gameTime']\n",
    "            seconds = TimeHandler.game_time_to_seconds(game_time)\n",
    "            if seconds is None:\n",
    "                continue\n",
    "                \n",
    "            if seconds < min_time_seconds:\n",
    "                min_time_seconds = seconds\n",
    "                min_event = event\n",
    "                \n",
    "            if seconds > max_time_seconds:\n",
    "                max_time_seconds = seconds\n",
    "                max_event = event\n",
    "        \n",
    "        if min_event is None or max_event is None:\n",
    "            return None, None\n",
    "        \n",
    "        # Calculate min_time and max_time\n",
    "        min_time_seconds = min_time_seconds - 5\n",
    "        min_time = TimeHandler.seconds_to_game_time(min_time_seconds, half) if min_time_seconds is not None else None\n",
    "        \n",
    "        # Check Kickoff for max_event\n",
    "        is_kickoff = re.search(r'kick-?off', max_event['event_label'], re.IGNORECASE) is not None\n",
    "        if is_kickoff:\n",
    "            # max_time = min_time + 3 seconds\n",
    "            max_time_seconds = min_time_seconds + 3 if min_time_seconds is not None else None\n",
    "        else:\n",
    "            max_time_seconds = max_time_seconds + 5\n",
    "        max_time = TimeHandler.seconds_to_game_time(max_time_seconds, half) if max_time_seconds is not None else None\n",
    "        \n",
    "        # If max_time is None, set it to current_time\n",
    "        if max_time is None:\n",
    "            max_time = current_time\n",
    "        \n",
    "        # Limit max_time to not exceed max_gameTime\n",
    "        if max_time and max_seconds != float('inf'):\n",
    "            max_time_seconds = TimeHandler.game_time_to_seconds(max_time)\n",
    "            if max_time_seconds and max_time_seconds > max_seconds:\n",
    "                max_time = max_game_time_str\n",
    "        \n",
    "        return min_time, max_time\n",
    "\n",
    "\n",
    "class OutputFormatter:\n",
    "    @staticmethod\n",
    "    def description_events_formatter(result: List[Dict]) -> List[Dict]:\n",
    "        \"\"\"Format description and events data for output\"\"\"\n",
    "        lines = []\n",
    "        \n",
    "        for item in result:\n",
    "            position = item['description']['label']\n",
    "            current_time = item['description']['gameTime']\n",
    "            # If position is not present, assign 'non_event'\n",
    "            if not position:\n",
    "                position = \"non_event\"\n",
    "            \n",
    "            # Skip if position is 'time' or 'funfact'\n",
    "            if position.lower() in [\"time\", \"funfact\"]:\n",
    "                continue\n",
    "            \n",
    "            entry = {\n",
    "                \"description\": item['description']['anonymized'],\n",
    "                \"position\": position,\n",
    "                \"curent_time\": current_time,  # Note: typo in original code\n",
    "                \"related_events\": []\n",
    "            }\n",
    "            \n",
    "            if item['related_events']:\n",
    "                for event in item['related_events']:\n",
    "                    entry['related_events'].append({\n",
    "                        \"event_label\": event['label'],\n",
    "                        \"event_gameTime\": event['gameTime'],\n",
    "                        \"event_position\": event['position']\n",
    "                    })\n",
    "            \n",
    "            lines.append(entry)\n",
    "        return lines\n",
    "    \n",
    "    @staticmethod\n",
    "    def reformatting_related_events(json_path: str, max_game_time_dict: Dict[str, str]) -> List[Dict]:\n",
    "        \"\"\"Reformat related events with time bounds\"\"\"\n",
    "        df = pandas.read_json(json_path, lines=True)\n",
    "        \n",
    "        # Process each row in DataFrame\n",
    "        results = []\n",
    "        for _, row in df.iterrows():\n",
    "            description = row['description']\n",
    "            position = row['position']\n",
    "            current_time = row['curent_time']  # Note: typo in original code\n",
    "            related_events = row['related_events']\n",
    "            \n",
    "            # Calculate min_time and max_time\n",
    "            min_time, max_time = EventMatcher.calculate_min_max_time_bounds(related_events, current_time, max_game_time_dict)\n",
    "            \n",
    "            # Keep related_events unchanged\n",
    "            entry = {\n",
    "                \"description\": description,\n",
    "                \"position\": position,\n",
    "                \"curent_time\": current_time,  # Note: typo in original code\n",
    "                \"related_events\": related_events,\n",
    "                \"time_bounds\": {\n",
    "                    \"min_time\": min_time,\n",
    "                    \"max_time\": max_time\n",
    "                }\n",
    "            }\n",
    "            \n",
    "            results.append(entry)\n",
    "        return results\n",
    "\n",
    "    @staticmethod\n",
    "    def extend_video_time(current_start, current_end, total_duration_needed, min_extend_before=5, max_game_time_dict: dict = DataLoader.max_gameTime_as_dict):\n",
    "        \"\"\"\n",
    "        Mở rộng thời gian video về cả hai phía để đạt được tổng thời lượng mong muốn.\n",
    "        Đảm bảo mở rộng tối thiểu min_extend_before giây về phía trước.\n",
    "        \n",
    "        Args:\n",
    "            current_start: Thời điểm bắt đầu hiện tại dạng 'half - minute:second'\n",
    "            current_end: Thời điểm kết thúc hiện tại dạng 'half - minute:second'\n",
    "            total_duration_needed: Tổng thời lượng cần đạt được (giây)\n",
    "            min_extend_before: Số giây tối thiểu cần mở rộng về phía trước\n",
    "        \n",
    "        Returns:\n",
    "            Thời điểm bắt đầu mới, kết thúc mới, và tổng thời lượng mới\n",
    "        \"\"\"\n",
    "        # Chuyển đổi thời gian hiện tại sang giây\n",
    "        start_seconds = TimeHandler.convert_to_seconds(current_start)\n",
    "        end_seconds = TimeHandler.convert_to_seconds(current_end)\n",
    "        \n",
    "        # Tính thời lượng hiện tại\n",
    "        current_duration = end_seconds - start_seconds\n",
    "        \n",
    "        # Tính thời lượng cần thêm\n",
    "        additional_duration_needed = total_duration_needed - current_duration\n",
    "        \n",
    "        if additional_duration_needed <= 0:\n",
    "            return current_start, current_end, current_duration\n",
    "        \n",
    "        # Giới hạn thời gian tối đa của mỗi hiệp (44:59)\n",
    "        end_of_1st, end_of_2nd = max_game_time_dict.get(\"1\"), max_game_time_dict.get(\"2\")\n",
    "        max_half_seconds = TimeHandler.convert_to_seconds(end_of_1st)  # Giống nhau cho cả hiệp 1 và 2\n",
    "        max_seconds_half1 = max_half_seconds\n",
    "        max_seconds_half2 = TimeHandler.convert_to_seconds(end_of_2nd)\n",
    "        min_seconds = 0  # Giây thứ 0 của hiệp 1\n",
    "        \n",
    "        # Tính toán không gian có thể mở rộng về mỗi phía\n",
    "        space_before = start_seconds - min_seconds\n",
    "        \n",
    "        if end_seconds <= max_seconds_half1:  # Nếu kết thúc trong hiệp 1\n",
    "            space_after = max_seconds_half1 - end_seconds\n",
    "        else:  # Nếu kết thúc trong hiệp 2\n",
    "            space_after = max_seconds_half2 - end_seconds\n",
    "        \n",
    "        # Kiểm tra xem có đủ không gian để mở rộng tối thiểu về phía trước không\n",
    "        if space_before < min_extend_before:\n",
    "            min_extend_before = space_before  # Điều chỉnh nếu không đủ không gian\n",
    "        \n",
    "        # Đảm bảo mở rộng tối thiểu về phía trước\n",
    "        extend_before = min_extend_before\n",
    "        \n",
    "        # Tính toán phần còn lại cần mở rộng\n",
    "        remaining_extension = additional_duration_needed - extend_before\n",
    "        \n",
    "        if remaining_extension <= 0:\n",
    "            # Nếu đã đạt đủ thời lượng chỉ với việc mở rộng tối thiểu phía trước\n",
    "            extend_after = 0\n",
    "        elif remaining_extension > space_after:\n",
    "            # Nếu không gian phía sau không đủ, mở rộng thêm về phía trước nếu có thể\n",
    "            extend_after = space_after\n",
    "            additional_before = min(space_before - min_extend_before, remaining_extension - extend_after)\n",
    "            extend_before += additional_before\n",
    "        else:\n",
    "            # Phân bổ ngẫu nhiên phần còn lại giữa phía trước và phía sau\n",
    "            # Đảm bảo đã có tối thiểu min_extend_before ở phía trước\n",
    "            additional_before_max = min(space_before - min_extend_before, remaining_extension)\n",
    "            \n",
    "            # Ngẫu nhiên quyết định phần thêm về phía trước (ngoài phần tối thiểu)\n",
    "            additional_before = random.randint(0, additional_before_max)\n",
    "            extend_before += additional_before\n",
    "            \n",
    "            # Phần còn lại mở rộng về phía sau\n",
    "            extend_after = remaining_extension - additional_before\n",
    "        \n",
    "        # Tính toán thời điểm mới\n",
    "        new_start_seconds = start_seconds - extend_before\n",
    "        new_end_seconds = end_seconds + extend_after\n",
    "        \n",
    "        # Chuyển đổi lại thành định dạng 'half - minute:second'\n",
    "        new_start = TimeHandler.convert_from_seconds(new_start_seconds)\n",
    "        new_end = TimeHandler.convert_from_seconds(new_end_seconds)\n",
    "        \n",
    "        # Tính toán tổng thời lượng mới\n",
    "        new_duration = new_end_seconds - new_start_seconds\n",
    "        \n",
    "        return new_start, new_end, new_duration\n",
    "\n",
    "class SoccerDataProcessor:\n",
    "    def __init__(self, caption_path: str, label_path: str):\n",
    "        self.caption_path = caption_path\n",
    "        self.label_path = label_path\n",
    "        self.caption_data = None\n",
    "        self.label_data = None\n",
    "        self.max_gameTime1 = None\n",
    "        self.max_gameTime2 = None\n",
    "        self.max_game_time_dict = None\n",
    "        self.max_time_by_half = None\n",
    "        self.sorted_annotations = None\n",
    "        self.matching_related_events = None\n",
    "        self.formatted_items = None\n",
    "        self.formatted_event_relations = None\n",
    "    \n",
    "    def load_data(self):\n",
    "        \"\"\"Load and prepare initial data\"\"\"\n",
    "        self.caption_data, self.label_data = DataLoader.load_and_filter_labels(\n",
    "            self.caption_path,\n",
    "            self.label_path\n",
    "        )\n",
    "        \n",
    "        self.max_gameTime1, self.max_gameTime2 = DataLoader.find_max_game_times(self.label_data)\n",
    "        self.max_game_time_dict = DataLoader.max_gameTime_as_dict(self.max_gameTime1, self.max_gameTime2)\n",
    "        self.max_time_by_half = TimeHandler.parse_max_time_by_half(self.max_gameTime1, self.max_gameTime2)\n",
    "        \n",
    "        return self\n",
    "    \n",
    "    def process_data(self):\n",
    "        \"\"\"Process data to match descriptions with events\"\"\"\n",
    "        if not self.caption_data or not self.label_data:\n",
    "            raise ValueError(\"Data not loaded. Call load_data() first.\")\n",
    "            \n",
    "        self.sorted_annotations = EventMatcher.sort_caption_dataset(self.caption_data, self.max_time_by_half)\n",
    "        self.matching_related_events = EventMatcher.match_descriptions_with_events(self.sorted_annotations, self.label_data)\n",
    "        \n",
    "        return self\n",
    "    \n",
    "    def format_output(self):\n",
    "        \"\"\"Format output data\"\"\"\n",
    "        if not self.matching_related_events:\n",
    "            raise ValueError(\"Data not processed. Call process_data() first.\")\n",
    "            \n",
    "        self.formatted_items = OutputFormatter.description_events_formatter(self.matching_related_events)\n",
    "        \n",
    "        return self\n",
    "    \n",
    "    def save_output(self, game_root = \"\",output_name='output.jsonl'):\n",
    "        \"\"\"Save formatted output to JSONL file\"\"\"\n",
    "        if not self.formatted_items:\n",
    "            raise ValueError(\"Output not formatted. Call format_output() first.\")\n",
    "        \n",
    "        output_path = os.path.join(game_root, output_name)\n",
    "        \n",
    "        with open(output_path, 'w', encoding='utf-8') as f:\n",
    "            for line in self.formatted_items:\n",
    "                json.dump(line, f, ensure_ascii=False)\n",
    "                f.write('\\n')\n",
    "        \n",
    "        return self\n",
    "    \n",
    "    def add_time_bounds(self, game_root = \"\", input_name='output.jsonl', output_name='output_time_bounds.jsonl'):\n",
    "        \"\"\"Add time bounds to output data and save to new file\"\"\"\n",
    "        \n",
    "        input_path = os.path.join(game_root, input_name)\n",
    "        output_path = os.path.join(game_root, output_name)\n",
    "        \n",
    "        self.formatted_event_relations = OutputFormatter.reformatting_related_events(\n",
    "            input_path, self.max_game_time_dict\n",
    "        )\n",
    "        \n",
    "        with open(output_path, 'w', encoding='utf-8') as f:\n",
    "            for item in self.formatted_event_relations:\n",
    "                json.dump(item, f, ensure_ascii=False)\n",
    "                f.write('\\n')\n",
    "        \n",
    "        return self\n",
    "    \n",
    "    def add_start_end_block(self, game_root = \"\", json_name: str = \"output_time_bounds.jsonl\"):\n",
    "        \n",
    "        json_path = os.path.join(game_root, json_name)\n",
    "        data= pandas.read_json(json_path, lines=True)\n",
    "        time_observed = []\n",
    "        for _, item in data.iterrows():\n",
    "            start_t, end_t = item['time_bounds']['min_time'], item['time_bounds']['max_time']\n",
    "            new_start, new_end, _ = OutputFormatter.extend_video_time(start_t, end_t, 60, 5, self.max_game_time_dict)\n",
    "            video_range = {\"start\": new_start, \"end\": new_end}\n",
    "            time_observed.append(video_range)\n",
    "\n",
    "        data['duration'] = time_observed\n",
    "\n",
    "        output_path = f'{game_root}/output_time_bounds_with_duration.jsonl'\n",
    "        data.to_json(output_path, orient='records', lines=True)\n",
    "        import os\n",
    "\n",
    "        if os.path.exists(f\"{game_root}/output.jsonl\"):\n",
    "            os.remove(f\"{game_root}/output.jsonl\")\n",
    "\n",
    "        if os.path.exists(f\"{game_root}/output_time_bounds.jsonl\"):\n",
    "            os.remove(f\"{game_root}/output_time_bounds.jsonl\")\n",
    "            \n",
    "    def run_pipeline(self, game_root = \"\"):\n",
    "        \"\"\"Run the entire data processing pipeline\"\"\"\n",
    "        return (self\n",
    "                .load_data()\n",
    "                .process_data()\n",
    "                .format_output()\n",
    "                .save_output(game_root=game_root)\n",
    "                .add_time_bounds(game_root=game_root)\n",
    "                .add_start_end_block(game_root=game_root))\n",
    "        \n",
    "# if __name__ == \"__main__\":\n",
    "caption_path = \"D:/projects/train/england_epl/2014-2015/2015-02-21 - 18-00 Chelsea 1 - 1 Burnley/Labels-caption.json\"\n",
    "label_path = \"D:/projects/train/england_epl/2014-2015/2015-02-21 - 18-00 Chelsea 1 - 1 Burnley/Labels-v2.json\"\n",
    "\n",
    "# Create processor and run pipeline\n",
    "processor = SoccerDataProcessor(caption_path, label_path)\n",
    "processor.run_pipeline()\n"
   ]
  },
  {
   "cell_type": "code",
   "execution_count": 1,
   "metadata": {},
   "outputs": [],
   "source": [
    "import pandas \n",
    "data = pandas.read_csv(\"data/event_va_dataset.csv\", sep = \";\")"
   ]
  },
  {
   "cell_type": "code",
   "execution_count": 5,
   "metadata": {},
   "outputs": [
    {
     "name": "stderr",
     "output_type": "stream",
     "text": [
      "  1%|          | 236/26704 [00:47<24:48, 17.79it/s]  "
     ]
    },
    {
     "name": "stdout",
     "output_type": "stream",
     "text": [
      "Bỏ qua audio tại F:/video_classification/2014-11-05 - 22-45 Bayern Munich 2 - 0 AS Roma/chunk_49/chunk_49.mp3: quá ngắn (0.008s < 0.025s)\n",
      "Bỏ qua audio tại F:/video_classification/2014-11-05 - 22-45 Bayern Munich 2 - 0 AS Roma/chunk_67/chunk_67.mp3: quá ngắn (0.021s < 0.025s)\n",
      "Bỏ qua audio tại F:/video_classification/2014-11-05 - 22-45 Bayern Munich 2 - 0 AS Roma/chunk_78/chunk_78.mp3: quá ngắn (0.021s < 0.025s)\n",
      "Bỏ qua audio tại F:/video_classification/2014-11-05 - 22-45 Bayern Munich 2 - 0 AS Roma/chunk_79/chunk_79.mp3: quá ngắn (0.021s < 0.025s)\n",
      "Bỏ qua audio tại F:/video_classification/2014-11-05 - 22-45 Bayern Munich 2 - 0 AS Roma/chunk_90/chunk_90.mp3: quá ngắn (0.021s < 0.025s)\n"
     ]
    },
    {
     "name": "stderr",
     "output_type": "stream",
     "text": [
      " 15%|█▌        | 4129/26704 [13:05<23:30, 16.00it/s]  "
     ]
    },
    {
     "name": "stdout",
     "output_type": "stream",
     "text": [
      "Bỏ qua audio tại F:/video_classification/2015-08-22 - 16-30 Hoffenheim 1 - 2 Bayern Munich/chunk_2/chunk_2.mp3: quá ngắn (0.024s < 0.025s)\n",
      "Bỏ qua audio tại F:/video_classification/2015-08-22 - 16-30 Hoffenheim 1 - 2 Bayern Munich/chunk_18/chunk_18.mp3: quá ngắn (0.021s < 0.025s)\n",
      "Bỏ qua audio tại F:/video_classification/2015-08-22 - 16-30 Hoffenheim 1 - 2 Bayern Munich/chunk_19/chunk_19.mp3: quá ngắn (0.021s < 0.025s)\n",
      "Bỏ qua audio tại F:/video_classification/2015-08-22 - 16-30 Hoffenheim 1 - 2 Bayern Munich/chunk_41/chunk_41.mp3: quá ngắn (0.020s < 0.025s)\n",
      "Bỏ qua audio tại F:/video_classification/2015-08-22 - 16-30 Hoffenheim 1 - 2 Bayern Munich/chunk_51/chunk_51.mp3: quá ngắn (0.024s < 0.025s)\n",
      "Bỏ qua audio tại F:/video_classification/2015-08-22 - 16-30 Hoffenheim 1 - 2 Bayern Munich/chunk_59/chunk_59.mp3: quá ngắn (0.008s < 0.025s)\n",
      "Bỏ qua audio tại F:/video_classification/2015-08-22 - 16-30 Hoffenheim 1 - 2 Bayern Munich/chunk_69/chunk_69.mp3: quá ngắn (0.021s < 0.025s)\n",
      "Bỏ qua audio tại F:/video_classification/2015-08-22 - 16-30 Hoffenheim 1 - 2 Bayern Munich/chunk_70/chunk_70.mp3: quá ngắn (0.021s < 0.025s)\n"
     ]
    },
    {
     "name": "stderr",
     "output_type": "stream",
     "text": [
      " 25%|██▍       | 6593/26704 [20:53<20:49, 16.09it/s]  "
     ]
    },
    {
     "name": "stdout",
     "output_type": "stream",
     "text": [
      "Bỏ qua audio tại F:/video_classification/2015-10-04 - 21-30 Atl. Madrid 1 - 1 Real Madrid/chunk_6/chunk_6.mp3: quá ngắn (0.021s < 0.025s)\n",
      "Bỏ qua audio tại F:/video_classification/2015-10-04 - 21-30 Atl. Madrid 1 - 1 Real Madrid/chunk_10/chunk_10.mp3: quá ngắn (0.021s < 0.025s)\n",
      "Bỏ qua audio tại F:/video_classification/2015-10-04 - 21-30 Atl. Madrid 1 - 1 Real Madrid/chunk_15/chunk_15.mp3: quá ngắn (0.012s < 0.025s)\n",
      "Bỏ qua audio tại F:/video_classification/2015-10-04 - 21-30 Atl. Madrid 1 - 1 Real Madrid/chunk_16/chunk_16.mp3: quá ngắn (0.012s < 0.025s)\n"
     ]
    },
    {
     "name": "stderr",
     "output_type": "stream",
     "text": [
      " 25%|██▍       | 6606/26704 [20:54<09:33, 35.04it/s]"
     ]
    },
    {
     "name": "stdout",
     "output_type": "stream",
     "text": [
      "Bỏ qua audio tại F:/video_classification/2015-10-04 - 21-30 Atl. Madrid 1 - 1 Real Madrid/chunk_18/chunk_18.mp3: quá ngắn (0.011s < 0.025s)\n",
      "Bỏ qua audio tại F:/video_classification/2015-10-04 - 21-30 Atl. Madrid 1 - 1 Real Madrid/chunk_25/chunk_25.mp3: quá ngắn (0.015s < 0.025s)\n",
      "Bỏ qua audio tại F:/video_classification/2015-10-04 - 21-30 Atl. Madrid 1 - 1 Real Madrid/chunk_27/chunk_27.mp3: quá ngắn (0.021s < 0.025s)\n",
      "Bỏ qua audio tại F:/video_classification/2015-10-04 - 21-30 Atl. Madrid 1 - 1 Real Madrid/chunk_28/chunk_28.mp3: quá ngắn (0.021s < 0.025s)\n",
      "Bỏ qua audio tại F:/video_classification/2015-10-04 - 21-30 Atl. Madrid 1 - 1 Real Madrid/chunk_33/chunk_33.mp3: quá ngắn (0.003s < 0.025s)\n"
     ]
    },
    {
     "name": "stderr",
     "output_type": "stream",
     "text": [
      " 25%|██▍       | 6616/26704 [20:54<08:56, 37.45it/s]"
     ]
    },
    {
     "name": "stdout",
     "output_type": "stream",
     "text": [
      "Bỏ qua audio tại F:/video_classification/2015-10-04 - 21-30 Atl. Madrid 1 - 1 Real Madrid/chunk_39/chunk_39.mp3: quá ngắn (0.021s < 0.025s)\n",
      "Bỏ qua audio tại F:/video_classification/2015-10-04 - 21-30 Atl. Madrid 1 - 1 Real Madrid/chunk_40/chunk_40.mp3: quá ngắn (0.021s < 0.025s)\n",
      "Bỏ qua audio tại F:/video_classification/2015-10-04 - 21-30 Atl. Madrid 1 - 1 Real Madrid/chunk_42/chunk_42.mp3: quá ngắn (0.021s < 0.025s)\n",
      "Bỏ qua audio tại F:/video_classification/2015-10-04 - 21-30 Atl. Madrid 1 - 1 Real Madrid/chunk_48/chunk_48.mp3: quá ngắn (0.021s < 0.025s)\n"
     ]
    },
    {
     "name": "stderr",
     "output_type": "stream",
     "text": [
      " 25%|██▍       | 6644/26704 [20:54<06:08, 54.46it/s]"
     ]
    },
    {
     "name": "stdout",
     "output_type": "stream",
     "text": [
      "Bỏ qua audio tại F:/video_classification/2015-10-04 - 21-30 Atl. Madrid 1 - 1 Real Madrid/chunk_78/chunk_78.mp3: quá ngắn (0.021s < 0.025s)\n",
      "Bỏ qua audio tại F:/video_classification/2015-10-04 - 21-30 Atl. Madrid 1 - 1 Real Madrid/chunk_79/chunk_79.mp3: quá ngắn (0.021s < 0.025s)\n",
      "Bỏ qua audio tại F:/video_classification/2015-10-04 - 21-30 Atl. Madrid 1 - 1 Real Madrid/chunk_83/chunk_83.mp3: quá ngắn (0.023s < 0.025s)\n",
      "Bỏ qua audio tại F:/video_classification/2015-10-04 - 21-30 Atl. Madrid 1 - 1 Real Madrid/chunk_88/chunk_88.mp3: quá ngắn (0.008s < 0.025s)\n"
     ]
    },
    {
     "name": "stderr",
     "output_type": "stream",
     "text": [
      " 34%|███▍      | 9104/26704 [28:49<17:31, 16.74it/s]  "
     ]
    },
    {
     "name": "stdout",
     "output_type": "stream",
     "text": [
      "Bỏ qua audio tại F:/video_classification/2015-11-29 - 15-00 Tottenham 0 - 0 Chelsea/chunk_25/chunk_25.mp3: quá ngắn (0.012s < 0.025s)\n",
      "Bỏ qua audio tại F:/video_classification/2015-11-29 - 15-00 Tottenham 0 - 0 Chelsea/chunk_41/chunk_41.mp3: quá ngắn (0.011s < 0.025s)\n",
      "Bỏ qua audio tại F:/video_classification/2015-11-29 - 15-00 Tottenham 0 - 0 Chelsea/chunk_48/chunk_48.mp3: quá ngắn (0.024s < 0.025s)\n",
      "Bỏ qua audio tại F:/video_classification/2015-11-29 - 15-00 Tottenham 0 - 0 Chelsea/chunk_49/chunk_49.mp3: quá ngắn (0.024s < 0.025s)\n",
      "Bỏ qua audio tại F:/video_classification/2015-11-29 - 15-00 Tottenham 0 - 0 Chelsea/chunk_55/chunk_55.mp3: quá ngắn (0.005s < 0.025s)\n",
      "Bỏ qua audio tại F:/video_classification/2015-11-29 - 15-00 Tottenham 0 - 0 Chelsea/chunk_94/chunk_94.mp3: quá ngắn (0.011s < 0.025s)\n",
      "Bỏ qua audio tại F:/video_classification/2015-11-29 - 15-00 Tottenham 0 - 0 Chelsea/chunk_95/chunk_95.mp3: quá ngắn (0.011s < 0.025s)\n"
     ]
    },
    {
     "name": "stderr",
     "output_type": "stream",
     "text": [
      " 34%|███▍      | 9121/26704 [28:49<08:40, 33.76it/s]"
     ]
    },
    {
     "name": "stdout",
     "output_type": "stream",
     "text": [
      "Bỏ qua audio tại F:/video_classification/2015-11-29 - 18-00 Eibar 0 - 2 Real Madrid/chunk_4/chunk_4.mp3: quá ngắn (0.021s < 0.025s)\n",
      "Bỏ qua audio tại F:/video_classification/2015-11-29 - 18-00 Eibar 0 - 2 Real Madrid/chunk_17/chunk_17.mp3: quá ngắn (0.011s < 0.025s)\n"
     ]
    },
    {
     "name": "stderr",
     "output_type": "stream",
     "text": [
      " 34%|███▍      | 9136/26704 [28:49<05:53, 49.75it/s]"
     ]
    },
    {
     "name": "stdout",
     "output_type": "stream",
     "text": [
      "Bỏ qua audio tại F:/video_classification/2015-11-29 - 18-00 Eibar 0 - 2 Real Madrid/chunk_20/chunk_20.mp3: quá ngắn (0.021s < 0.025s)\n",
      "Bỏ qua audio tại F:/video_classification/2015-11-29 - 18-00 Eibar 0 - 2 Real Madrid/chunk_21/chunk_21.mp3: quá ngắn (0.021s < 0.025s)\n",
      "Bỏ qua audio tại F:/video_classification/2015-11-29 - 18-00 Eibar 0 - 2 Real Madrid/chunk_25/chunk_25.mp3: quá ngắn (0.015s < 0.025s)\n",
      "Bỏ qua audio tại F:/video_classification/2015-11-29 - 18-00 Eibar 0 - 2 Real Madrid/chunk_36/chunk_36.mp3: quá ngắn (0.021s < 0.025s)\n",
      "Bỏ qua audio tại F:/video_classification/2015-11-29 - 18-00 Eibar 0 - 2 Real Madrid/chunk_42/chunk_42.mp3: quá ngắn (0.021s < 0.025s)\n",
      "Bỏ qua audio tại F:/video_classification/2015-11-29 - 18-00 Eibar 0 - 2 Real Madrid/chunk_43/chunk_43.mp3: quá ngắn (0.021s < 0.025s)\n",
      "Bỏ qua audio tại F:/video_classification/2015-11-29 - 18-00 Eibar 0 - 2 Real Madrid/chunk_44/chunk_44.mp3: quá ngắn (0.008s < 0.025s)\n"
     ]
    },
    {
     "name": "stderr",
     "output_type": "stream",
     "text": [
      " 35%|███▍      | 9292/26704 [29:16<11:06, 26.11it/s]  "
     ]
    },
    {
     "name": "stdout",
     "output_type": "stream",
     "text": [
      "Bỏ qua audio tại F:/video_classification/2015-12-09 - 22-45 D. Zagreb 0 - 2 Bayern Munich/chunk_3/chunk_3.mp3: quá ngắn (0.021s < 0.025s)\n",
      "Bỏ qua audio tại F:/video_classification/2015-12-09 - 22-45 D. Zagreb 0 - 2 Bayern Munich/chunk_10/chunk_10.mp3: quá ngắn (0.012s < 0.025s)\n",
      "Bỏ qua audio tại F:/video_classification/2015-12-09 - 22-45 D. Zagreb 0 - 2 Bayern Munich/chunk_11/chunk_11.mp3: quá ngắn (0.020s < 0.025s)\n"
     ]
    },
    {
     "name": "stderr",
     "output_type": "stream",
     "text": [
      " 35%|███▍      | 9307/26704 [29:16<06:53, 42.06it/s]"
     ]
    },
    {
     "name": "stdout",
     "output_type": "stream",
     "text": [
      "Bỏ qua audio tại F:/video_classification/2015-12-09 - 22-45 D. Zagreb 0 - 2 Bayern Munich/chunk_27/chunk_27.mp3: quá ngắn (0.021s < 0.025s)\n",
      "Bỏ qua audio tại F:/video_classification/2015-12-09 - 22-45 D. Zagreb 0 - 2 Bayern Munich/chunk_28/chunk_28.mp3: quá ngắn (0.021s < 0.025s)\n",
      "Bỏ qua audio tại F:/video_classification/2015-12-09 - 22-45 D. Zagreb 0 - 2 Bayern Munich/chunk_31/chunk_31.mp3: quá ngắn (0.021s < 0.025s)\n",
      "Bỏ qua audio tại F:/video_classification/2015-12-09 - 22-45 D. Zagreb 0 - 2 Bayern Munich/chunk_39/chunk_39.mp3: quá ngắn (0.021s < 0.025s)\n",
      "Bỏ qua audio tại F:/video_classification/2015-12-09 - 22-45 D. Zagreb 0 - 2 Bayern Munich/chunk_41/chunk_41.mp3: quá ngắn (0.021s < 0.025s)\n"
     ]
    },
    {
     "name": "stderr",
     "output_type": "stream",
     "text": [
      " 35%|███▍      | 9317/26704 [29:17<07:53, 36.70it/s]"
     ]
    },
    {
     "name": "stdout",
     "output_type": "stream",
     "text": [
      "Bỏ qua audio tại F:/video_classification/2015-12-09 - 22-45 D. Zagreb 0 - 2 Bayern Munich/chunk_45/chunk_45.mp3: quá ngắn (0.017s < 0.025s)\n",
      "Bỏ qua audio tại F:/video_classification/2015-12-09 - 22-45 D. Zagreb 0 - 2 Bayern Munich/chunk_48/chunk_48.mp3: quá ngắn (0.017s < 0.025s)\n",
      "Bỏ qua audio tại F:/video_classification/2015-12-09 - 22-45 D. Zagreb 0 - 2 Bayern Munich/chunk_49/chunk_49.mp3: quá ngắn (0.021s < 0.025s)\n"
     ]
    },
    {
     "name": "stderr",
     "output_type": "stream",
     "text": [
      " 35%|███▍      | 9333/26704 [29:17<05:32, 52.24it/s]"
     ]
    },
    {
     "name": "stdout",
     "output_type": "stream",
     "text": [
      "Bỏ qua audio tại F:/video_classification/2015-12-09 - 22-45 D. Zagreb 0 - 2 Bayern Munich/chunk_58/chunk_58.mp3: quá ngắn (0.021s < 0.025s)\n",
      "Bỏ qua audio tại F:/video_classification/2015-12-09 - 22-45 D. Zagreb 0 - 2 Bayern Munich/chunk_60/chunk_60.mp3: quá ngắn (0.021s < 0.025s)\n",
      "Bỏ qua audio tại F:/video_classification/2015-12-09 - 22-45 D. Zagreb 0 - 2 Bayern Munich/chunk_63/chunk_63.mp3: quá ngắn (0.021s < 0.025s)\n"
     ]
    },
    {
     "name": "stderr",
     "output_type": "stream",
     "text": [
      " 35%|███▌      | 9347/26704 [29:17<05:12, 55.52it/s]"
     ]
    },
    {
     "name": "stdout",
     "output_type": "stream",
     "text": [
      "Bỏ qua audio tại F:/video_classification/2015-12-09 - 22-45 D. Zagreb 0 - 2 Bayern Munich/chunk_75/chunk_75.mp3: quá ngắn (0.020s < 0.025s)\n",
      "Bỏ qua audio tại F:/video_classification/2015-12-09 - 22-45 D. Zagreb 0 - 2 Bayern Munich/chunk_81/chunk_81.mp3: quá ngắn (0.021s < 0.025s)\n",
      "Bỏ qua audio tại F:/video_classification/2015-12-09 - 22-45 D. Zagreb 0 - 2 Bayern Munich/chunk_83/chunk_83.mp3: quá ngắn (0.017s < 0.025s)\n",
      "Bỏ qua audio tại F:/video_classification/2015-12-09 - 22-45 D. Zagreb 0 - 2 Bayern Munich/chunk_84/chunk_84.mp3: quá ngắn (0.005s < 0.025s)\n"
     ]
    },
    {
     "name": "stderr",
     "output_type": "stream",
     "text": [
      " 35%|███▌      | 9360/26704 [29:17<04:52, 59.27it/s]"
     ]
    },
    {
     "name": "stdout",
     "output_type": "stream",
     "text": [
      "Bỏ qua audio tại F:/video_classification/2015-12-12 - 17-30 Bayern Munich 2 - 0 Ingolstadt/chunk_1/chunk_1.mp3: quá ngắn (0.021s < 0.025s)\n",
      "Bỏ qua audio tại F:/video_classification/2015-12-12 - 17-30 Bayern Munich 2 - 0 Ingolstadt/chunk_3/chunk_3.mp3: quá ngắn (0.021s < 0.025s)\n",
      "Bỏ qua audio tại F:/video_classification/2015-12-12 - 17-30 Bayern Munich 2 - 0 Ingolstadt/chunk_14/chunk_14.mp3: quá ngắn (0.021s < 0.025s)\n",
      "Bỏ qua audio tại F:/video_classification/2015-12-12 - 17-30 Bayern Munich 2 - 0 Ingolstadt/chunk_25/chunk_25.mp3: quá ngắn (0.021s < 0.025s)\n",
      "Bỏ qua audio tại F:/video_classification/2015-12-12 - 17-30 Bayern Munich 2 - 0 Ingolstadt/chunk_30/chunk_30.mp3: quá ngắn (0.021s < 0.025s)\n"
     ]
    },
    {
     "name": "stderr",
     "output_type": "stream",
     "text": [
      " 35%|███▌      | 9376/26704 [29:17<04:20, 66.49it/s]"
     ]
    },
    {
     "name": "stdout",
     "output_type": "stream",
     "text": [
      "Bỏ qua audio tại F:/video_classification/2015-12-12 - 17-30 Bayern Munich 2 - 0 Ingolstadt/chunk_31/chunk_31.mp3: quá ngắn (0.021s < 0.025s)\n",
      "Bỏ qua audio tại F:/video_classification/2015-12-12 - 17-30 Bayern Munich 2 - 0 Ingolstadt/chunk_48/chunk_48.mp3: quá ngắn (0.017s < 0.025s)\n",
      "Bỏ qua audio tại F:/video_classification/2015-12-12 - 17-30 Bayern Munich 2 - 0 Ingolstadt/chunk_51/chunk_51.mp3: quá ngắn (0.013s < 0.025s)\n",
      "Bỏ qua audio tại F:/video_classification/2015-12-12 - 17-30 Bayern Munich 2 - 0 Ingolstadt/chunk_60/chunk_60.mp3: quá ngắn (0.024s < 0.025s)\n",
      "Bỏ qua audio tại F:/video_classification/2015-12-12 - 17-30 Bayern Munich 2 - 0 Ingolstadt/chunk_69/chunk_69.mp3: quá ngắn (0.005s < 0.025s)\n",
      "Bỏ qua audio tại F:/video_classification/2015-12-12 - 17-30 Bayern Munich 2 - 0 Ingolstadt/chunk_75/chunk_75.mp3: quá ngắn (0.021s < 0.025s)\n",
      "Bỏ qua audio tại F:/video_classification/2015-12-12 - 17-30 Bayern Munich 2 - 0 Ingolstadt/chunk_88/chunk_88.mp3: quá ngắn (0.021s < 0.025s)\n"
     ]
    },
    {
     "name": "stderr",
     "output_type": "stream",
     "text": [
      " 36%|███▌      | 9485/26704 [29:36<10:07, 28.33it/s]  "
     ]
    },
    {
     "name": "stdout",
     "output_type": "stream",
     "text": [
      "Bỏ qua audio tại F:/video_classification/2015-12-26 - 18-00 Manchester City 4 - 1 Sunderland/chunk_5/chunk_5.mp3: quá ngắn (0.021s < 0.025s)\n",
      "Bỏ qua audio tại F:/video_classification/2015-12-26 - 18-00 Manchester City 4 - 1 Sunderland/chunk_6/chunk_6.mp3: quá ngắn (0.021s < 0.025s)\n",
      "Bỏ qua audio tại F:/video_classification/2015-12-26 - 18-00 Manchester City 4 - 1 Sunderland/chunk_12/chunk_12.mp3: quá ngắn (0.021s < 0.025s)\n",
      "Bỏ qua audio tại F:/video_classification/2015-12-26 - 18-00 Manchester City 4 - 1 Sunderland/chunk_16/chunk_16.mp3: quá ngắn (0.021s < 0.025s)\n",
      "Bỏ qua audio tại F:/video_classification/2015-12-26 - 18-00 Manchester City 4 - 1 Sunderland/chunk_27/chunk_27.mp3: quá ngắn (0.008s < 0.025s)\n",
      "Bỏ qua audio tại F:/video_classification/2015-12-26 - 18-00 Manchester City 4 - 1 Sunderland/chunk_34/chunk_34.mp3: quá ngắn (0.021s < 0.025s)\n",
      "Bỏ qua audio tại F:/video_classification/2015-12-26 - 18-00 Manchester City 4 - 1 Sunderland/chunk_35/chunk_35.mp3: quá ngắn (0.021s < 0.025s)\n",
      "Bỏ qua audio tại F:/video_classification/2015-12-26 - 18-00 Manchester City 4 - 1 Sunderland/chunk_36/chunk_36.mp3: quá ngắn (0.021s < 0.025s)\n",
      "Bỏ qua audio tại F:/video_classification/2015-12-26 - 18-00 Manchester City 4 - 1 Sunderland/chunk_46/chunk_46.mp3: quá ngắn (0.024s < 0.025s)\n",
      "Bỏ qua audio tại F:/video_classification/2015-12-26 - 18-00 Manchester City 4 - 1 Sunderland/chunk_51/chunk_51.mp3: quá ngắn (0.016s < 0.025s)\n",
      "Bỏ qua audio tại F:/video_classification/2015-12-26 - 18-00 Manchester City 4 - 1 Sunderland/chunk_56/chunk_56.mp3: quá ngắn (0.021s < 0.025s)\n",
      "Bỏ qua audio tại F:/video_classification/2015-12-26 - 18-00 Manchester City 4 - 1 Sunderland/chunk_83/chunk_83.mp3: quá ngắn (0.021s < 0.025s)\n"
     ]
    },
    {
     "name": "stderr",
     "output_type": "stream",
     "text": [
      " 36%|███▌      | 9679/26704 [30:12<11:13, 25.26it/s]  "
     ]
    },
    {
     "name": "stdout",
     "output_type": "stream",
     "text": [
      "Bỏ qua audio tại F:/video_classification/2016-01-24 - 22-30 Betis 1 - 1 Real Madrid/chunk_2/chunk_2.mp3: quá ngắn (0.021s < 0.025s)\n",
      "Bỏ qua audio tại F:/video_classification/2016-01-24 - 22-30 Betis 1 - 1 Real Madrid/chunk_15/chunk_15.mp3: quá ngắn (0.021s < 0.025s)\n"
     ]
    },
    {
     "name": "stderr",
     "output_type": "stream",
     "text": [
      " 36%|███▋      | 9701/26704 [30:12<05:35, 50.71it/s]"
     ]
    },
    {
     "name": "stdout",
     "output_type": "stream",
     "text": [
      "Bỏ qua audio tại F:/video_classification/2016-01-24 - 22-30 Betis 1 - 1 Real Madrid/chunk_25/chunk_25.mp3: quá ngắn (0.017s < 0.025s)\n",
      "Bỏ qua audio tại F:/video_classification/2016-01-24 - 22-30 Betis 1 - 1 Real Madrid/chunk_26/chunk_26.mp3: quá ngắn (0.017s < 0.025s)\n",
      "Bỏ qua audio tại F:/video_classification/2016-01-24 - 22-30 Betis 1 - 1 Real Madrid/chunk_28/chunk_28.mp3: quá ngắn (0.005s < 0.025s)\n",
      "Bỏ qua audio tại F:/video_classification/2016-01-24 - 22-30 Betis 1 - 1 Real Madrid/chunk_35/chunk_35.mp3: quá ngắn (0.021s < 0.025s)\n"
     ]
    },
    {
     "name": "stderr",
     "output_type": "stream",
     "text": [
      " 36%|███▋      | 9722/26704 [30:12<04:36, 61.44it/s]"
     ]
    },
    {
     "name": "stdout",
     "output_type": "stream",
     "text": [
      "Bỏ qua audio tại F:/video_classification/2016-01-24 - 22-30 Betis 1 - 1 Real Madrid/chunk_53/chunk_53.mp3: quá ngắn (0.011s < 0.025s)\n",
      "Bỏ qua audio tại F:/video_classification/2016-01-24 - 22-30 Betis 1 - 1 Real Madrid/chunk_56/chunk_56.mp3: quá ngắn (0.021s < 0.025s)\n",
      "Bỏ qua audio tại F:/video_classification/2016-01-24 - 22-30 Betis 1 - 1 Real Madrid/chunk_57/chunk_57.mp3: quá ngắn (0.021s < 0.025s)\n",
      "Bỏ qua audio tại F:/video_classification/2016-01-24 - 22-30 Betis 1 - 1 Real Madrid/chunk_60/chunk_60.mp3: quá ngắn (0.021s < 0.025s)\n",
      "Bỏ qua audio tại F:/video_classification/2016-01-24 - 22-30 Betis 1 - 1 Real Madrid/chunk_64/chunk_64.mp3: quá ngắn (0.011s < 0.025s)\n"
     ]
    },
    {
     "name": "stderr",
     "output_type": "stream",
     "text": [
      " 36%|███▋      | 9729/26704 [30:13<04:27, 63.39it/s]"
     ]
    },
    {
     "name": "stdout",
     "output_type": "stream",
     "text": [
      "Bỏ qua audio tại F:/video_classification/2016-01-24 - 22-30 Betis 1 - 1 Real Madrid/chunk_73/chunk_73.mp3: quá ngắn (0.021s < 0.025s)\n",
      "Bỏ qua audio tại F:/video_classification/2016-01-24 - 22-30 Betis 1 - 1 Real Madrid/chunk_77/chunk_77.mp3: quá ngắn (0.017s < 0.025s)\n"
     ]
    },
    {
     "name": "stderr",
     "output_type": "stream",
     "text": [
      " 37%|███▋      | 9832/26704 [30:31<15:22, 18.29it/s]  "
     ]
    },
    {
     "name": "stdout",
     "output_type": "stream",
     "text": [
      "Bỏ qua audio tại F:/video_classification/2016-01-31 - 22-30 Real Madrid 6 - 0 Espanyol/chunk_3/chunk_3.mp3: quá ngắn (0.021s < 0.025s)\n",
      "Bỏ qua audio tại F:/video_classification/2016-01-31 - 22-30 Real Madrid 6 - 0 Espanyol/chunk_5/chunk_5.mp3: quá ngắn (0.021s < 0.025s)\n",
      "Bỏ qua audio tại F:/video_classification/2016-01-31 - 22-30 Real Madrid 6 - 0 Espanyol/chunk_10/chunk_10.mp3: quá ngắn (0.021s < 0.025s)\n",
      "Bỏ qua audio tại F:/video_classification/2016-01-31 - 22-30 Real Madrid 6 - 0 Espanyol/chunk_18/chunk_18.mp3: quá ngắn (0.021s < 0.025s)\n",
      "Bỏ qua audio tại F:/video_classification/2016-01-31 - 22-30 Real Madrid 6 - 0 Espanyol/chunk_20/chunk_20.mp3: quá ngắn (0.021s < 0.025s)\n",
      "Bỏ qua audio tại F:/video_classification/2016-01-31 - 22-30 Real Madrid 6 - 0 Espanyol/chunk_21/chunk_21.mp3: quá ngắn (0.021s < 0.025s)\n"
     ]
    },
    {
     "name": "stderr",
     "output_type": "stream",
     "text": [
      " 37%|███▋      | 9873/26704 [30:32<04:44, 59.07it/s]"
     ]
    },
    {
     "name": "stdout",
     "output_type": "stream",
     "text": [
      "Bỏ qua audio tại F:/video_classification/2016-01-31 - 22-30 Real Madrid 6 - 0 Espanyol/chunk_44/chunk_44.mp3: quá ngắn (0.011s < 0.025s)\n"
     ]
    },
    {
     "name": "stderr",
     "output_type": "stream",
     "text": [
      " 37%|███▋      | 9888/26704 [30:32<04:32, 61.80it/s]"
     ]
    },
    {
     "name": "stdout",
     "output_type": "stream",
     "text": [
      "Bỏ qua audio tại F:/video_classification/2016-01-31 - 22-30 Real Madrid 6 - 0 Espanyol/chunk_59/chunk_59.mp3: quá ngắn (0.021s < 0.025s)\n",
      "Bỏ qua audio tại F:/video_classification/2016-01-31 - 22-30 Real Madrid 6 - 0 Espanyol/chunk_60/chunk_60.mp3: quá ngắn (0.021s < 0.025s)\n"
     ]
    },
    {
     "name": "stderr",
     "output_type": "stream",
     "text": [
      " 37%|███▋      | 9899/26704 [30:32<03:53, 71.85it/s]"
     ]
    },
    {
     "name": "stdout",
     "output_type": "stream",
     "text": [
      "Bỏ qua audio tại F:/video_classification/2016-01-31 - 22-30 Real Madrid 6 - 0 Espanyol/chunk_74/chunk_74.mp3: quá ngắn (0.021s < 0.025s)\n",
      "Bỏ qua audio tại F:/video_classification/2016-01-31 - 22-30 Real Madrid 6 - 0 Espanyol/chunk_76/chunk_76.mp3: quá ngắn (0.012s < 0.025s)\n"
     ]
    },
    {
     "name": "stderr",
     "output_type": "stream",
     "text": [
      " 37%|███▋      | 10010/26704 [30:50<13:06, 21.23it/s]"
     ]
    },
    {
     "name": "stdout",
     "output_type": "stream",
     "text": [
      "Bỏ qua audio tại F:/video_classification/2016-02-07 - 22-30 Granada CF 1 - 2 Real Madrid/chunk_8/chunk_8.mp3: quá ngắn (0.011s < 0.025s)\n",
      "Bỏ qua audio tại F:/video_classification/2016-02-07 - 22-30 Granada CF 1 - 2 Real Madrid/chunk_9/chunk_9.mp3: quá ngắn (0.011s < 0.025s)\n",
      "Bỏ qua audio tại F:/video_classification/2016-02-07 - 22-30 Granada CF 1 - 2 Real Madrid/chunk_22/chunk_22.mp3: quá ngắn (0.013s < 0.025s)\n",
      "Bỏ qua audio tại F:/video_classification/2016-02-07 - 22-30 Granada CF 1 - 2 Real Madrid/chunk_64/chunk_64.mp3: quá ngắn (0.011s < 0.025s)\n",
      "Bỏ qua audio tại F:/video_classification/2016-02-07 - 22-30 Granada CF 1 - 2 Real Madrid/chunk_65/chunk_65.mp3: quá ngắn (0.011s < 0.025s)\n"
     ]
    },
    {
     "name": "stderr",
     "output_type": "stream",
     "text": [
      " 38%|███▊      | 10118/26704 [31:09<08:58, 30.79it/s]  "
     ]
    },
    {
     "name": "stdout",
     "output_type": "stream",
     "text": [
      "Bỏ qua audio tại F:/video_classification/2016-02-21 - 18-00 Malaga 1 - 1 Real Madrid/chunk_1/chunk_1.mp3: quá ngắn (0.021s < 0.025s)\n",
      "Bỏ qua audio tại F:/video_classification/2016-02-21 - 18-00 Malaga 1 - 1 Real Madrid/chunk_3/chunk_3.mp3: quá ngắn (0.023s < 0.025s)\n"
     ]
    },
    {
     "name": "stderr",
     "output_type": "stream",
     "text": [
      " 38%|███▊      | 10141/26704 [31:09<05:42, 48.39it/s]"
     ]
    },
    {
     "name": "stdout",
     "output_type": "stream",
     "text": [
      "Bỏ qua audio tại F:/video_classification/2016-02-21 - 18-00 Malaga 1 - 1 Real Madrid/chunk_36/chunk_36.mp3: quá ngắn (0.012s < 0.025s)\n",
      "Bỏ qua audio tại F:/video_classification/2016-02-21 - 18-00 Malaga 1 - 1 Real Madrid/chunk_38/chunk_38.mp3: quá ngắn (0.021s < 0.025s)\n",
      "Bỏ qua audio tại F:/video_classification/2016-02-21 - 18-00 Malaga 1 - 1 Real Madrid/chunk_44/chunk_44.mp3: quá ngắn (0.021s < 0.025s)\n"
     ]
    },
    {
     "name": "stderr",
     "output_type": "stream",
     "text": [
      " 38%|███▊      | 10154/26704 [31:09<05:23, 51.16it/s]"
     ]
    },
    {
     "name": "stdout",
     "output_type": "stream",
     "text": [
      "Bỏ qua audio tại F:/video_classification/2016-02-21 - 18-00 Malaga 1 - 1 Real Madrid/chunk_49/chunk_49.mp3: quá ngắn (0.021s < 0.025s)\n"
     ]
    },
    {
     "name": "stderr",
     "output_type": "stream",
     "text": [
      " 38%|███▊      | 10165/26704 [31:10<06:15, 44.04it/s]"
     ]
    },
    {
     "name": "stdout",
     "output_type": "stream",
     "text": [
      "Bỏ qua audio tại F:/video_classification/2016-02-21 - 18-00 Malaga 1 - 1 Real Madrid/chunk_58/chunk_58.mp3: quá ngắn (0.020s < 0.025s)\n",
      "Bỏ qua audio tại F:/video_classification/2016-02-21 - 18-00 Malaga 1 - 1 Real Madrid/chunk_61/chunk_61.mp3: quá ngắn (0.012s < 0.025s)\n",
      "Bỏ qua audio tại F:/video_classification/2016-02-21 - 18-00 Malaga 1 - 1 Real Madrid/chunk_64/chunk_64.mp3: quá ngắn (0.015s < 0.025s)\n"
     ]
    },
    {
     "name": "stderr",
     "output_type": "stream",
     "text": [
      " 38%|███▊      | 10180/26704 [31:10<05:08, 53.54it/s]"
     ]
    },
    {
     "name": "stdout",
     "output_type": "stream",
     "text": [
      "Bỏ qua audio tại F:/video_classification/2016-02-21 - 18-00 Malaga 1 - 1 Real Madrid/chunk_73/chunk_73.mp3: quá ngắn (0.021s < 0.025s)\n",
      "Bỏ qua audio tại F:/video_classification/2016-02-21 - 18-00 Malaga 1 - 1 Real Madrid/chunk_81/chunk_81.mp3: quá ngắn (0.021s < 0.025s)\n"
     ]
    },
    {
     "name": "stderr",
     "output_type": "stream",
     "text": [
      " 39%|███▉      | 10384/26704 [31:46<07:23, 36.79it/s]  "
     ]
    },
    {
     "name": "stdout",
     "output_type": "stream",
     "text": [
      "Bỏ qua audio tại F:/video_classification/2016-03-05 - 18-00 Real Madrid 7 - 1 Celta Vigo/chunk_12/chunk_12.mp3: quá ngắn (0.021s < 0.025s)\n",
      "Bỏ qua audio tại F:/video_classification/2016-03-05 - 18-00 Real Madrid 7 - 1 Celta Vigo/chunk_14/chunk_14.mp3: quá ngắn (0.021s < 0.025s)\n",
      "Bỏ qua audio tại F:/video_classification/2016-03-05 - 18-00 Real Madrid 7 - 1 Celta Vigo/chunk_16/chunk_16.mp3: quá ngắn (0.011s < 0.025s)\n",
      "Bỏ qua audio tại F:/video_classification/2016-03-05 - 18-00 Real Madrid 7 - 1 Celta Vigo/chunk_22/chunk_22.mp3: quá ngắn (0.021s < 0.025s)\n"
     ]
    },
    {
     "name": "stderr",
     "output_type": "stream",
     "text": [
      " 39%|███▉      | 10398/26704 [31:46<05:29, 49.52it/s]"
     ]
    },
    {
     "name": "stdout",
     "output_type": "stream",
     "text": [
      "Bỏ qua audio tại F:/video_classification/2016-03-05 - 18-00 Real Madrid 7 - 1 Celta Vigo/chunk_30/chunk_30.mp3: quá ngắn (0.016s < 0.025s)\n",
      "Bỏ qua audio tại F:/video_classification/2016-03-05 - 18-00 Real Madrid 7 - 1 Celta Vigo/chunk_35/chunk_35.mp3: quá ngắn (0.021s < 0.025s)\n"
     ]
    },
    {
     "name": "stderr",
     "output_type": "stream",
     "text": [
      " 39%|███▉      | 10410/26704 [31:46<05:46, 47.08it/s]"
     ]
    },
    {
     "name": "stdout",
     "output_type": "stream",
     "text": [
      "Bỏ qua audio tại F:/video_classification/2016-03-05 - 18-00 Real Madrid 7 - 1 Celta Vigo/chunk_51/chunk_51.mp3: quá ngắn (0.021s < 0.025s)\n"
     ]
    },
    {
     "name": "stderr",
     "output_type": "stream",
     "text": [
      " 39%|███▉      | 10421/26704 [31:47<05:26, 49.90it/s]"
     ]
    },
    {
     "name": "stdout",
     "output_type": "stream",
     "text": [
      "Bỏ qua audio tại F:/video_classification/2016-03-05 - 18-00 Real Madrid 7 - 1 Celta Vigo/chunk_65/chunk_65.mp3: quá ngắn (0.021s < 0.025s)\n",
      "Bỏ qua audio tại F:/video_classification/2016-03-05 - 18-00 Real Madrid 7 - 1 Celta Vigo/chunk_66/chunk_66.mp3: quá ngắn (0.021s < 0.025s)\n",
      "Bỏ qua audio tại F:/video_classification/2016-03-05 - 18-00 Real Madrid 7 - 1 Celta Vigo/chunk_67/chunk_67.mp3: quá ngắn (0.021s < 0.025s)\n",
      "Bỏ qua audio tại F:/video_classification/2016-03-05 - 18-00 Real Madrid 7 - 1 Celta Vigo/chunk_68/chunk_68.mp3: quá ngắn (0.021s < 0.025s)\n"
     ]
    },
    {
     "name": "stderr",
     "output_type": "stream",
     "text": [
      " 39%|███▉      | 10436/26704 [31:47<04:45, 57.03it/s]"
     ]
    },
    {
     "name": "stdout",
     "output_type": "stream",
     "text": [
      "Bỏ qua audio tại F:/video_classification/2016-03-05 - 18-00 Real Madrid 7 - 1 Celta Vigo/chunk_82/chunk_82.mp3: quá ngắn (0.021s < 0.025s)\n",
      "Bỏ qua audio tại F:/video_classification/2016-03-13 - 22-30 Las Palmas 1 - 2 Real Madrid/chunk_2/chunk_2.mp3: quá ngắn (0.012s < 0.025s)\n"
     ]
    },
    {
     "name": "stderr",
     "output_type": "stream",
     "text": [
      " 39%|███▉      | 10450/26704 [31:47<04:24, 61.35it/s]"
     ]
    },
    {
     "name": "stdout",
     "output_type": "stream",
     "text": [
      "Bỏ qua audio tại F:/video_classification/2016-03-13 - 22-30 Las Palmas 1 - 2 Real Madrid/chunk_9/chunk_9.mp3: quá ngắn (0.005s < 0.025s)\n",
      "Bỏ qua audio tại F:/video_classification/2016-03-13 - 22-30 Las Palmas 1 - 2 Real Madrid/chunk_13/chunk_13.mp3: quá ngắn (0.021s < 0.025s)\n",
      "Bỏ qua audio tại F:/video_classification/2016-03-13 - 22-30 Las Palmas 1 - 2 Real Madrid/chunk_18/chunk_18.mp3: quá ngắn (0.021s < 0.025s)\n",
      "Bỏ qua audio tại F:/video_classification/2016-03-13 - 22-30 Las Palmas 1 - 2 Real Madrid/chunk_21/chunk_21.mp3: quá ngắn (0.021s < 0.025s)\n"
     ]
    },
    {
     "name": "stderr",
     "output_type": "stream",
     "text": [
      " 39%|███▉      | 10464/26704 [31:47<05:14, 51.63it/s]"
     ]
    },
    {
     "name": "stdout",
     "output_type": "stream",
     "text": [
      "Bỏ qua audio tại F:/video_classification/2016-03-13 - 22-30 Las Palmas 1 - 2 Real Madrid/chunk_23/chunk_23.mp3: quá ngắn (0.021s < 0.025s)\n",
      "Bỏ qua audio tại F:/video_classification/2016-03-13 - 22-30 Las Palmas 1 - 2 Real Madrid/chunk_28/chunk_28.mp3: quá ngắn (0.021s < 0.025s)\n"
     ]
    },
    {
     "name": "stderr",
     "output_type": "stream",
     "text": [
      " 39%|███▉      | 10472/26704 [31:47<04:38, 58.28it/s]"
     ]
    },
    {
     "name": "stdout",
     "output_type": "stream",
     "text": [
      "Bỏ qua audio tại F:/video_classification/2016-03-13 - 22-30 Las Palmas 1 - 2 Real Madrid/chunk_37/chunk_37.mp3: quá ngắn (0.021s < 0.025s)\n",
      "Bỏ qua audio tại F:/video_classification/2016-03-13 - 22-30 Las Palmas 1 - 2 Real Madrid/chunk_38/chunk_38.mp3: quá ngắn (0.021s < 0.025s)\n",
      "Bỏ qua audio tại F:/video_classification/2016-03-13 - 22-30 Las Palmas 1 - 2 Real Madrid/chunk_39/chunk_39.mp3: quá ngắn (0.021s < 0.025s)\n",
      "Bỏ qua audio tại F:/video_classification/2016-03-13 - 22-30 Las Palmas 1 - 2 Real Madrid/chunk_46/chunk_46.mp3: quá ngắn (0.020s < 0.025s)\n"
     ]
    },
    {
     "name": "stderr",
     "output_type": "stream",
     "text": [
      " 39%|███▉      | 10486/26704 [31:48<04:38, 58.24it/s]"
     ]
    },
    {
     "name": "stdout",
     "output_type": "stream",
     "text": [
      "Bỏ qua audio tại F:/video_classification/2016-03-13 - 22-30 Las Palmas 1 - 2 Real Madrid/chunk_53/chunk_53.mp3: quá ngắn (0.021s < 0.025s)\n",
      "Bỏ qua audio tại F:/video_classification/2016-03-13 - 22-30 Las Palmas 1 - 2 Real Madrid/chunk_58/chunk_58.mp3: quá ngắn (0.021s < 0.025s)\n",
      "Bỏ qua audio tại F:/video_classification/2016-03-13 - 22-30 Las Palmas 1 - 2 Real Madrid/chunk_62/chunk_62.mp3: quá ngắn (0.021s < 0.025s)\n",
      "Bỏ qua audio tại F:/video_classification/2016-03-13 - 22-30 Las Palmas 1 - 2 Real Madrid/chunk_64/chunk_64.mp3: quá ngắn (0.021s < 0.025s)\n",
      "Bỏ qua audio tại F:/video_classification/2016-03-13 - 22-30 Las Palmas 1 - 2 Real Madrid/chunk_65/chunk_65.mp3: quá ngắn (0.021s < 0.025s)\n"
     ]
    },
    {
     "name": "stderr",
     "output_type": "stream",
     "text": [
      " 39%|███▉      | 10501/26704 [31:48<04:14, 63.60it/s]"
     ]
    },
    {
     "name": "stdout",
     "output_type": "stream",
     "text": [
      "Bỏ qua audio tại F:/video_classification/2016-03-13 - 22-30 Las Palmas 1 - 2 Real Madrid/chunk_80/chunk_80.mp3: quá ngắn (0.021s < 0.025s)\n",
      "Bỏ qua audio tại F:/video_classification/2016-03-13 - 22-30 Las Palmas 1 - 2 Real Madrid/chunk_82/chunk_82.mp3: quá ngắn (0.021s < 0.025s)\n",
      "Bỏ qua audio tại F:/video_classification/2016-03-13 - 22-30 Las Palmas 1 - 2 Real Madrid/chunk_86/chunk_86.mp3: quá ngắn (0.021s < 0.025s)\n",
      "Bỏ qua audio tại F:/video_classification/2016-03-13 - 22-30 Las Palmas 1 - 2 Real Madrid/chunk_90/chunk_90.mp3: quá ngắn (0.019s < 0.025s)\n"
     ]
    },
    {
     "name": "stderr",
     "output_type": "stream",
     "text": [
      "100%|██████████| 26704/26704 [1:24:39<00:00,  5.26it/s]\n"
     ]
    }
   ],
   "source": [
    "import librosa\n",
    "from tqdm import tqdm\n",
    "valid_indices = []\n",
    "for audio_id in tqdm(data['audio_id']):\n",
    "    min_duration = 0.025\n",
    "    try:\n",
    "        y, sr = librosa.load(audio_id, sr= 16000)\n",
    "        # Kiểm tra độ dài audio\n",
    "        if not len(y) / sr >= min_duration:\n",
    "            # waveforms.append(y)\n",
    "            valid_indices.append(audio_id)\n",
    "            print(f\"Bỏ qua audio tại {audio_id}: quá ngắn ({len(y)/sr:.3f}s < {min_duration}s)\")\n",
    "        # else:\n",
    "    except Exception as e:\n",
    "        print(f\"Lỗi khi tải audio tại {audio_id}: {str(e)}\")\n",
    "        continue"
   ]
  },
  {
   "cell_type": "code",
   "execution_count": 11,
   "metadata": {},
   "outputs": [],
   "source": [
    "import pandas\n",
    "with open('log2.txt', 'r', encoding='utf-8') as f:\n",
    "    lines = [line.strip() for line in f if line.strip()] \n",
    "datasets = pandas.read_csv(\"data/event_va_dataset.csv\", sep = \";\")\n",
    "\n",
    "datasets = datasets[~datasets['audio_id'].isin(lines)]\n",
    "datasets.to_csv(\"data/event_va_dataset_remove.csv\", sep = \";\", index = False)\n"
   ]
  },
  {
   "cell_type": "code",
   "execution_count": 10,
   "metadata": {},
   "outputs": [
    {
     "data": {
      "text/plain": [
       "['F:/video_classification/2014-11-05 - 22-45 Bayern Munich 2 - 0 AS Roma/chunk_49/chunk_49.mp3',\n",
       " 'F:/video_classification/2014-11-05 - 22-45 Bayern Munich 2 - 0 AS Roma/chunk_67/chunk_67.mp3',\n",
       " 'F:/video_classification/2014-11-05 - 22-45 Bayern Munich 2 - 0 AS Roma/chunk_78/chunk_78.mp3',\n",
       " 'F:/video_classification/2014-11-05 - 22-45 Bayern Munich 2 - 0 AS Roma/chunk_79/chunk_79.mp3',\n",
       " 'F:/video_classification/2014-11-05 - 22-45 Bayern Munich 2 - 0 AS Roma/chunk_90/chunk_90.mp3',\n",
       " 'F:/video_classification/2015-08-22 - 16-30 Hoffenheim 1 - 2 Bayern Munich/chunk_2/chunk_2.mp3',\n",
       " 'F:/video_classification/2015-08-22 - 16-30 Hoffenheim 1 - 2 Bayern Munich/chunk_18/chunk_18.mp3',\n",
       " 'F:/video_classification/2015-08-22 - 16-30 Hoffenheim 1 - 2 Bayern Munich/chunk_19/chunk_19.mp3',\n",
       " 'F:/video_classification/2015-08-22 - 16-30 Hoffenheim 1 - 2 Bayern Munich/chunk_41/chunk_41.mp3',\n",
       " 'F:/video_classification/2015-08-22 - 16-30 Hoffenheim 1 - 2 Bayern Munich/chunk_51/chunk_51.mp3',\n",
       " 'F:/video_classification/2015-08-22 - 16-30 Hoffenheim 1 - 2 Bayern Munich/chunk_59/chunk_59.mp3',\n",
       " 'F:/video_classification/2015-08-22 - 16-30 Hoffenheim 1 - 2 Bayern Munich/chunk_69/chunk_69.mp3',\n",
       " 'F:/video_classification/2015-08-22 - 16-30 Hoffenheim 1 - 2 Bayern Munich/chunk_70/chunk_70.mp3',\n",
       " 'F:/video_classification/2015-10-04 - 21-30 Atl. Madrid 1 - 1 Real Madrid/chunk_6/chunk_6.mp3',\n",
       " 'F:/video_classification/2015-10-04 - 21-30 Atl. Madrid 1 - 1 Real Madrid/chunk_10/chunk_10.mp3',\n",
       " 'F:/video_classification/2015-10-04 - 21-30 Atl. Madrid 1 - 1 Real Madrid/chunk_15/chunk_15.mp3',\n",
       " 'F:/video_classification/2015-10-04 - 21-30 Atl. Madrid 1 - 1 Real Madrid/chunk_16/chunk_16.mp3',\n",
       " 'F:/video_classification/2015-10-04 - 21-30 Atl. Madrid 1 - 1 Real Madrid/chunk_18/chunk_18.mp3',\n",
       " 'F:/video_classification/2015-10-04 - 21-30 Atl. Madrid 1 - 1 Real Madrid/chunk_25/chunk_25.mp3',\n",
       " 'F:/video_classification/2015-10-04 - 21-30 Atl. Madrid 1 - 1 Real Madrid/chunk_27/chunk_27.mp3',\n",
       " 'F:/video_classification/2015-10-04 - 21-30 Atl. Madrid 1 - 1 Real Madrid/chunk_28/chunk_28.mp3',\n",
       " 'F:/video_classification/2015-10-04 - 21-30 Atl. Madrid 1 - 1 Real Madrid/chunk_33/chunk_33.mp3',\n",
       " 'F:/video_classification/2015-10-04 - 21-30 Atl. Madrid 1 - 1 Real Madrid/chunk_39/chunk_39.mp3',\n",
       " 'F:/video_classification/2015-10-04 - 21-30 Atl. Madrid 1 - 1 Real Madrid/chunk_40/chunk_40.mp3',\n",
       " 'F:/video_classification/2015-10-04 - 21-30 Atl. Madrid 1 - 1 Real Madrid/chunk_42/chunk_42.mp3',\n",
       " 'F:/video_classification/2015-10-04 - 21-30 Atl. Madrid 1 - 1 Real Madrid/chunk_48/chunk_48.mp3',\n",
       " 'F:/video_classification/2015-10-04 - 21-30 Atl. Madrid 1 - 1 Real Madrid/chunk_78/chunk_78.mp3',\n",
       " 'F:/video_classification/2015-10-04 - 21-30 Atl. Madrid 1 - 1 Real Madrid/chunk_79/chunk_79.mp3',\n",
       " 'F:/video_classification/2015-10-04 - 21-30 Atl. Madrid 1 - 1 Real Madrid/chunk_83/chunk_83.mp3',\n",
       " 'F:/video_classification/2015-10-04 - 21-30 Atl. Madrid 1 - 1 Real Madrid/chunk_88/chunk_88.mp3',\n",
       " 'F:/video_classification/2015-11-29 - 15-00 Tottenham 0 - 0 Chelsea/chunk_25/chunk_25.mp3',\n",
       " 'F:/video_classification/2015-11-29 - 15-00 Tottenham 0 - 0 Chelsea/chunk_41/chunk_41.mp3',\n",
       " 'F:/video_classification/2015-11-29 - 15-00 Tottenham 0 - 0 Chelsea/chunk_48/chunk_48.mp3',\n",
       " 'F:/video_classification/2015-11-29 - 15-00 Tottenham 0 - 0 Chelsea/chunk_49/chunk_49.mp3',\n",
       " 'F:/video_classification/2015-11-29 - 15-00 Tottenham 0 - 0 Chelsea/chunk_55/chunk_55.mp3',\n",
       " 'F:/video_classification/2015-11-29 - 15-00 Tottenham 0 - 0 Chelsea/chunk_94/chunk_94.mp3',\n",
       " 'F:/video_classification/2015-11-29 - 15-00 Tottenham 0 - 0 Chelsea/chunk_95/chunk_95.mp3',\n",
       " 'F:/video_classification/2015-11-29 - 18-00 Eibar 0 - 2 Real Madrid/chunk_4/chunk_4.mp3',\n",
       " 'F:/video_classification/2015-11-29 - 18-00 Eibar 0 - 2 Real Madrid/chunk_17/chunk_17.mp3',\n",
       " 'F:/video_classification/2015-11-29 - 18-00 Eibar 0 - 2 Real Madrid/chunk_20/chunk_20.mp3',\n",
       " 'F:/video_classification/2015-11-29 - 18-00 Eibar 0 - 2 Real Madrid/chunk_21/chunk_21.mp3',\n",
       " 'F:/video_classification/2015-11-29 - 18-00 Eibar 0 - 2 Real Madrid/chunk_25/chunk_25.mp3',\n",
       " 'F:/video_classification/2015-11-29 - 18-00 Eibar 0 - 2 Real Madrid/chunk_36/chunk_36.mp3',\n",
       " 'F:/video_classification/2015-11-29 - 18-00 Eibar 0 - 2 Real Madrid/chunk_42/chunk_42.mp3',\n",
       " 'F:/video_classification/2015-11-29 - 18-00 Eibar 0 - 2 Real Madrid/chunk_43/chunk_43.mp3',\n",
       " 'F:/video_classification/2015-11-29 - 18-00 Eibar 0 - 2 Real Madrid/chunk_44/chunk_44.mp3',\n",
       " 'F:/video_classification/2015-12-09 - 22-45 D. Zagreb 0 - 2 Bayern Munich/chunk_3/chunk_3.mp3',\n",
       " 'F:/video_classification/2015-12-09 - 22-45 D. Zagreb 0 - 2 Bayern Munich/chunk_10/chunk_10.mp3',\n",
       " 'F:/video_classification/2015-12-09 - 22-45 D. Zagreb 0 - 2 Bayern Munich/chunk_11/chunk_11.mp3',\n",
       " 'F:/video_classification/2015-12-09 - 22-45 D. Zagreb 0 - 2 Bayern Munich/chunk_27/chunk_27.mp3',\n",
       " 'F:/video_classification/2015-12-09 - 22-45 D. Zagreb 0 - 2 Bayern Munich/chunk_28/chunk_28.mp3',\n",
       " 'F:/video_classification/2015-12-09 - 22-45 D. Zagreb 0 - 2 Bayern Munich/chunk_31/chunk_31.mp3',\n",
       " 'F:/video_classification/2015-12-09 - 22-45 D. Zagreb 0 - 2 Bayern Munich/chunk_39/chunk_39.mp3',\n",
       " 'F:/video_classification/2015-12-09 - 22-45 D. Zagreb 0 - 2 Bayern Munich/chunk_41/chunk_41.mp3',\n",
       " 'F:/video_classification/2015-12-09 - 22-45 D. Zagreb 0 - 2 Bayern Munich/chunk_45/chunk_45.mp3',\n",
       " 'F:/video_classification/2015-12-09 - 22-45 D. Zagreb 0 - 2 Bayern Munich/chunk_48/chunk_48.mp3',\n",
       " 'F:/video_classification/2015-12-09 - 22-45 D. Zagreb 0 - 2 Bayern Munich/chunk_49/chunk_49.mp3',\n",
       " 'F:/video_classification/2015-12-09 - 22-45 D. Zagreb 0 - 2 Bayern Munich/chunk_58/chunk_58.mp3',\n",
       " 'F:/video_classification/2015-12-09 - 22-45 D. Zagreb 0 - 2 Bayern Munich/chunk_60/chunk_60.mp3',\n",
       " 'F:/video_classification/2015-12-09 - 22-45 D. Zagreb 0 - 2 Bayern Munich/chunk_63/chunk_63.mp3',\n",
       " 'F:/video_classification/2015-12-09 - 22-45 D. Zagreb 0 - 2 Bayern Munich/chunk_75/chunk_75.mp3',\n",
       " 'F:/video_classification/2015-12-09 - 22-45 D. Zagreb 0 - 2 Bayern Munich/chunk_81/chunk_81.mp3',\n",
       " 'F:/video_classification/2015-12-09 - 22-45 D. Zagreb 0 - 2 Bayern Munich/chunk_83/chunk_83.mp3',\n",
       " 'F:/video_classification/2015-12-09 - 22-45 D. Zagreb 0 - 2 Bayern Munich/chunk_84/chunk_84.mp3',\n",
       " 'F:/video_classification/2015-12-12 - 17-30 Bayern Munich 2 - 0 Ingolstadt/chunk_1/chunk_1.mp3',\n",
       " 'F:/video_classification/2015-12-12 - 17-30 Bayern Munich 2 - 0 Ingolstadt/chunk_3/chunk_3.mp3',\n",
       " 'F:/video_classification/2015-12-12 - 17-30 Bayern Munich 2 - 0 Ingolstadt/chunk_14/chunk_14.mp3',\n",
       " 'F:/video_classification/2015-12-12 - 17-30 Bayern Munich 2 - 0 Ingolstadt/chunk_25/chunk_25.mp3',\n",
       " 'F:/video_classification/2015-12-12 - 17-30 Bayern Munich 2 - 0 Ingolstadt/chunk_30/chunk_30.mp3',\n",
       " 'F:/video_classification/2015-12-12 - 17-30 Bayern Munich 2 - 0 Ingolstadt/chunk_31/chunk_31.mp3',\n",
       " 'F:/video_classification/2015-12-12 - 17-30 Bayern Munich 2 - 0 Ingolstadt/chunk_48/chunk_48.mp3',\n",
       " 'F:/video_classification/2015-12-12 - 17-30 Bayern Munich 2 - 0 Ingolstadt/chunk_51/chunk_51.mp3',\n",
       " 'F:/video_classification/2015-12-12 - 17-30 Bayern Munich 2 - 0 Ingolstadt/chunk_60/chunk_60.mp3',\n",
       " 'F:/video_classification/2015-12-12 - 17-30 Bayern Munich 2 - 0 Ingolstadt/chunk_69/chunk_69.mp3',\n",
       " 'F:/video_classification/2015-12-12 - 17-30 Bayern Munich 2 - 0 Ingolstadt/chunk_75/chunk_75.mp3',\n",
       " 'F:/video_classification/2015-12-12 - 17-30 Bayern Munich 2 - 0 Ingolstadt/chunk_88/chunk_88.mp3',\n",
       " 'F:/video_classification/2015-12-26 - 18-00 Manchester City 4 - 1 Sunderland/chunk_5/chunk_5.mp3',\n",
       " 'F:/video_classification/2015-12-26 - 18-00 Manchester City 4 - 1 Sunderland/chunk_6/chunk_6.mp3',\n",
       " 'F:/video_classification/2015-12-26 - 18-00 Manchester City 4 - 1 Sunderland/chunk_12/chunk_12.mp3',\n",
       " 'F:/video_classification/2015-12-26 - 18-00 Manchester City 4 - 1 Sunderland/chunk_16/chunk_16.mp3',\n",
       " 'F:/video_classification/2015-12-26 - 18-00 Manchester City 4 - 1 Sunderland/chunk_27/chunk_27.mp3',\n",
       " 'F:/video_classification/2015-12-26 - 18-00 Manchester City 4 - 1 Sunderland/chunk_34/chunk_34.mp3',\n",
       " 'F:/video_classification/2015-12-26 - 18-00 Manchester City 4 - 1 Sunderland/chunk_35/chunk_35.mp3',\n",
       " 'F:/video_classification/2015-12-26 - 18-00 Manchester City 4 - 1 Sunderland/chunk_36/chunk_36.mp3',\n",
       " 'F:/video_classification/2015-12-26 - 18-00 Manchester City 4 - 1 Sunderland/chunk_46/chunk_46.mp3',\n",
       " 'F:/video_classification/2015-12-26 - 18-00 Manchester City 4 - 1 Sunderland/chunk_51/chunk_51.mp3',\n",
       " 'F:/video_classification/2015-12-26 - 18-00 Manchester City 4 - 1 Sunderland/chunk_56/chunk_56.mp3',\n",
       " 'F:/video_classification/2015-12-26 - 18-00 Manchester City 4 - 1 Sunderland/chunk_83/chunk_83.mp3',\n",
       " 'F:/video_classification/2016-01-24 - 22-30 Betis 1 - 1 Real Madrid/chunk_2/chunk_2.mp3',\n",
       " 'F:/video_classification/2016-01-24 - 22-30 Betis 1 - 1 Real Madrid/chunk_15/chunk_15.mp3',\n",
       " 'F:/video_classification/2016-01-24 - 22-30 Betis 1 - 1 Real Madrid/chunk_25/chunk_25.mp3',\n",
       " 'F:/video_classification/2016-01-24 - 22-30 Betis 1 - 1 Real Madrid/chunk_26/chunk_26.mp3',\n",
       " 'F:/video_classification/2016-01-24 - 22-30 Betis 1 - 1 Real Madrid/chunk_28/chunk_28.mp3',\n",
       " 'F:/video_classification/2016-01-24 - 22-30 Betis 1 - 1 Real Madrid/chunk_35/chunk_35.mp3',\n",
       " 'F:/video_classification/2016-01-24 - 22-30 Betis 1 - 1 Real Madrid/chunk_53/chunk_53.mp3',\n",
       " 'F:/video_classification/2016-01-24 - 22-30 Betis 1 - 1 Real Madrid/chunk_56/chunk_56.mp3',\n",
       " 'F:/video_classification/2016-01-24 - 22-30 Betis 1 - 1 Real Madrid/chunk_57/chunk_57.mp3',\n",
       " 'F:/video_classification/2016-01-24 - 22-30 Betis 1 - 1 Real Madrid/chunk_60/chunk_60.mp3',\n",
       " 'F:/video_classification/2016-01-24 - 22-30 Betis 1 - 1 Real Madrid/chunk_64/chunk_64.mp3',\n",
       " 'F:/video_classification/2016-01-24 - 22-30 Betis 1 - 1 Real Madrid/chunk_73/chunk_73.mp3',\n",
       " 'F:/video_classification/2016-01-24 - 22-30 Betis 1 - 1 Real Madrid/chunk_77/chunk_77.mp3',\n",
       " 'F:/video_classification/2016-01-31 - 22-30 Real Madrid 6 - 0 Espanyol/chunk_3/chunk_3.mp3',\n",
       " 'F:/video_classification/2016-01-31 - 22-30 Real Madrid 6 - 0 Espanyol/chunk_5/chunk_5.mp3',\n",
       " 'F:/video_classification/2016-01-31 - 22-30 Real Madrid 6 - 0 Espanyol/chunk_10/chunk_10.mp3',\n",
       " 'F:/video_classification/2016-01-31 - 22-30 Real Madrid 6 - 0 Espanyol/ch dictatorship_18/chunk_18.mp3',\n",
       " 'F:/video_classification/2016-01-31 - 22-30 Real Madrid 6 - 0 Espanyol/chunk_20/chunk_20.mp3',\n",
       " 'F:/video_classification/2016-01-31 - 22-30 Real Madrid 6 - 0 Espanyol/chunk_21/chunk_21.mp3',\n",
       " 'F:/video_classification/2016-01-31 - 22-30 Real Madrid 6 - 0 Espanyol/chunk_44/chunk_44.mp3',\n",
       " 'F:/video_classification/2016-01-31 - 22-30 Real Madrid 6 - 0 Espanyol/chunk_59/chunk_59.mp3',\n",
       " 'F:/video_classification/2016-01-31 - 22-30 Real Madrid 6 - 0 Espanyol/chunk_60/chunk_60.mp3',\n",
       " 'F:/video_classification/2016-01-31 - 22-30 Real Madrid 6 - 0 Espanyol/chunk_74/chunk_74.mp3',\n",
       " 'F:/video_classification/2016-01-31 - 22-30 Real Madrid 6 - 0 Espanyol/chunk_76/chunk_76.mp3',\n",
       " 'F:/video_classification/2016-02-07 - 22-30 Granada CF 1 - 2 Real Madrid/chunk_8/chunk_8.mp3',\n",
       " 'F:/video_classification/2016-02-07 - 22-30 Granada CF 1 - 2 Real Madrid/chunk_9/chunk_9.mp3',\n",
       " 'F:/video_classification/2016-02-07 - 22-30 Granada CF 1 - 2 Real Madrid/chunk_22/chunk_22.mp3',\n",
       " 'F:/video_classification/2016-02-07 - 22-30 Granada CF 1 - 2 Real Madrid/chunk_64/chunk_64.mp3',\n",
       " 'F:/video_classification/2016-02-07 - 22-30 Granada CF 1 - 2 Real Madrid/chunk_65/chunk_65.mp3',\n",
       " 'F:/video_classification/2016-02-21 - 18-00 Malaga 1 - 1 Real Madrid/chunk_1/chunk_1.mp3',\n",
       " 'F:/video_classification/2016-02-21 - 18-00 Malaga 1 - 1 Real Madrid/chunk_3/chunk_3.mp3',\n",
       " 'F:/video_classification/2016-02-21 - 18-00 Malaga 1 - 1 Real Madrid/chunk_36/chunk_36.mp3',\n",
       " 'F:/video_classification/2016-02-21 - 18-00 Malaga 1 - 1 Real Madrid/chunk_38/chunk_38.mp3',\n",
       " 'F:/video_classification/2016-02-21 - 18-00 Malaga 1 - 1 Real Madrid/chunk_44/chunk_44.mp3',\n",
       " 'F:/video_classification/2016-02-21 - 18-00 Malaga 1 - 1 Real Madrid/chunk_49/chunk_49.mp3',\n",
       " 'F:/video_classification/2016-02-21 - 18-00 Malaga 1 - 1 Real Madrid/chunk_58/chunk_58.mp3',\n",
       " 'F:/video_classification/2016-02-21 - 18-00 Malaga 1 - 1 Real Madrid/chunk_61/chunk_61.mp3',\n",
       " 'F:/video_classification/2016-02-21 - 18-00 Malaga 1 - 1 Real Madrid/chunk_64/chunk_64.mp3',\n",
       " 'F:/video_classification/2016-02-21 - 18-00 Malaga 1 - 1 Real Madrid/chunk_73/chunk_73.mp3',\n",
       " 'F:/video_classification/2016-02-21 - 18-00 Malaga 1 - 1 Real Madrid/chunk_81/chunk_81.mp3',\n",
       " 'F:/video_classification/2016-03-05 - 18-00 Real Madrid 7 - 1 Celta Vigo/chunk_12/chunk_12.mp3',\n",
       " 'F:/video_classification/2016-03-05 - 18-00 Real Madrid 7 - 1 Celta Vigo/chunk_14/chunk_14.mp3',\n",
       " 'F:/video_classification/2016-03-05 - 18-00 Real Madrid 7 - 1 Celta Vigo/chunk_16/chunk_16.mp3',\n",
       " 'F:/video_classification/2016-03-05 - 18-00 Real Madrid 7 - 1 Celta Vigo/chunk_22/chunk_22.mp3',\n",
       " 'F:/video_classification/2016-03-05 - 18-00 Real Madrid 7 - 1 Celta Vigo/chunk_30/chunk_30.mp3',\n",
       " 'F:/video_classification/2016-03-05 - 18-00 Real Madrid 7 - 1 Celta Vigo/chunk_35/chunk_35.mp3',\n",
       " 'F:/video_classification/2016-03-05 - 18-00 Real Madrid 7 - 1 Celta Vigo/chunk_51/chunk_51.mp3',\n",
       " 'F:/video_classification/2016-03-05 - 18-00 Real Madrid 7 - 1 Celta Vigo/chunk_65/chunk_65.mp3',\n",
       " 'F:/video_classification/2016-03-05 - 18-00 Real Madrid 7 - 1 Celta Vigo/chunk_66/chunk_66.mp3',\n",
       " 'F:/video_classification/2016-03-05 - 18-00 Real Madrid 7 - 1 Celta Vigo/chunk_67/chunk_67.mp3',\n",
       " 'F:/video_classification/2016-03-05 - 18-00 Real Madrid 7 - 1 Celta Vigo/chunk_68/chunk_68.mp3',\n",
       " 'F:/video_classification/2016-03-05 - 18-00 Real Madrid 7 - 1 Celta Vigo/chunk_82/chunk_82.mp3',\n",
       " 'F:/video_classification/2016-03-13 - 22-30 Las Palmas 1 - 2 Real Madrid/chunk_2/chunk_2.mp3',\n",
       " 'F:/video_classification/2016-03-13 - 22-30 Las Palmas 1 - 2 Real Madrid/chunk_9/chunk_9.mp3',\n",
       " 'F:/video_classification/2016-03-13 - 22-30 Las Palmas 1 - 2 Real Madrid/chunk_13/chunk_13.mp3',\n",
       " 'F:/video_classification/2016-03-13 - 22-30 Las Palmas 1 - 2 Real Madrid/chunk_18/chunk_18.mp3',\n",
       " 'F:/video_classification/2016-03-13 - 22-30 Las Palmas 1 - 2 Real Madrid/chunk_21/chunk_21.mp3',\n",
       " 'F:/video_classification/2016-03-13 - 22-30 Las Palmas 1 - 2 Real Madrid/chunk_23/chunk_23.mp3',\n",
       " 'F:/video_classification/2016-03-13 - 22-30 Las Palmas 1 - 2 Real Madrid/chunk_28/chunk_28.mp3',\n",
       " 'F:/video_classification/2016-03-13 - 22-30 Las Palmas 1 - 2 Real Madrid/chunk_37/chunk_37.mp3',\n",
       " 'F:/video_classification/2016-03-13 - 22-30 Las Palmas 1 - 2 Real Madrid/chunk_38/chunk_38.mp3',\n",
       " 'F:/video_classification/2016-03-13 - 22-30 Las Palmas 1 - 2 Real Madrid/chunk_39/chunk_39.mp3',\n",
       " 'F:/video_classification/2016-03-13 - 22-30 Las Palmas 1 - 2 Real Madrid/chunk_46/chunk_46.mp3',\n",
       " 'F:/video_classification/2016-03-13 - 22-30 Las Palmas 1 - 2 Real Madrid/chunk_53/chunk_53.mp3',\n",
       " 'F:/video_classification/2016-03-13 - 22-30 Las Palmas 1 - 2 Real Madrid/chunk_58/chunk_58.mp3',\n",
       " 'F:/video_classification/2016-03-13 - 22-30 Las Palmas 1 - 2 Real Madrid/chunk_62/chunk_62.mp3',\n",
       " 'F:/video_classification/2016-03-13 - 22-30 Las Palmas 1 - 2 Real Madrid/chunk_64/chunk_64.mp3',\n",
       " 'F:/video_classification/2016-03-13 - 22-30 Las Palmas 1 - 2 Real Madrid/chunk_65/chunk_65.mp3',\n",
       " 'F:/video_classification/2016-03-13 - 22-30 Las Palmas 1 - 2 Real Madrid/chunk_80/chunk_80.mp3',\n",
       " 'F:/video_classification/2016-03-13 - 22-30 Las Palmas 1 - 2 Real Madrid/chunk_82/chunk_82.mp3',\n",
       " 'F:/video_classification/2016-03-13 - 22-30 Las Palmas 1 - 2 Real Madrid/chunk_86/chunk_86.mp3',\n",
       " 'F:/video_classification/2016-03-13 - 22-30 Las Palmas 1 - 2 Real Madrid/chunk_90/chunk_90.mp3']"
      ]
     },
     "execution_count": 10,
     "metadata": {},
     "output_type": "execute_result"
    }
   ],
   "source": [
    "with open('log2.txt', 'r', encoding='utf-8') as f:\n",
    "    lines = [line.strip() for line in f if line.strip()] \n",
    "\n",
    "lines"
   ]
  },
  {
   "cell_type": "code",
   "execution_count": null,
   "metadata": {},
   "outputs": [],
   "source": []
  }
 ],
 "metadata": {
  "kernelspec": {
   "display_name": "Python 3",
   "language": "python",
   "name": "python3"
  },
  "language_info": {
   "codemirror_mode": {
    "name": "ipython",
    "version": 3
   },
   "file_extension": ".py",
   "mimetype": "text/x-python",
   "name": "python",
   "nbconvert_exporter": "python",
   "pygments_lexer": "ipython3",
   "version": "3.10.16"
  }
 },
 "nbformat": 4,
 "nbformat_minor": 2
}
