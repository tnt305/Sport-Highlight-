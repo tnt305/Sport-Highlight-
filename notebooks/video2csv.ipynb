{
 "cells": [
  {
   "cell_type": "code",
   "execution_count": 1,
   "metadata": {},
   "outputs": [],
   "source": [
    "import os\n",
    "import glob\n",
    "import json\n",
    "import pandas\n",
    "from tqdm import tqdm \n",
    "from collections import defaultdict\n",
    "from short_sport.video_trainer.labels import EVENT_DICTIONARY_V2\n",
    "from src.preprocessing.video import(\n",
    "    json_reader,\n",
    "    round_down_to_minute,\n",
    "    round_down_to_minute_v2,\n",
    "    normalize_path\n",
    ")"
   ]
  },
  {
   "cell_type": "code",
   "execution_count": 22,
   "metadata": {},
   "outputs": [
    {
     "data": {
      "text/plain": [
       "{'Penalty': 0,\n",
       " 'Kick-off': 1,\n",
       " 'Goal': 2,\n",
       " 'Substitution': 3,\n",
       " 'Offside': 4,\n",
       " 'Shots on target': 5,\n",
       " 'Shots off target': 6,\n",
       " 'Clearance': 7,\n",
       " 'Ball out of play': 8,\n",
       " 'Throw-in': 9,\n",
       " 'Foul': 10,\n",
       " 'Indirect free-kick': 11,\n",
       " 'Direct free-kick': 12,\n",
       " 'Corner': 13,\n",
       " 'Yellow card': 14,\n",
       " 'Red card': 15,\n",
       " 'Yellow->red card': 16,\n",
       " 'Not Event': 17}"
      ]
     },
     "execution_count": 22,
     "metadata": {},
     "output_type": "execute_result"
    }
   ],
   "source": [
    "EVENT_DICTIONARY_V2"
   ]
  },
  {
   "cell_type": "code",
   "execution_count": 2,
   "metadata": {},
   "outputs": [],
   "source": [
    "EVENT_DICT = {key: index for index, key in enumerate(EVENT_DICTIONARY_V2.keys())}\n",
    "EVENT_DICT\n",
    "video_path = os.listdir(\"F:/video_classification\")\n",
    "video_paths = [f\"F:/video_classification/{i}\" for i in video_path]\n",
    "# labels = []\n",
    "# sss = 0\n",
    "# for i in video_path:\n",
    "#     # print(i)\n",
    "#     matches = glob.glob(f\"F:/video_classification/{i}/Labels-v2.json\")\n",
    "#     if matches:  # Nếu tìm thấy ít nhất 1 file\n",
    "#         labels.append(normalize_path(matches[0]))\n",
    "#     else:\n",
    "#         sss += 1\n",
    "#         # print(f\"Warning: No label file found for {i}\")\n",
    "        \n",
    "# with open(\"../files.json\" , \"r\") as f:\n",
    "#     file = json.load(f)"
   ]
  },
  {
   "cell_type": "code",
   "execution_count": 7,
   "metadata": {},
   "outputs": [
    {
     "name": "stderr",
     "output_type": "stream",
     "text": [
      "  0%|          | 0/300 [00:00<?, ?it/s]"
     ]
    },
    {
     "name": "stdout",
     "output_type": "stream",
     "text": [
      "[{'gameTime': '1 - 00:00', 'label': 'Kick-off', 'position': '23', 'team': 'home', 'visibility': 'not shown'}, {'gameTime': '1 - 00:59', 'label': 'Ball out of play', 'position': '59880', 'team': 'not applicable', 'visibility': 'visible'}, {'gameTime': '1 - 01:23', 'label': 'Clearance', 'position': '83101', 'team': 'away', 'visibility': 'visible'}, {'gameTime': '1 - 03:19', 'label': 'Foul', 'position': '199234', 'team': 'home', 'visibility': 'visible'}, {'gameTime': '1 - 03:39', 'label': 'Ball out of play', 'position': '219536', 'team': 'not applicable', 'visibility': 'visible'}, {'gameTime': '1 - 04:02', 'label': 'Throw-in', 'position': '242488', 'team': 'home', 'visibility': 'visible'}, {'gameTime': '1 - 05:10', 'label': 'Corner', 'position': '310096', 'team': 'away', 'visibility': 'visible'}, {'gameTime': '1 - 06:51', 'label': 'Shots off target', 'position': '411199', 'team': 'home', 'visibility': 'visible'}, {'gameTime': '1 - 06:52', 'label': 'Ball out of play', 'position': '412175', 'team': 'not applicable', 'visibility': 'visible'}, {'gameTime': '1 - 07:12', 'label': 'Clearance', 'position': '432324', 'team': 'away', 'visibility': 'visible'}, {'gameTime': '1 - 07:30', 'label': 'Ball out of play', 'position': '450134', 'team': 'not applicable', 'visibility': 'visible'}, {'gameTime': '1 - 07:44', 'label': 'Throw-in', 'position': '464387', 'team': 'away', 'visibility': 'visible'}, {'gameTime': '1 - 08:14', 'label': 'Shots off target', 'position': '494296', 'team': 'away', 'visibility': 'visible'}, {'gameTime': '1 - 08:15', 'label': 'Ball out of play', 'position': '495280', 'team': 'not applicable', 'visibility': 'visible'}, {'gameTime': '1 - 08:41', 'label': 'Corner', 'position': '521452', 'team': 'away', 'visibility': 'visible'}, {'gameTime': '1 - 08:54', 'label': 'Ball out of play', 'position': '534001', 'team': 'not applicable', 'visibility': 'visible'}, {'gameTime': '1 - 09:05', 'label': 'Throw-in', 'position': '545112', 'team': 'home', 'visibility': 'visible'}, {'gameTime': '1 - 11:30', 'label': 'Shots on target', 'position': '690158', 'team': 'home', 'visibility': 'visible'}, {'gameTime': '1 - 11:30', 'label': 'Ball out of play', 'position': '690798', 'team': 'not applicable', 'visibility': 'visible'}, {'gameTime': '1 - 12:02', 'label': 'Corner', 'position': '722678', 'team': 'home', 'visibility': 'visible'}, {'gameTime': '1 - 12:23', 'label': 'Ball out of play', 'position': '743466', 'team': 'not applicable', 'visibility': 'visible'}, {'gameTime': '1 - 13:12', 'label': 'Ball out of play', 'position': '792196', 'team': 'not applicable', 'visibility': 'visible'}, {'gameTime': '1 - 14:55', 'label': 'Foul', 'position': '895935', 'team': 'home', 'visibility': 'visible'}, {'gameTime': '1 - 15:21', 'label': 'Indirect free-kick', 'position': '921725', 'team': 'away', 'visibility': 'visible'}, {'gameTime': '1 - 15:58', 'label': 'Shots on target', 'position': '958602', 'team': 'away', 'visibility': 'visible'}, {'gameTime': '1 - 16:27', 'label': 'Ball out of play', 'position': '987365', 'team': 'not applicable', 'visibility': 'visible'}, {'gameTime': '1 - 16:36', 'label': 'Throw-in', 'position': '996601', 'team': 'home', 'visibility': 'visible'}, {'gameTime': '1 - 18:05', 'label': 'Ball out of play', 'position': '1085471', 'team': 'not applicable', 'visibility': 'visible'}, {'gameTime': '1 - 19:07', 'label': 'Throw-in', 'position': '1147726', 'team': 'away', 'visibility': 'visible'}, {'gameTime': '1 - 19:48', 'label': 'Foul', 'position': '1188979', 'team': 'away', 'visibility': 'visible'}, {'gameTime': '1 - 20:46', 'label': 'Shots on target', 'position': '1246978', 'team': 'home', 'visibility': 'visible'}, {'gameTime': '1 - 20:47', 'label': 'Ball out of play', 'position': '1247293', 'team': 'not applicable', 'visibility': 'visible'}, {'gameTime': '1 - 21:18', 'label': 'Clearance', 'position': '1278544', 'team': 'away', 'visibility': 'visible'}, {'gameTime': '1 - 21:25', 'label': 'Ball out of play', 'position': '1285170', 'team': 'not applicable', 'visibility': 'visible'}, {'gameTime': '1 - 21:34', 'label': 'Throw-in', 'position': '1294103', 'team': 'away', 'visibility': 'visible'}, {'gameTime': '1 - 21:43', 'label': 'Ball out of play', 'position': '1303883', 'team': 'not applicable', 'visibility': 'visible'}, {'gameTime': '1 - 21:46', 'label': 'Throw-in', 'position': '1306263', 'team': 'home', 'visibility': 'visible'}, {'gameTime': '1 - 23:30', 'label': 'Foul', 'position': '1410831', 'team': 'away', 'visibility': 'visible'}, {'gameTime': '1 - 24:22', 'label': 'Shots on target', 'position': '1462685', 'team': 'home', 'visibility': 'visible'}, {'gameTime': '1 - 24:22', 'label': 'Penalty', 'position': '1462685', 'team': 'home', 'visibility': 'visible'}, {'gameTime': '1 - 24:23', 'label': 'Goal', 'position': '1463125', 'team': 'home', 'visibility': 'visible'}, {'gameTime': '1 - 25:08', 'label': 'Kick-off', 'position': '1508964', 'team': 'away', 'visibility': 'visible'}, {'gameTime': '1 - 25:30', 'label': 'Ball out of play', 'position': '1530594', 'team': 'not applicable', 'visibility': 'visible'}, {'gameTime': '1 - 26:05', 'label': 'Ball out of play', 'position': '1565226', 'team': 'not applicable', 'visibility': 'visible'}, {'gameTime': '1 - 26:07', 'label': 'Throw-in', 'position': '1567875', 'team': 'home', 'visibility': 'visible'}, {'gameTime': '1 - 27:01', 'label': 'Foul', 'position': '1621562', 'team': 'away', 'visibility': 'visible'}, {'gameTime': '1 - 27:59', 'label': 'Direct free-kick', 'position': '1679759', 'team': 'home', 'visibility': 'visible'}, {'gameTime': '1 - 27:59', 'label': 'Shots on target', 'position': '1679759', 'team': 'home', 'visibility': 'visible'}, {'gameTime': '1 - 28:01', 'label': 'Shots on target', 'position': '1681538', 'team': 'home', 'visibility': 'visible'}, {'gameTime': '1 - 28:02', 'label': 'Goal', 'position': '1682178', 'team': 'home', 'visibility': 'visible'}, {'gameTime': '1 - 29:14', 'label': 'Foul', 'position': '1754373', 'team': 'home', 'visibility': 'visible'}, {'gameTime': '1 - 30:05', 'label': 'Indirect free-kick', 'position': '1805820', 'team': 'away', 'visibility': 'visible'}, {'gameTime': '1 - 30:34', 'label': 'Ball out of play', 'position': '1834801', 'team': 'not applicable', 'visibility': 'visible'}, {'gameTime': '1 - 31:27', 'label': 'Ball out of play', 'position': '1887435', 'team': 'not applicable', 'visibility': 'visible'}, {'gameTime': '1 - 31:56', 'label': 'Corner', 'position': '1916149', 'team': 'home', 'visibility': 'visible'}, {'gameTime': '1 - 31:58', 'label': 'Ball out of play', 'position': '1918833', 'team': 'not applicable', 'visibility': 'visible'}, {'gameTime': '1 - 32:16', 'label': 'Corner', 'position': '1936160', 'team': 'home', 'visibility': 'visible'}, {'gameTime': '1 - 32:37', 'label': 'Ball out of play', 'position': '1957838', 'team': 'not applicable', 'visibility': 'visible'}, {'gameTime': '1 - 33:03', 'label': 'Shots on target', 'position': '1983365', 'team': 'away', 'visibility': 'visible'}, {'gameTime': '1 - 33:04', 'label': 'Ball out of play', 'position': '1984278', 'team': 'not applicable', 'visibility': 'visible'}, {'gameTime': '1 - 33:31', 'label': 'Ball out of play', 'position': '2011749', 'team': 'not applicable', 'visibility': 'visible'}, {'gameTime': '1 - 33:51', 'label': 'Corner', 'position': '2031426', 'team': 'away', 'visibility': 'visible'}, {'gameTime': '1 - 38:10', 'label': 'Shots off target', 'position': '2290613', 'team': 'home', 'visibility': 'visible'}, {'gameTime': '1 - 38:11', 'label': 'Ball out of play', 'position': '2291791', 'team': 'not applicable', 'visibility': 'visible'}, {'gameTime': '1 - 38:52', 'label': 'Ball out of play', 'position': '2332461', 'team': 'not applicable', 'visibility': 'visible'}, {'gameTime': '1 - 39:09', 'label': 'Throw-in', 'position': '2349294', 'team': 'home', 'visibility': 'visible'}, {'gameTime': '1 - 40:19', 'label': 'Shots on target', 'position': '2419227', 'team': 'home', 'visibility': 'visible'}, {'gameTime': '1 - 40:20', 'label': 'Ball out of play', 'position': '2420179', 'team': 'not applicable', 'visibility': 'visible'}, {'gameTime': '1 - 41:03', 'label': 'Ball out of play', 'position': '2463835', 'team': 'not applicable', 'visibility': 'visible'}, {'gameTime': '1 - 41:18', 'label': 'Throw-in', 'position': '2478241', 'team': 'home', 'visibility': 'visible'}, {'gameTime': '1 - 42:01', 'label': 'Ball out of play', 'position': '2521875', 'team': 'not applicable', 'visibility': 'visible'}, {'gameTime': '1 - 42:27', 'label': 'Corner', 'position': '2547277', 'team': 'home', 'visibility': 'visible'}, {'gameTime': '1 - 42:36', 'label': 'Foul', 'position': '2556356', 'team': 'home', 'visibility': 'visible'}, {'gameTime': '1 - 42:56', 'label': 'Foul', 'position': '2576127', 'team': 'away', 'visibility': 'visible'}, {'gameTime': '1 - 42:59', 'label': 'Indirect free-kick', 'position': '2579167', 'team': 'home', 'visibility': 'visible'}, {'gameTime': '1 - 43:44', 'label': 'Foul', 'position': '2624672', 'team': 'away', 'visibility': 'visible'}, {'gameTime': '2 - 00:00', 'label': 'Kick-off', 'position': '3', 'team': 'away', 'visibility': 'not shown'}, {'gameTime': '2 - 01:35', 'label': 'Shots on target', 'position': '95328', 'team': 'home', 'visibility': 'visible'}, {'gameTime': '2 - 01:44', 'label': 'Ball out of play', 'position': '104271', 'team': 'not applicable', 'visibility': 'visible'}, {'gameTime': '2 - 01:54', 'label': 'Throw-in', 'position': '114398', 'team': 'home', 'visibility': 'visible'}, {'gameTime': '2 - 02:58', 'label': 'Corner', 'position': '178219', 'team': 'home', 'visibility': 'visible'}, {'gameTime': '2 - 04:06', 'label': 'Ball out of play', 'position': '246386', 'team': 'not applicable', 'visibility': 'visible'}, {'gameTime': '2 - 05:16', 'label': 'Ball out of play', 'position': '316029', 'team': 'not applicable', 'visibility': 'visible'}, {'gameTime': '2 - 07:51', 'label': 'Throw-in', 'position': '471032', 'team': 'away', 'visibility': 'visible'}, {'gameTime': '2 - 07:59', 'label': 'Ball out of play', 'position': '479747', 'team': 'not applicable', 'visibility': 'visible'}, {'gameTime': '2 - 08:26', 'label': 'Ball out of play', 'position': '506369', 'team': 'not applicable', 'visibility': 'visible'}, {'gameTime': '2 - 08:38', 'label': 'Substitution', 'position': '518075', 'team': 'away', 'visibility': 'visible'}, {'gameTime': '2 - 09:35', 'label': 'Shots off target', 'position': '575354', 'team': 'home', 'visibility': 'visible'}, {'gameTime': '2 - 09:35', 'label': 'Ball out of play', 'position': '575809', 'team': 'not applicable', 'visibility': 'visible'}, {'gameTime': '2 - 10:04', 'label': 'Foul', 'position': '604963', 'team': 'home', 'visibility': 'visible'}, {'gameTime': '2 - 10:23', 'label': 'Indirect free-kick', 'position': '623006', 'team': 'away', 'visibility': 'visible'}, {'gameTime': '2 - 10:57', 'label': 'Ball out of play', 'position': '657625', 'team': 'not applicable', 'visibility': 'visible'}, {'gameTime': '2 - 11:15', 'label': 'Throw-in', 'position': '675539', 'team': 'away', 'visibility': 'visible'}, {'gameTime': '2 - 12:35', 'label': 'Shots on target', 'position': '755011', 'team': 'home', 'visibility': 'visible'}, {'gameTime': '2 - 12:35', 'label': 'Goal', 'position': '755531', 'team': 'home', 'visibility': 'visible'}, {'gameTime': '2 - 15:12', 'label': 'Shots on target', 'position': '912756', 'team': 'away', 'visibility': 'visible'}, {'gameTime': '2 - 15:12', 'label': 'Goal', 'position': '912836', 'team': 'away', 'visibility': 'visible'}, {'gameTime': '2 - 16:15', 'label': 'Substitution', 'position': '975850', 'team': 'home', 'visibility': 'visible'}, {'gameTime': '2 - 18:52', 'label': 'Ball out of play', 'position': '1132513', 'team': 'not applicable', 'visibility': 'visible'}, {'gameTime': '2 - 19:59', 'label': 'Ball out of play', 'position': '1199977', 'team': 'not applicable', 'visibility': 'visible'}, {'gameTime': '2 - 20:17', 'label': 'Throw-in', 'position': '1217231', 'team': 'away', 'visibility': 'visible'}, {'gameTime': '2 - 20:32', 'label': 'Ball out of play', 'position': '1232069', 'team': 'not applicable', 'visibility': 'visible'}, {'gameTime': '2 - 20:53', 'label': 'Corner', 'position': '1253129', 'team': 'away', 'visibility': 'visible'}, {'gameTime': '2 - 21:52', 'label': 'Ball out of play', 'position': '1312283', 'team': 'not applicable', 'visibility': 'visible'}, {'gameTime': '2 - 21:56', 'label': 'Throw-in', 'position': '1316506', 'team': 'home', 'visibility': 'visible'}, {'gameTime': '2 - 22:24', 'label': 'Ball out of play', 'position': '1344332', 'team': 'not applicable', 'visibility': 'visible'}, {'gameTime': '2 - 22:30', 'label': 'Throw-in', 'position': '1350751', 'team': 'home', 'visibility': 'visible'}, {'gameTime': '2 - 23:06', 'label': 'Ball out of play', 'position': '1386660', 'team': 'not applicable', 'visibility': 'visible'}, {'gameTime': '2 - 23:17', 'label': 'Throw-in', 'position': '1397078', 'team': 'away', 'visibility': 'visible'}, {'gameTime': '2 - 23:24', 'label': 'Ball out of play', 'position': '1404342', 'team': 'not applicable', 'visibility': 'visible'}, {'gameTime': '2 - 23:56', 'label': 'Corner', 'position': '1436549', 'team': 'home', 'visibility': 'visible'}, {'gameTime': '2 - 23:58', 'label': 'Shots on target', 'position': '1438102', 'team': 'home', 'visibility': 'visible'}, {'gameTime': '2 - 25:27', 'label': 'Ball out of play', 'position': '1527250', 'team': 'not applicable', 'visibility': 'visible'}, {'gameTime': '2 - 25:51', 'label': 'Clearance', 'position': '1551248', 'team': 'away', 'visibility': 'visible'}, {'gameTime': '2 - 26:15', 'label': 'Foul', 'position': '1575562', 'team': 'home', 'visibility': 'visible'}, {'gameTime': '2 - 26:27', 'label': 'Yellow card', 'position': '1587120', 'team': 'home', 'visibility': 'visible'}, {'gameTime': '2 - 27:03', 'label': 'Penalty', 'position': '1623244', 'team': 'away', 'visibility': 'visible'}, {'gameTime': '2 - 27:03', 'label': 'Shots on target', 'position': '1623244', 'team': 'away', 'visibility': 'visible'}, {'gameTime': '2 - 27:03', 'label': 'Goal', 'position': '1623762', 'team': 'away', 'visibility': 'visible'}, {'gameTime': '2 - 27:49', 'label': 'Foul', 'position': '1669837', 'team': 'away', 'visibility': 'visible'}, {'gameTime': '2 - 28:18', 'label': 'Foul', 'position': '1698409', 'team': 'away', 'visibility': 'visible'}, {'gameTime': '2 - 29:19', 'label': 'Ball out of play', 'position': '1759146', 'team': 'not applicable', 'visibility': 'visible'}, {'gameTime': '2 - 29:33', 'label': 'Throw-in', 'position': '1773417', 'team': 'home', 'visibility': 'visible'}, {'gameTime': '2 - 29:44', 'label': 'Shots off target', 'position': '1784349', 'team': 'home', 'visibility': 'visible'}, {'gameTime': '2 - 29:45', 'label': 'Ball out of play', 'position': '1785315', 'team': 'not applicable', 'visibility': 'visible'}, {'gameTime': '2 - 30:16', 'label': 'Corner', 'position': '1816253', 'team': 'home', 'visibility': 'visible'}, {'gameTime': '2 - 30:41', 'label': 'Shots on target', 'position': '1841717', 'team': 'home', 'visibility': 'visible'}, {'gameTime': '2 - 31:27', 'label': 'Ball out of play', 'position': '1887364', 'team': 'not applicable', 'visibility': 'visible'}, {'gameTime': '2 - 31:42', 'label': 'Foul', 'position': '1902106', 'team': 'home', 'visibility': 'visible'}, {'gameTime': '2 - 32:53', 'label': 'Direct free-kick', 'position': '1973413', 'team': 'away', 'visibility': 'visible'}, {'gameTime': '2 - 32:53', 'label': 'Shots on target', 'position': '1973413', 'team': 'away', 'visibility': 'visible'}, {'gameTime': '2 - 33:40', 'label': 'Ball out of play', 'position': '2020731', 'team': 'not applicable', 'visibility': 'visible'}, {'gameTime': '2 - 34:02', 'label': 'Corner', 'position': '2042855', 'team': 'away', 'visibility': 'visible'}, {'gameTime': '2 - 35:09', 'label': 'Ball out of play', 'position': '2109984', 'team': 'not applicable', 'visibility': 'visible'}, {'gameTime': '2 - 35:19', 'label': 'Throw-in', 'position': '2119852', 'team': 'away', 'visibility': 'visible'}, {'gameTime': '2 - 35:58', 'label': 'Substitution', 'position': '2158716', 'team': 'home', 'visibility': 'visible'}, {'gameTime': '2 - 36:21', 'label': 'Substitution', 'position': '2181540', 'team': 'home', 'visibility': 'visible'}, {'gameTime': '2 - 36:34', 'label': 'Throw-in', 'position': '2194327', 'team': 'away', 'visibility': 'visible'}, {'gameTime': '2 - 36:57', 'label': 'Ball out of play', 'position': '2217608', 'team': 'not applicable', 'visibility': 'visible'}, {'gameTime': '2 - 37:11', 'label': 'Ball out of play', 'position': '2231995', 'team': 'not applicable', 'visibility': 'visible'}, {'gameTime': '2 - 37:14', 'label': 'Throw-in', 'position': '2234281', 'team': 'away', 'visibility': 'visible'}, {'gameTime': '2 - 38:10', 'label': 'Throw-in', 'position': '2290934', 'team': 'home', 'visibility': 'visible'}, {'gameTime': '2 - 38:36', 'label': 'Shots off target', 'position': '2316469', 'team': 'away', 'visibility': 'visible'}, {'gameTime': '2 - 38:37', 'label': 'Ball out of play', 'position': '2317111', 'team': 'not applicable', 'visibility': 'visible'}, {'gameTime': '2 - 39:06', 'label': 'Clearance', 'position': '2346732', 'team': 'home', 'visibility': 'visible'}, {'gameTime': '2 - 40:23', 'label': 'Foul', 'position': '2423063', 'team': 'away', 'visibility': 'visible'}, {'gameTime': '2 - 40:53', 'label': 'Indirect free-kick', 'position': '2453449', 'team': 'home', 'visibility': 'visible'}, {'gameTime': '2 - 40:59', 'label': 'Ball out of play', 'position': '2459897', 'team': 'not applicable', 'visibility': 'visible'}, {'gameTime': '2 - 41:13', 'label': 'Throw-in', 'position': '2473927', 'team': 'home', 'visibility': 'visible'}, {'gameTime': '2 - 41:24', 'label': 'Foul', 'position': '2484161', 'team': 'away', 'visibility': 'visible'}, {'gameTime': '2 - 41:41', 'label': 'Yellow card', 'position': '2501763', 'team': 'away', 'visibility': 'visible'}, {'gameTime': '2 - 42:25', 'label': 'Direct free-kick', 'position': '2545557', 'team': 'home', 'visibility': 'visible'}, {'gameTime': '2 - 42:25', 'label': 'Shots off target', 'position': '2545557', 'team': 'home', 'visibility': 'visible'}, {'gameTime': '2 - 42:26', 'label': 'Ball out of play', 'position': '2546628', 'team': 'not applicable', 'visibility': 'visible'}, {'gameTime': '2 - 42:46', 'label': 'Foul', 'position': '2566956', 'team': 'home', 'visibility': 'visible'}, {'gameTime': '2 - 43:08', 'label': 'Foul', 'position': '2588915', 'team': 'away', 'visibility': 'visible'}, {'gameTime': '2 - 43:17', 'label': 'Yellow card', 'position': '2597712', 'team': 'away', 'visibility': 'visible'}, {'gameTime': '2 - 43:52', 'label': 'Indirect free-kick', 'position': '2632941', 'team': 'home', 'visibility': 'visible'}, {'gameTime': '2 - 44:02', 'label': 'Foul', 'position': '2642235', 'team': 'home', 'visibility': 'visible'}, {'gameTime': '2 - 44:06', 'label': 'Indirect free-kick', 'position': '2646785', 'team': 'away', 'visibility': 'visible'}, {'gameTime': '2 - 44:26', 'label': 'Shots on target', 'position': '2666130', 'team': 'away', 'visibility': 'visible'}, {'gameTime': '2 - 44:26', 'label': 'Goal', 'position': '2666690', 'team': 'away', 'visibility': 'visible'}, {'gameTime': '2 - 44:26', 'label': 'Goal', 'position': '2666000', 'team': 'away', 'visibility': 'visible'}, {'gameTime': '2 - 46:15', 'label': 'Foul', 'position': '2775672', 'team': 'away', 'visibility': 'visible'}, {'gameTime': '2 - 46:18', 'label': 'Indirect free-kick', 'position': '2778295', 'team': 'home', 'visibility': 'visible'}, {'gameTime': '2 - 46:22', 'label': 'Shots off target', 'position': '2782535', 'team': 'home', 'visibility': 'visible'}, {'gameTime': '2 - 46:24', 'label': 'Ball out of play', 'position': '2784068', 'team': 'not applicable', 'visibility': 'visible'}, {'gameTime': '2 - 47:07', 'label': 'Throw-in', 'position': '2827161', 'team': 'away', 'visibility': 'visible'}, {'gameTime': '2 - 47:24', 'label': 'Foul', 'position': '2844307', 'team': 'away', 'visibility': 'visible'}, {'gameTime': '2 - 47:29', 'label': 'Yellow card', 'position': '2849600', 'team': 'away', 'visibility': 'visible'}, {'gameTime': '2 - 48:13', 'label': 'Foul', 'position': '2893155', 'team': 'away', 'visibility': 'visible'}]\n"
     ]
    },
    {
     "name": "stderr",
     "output_type": "stream",
     "text": [
      "\n"
     ]
    }
   ],
   "source": [
    "for games in tqdm(video_paths):\n",
    "    # print(games)\n",
    "    anno_path = normalize_path(os.path.join(games, 'Labels-v2.json'))\n",
    "    annos = json_reader(anno_path)['annotations']\n",
    "    # Bỏ qua các frames mà không được show\n",
    "    # tức là các frame này khả năng cao không có ý nghĩa\n",
    "    \n",
    "    annos_v2 = [\n",
    "        item for item in annos \n",
    "        if item['visibility'] != 'not shown' \n",
    "            # and item['label'] not in NO_NEEDED_CLASSES\n",
    "    ]\n",
    "    annos_v3 = [item for item in annos\n",
    "        if item['label'] == 'Kick-off' and (item['gameTime'].startswith('1 - 00:') \n",
    "                                        or item['gameTime'].startswith('2 - 00:'))      \n",
    "        ]\n",
    "    annos_v2.extend(annos_v3)\n",
    "    annos_v2 = sorted([\n",
    "        dict(t) for t in {tuple(d.items()) for d in annos_v2}], \n",
    "        key = lambda x: x['gameTime']\n",
    "        )\n",
    "    break"
   ]
  },
  {
   "cell_type": "code",
   "execution_count": 8,
   "metadata": {},
   "outputs": [
    {
     "name": "stderr",
     "output_type": "stream",
     "text": [
      "100%|██████████| 300/300 [02:57<00:00,  1.69it/s]\n"
     ]
    }
   ],
   "source": [
    "from datetime import datetime, timedelta\n",
    "\n",
    "for games in tqdm(video_paths):\n",
    "    # print(games)\n",
    "    anno_path = normalize_path(os.path.join(games, 'Labels-v2.json'))\n",
    "    annos = json_reader(anno_path)['annotations']\n",
    "    # Bỏ qua các frames mà không được show\n",
    "    # tức là các frame này khả năng cao không có ý nghĩa\n",
    "    \n",
    "    annos_v2 = [\n",
    "        item for item in annos \n",
    "        if item['visibility'] != 'not shown' \n",
    "            # and item['label'] not in NO_NEEDED_CLASSES\n",
    "    ]\n",
    "    annos_v3 = [item for item in annos\n",
    "        if item['label'] == 'Kick-off' and (item['gameTime'].startswith('1 - 00:') \n",
    "                                        or item['gameTime'].startswith('2 - 00:'))      \n",
    "        ]\n",
    "    annos_v2.extend(annos_v3)\n",
    "    annos_v2 = sorted([\n",
    "        dict(t) for t in {tuple(d.items()) for d in annos_v2}], \n",
    "        key = lambda x: x['gameTime']\n",
    "        )\n",
    "    \n",
    "    # Find the end timestamp of the first half\n",
    "    first_half_times = [item['gameTime'].split(' - ')[-1] for item in annos_v2 if item['gameTime'].startswith(\"1\")]\n",
    "    if first_half_times:\n",
    "        first_half_end_time = max(first_half_times, key=lambda x: datetime.strptime(x, \"%M:%S\"))\n",
    "        first_half_end_minutes = datetime.strptime(first_half_end_time, \"%M:%S\").hour * 60 + datetime.strptime(first_half_end_time, \"%M:%S\").minute\n",
    "    else:\n",
    "        first_half_end_minutes = 45  # Default to 45 minutes if no first half data\n",
    "\n",
    "    # Group items\n",
    "    grouped_items = defaultdict(list)\n",
    "    for item in annos_v2:\n",
    "        time_str = item['gameTime'].split(' - ')[-1]\n",
    "        if item['gameTime'].startswith(\"1\"):\n",
    "            group = round_down_to_minute(time_str)\n",
    "        else:\n",
    "            group = round_down_to_minute_v2(time_str, first_half_end_minutes)\n",
    "        grouped_items[group].append(item['label'])\n",
    "        # grouped_items[group2].append(item['label'])\n",
    "    # print(grouped_items)\n",
    "    grouped_items = defaultdict(list, {k: v for k, v in grouped_items.items() if not k.startswith(\"-\")})\n",
    "    # sorted keys chỉ chứa các thông tin về các phút chứa sự kiện\n",
    "    # tức là có thể có CÁC PHÚT không có sự kiện nào xảy ra\n",
    "    # sort_keys là các time-minute \n",
    "    sorted_keys = sorted(\n",
    "            grouped_items.keys(), \n",
    "            key = lambda x: int(x.split(\":\")[0])\n",
    "        )\n",
    "    result = {}\n",
    "    previous_minute = None\n",
    "    \n",
    "    for key in sorted_keys:\n",
    "        current_minute = int(key.split(\":\")[0])\n",
    "        if previous_minute is not None and current_minute > previous_minute +1:\n",
    "            for missing_minute in range(previous_minute + 1, current_minute):\n",
    "                # Xử lý trường hợp có phút bị khuyết thì bổ sung thêm\n",
    "                # Và đặt nó thành list rỗng\n",
    "                result[f\"{missing_minute:02}:00\"] = [\"Not Event\"]      \n",
    "        result[key] = grouped_items[key]\n",
    "        previous_minute = current_minute\n",
    "    #\n",
    "    result = {k: list(set(v)) for k, v in result.items()}\n",
    "    \n",
    "    df = pandas.DataFrame({\n",
    "        'chunk': [int(i.split(\":\")[0]) for i in result.keys()],\n",
    "        'video_base_dir': games,\n",
    "        \"timestamp\": result.keys(),\n",
    "        \"labels\": [values for values in result.values()],  # Join list items into a single string\n",
    "    })\n",
    "    \n",
    "    df['labels_encoder'] = df['labels'].apply(\n",
    "        lambda label_list: \", \".join(\n",
    "            str(v) for k, v in EVENT_DICT.items() if k in label_list\n",
    "        ) if label_list else str(list(EVENT_DICT.values())[-1])\n",
    "    )\n",
    "    def get_video_path(row):\n",
    "        minute = int(row['timestamp'].split(':')[0])\n",
    "        return glob.glob(f\"{row['video_base_dir']}/chunk_{minute}/*.mp4\")\n",
    "\n",
    "    df['video_path'] = df.apply(get_video_path, axis=1)\n",
    "    \n",
    "    def get_audio_path(row):\n",
    "        minute = int(row['timestamp'].split(':')[0])\n",
    "        return glob.glob(f\"{row['video_base_dir']}/chunk_{minute}/*.mp3\")\n",
    "\n",
    "    df['audio_path'] = df.apply(get_audio_path, axis=1)\n",
    "\n",
    "    df = df[df['video_path'].apply(lambda x: len(x) > 0) & df['audio_path'].apply(lambda x: len(x) > 0)]\n",
    "    df.to_csv(f\"{games}/{games.split('/')[-1]}.csv\", index=False)"
   ]
  },
  {
   "cell_type": "code",
   "execution_count": 9,
   "metadata": {},
   "outputs": [
    {
     "name": "stderr",
     "output_type": "stream",
     "text": [
      "100%|██████████| 300/300 [00:17<00:00, 16.87it/s]\n"
     ]
    }
   ],
   "source": [
    "import os\n",
    "import pandas\n",
    "import csv\n",
    "import shutil\n",
    "from tqdm import tqdm\n",
    "from src.preprocessing.video import normalize_path\n",
    "basedir = \"F:/video_classification\"\n",
    "ass = 0\n",
    "n_chunks_to_remove =[]\n",
    "n_path_to_remove=  []\n",
    "for vdo in tqdm(os.listdir(basedir)):\n",
    "    vdo_path = normalize_path(os.path.join(basedir, vdo))\n",
    "\n",
    "    count_chunk = len([i for i in os.listdir(vdo_path) if os.path.isdir(f\"{vdo_path}/{i}\")]) \n",
    "    count_csv = len(pandas.read_csv(f\"{vdo_path}/{vdo}.csv\", sep = \",\"))\n",
    "    if count_chunk <= 20:\n",
    "        ass += 1\n",
    "        shutil.rmtree(vdo_path)\n",
    "    elif count_chunk > count_csv:\n",
    "        n_chunks_to_remove.append(vdo_path)\n",
    "        # count_remover = (count_chunk) - (count_csv)\n",
    "        # for i in range(count_remover+1):\n",
    "        #     if os.path.exists(f\"{vdo_path}/chunk_{count_csv + i}\"):\n",
    "        #         shutil.rmtree(f\"{vdo_path}/chunk_{count_csv + i}\")\n",
    "    elif count_chunk < count_csv:\n",
    "        n_path_to_remove.append(vdo_path)\n",
    "        # count_remover = count_csv - count_chunk\n",
    "        # readcsv = pandas.read_csv(f\"{vdo_path}/{vdo}.csv\", sep = \",\")\n",
    "        # readcsv = readcsv[:-count_remover]\n",
    "        # readcsv.to_csv(f\"{vdo_path}/{vdo}.csv\", index=False)"
   ]
  },
  {
   "cell_type": "code",
   "execution_count": 10,
   "metadata": {},
   "outputs": [],
   "source": [
    "\n",
    "basedir = \"F:/video_classification\"\n",
    "csv_files = [f\"{basedir}/{i}/{i}.csv\" for i in os.listdir(basedir)]\n",
    "\n",
    "import pandas as pd\n",
    "import glob\n",
    "\n",
    "# Read and concatenate all CSVs\n",
    "df2 = pd.concat([pd.read_csv(file) for file in csv_files], ignore_index=True)\n",
    "# df2 = df2[~df2['video_path'].apply(lambda x: x == [])]\n",
    "\n",
    "video_ids = []\n",
    "for i in df2['video_path']:\n",
    "    ites = str(i).replace('[', '').replace(']', '')\n",
    "    ites = ites.replace(\"'\", '').replace(\"'\", '')\n",
    "    video_ids.append(normalize_path(ites))\n",
    "df2['video_id'] = video_ids\n",
    "\n",
    "audio_ids = []\n",
    "for i in df2['audio_path']:\n",
    "    ites = str(i).replace('[', '').replace(']', '')\n",
    "    ites = ites.replace(\"'\", '').replace(\"'\", '')\n",
    "    audio_ids.append(normalize_path(ites))\n",
    "df2['audio_id'] = audio_ids\n",
    "\n",
    "df2 = df2[['chunk', 'video_base_dir', 'video_id', 'audio_id', 'labels_encoder']].rename(columns={'labels_encoder': 'label'})\n",
    "# # Save the merged CSV\n",
    "df2.to_csv(\"D:/projects/v2v/v5/data/base_dataset.csv\", index=False, sep = \";\")\n"
   ]
  },
  {
   "cell_type": "code",
   "execution_count": 21,
   "metadata": {},
   "outputs": [],
   "source": [
    "event_dataset = pandas.read_csv(\"D:/projects/v2v/v5/data/base_dataset.csv\", sep = \";\")\n",
    "\n",
    "event_dataset = event_dataset[['video_id','label']]\n",
    "event_dataset.to_csv(\"D:/projects/v2v/v5/data/event_dataset.csv\", index=False, sep = \";\")"
   ]
  },
  {
   "cell_type": "code",
   "execution_count": 12,
   "metadata": {},
   "outputs": [],
   "source": [
    "audio_ids = pandas.read_csv(\"D:/projects/v2v/v5/data/base_dataset.csv\", sep = \";\")['audio_id'].tolist()  # Chuyển thành list\n",
    "\n",
    "# Lưu vào file JSON\n",
    "with open(\"D:/projects/v2v/v5/data/audio_list.json\", \"w\") as f:\n",
    "    json.dump(audio_ids, f, indent=4)"
   ]
  },
  {
   "cell_type": "code",
   "execution_count": 13,
   "metadata": {},
   "outputs": [
    {
     "ename": "FileNotFoundError",
     "evalue": "[Errno 2] No such file or directory: './data/event_dataset.csv'",
     "output_type": "error",
     "traceback": [
      "\u001b[1;31m---------------------------------------------------------------------------\u001b[0m",
      "\u001b[1;31mFileNotFoundError\u001b[0m                         Traceback (most recent call last)",
      "Cell \u001b[1;32mIn[13], line 40\u001b[0m\n\u001b[0;32m     38\u001b[0m \u001b[38;5;66;03m# Gọi hàm\u001b[39;00m\n\u001b[0;32m     39\u001b[0m csv_file \u001b[38;5;241m=\u001b[39m \u001b[38;5;124m'\u001b[39m\u001b[38;5;124m./data/event_dataset.csv\u001b[39m\u001b[38;5;124m'\u001b[39m\n\u001b[1;32m---> 40\u001b[0m \u001b[43mremove_incomplete_chunks\u001b[49m\u001b[43m(\u001b[49m\u001b[43mcsv_file\u001b[49m\u001b[43m)\u001b[49m\n",
      "Cell \u001b[1;32mIn[13], line 6\u001b[0m, in \u001b[0;36mremove_incomplete_chunks\u001b[1;34m(csv_path)\u001b[0m\n\u001b[0;32m      5\u001b[0m \u001b[38;5;28;01mdef\u001b[39;00m\u001b[38;5;250m \u001b[39m\u001b[38;5;21mremove_incomplete_chunks\u001b[39m(csv_path):\n\u001b[1;32m----> 6\u001b[0m     df \u001b[38;5;241m=\u001b[39m \u001b[43mpd\u001b[49m\u001b[38;5;241;43m.\u001b[39;49m\u001b[43mread_csv\u001b[49m\u001b[43m(\u001b[49m\u001b[43mcsv_path\u001b[49m\u001b[43m,\u001b[49m\u001b[43m \u001b[49m\u001b[43msep\u001b[49m\u001b[38;5;241;43m=\u001b[39;49m\u001b[38;5;124;43m'\u001b[39;49m\u001b[38;5;124;43m;\u001b[39;49m\u001b[38;5;124;43m'\u001b[39;49m\u001b[43m)\u001b[49m\n\u001b[0;32m      7\u001b[0m     removed_count \u001b[38;5;241m=\u001b[39m \u001b[38;5;241m0\u001b[39m\n\u001b[0;32m      8\u001b[0m     removed_chunks \u001b[38;5;241m=\u001b[39m \u001b[38;5;28mset\u001b[39m()\n",
      "File \u001b[1;32md:\\projects\\v2v\\v5\\.conda\\lib\\site-packages\\pandas\\io\\parsers\\readers.py:1026\u001b[0m, in \u001b[0;36mread_csv\u001b[1;34m(filepath_or_buffer, sep, delimiter, header, names, index_col, usecols, dtype, engine, converters, true_values, false_values, skipinitialspace, skiprows, skipfooter, nrows, na_values, keep_default_na, na_filter, verbose, skip_blank_lines, parse_dates, infer_datetime_format, keep_date_col, date_parser, date_format, dayfirst, cache_dates, iterator, chunksize, compression, thousands, decimal, lineterminator, quotechar, quoting, doublequote, escapechar, comment, encoding, encoding_errors, dialect, on_bad_lines, delim_whitespace, low_memory, memory_map, float_precision, storage_options, dtype_backend)\u001b[0m\n\u001b[0;32m   1013\u001b[0m kwds_defaults \u001b[38;5;241m=\u001b[39m _refine_defaults_read(\n\u001b[0;32m   1014\u001b[0m     dialect,\n\u001b[0;32m   1015\u001b[0m     delimiter,\n\u001b[1;32m   (...)\u001b[0m\n\u001b[0;32m   1022\u001b[0m     dtype_backend\u001b[38;5;241m=\u001b[39mdtype_backend,\n\u001b[0;32m   1023\u001b[0m )\n\u001b[0;32m   1024\u001b[0m kwds\u001b[38;5;241m.\u001b[39mupdate(kwds_defaults)\n\u001b[1;32m-> 1026\u001b[0m \u001b[38;5;28;01mreturn\u001b[39;00m \u001b[43m_read\u001b[49m\u001b[43m(\u001b[49m\u001b[43mfilepath_or_buffer\u001b[49m\u001b[43m,\u001b[49m\u001b[43m \u001b[49m\u001b[43mkwds\u001b[49m\u001b[43m)\u001b[49m\n",
      "File \u001b[1;32md:\\projects\\v2v\\v5\\.conda\\lib\\site-packages\\pandas\\io\\parsers\\readers.py:620\u001b[0m, in \u001b[0;36m_read\u001b[1;34m(filepath_or_buffer, kwds)\u001b[0m\n\u001b[0;32m    617\u001b[0m _validate_names(kwds\u001b[38;5;241m.\u001b[39mget(\u001b[38;5;124m\"\u001b[39m\u001b[38;5;124mnames\u001b[39m\u001b[38;5;124m\"\u001b[39m, \u001b[38;5;28;01mNone\u001b[39;00m))\n\u001b[0;32m    619\u001b[0m \u001b[38;5;66;03m# Create the parser.\u001b[39;00m\n\u001b[1;32m--> 620\u001b[0m parser \u001b[38;5;241m=\u001b[39m TextFileReader(filepath_or_buffer, \u001b[38;5;241m*\u001b[39m\u001b[38;5;241m*\u001b[39mkwds)\n\u001b[0;32m    622\u001b[0m \u001b[38;5;28;01mif\u001b[39;00m chunksize \u001b[38;5;129;01mor\u001b[39;00m iterator:\n\u001b[0;32m    623\u001b[0m     \u001b[38;5;28;01mreturn\u001b[39;00m parser\n",
      "File \u001b[1;32md:\\projects\\v2v\\v5\\.conda\\lib\\site-packages\\pandas\\io\\parsers\\readers.py:1620\u001b[0m, in \u001b[0;36mTextFileReader.__init__\u001b[1;34m(self, f, engine, **kwds)\u001b[0m\n\u001b[0;32m   1617\u001b[0m     \u001b[38;5;28mself\u001b[39m\u001b[38;5;241m.\u001b[39moptions[\u001b[38;5;124m\"\u001b[39m\u001b[38;5;124mhas_index_names\u001b[39m\u001b[38;5;124m\"\u001b[39m] \u001b[38;5;241m=\u001b[39m kwds[\u001b[38;5;124m\"\u001b[39m\u001b[38;5;124mhas_index_names\u001b[39m\u001b[38;5;124m\"\u001b[39m]\n\u001b[0;32m   1619\u001b[0m \u001b[38;5;28mself\u001b[39m\u001b[38;5;241m.\u001b[39mhandles: IOHandles \u001b[38;5;241m|\u001b[39m \u001b[38;5;28;01mNone\u001b[39;00m \u001b[38;5;241m=\u001b[39m \u001b[38;5;28;01mNone\u001b[39;00m\n\u001b[1;32m-> 1620\u001b[0m \u001b[38;5;28mself\u001b[39m\u001b[38;5;241m.\u001b[39m_engine \u001b[38;5;241m=\u001b[39m \u001b[38;5;28;43mself\u001b[39;49m\u001b[38;5;241;43m.\u001b[39;49m\u001b[43m_make_engine\u001b[49m\u001b[43m(\u001b[49m\u001b[43mf\u001b[49m\u001b[43m,\u001b[49m\u001b[43m \u001b[49m\u001b[38;5;28;43mself\u001b[39;49m\u001b[38;5;241;43m.\u001b[39;49m\u001b[43mengine\u001b[49m\u001b[43m)\u001b[49m\n",
      "File \u001b[1;32md:\\projects\\v2v\\v5\\.conda\\lib\\site-packages\\pandas\\io\\parsers\\readers.py:1880\u001b[0m, in \u001b[0;36mTextFileReader._make_engine\u001b[1;34m(self, f, engine)\u001b[0m\n\u001b[0;32m   1878\u001b[0m     \u001b[38;5;28;01mif\u001b[39;00m \u001b[38;5;124m\"\u001b[39m\u001b[38;5;124mb\u001b[39m\u001b[38;5;124m\"\u001b[39m \u001b[38;5;129;01mnot\u001b[39;00m \u001b[38;5;129;01min\u001b[39;00m mode:\n\u001b[0;32m   1879\u001b[0m         mode \u001b[38;5;241m+\u001b[39m\u001b[38;5;241m=\u001b[39m \u001b[38;5;124m\"\u001b[39m\u001b[38;5;124mb\u001b[39m\u001b[38;5;124m\"\u001b[39m\n\u001b[1;32m-> 1880\u001b[0m \u001b[38;5;28mself\u001b[39m\u001b[38;5;241m.\u001b[39mhandles \u001b[38;5;241m=\u001b[39m \u001b[43mget_handle\u001b[49m\u001b[43m(\u001b[49m\n\u001b[0;32m   1881\u001b[0m \u001b[43m    \u001b[49m\u001b[43mf\u001b[49m\u001b[43m,\u001b[49m\n\u001b[0;32m   1882\u001b[0m \u001b[43m    \u001b[49m\u001b[43mmode\u001b[49m\u001b[43m,\u001b[49m\n\u001b[0;32m   1883\u001b[0m \u001b[43m    \u001b[49m\u001b[43mencoding\u001b[49m\u001b[38;5;241;43m=\u001b[39;49m\u001b[38;5;28;43mself\u001b[39;49m\u001b[38;5;241;43m.\u001b[39;49m\u001b[43moptions\u001b[49m\u001b[38;5;241;43m.\u001b[39;49m\u001b[43mget\u001b[49m\u001b[43m(\u001b[49m\u001b[38;5;124;43m\"\u001b[39;49m\u001b[38;5;124;43mencoding\u001b[39;49m\u001b[38;5;124;43m\"\u001b[39;49m\u001b[43m,\u001b[49m\u001b[43m \u001b[49m\u001b[38;5;28;43;01mNone\u001b[39;49;00m\u001b[43m)\u001b[49m\u001b[43m,\u001b[49m\n\u001b[0;32m   1884\u001b[0m \u001b[43m    \u001b[49m\u001b[43mcompression\u001b[49m\u001b[38;5;241;43m=\u001b[39;49m\u001b[38;5;28;43mself\u001b[39;49m\u001b[38;5;241;43m.\u001b[39;49m\u001b[43moptions\u001b[49m\u001b[38;5;241;43m.\u001b[39;49m\u001b[43mget\u001b[49m\u001b[43m(\u001b[49m\u001b[38;5;124;43m\"\u001b[39;49m\u001b[38;5;124;43mcompression\u001b[39;49m\u001b[38;5;124;43m\"\u001b[39;49m\u001b[43m,\u001b[49m\u001b[43m \u001b[49m\u001b[38;5;28;43;01mNone\u001b[39;49;00m\u001b[43m)\u001b[49m\u001b[43m,\u001b[49m\n\u001b[0;32m   1885\u001b[0m \u001b[43m    \u001b[49m\u001b[43mmemory_map\u001b[49m\u001b[38;5;241;43m=\u001b[39;49m\u001b[38;5;28;43mself\u001b[39;49m\u001b[38;5;241;43m.\u001b[39;49m\u001b[43moptions\u001b[49m\u001b[38;5;241;43m.\u001b[39;49m\u001b[43mget\u001b[49m\u001b[43m(\u001b[49m\u001b[38;5;124;43m\"\u001b[39;49m\u001b[38;5;124;43mmemory_map\u001b[39;49m\u001b[38;5;124;43m\"\u001b[39;49m\u001b[43m,\u001b[49m\u001b[43m \u001b[49m\u001b[38;5;28;43;01mFalse\u001b[39;49;00m\u001b[43m)\u001b[49m\u001b[43m,\u001b[49m\n\u001b[0;32m   1886\u001b[0m \u001b[43m    \u001b[49m\u001b[43mis_text\u001b[49m\u001b[38;5;241;43m=\u001b[39;49m\u001b[43mis_text\u001b[49m\u001b[43m,\u001b[49m\n\u001b[0;32m   1887\u001b[0m \u001b[43m    \u001b[49m\u001b[43merrors\u001b[49m\u001b[38;5;241;43m=\u001b[39;49m\u001b[38;5;28;43mself\u001b[39;49m\u001b[38;5;241;43m.\u001b[39;49m\u001b[43moptions\u001b[49m\u001b[38;5;241;43m.\u001b[39;49m\u001b[43mget\u001b[49m\u001b[43m(\u001b[49m\u001b[38;5;124;43m\"\u001b[39;49m\u001b[38;5;124;43mencoding_errors\u001b[39;49m\u001b[38;5;124;43m\"\u001b[39;49m\u001b[43m,\u001b[49m\u001b[43m \u001b[49m\u001b[38;5;124;43m\"\u001b[39;49m\u001b[38;5;124;43mstrict\u001b[39;49m\u001b[38;5;124;43m\"\u001b[39;49m\u001b[43m)\u001b[49m\u001b[43m,\u001b[49m\n\u001b[0;32m   1888\u001b[0m \u001b[43m    \u001b[49m\u001b[43mstorage_options\u001b[49m\u001b[38;5;241;43m=\u001b[39;49m\u001b[38;5;28;43mself\u001b[39;49m\u001b[38;5;241;43m.\u001b[39;49m\u001b[43moptions\u001b[49m\u001b[38;5;241;43m.\u001b[39;49m\u001b[43mget\u001b[49m\u001b[43m(\u001b[49m\u001b[38;5;124;43m\"\u001b[39;49m\u001b[38;5;124;43mstorage_options\u001b[39;49m\u001b[38;5;124;43m\"\u001b[39;49m\u001b[43m,\u001b[49m\u001b[43m \u001b[49m\u001b[38;5;28;43;01mNone\u001b[39;49;00m\u001b[43m)\u001b[49m\u001b[43m,\u001b[49m\n\u001b[0;32m   1889\u001b[0m \u001b[43m\u001b[49m\u001b[43m)\u001b[49m\n\u001b[0;32m   1890\u001b[0m \u001b[38;5;28;01massert\u001b[39;00m \u001b[38;5;28mself\u001b[39m\u001b[38;5;241m.\u001b[39mhandles \u001b[38;5;129;01mis\u001b[39;00m \u001b[38;5;129;01mnot\u001b[39;00m \u001b[38;5;28;01mNone\u001b[39;00m\n\u001b[0;32m   1891\u001b[0m f \u001b[38;5;241m=\u001b[39m \u001b[38;5;28mself\u001b[39m\u001b[38;5;241m.\u001b[39mhandles\u001b[38;5;241m.\u001b[39mhandle\n",
      "File \u001b[1;32md:\\projects\\v2v\\v5\\.conda\\lib\\site-packages\\pandas\\io\\common.py:873\u001b[0m, in \u001b[0;36mget_handle\u001b[1;34m(path_or_buf, mode, encoding, compression, memory_map, is_text, errors, storage_options)\u001b[0m\n\u001b[0;32m    868\u001b[0m \u001b[38;5;28;01melif\u001b[39;00m \u001b[38;5;28misinstance\u001b[39m(handle, \u001b[38;5;28mstr\u001b[39m):\n\u001b[0;32m    869\u001b[0m     \u001b[38;5;66;03m# Check whether the filename is to be opened in binary mode.\u001b[39;00m\n\u001b[0;32m    870\u001b[0m     \u001b[38;5;66;03m# Binary mode does not support 'encoding' and 'newline'.\u001b[39;00m\n\u001b[0;32m    871\u001b[0m     \u001b[38;5;28;01mif\u001b[39;00m ioargs\u001b[38;5;241m.\u001b[39mencoding \u001b[38;5;129;01mand\u001b[39;00m \u001b[38;5;124m\"\u001b[39m\u001b[38;5;124mb\u001b[39m\u001b[38;5;124m\"\u001b[39m \u001b[38;5;129;01mnot\u001b[39;00m \u001b[38;5;129;01min\u001b[39;00m ioargs\u001b[38;5;241m.\u001b[39mmode:\n\u001b[0;32m    872\u001b[0m         \u001b[38;5;66;03m# Encoding\u001b[39;00m\n\u001b[1;32m--> 873\u001b[0m         handle \u001b[38;5;241m=\u001b[39m \u001b[38;5;28;43mopen\u001b[39;49m\u001b[43m(\u001b[49m\n\u001b[0;32m    874\u001b[0m \u001b[43m            \u001b[49m\u001b[43mhandle\u001b[49m\u001b[43m,\u001b[49m\n\u001b[0;32m    875\u001b[0m \u001b[43m            \u001b[49m\u001b[43mioargs\u001b[49m\u001b[38;5;241;43m.\u001b[39;49m\u001b[43mmode\u001b[49m\u001b[43m,\u001b[49m\n\u001b[0;32m    876\u001b[0m \u001b[43m            \u001b[49m\u001b[43mencoding\u001b[49m\u001b[38;5;241;43m=\u001b[39;49m\u001b[43mioargs\u001b[49m\u001b[38;5;241;43m.\u001b[39;49m\u001b[43mencoding\u001b[49m\u001b[43m,\u001b[49m\n\u001b[0;32m    877\u001b[0m \u001b[43m            \u001b[49m\u001b[43merrors\u001b[49m\u001b[38;5;241;43m=\u001b[39;49m\u001b[43merrors\u001b[49m\u001b[43m,\u001b[49m\n\u001b[0;32m    878\u001b[0m \u001b[43m            \u001b[49m\u001b[43mnewline\u001b[49m\u001b[38;5;241;43m=\u001b[39;49m\u001b[38;5;124;43m\"\u001b[39;49m\u001b[38;5;124;43m\"\u001b[39;49m\u001b[43m,\u001b[49m\n\u001b[0;32m    879\u001b[0m \u001b[43m        \u001b[49m\u001b[43m)\u001b[49m\n\u001b[0;32m    880\u001b[0m     \u001b[38;5;28;01melse\u001b[39;00m:\n\u001b[0;32m    881\u001b[0m         \u001b[38;5;66;03m# Binary mode\u001b[39;00m\n\u001b[0;32m    882\u001b[0m         handle \u001b[38;5;241m=\u001b[39m \u001b[38;5;28mopen\u001b[39m(handle, ioargs\u001b[38;5;241m.\u001b[39mmode)\n",
      "\u001b[1;31mFileNotFoundError\u001b[0m: [Errno 2] No such file or directory: './data/event_dataset.csv'"
     ]
    }
   ],
   "source": [
    "import os\n",
    "import shutil\n",
    "import pandas as pd\n",
    "\n",
    "def remove_incomplete_chunks(csv_path):\n",
    "    df = pd.read_csv(csv_path, sep=';')\n",
    "    removed_count = 0\n",
    "    removed_chunks = set()\n",
    "\n",
    "    for idx, row in df.iterrows():\n",
    "        video_path = row['video_id']\n",
    "        chunk_dir = os.path.dirname(video_path)\n",
    "\n",
    "        # Bỏ qua nếu chunk đã bị xóa trước đó\n",
    "        if not os.path.exists(chunk_dir) or chunk_dir in removed_chunks:\n",
    "            continue\n",
    "\n",
    "        frame_dir = os.path.join(chunk_dir, 'frames')\n",
    "        if not os.path.exists(frame_dir):\n",
    "            print(f\"[WARNING] Frame folder not found: {frame_dir}\")\n",
    "            continue\n",
    "\n",
    "        # Đếm số lượng ảnh\n",
    "        image_count = len([\n",
    "            f for f in os.listdir(frame_dir)\n",
    "            if f.lower().endswith(('.jpg', '.jpeg', '.png'))\n",
    "        ])\n",
    "\n",
    "        if image_count < 30:\n",
    "            print(f\"[REMOVE] {chunk_dir} — only {image_count} frames\")\n",
    "            shutil.rmtree(chunk_dir)\n",
    "            removed_chunks.add(chunk_dir)\n",
    "            removed_count += 1\n",
    "\n",
    "    print(f\"\\nTotal removed folders: {removed_count}\")\n",
    "    return removed_count\n",
    "\n",
    "# Gọi hàm\n",
    "csv_file = './data/event_dataset.csv'\n",
    "remove_incomplete_chunks(csv_file)"
   ]
  }
 ],
 "metadata": {
  "kernelspec": {
   "display_name": "Python 3",
   "language": "python",
   "name": "python3"
  },
  "language_info": {
   "codemirror_mode": {
    "name": "ipython",
    "version": 3
   },
   "file_extension": ".py",
   "mimetype": "text/x-python",
   "name": "python",
   "nbconvert_exporter": "python",
   "pygments_lexer": "ipython3",
   "version": "3.10.16"
  }
 },
 "nbformat": 4,
 "nbformat_minor": 2
}
